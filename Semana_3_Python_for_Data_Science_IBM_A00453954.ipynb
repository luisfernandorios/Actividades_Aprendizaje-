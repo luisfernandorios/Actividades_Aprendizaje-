{
  "cells": [
    {
      "cell_type": "markdown",
      "metadata": {
        "id": "view-in-github",
        "colab_type": "text"
      },
      "source": [
        "<a href=\"https://colab.research.google.com/github/luisfernandorios/Actividades_Aprendizaje-/blob/main/Semana_3_Python_for_Data_Science_IBM_A00453954.ipynb\" target=\"_parent\"><img src=\"https://colab.research.google.com/assets/colab-badge.svg\" alt=\"Open In Colab\"/></a>"
      ]
    },
    {
      "cell_type": "code",
      "execution_count": 1,
      "id": "8a02a60f",
      "metadata": {
        "id": "8a02a60f"
      },
      "outputs": [],
      "source": [
        "# Semana 3: Python for Data Science (IBM)\n",
        "# Module 5 - Working with Numpy Arrays & Simple APIs \n",
        "# Apuntes\n",
        "import numpy as np"
      ]
    },
    {
      "cell_type": "code",
      "execution_count": 2,
      "id": "7bd3aa73",
      "metadata": {
        "id": "7bd3aa73"
      },
      "outputs": [],
      "source": [
        "a= np.array ([0,1,2,3,4])"
      ]
    },
    {
      "cell_type": "code",
      "execution_count": 3,
      "id": "d093b1c4",
      "metadata": {
        "id": "d093b1c4",
        "outputId": "bb78a268-e925-4f95-8ecd-5b19205b874a",
        "colab": {
          "base_uri": "https://localhost:8080/"
        }
      },
      "outputs": [
        {
          "output_type": "execute_result",
          "data": {
            "text/plain": [
              "numpy.ndarray"
            ]
          },
          "metadata": {},
          "execution_count": 3
        }
      ],
      "source": [
        "type(a)"
      ]
    },
    {
      "cell_type": "code",
      "execution_count": 4,
      "id": "48f7f5b3",
      "metadata": {
        "id": "48f7f5b3",
        "outputId": "8973c24d-3a4d-4405-bba4-9e8d72d62779",
        "colab": {
          "base_uri": "https://localhost:8080/"
        }
      },
      "outputs": [
        {
          "output_type": "execute_result",
          "data": {
            "text/plain": [
              "array([2, 3])"
            ]
          },
          "metadata": {},
          "execution_count": 4
        }
      ],
      "source": [
        "a[2:4]"
      ]
    },
    {
      "cell_type": "code",
      "execution_count": 5,
      "id": "d814489c",
      "metadata": {
        "id": "d814489c",
        "outputId": "10f77a04-7a70-400b-a3e6-217e7a045992",
        "colab": {
          "base_uri": "https://localhost:8080/"
        }
      },
      "outputs": [
        {
          "output_type": "execute_result",
          "data": {
            "text/plain": [
              "5"
            ]
          },
          "metadata": {},
          "execution_count": 5
        }
      ],
      "source": [
        "a.size"
      ]
    },
    {
      "cell_type": "code",
      "execution_count": 6,
      "id": "2a45d286",
      "metadata": {
        "id": "2a45d286",
        "outputId": "c3a1186f-e074-432f-fa2e-137a8060f2fd",
        "colab": {
          "base_uri": "https://localhost:8080/"
        }
      },
      "outputs": [
        {
          "output_type": "execute_result",
          "data": {
            "text/plain": [
              "1"
            ]
          },
          "metadata": {},
          "execution_count": 6
        }
      ],
      "source": [
        "a.ndim"
      ]
    },
    {
      "cell_type": "code",
      "execution_count": 7,
      "id": "8fe5ce87",
      "metadata": {
        "id": "8fe5ce87",
        "outputId": "4dc0aad2-793d-4bb1-f2c2-ad395a66588c",
        "colab": {
          "base_uri": "https://localhost:8080/"
        }
      },
      "outputs": [
        {
          "output_type": "execute_result",
          "data": {
            "text/plain": [
              "(5,)"
            ]
          },
          "metadata": {},
          "execution_count": 7
        }
      ],
      "source": [
        "a.shape"
      ]
    },
    {
      "cell_type": "code",
      "execution_count": 8,
      "id": "e6c7b5e8",
      "metadata": {
        "id": "e6c7b5e8"
      },
      "outputs": [],
      "source": [
        "b= np.array ([0.5,1.25,2.6,3,4])"
      ]
    },
    {
      "cell_type": "code",
      "execution_count": 9,
      "id": "dfc3fdb6",
      "metadata": {
        "id": "dfc3fdb6",
        "outputId": "0ea118fa-6e5b-4a55-9aff-be6c74929491",
        "colab": {
          "base_uri": "https://localhost:8080/"
        }
      },
      "outputs": [
        {
          "output_type": "execute_result",
          "data": {
            "text/plain": [
              "dtype('float64')"
            ]
          },
          "metadata": {},
          "execution_count": 9
        }
      ],
      "source": [
        "b.dtype"
      ]
    },
    {
      "cell_type": "code",
      "execution_count": 10,
      "id": "d82aaf00",
      "metadata": {
        "id": "d82aaf00"
      },
      "outputs": [],
      "source": [
        "c= np.array ([0,1,2,3,4])"
      ]
    },
    {
      "cell_type": "code",
      "execution_count": 11,
      "id": "81cefdba",
      "metadata": {
        "id": "81cefdba",
        "outputId": "e338b1fc-0350-4cc8-9788-edb80fa25812",
        "colab": {
          "base_uri": "https://localhost:8080/"
        }
      },
      "outputs": [
        {
          "output_type": "execute_result",
          "data": {
            "text/plain": [
              "array([100,   1,   2,   3,   4])"
            ]
          },
          "metadata": {},
          "execution_count": 11
        }
      ],
      "source": [
        "c[0]=100\n",
        "c"
      ]
    },
    {
      "cell_type": "code",
      "execution_count": 12,
      "id": "86d9bdc2",
      "metadata": {
        "id": "86d9bdc2",
        "outputId": "b50c7c36-4e35-4c55-ae7c-a653bbeab187",
        "colab": {
          "base_uri": "https://localhost:8080/"
        }
      },
      "outputs": [
        {
          "output_type": "execute_result",
          "data": {
            "text/plain": [
              "array([100,   1])"
            ]
          },
          "metadata": {},
          "execution_count": 12
        }
      ],
      "source": [
        "d=c[0:2]\n",
        "d"
      ]
    },
    {
      "cell_type": "code",
      "execution_count": 13,
      "id": "ac90f18c",
      "metadata": {
        "id": "ac90f18c",
        "outputId": "10e53c73-d1f5-40eb-de76-8de4a9b22ce8",
        "colab": {
          "base_uri": "https://localhost:8080/"
        }
      },
      "outputs": [
        {
          "output_type": "execute_result",
          "data": {
            "text/plain": [
              "array([100,   1,   2, 300, 400])"
            ]
          },
          "metadata": {},
          "execution_count": 13
        }
      ],
      "source": [
        "c[3:5]=300,400\n",
        "c"
      ]
    },
    {
      "cell_type": "code",
      "execution_count": 14,
      "id": "db79e06d",
      "metadata": {
        "id": "db79e06d",
        "outputId": "cd52a58a-befc-4af0-d5fe-06f847568e2c",
        "colab": {
          "base_uri": "https://localhost:8080/"
        }
      },
      "outputs": [
        {
          "output_type": "execute_result",
          "data": {
            "text/plain": [
              "array([2, 0])"
            ]
          },
          "metadata": {},
          "execution_count": 14
        }
      ],
      "source": [
        "u=np.array([1,0])\n",
        "v=np.array([1,0])\n",
        "z=u+v\n",
        "z"
      ]
    },
    {
      "cell_type": "code",
      "execution_count": 15,
      "id": "8fd5ecef",
      "metadata": {
        "id": "8fd5ecef",
        "outputId": "6360b224-595e-43da-c5f6-6bbbd8b36dba",
        "colab": {
          "base_uri": "https://localhost:8080/"
        }
      },
      "outputs": [
        {
          "output_type": "execute_result",
          "data": {
            "text/plain": [
              "array([ 2, 12])"
            ]
          },
          "metadata": {},
          "execution_count": 15
        }
      ],
      "source": [
        "y=np.array([1,6])\n",
        "z1=2*y\n",
        "z1"
      ]
    },
    {
      "cell_type": "code",
      "execution_count": 16,
      "id": "47521652",
      "metadata": {
        "id": "47521652",
        "outputId": "18592b68-333b-4af8-d3f6-0615c51cf684",
        "colab": {
          "base_uri": "https://localhost:8080/"
        }
      },
      "outputs": [
        {
          "output_type": "execute_result",
          "data": {
            "text/plain": [
              "array([3, 4])"
            ]
          },
          "metadata": {},
          "execution_count": 16
        }
      ],
      "source": [
        "u1=np.array([1,2])\n",
        "v1=np.array([3,2])\n",
        "z2=u1*v1\n",
        "z2"
      ]
    },
    {
      "cell_type": "code",
      "execution_count": 17,
      "id": "f08e342c",
      "metadata": {
        "id": "f08e342c",
        "outputId": "6ef792bd-6b33-4670-888f-b944536831ea",
        "colab": {
          "base_uri": "https://localhost:8080/"
        }
      },
      "outputs": [
        {
          "output_type": "execute_result",
          "data": {
            "text/plain": [
              "array([ 8,  9, 10])"
            ]
          },
          "metadata": {},
          "execution_count": 17
        }
      ],
      "source": [
        "u2=np.array([4,5,6])\n",
        "z3=u2+4\n",
        "z3"
      ]
    },
    {
      "cell_type": "code",
      "execution_count": 18,
      "id": "1ece063a",
      "metadata": {
        "scrolled": true,
        "id": "1ece063a",
        "outputId": "b8743824-2e91-4724-99b5-575f62ab4ee3",
        "colab": {
          "base_uri": "https://localhost:8080/"
        }
      },
      "outputs": [
        {
          "output_type": "execute_result",
          "data": {
            "text/plain": [
              "9.0"
            ]
          },
          "metadata": {},
          "execution_count": 18
        }
      ],
      "source": [
        "np.mean(z3)"
      ]
    },
    {
      "cell_type": "code",
      "execution_count": 19,
      "id": "d13dec67",
      "metadata": {
        "id": "d13dec67",
        "outputId": "f09303a9-68a3-43b2-e7a0-1636ba6b0b4c",
        "colab": {
          "base_uri": "https://localhost:8080/"
        }
      },
      "outputs": [
        {
          "output_type": "execute_result",
          "data": {
            "text/plain": [
              "10"
            ]
          },
          "metadata": {},
          "execution_count": 19
        }
      ],
      "source": [
        "z3.max()"
      ]
    },
    {
      "cell_type": "code",
      "execution_count": 20,
      "id": "765197e9",
      "metadata": {
        "id": "765197e9"
      },
      "outputs": [],
      "source": [
        "x2=np.array([0,np.pi/2,np.pi])"
      ]
    },
    {
      "cell_type": "code",
      "execution_count": 21,
      "id": "6037dc64",
      "metadata": {
        "id": "6037dc64",
        "outputId": "c7952a29-efa6-42cc-9096-da534deda948",
        "colab": {
          "base_uri": "https://localhost:8080/"
        }
      },
      "outputs": [
        {
          "output_type": "execute_result",
          "data": {
            "text/plain": [
              "array([0.0000000e+00, 1.0000000e+00, 1.2246468e-16])"
            ]
          },
          "metadata": {},
          "execution_count": 21
        }
      ],
      "source": [
        "y1=np.sin(x2)\n",
        "y1"
      ]
    },
    {
      "cell_type": "code",
      "execution_count": 22,
      "id": "cc92510f",
      "metadata": {
        "id": "cc92510f",
        "outputId": "552f80e0-27e3-4cb4-88d3-1a716e5a1447",
        "colab": {
          "base_uri": "https://localhost:8080/"
        }
      },
      "outputs": [
        {
          "output_type": "execute_result",
          "data": {
            "text/plain": [
              "array([-2. , -1.5, -1. , -0.5,  0. ,  0.5,  1. ,  1.5,  2. ])"
            ]
          },
          "metadata": {},
          "execution_count": 22
        }
      ],
      "source": [
        "np.linspace(-2,2,num=9)"
      ]
    },
    {
      "cell_type": "code",
      "execution_count": 23,
      "id": "21f5f0c8",
      "metadata": {
        "id": "21f5f0c8"
      },
      "outputs": [],
      "source": [
        "x4=np.linspace(0,2*np.pi,100)\n",
        "y4=np.sin(x4)"
      ]
    },
    {
      "cell_type": "code",
      "execution_count": 24,
      "id": "b401b9d2",
      "metadata": {
        "id": "b401b9d2"
      },
      "outputs": [],
      "source": [
        "import matplotlib.pyplot as plt"
      ]
    },
    {
      "cell_type": "code",
      "execution_count": 25,
      "id": "416fc070",
      "metadata": {
        "id": "416fc070",
        "outputId": "b62d1c2e-886d-49e8-b098-39d3b8862291",
        "colab": {
          "base_uri": "https://localhost:8080/",
          "height": 283
        }
      },
      "outputs": [
        {
          "output_type": "execute_result",
          "data": {
            "text/plain": [
              "[<matplotlib.lines.Line2D at 0x7f0a65dbd590>]"
            ]
          },
          "metadata": {},
          "execution_count": 25
        },
        {
          "output_type": "display_data",
          "data": {
            "text/plain": [
              "<Figure size 432x288 with 1 Axes>"
            ],
            "image/png": "[encoded data removed]"
          },
          "metadata": {
            "needs_background": "light"
          }
        }
      ],
      "source": [
        "plt.plot(x4,y4)"
      ]
    },
    {
      "cell_type": "code",
      "execution_count": 26,
      "id": "71a4c258",
      "metadata": {
        "id": "71a4c258",
        "outputId": "43715b82-b1f4-46f7-ecb2-515f8944ecc5",
        "colab": {
          "base_uri": "https://localhost:8080/"
        }
      },
      "outputs": [
        {
          "output_type": "stream",
          "name": "stdout",
          "text": [
            "Help on function dot in module numpy:\n",
            "\n",
            "dot(...)\n",
            "    dot(a, b, out=None)\n",
            "    \n",
            "    Dot product of two arrays. Specifically,\n",
            "    \n",
            "    - If both `a` and `b` are 1-D arrays, it is inner product of vectors\n",
            "      (without complex conjugation).\n",
            "    \n",
            "    - If both `a` and `b` are 2-D arrays, it is matrix multiplication,\n",
            "      but using :func:`matmul` or ``a @ b`` is preferred.\n",
            "    \n",
            "    - If either `a` or `b` is 0-D (scalar), it is equivalent to :func:`multiply`\n",
            "      and using ``numpy.multiply(a, b)`` or ``a * b`` is preferred.\n",
            "    \n",
            "    - If `a` is an N-D array and `b` is a 1-D array, it is a sum product over\n",
            "      the last axis of `a` and `b`.\n",
            "    \n",
            "    - If `a` is an N-D array and `b` is an M-D array (where ``M>=2``), it is a\n",
            "      sum product over the last axis of `a` and the second-to-last axis of `b`::\n",
            "    \n",
            "        dot(a, b)[i,j,k,m] = sum(a[i,j,:] * b[k,:,m])\n",
            "    \n",
            "    Parameters\n",
            "    ----------\n",
            "    a : array_like\n",
            "        First argument.\n",
            "    b : array_like\n",
            "        Second argument.\n",
            "    out : ndarray, optional\n",
            "        Output argument. This must have the exact kind that would be returned\n",
            "        if it was not used. In particular, it must have the right type, must be\n",
            "        C-contiguous, and its dtype must be the dtype that would be returned\n",
            "        for `dot(a,b)`. This is a performance feature. Therefore, if these\n",
            "        conditions are not met, an exception is raised, instead of attempting\n",
            "        to be flexible.\n",
            "    \n",
            "    Returns\n",
            "    -------\n",
            "    output : ndarray\n",
            "        Returns the dot product of `a` and `b`.  If `a` and `b` are both\n",
            "        scalars or both 1-D arrays then a scalar is returned; otherwise\n",
            "        an array is returned.\n",
            "        If `out` is given, then it is returned.\n",
            "    \n",
            "    Raises\n",
            "    ------\n",
            "    ValueError\n",
            "        If the last dimension of `a` is not the same size as\n",
            "        the second-to-last dimension of `b`.\n",
            "    \n",
            "    See Also\n",
            "    --------\n",
            "    vdot : Complex-conjugating dot product.\n",
            "    tensordot : Sum products over arbitrary axes.\n",
            "    einsum : Einstein summation convention.\n",
            "    matmul : '@' operator as method with out parameter.\n",
            "    linalg.multi_dot : Chained dot product.\n",
            "    \n",
            "    Examples\n",
            "    --------\n",
            "    >>> np.dot(3, 4)\n",
            "    12\n",
            "    \n",
            "    Neither argument is complex-conjugated:\n",
            "    \n",
            "    >>> np.dot([2j, 3j], [2j, 3j])\n",
            "    (-13+0j)\n",
            "    \n",
            "    For 2-D arrays it is the matrix product:\n",
            "    \n",
            "    >>> a = [[1, 0], [0, 1]]\n",
            "    >>> b = [[4, 1], [2, 2]]\n",
            "    >>> np.dot(a, b)\n",
            "    array([[4, 1],\n",
            "           [2, 2]])\n",
            "    \n",
            "    >>> a = np.arange(3*4*5*6).reshape((3,4,5,6))\n",
            "    >>> b = np.arange(3*4*5*6)[::-1].reshape((5,4,6,3))\n",
            "    >>> np.dot(a, b)[2,3,2,1,2,2]\n",
            "    499128\n",
            "    >>> sum(a[2,3,2,:] * b[1,2,:,2])\n",
            "    499128\n",
            "\n"
          ]
        }
      ],
      "source": [
        "help(np.dot)"
      ]
    },
    {
      "cell_type": "code",
      "execution_count": 27,
      "id": "77117383",
      "metadata": {
        "id": "77117383"
      },
      "outputs": [],
      "source": [
        "a_1=[[11,12,13],[21,22,23],[31,32,33]]"
      ]
    },
    {
      "cell_type": "code",
      "execution_count": 28,
      "id": "f53eee3f",
      "metadata": {
        "id": "f53eee3f"
      },
      "outputs": [],
      "source": [
        "A_1=np.array(a_1)"
      ]
    },
    {
      "cell_type": "code",
      "execution_count": 29,
      "id": "a837140b",
      "metadata": {
        "id": "a837140b",
        "outputId": "998ec7cd-ee58-4d5a-d144-f3f898afa510",
        "colab": {
          "base_uri": "https://localhost:8080/"
        }
      },
      "outputs": [
        {
          "output_type": "execute_result",
          "data": {
            "text/plain": [
              "2"
            ]
          },
          "metadata": {},
          "execution_count": 29
        }
      ],
      "source": [
        "A_1.ndim"
      ]
    },
    {
      "cell_type": "code",
      "execution_count": 30,
      "id": "c315f85e",
      "metadata": {
        "id": "c315f85e",
        "outputId": "e422e7b5-1358-403a-a363-e194ef9ab0ad",
        "colab": {
          "base_uri": "https://localhost:8080/"
        }
      },
      "outputs": [
        {
          "output_type": "execute_result",
          "data": {
            "text/plain": [
              "(3, 3)"
            ]
          },
          "metadata": {},
          "execution_count": 30
        }
      ],
      "source": [
        "A_1.shape"
      ]
    },
    {
      "cell_type": "code",
      "execution_count": 31,
      "id": "1c9c143c",
      "metadata": {
        "id": "1c9c143c",
        "outputId": "b5f166ea-48ba-4d34-ffa5-965d6a6a13e8",
        "colab": {
          "base_uri": "https://localhost:8080/"
        }
      },
      "outputs": [
        {
          "output_type": "execute_result",
          "data": {
            "text/plain": [
              "9"
            ]
          },
          "metadata": {},
          "execution_count": 31
        }
      ],
      "source": [
        "A_1.size"
      ]
    },
    {
      "cell_type": "code",
      "execution_count": 32,
      "id": "54802683",
      "metadata": {
        "id": "54802683",
        "outputId": "d4bd691a-a890-4850-87b4-e434e0949c3c",
        "colab": {
          "base_uri": "https://localhost:8080/"
        }
      },
      "outputs": [
        {
          "output_type": "execute_result",
          "data": {
            "text/plain": [
              "array([[11, 12, 13],\n",
              "       [21, 22, 23],\n",
              "       [31, 32, 33]])"
            ]
          },
          "metadata": {},
          "execution_count": 32
        }
      ],
      "source": [
        "A_2=np.array([[11,12,13],[21,22,23],[31,32,33]])\n",
        "A_2"
      ]
    },
    {
      "cell_type": "code",
      "execution_count": 33,
      "id": "80620ba9",
      "metadata": {
        "id": "80620ba9",
        "outputId": "652126b4-2968-4622-d28d-bf968e887687",
        "colab": {
          "base_uri": "https://localhost:8080/"
        }
      },
      "outputs": [
        {
          "output_type": "execute_result",
          "data": {
            "text/plain": [
              "array([[ 5.5,  6. ,  6.5],\n",
              "       [10.5, 11. , 11.5],\n",
              "       [15.5, 16. , 16.5]])"
            ]
          },
          "metadata": {},
          "execution_count": 33
        }
      ],
      "source": [
        "A_2*0.5"
      ]
    },
    {
      "cell_type": "code",
      "execution_count": 34,
      "id": "38fb2ad2",
      "metadata": {
        "id": "38fb2ad2",
        "outputId": "87a4cf4d-081c-4e01-a939-b86e6d4acf37",
        "colab": {
          "base_uri": "https://localhost:8080/"
        }
      },
      "outputs": [
        {
          "output_type": "execute_result",
          "data": {
            "text/plain": [
              "(3, 3)"
            ]
          },
          "metadata": {},
          "execution_count": 34
        }
      ],
      "source": [
        "A_2.shape"
      ]
    },
    {
      "cell_type": "code",
      "execution_count": 35,
      "id": "1c09e971",
      "metadata": {
        "id": "1c09e971"
      },
      "outputs": [],
      "source": [
        "C=np.array([[0,1,1],[1,0,1]])\n",
        "D=np.array([[1,1],[1,1],[-1,1]])"
      ]
    },
    {
      "cell_type": "code",
      "execution_count": 36,
      "id": "5de12ec9",
      "metadata": {
        "id": "5de12ec9",
        "outputId": "5a8cbd79-76b2-4514-f031-87353385c89b",
        "colab": {
          "base_uri": "https://localhost:8080/"
        }
      },
      "outputs": [
        {
          "output_type": "execute_result",
          "data": {
            "text/plain": [
              "(2, 3)"
            ]
          },
          "metadata": {},
          "execution_count": 36
        }
      ],
      "source": [
        "C.shape"
      ]
    },
    {
      "cell_type": "code",
      "execution_count": 37,
      "id": "9644eda8",
      "metadata": {
        "id": "9644eda8",
        "outputId": "d0ef8b9a-fb27-4689-9549-ccf415532a9a",
        "colab": {
          "base_uri": "https://localhost:8080/"
        }
      },
      "outputs": [
        {
          "output_type": "execute_result",
          "data": {
            "text/plain": [
              "(3, 2)"
            ]
          },
          "metadata": {},
          "execution_count": 37
        }
      ],
      "source": [
        "D.shape"
      ]
    },
    {
      "cell_type": "code",
      "execution_count": 38,
      "id": "15f6b567",
      "metadata": {
        "id": "15f6b567"
      },
      "outputs": [],
      "source": [
        "CD=np.dot(C,D)"
      ]
    },
    {
      "cell_type": "code",
      "execution_count": 39,
      "id": "c47466fd",
      "metadata": {
        "id": "c47466fd",
        "outputId": "759b40c9-f2ae-4b75-d75a-f4894ba30cde",
        "colab": {
          "base_uri": "https://localhost:8080/"
        }
      },
      "outputs": [
        {
          "output_type": "execute_result",
          "data": {
            "text/plain": [
              "array([[0, 2],\n",
              "       [0, 2]])"
            ]
          },
          "metadata": {},
          "execution_count": 39
        }
      ],
      "source": [
        "CD"
      ]
    },
    {
      "cell_type": "code",
      "execution_count": 40,
      "id": "1d9ffad6",
      "metadata": {
        "id": "1d9ffad6"
      },
      "outputs": [],
      "source": [
        "E=np.array([[1,1],[1,1],[-1,1]])\n",
        "F=np.array([[0,1,1],[1,0,1]])"
      ]
    },
    {
      "cell_type": "code",
      "execution_count": 41,
      "id": "b6b5e53c",
      "metadata": {
        "id": "b6b5e53c",
        "outputId": "0f3aac0c-41ca-47c0-871e-a840d401e489",
        "colab": {
          "base_uri": "https://localhost:8080/"
        }
      },
      "outputs": [
        {
          "output_type": "execute_result",
          "data": {
            "text/plain": [
              "array([[ 1,  1,  2],\n",
              "       [ 1,  1,  2],\n",
              "       [ 1, -1,  0]])"
            ]
          },
          "metadata": {},
          "execution_count": 41
        }
      ],
      "source": [
        "np.dot(E,F)"
      ]
    },
    {
      "cell_type": "code",
      "execution_count": 42,
      "id": "ca98c6c6",
      "metadata": {
        "id": "ca98c6c6"
      },
      "outputs": [],
      "source": [
        "A = np.array([[1,2],[3,4],[5,6],[7,8]])\n",
        "B = np.array([[1,2,3],[4,5,6],[7,8,9]])"
      ]
    },
    {
      "cell_type": "code",
      "execution_count": 43,
      "id": "8f9d57d0",
      "metadata": {
        "id": "8f9d57d0",
        "outputId": "69e0973b-1649-40e3-a598-cda22b04d511",
        "colab": {
          "base_uri": "https://localhost:8080/",
          "height": 206
        }
      },
      "outputs": [
        {
          "output_type": "error",
          "ename": "ValueError",
          "evalue": "ignored",
          "traceback": [
            "\u001b[0;31m---------------------------------------------------------------------------\u001b[0m",
            "\u001b[0;31mValueError\u001b[0m                                Traceback (most recent call last)",
            "\u001b[0;32m<ipython-input-43-189f80e2c351>\u001b[0m in \u001b[0;36m<module>\u001b[0;34m\u001b[0m\n\u001b[0;32m----> 1\u001b[0;31m \u001b[0mnp\u001b[0m\u001b[0;34m.\u001b[0m\u001b[0mdot\u001b[0m\u001b[0;34m(\u001b[0m\u001b[0mA\u001b[0m\u001b[0;34m,\u001b[0m\u001b[0mB\u001b[0m\u001b[0;34m)\u001b[0m\u001b[0;34m\u001b[0m\u001b[0;34m\u001b[0m\u001b[0m\n\u001b[0m",
            "\u001b[0;32m<__array_function__ internals>\u001b[0m in \u001b[0;36mdot\u001b[0;34m(*args, **kwargs)\u001b[0m\n",
            "\u001b[0;31mValueError\u001b[0m: shapes (4,2) and (3,3) not aligned: 2 (dim 1) != 3 (dim 0)"
          ]
        }
      ],
      "source": [
        "np.dot(A,B)"
      ]
    },
    {
      "cell_type": "code",
      "execution_count": 44,
      "id": "0e94f89f",
      "metadata": {
        "id": "0e94f89f",
        "outputId": "d4e5ba6c-57df-49e5-a93c-137132c83951",
        "colab": {
          "base_uri": "https://localhost:8080/"
        }
      },
      "outputs": [
        {
          "output_type": "execute_result",
          "data": {
            "text/plain": [
              "0"
            ]
          },
          "metadata": {},
          "execution_count": 44
        }
      ],
      "source": [
        "a=np.array([0,1])\n",
        "\n",
        "b=np.array([1,0])\n",
        "\n",
        "np.dot(a,b)"
      ]
    },
    {
      "cell_type": "code",
      "source": [],
      "metadata": {
        "id": "ojzQTVHeeanR"
      },
      "id": "ojzQTVHeeanR",
      "execution_count": null,
      "outputs": []
    }
  ],
  "metadata": {
    "kernelspec": {
      "display_name": "Python 3",
      "language": "python",
      "name": "python3"
    },
    "language_info": {
      "codemirror_mode": {
        "name": "ipython",
        "version": 3
      },
      "file_extension": ".py",
      "mimetype": "text/x-python",
      "name": "python",
      "nbconvert_exporter": "python",
      "pygments_lexer": "ipython3",
      "version": "3.8.8"
    },
    "colab": {
      "provenance": [],
      "include_colab_link": true
    }
  },
  "nbformat": 4,
  "nbformat_minor": 5
}