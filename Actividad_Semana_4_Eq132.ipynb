{
  "nbformat": 4,
  "nbformat_minor": 0,
  "metadata": {
    "colab": {
      "provenance": [],
      "collapsed_sections": [],
      "authorship_tag": "ABX9TyN/A73ZHJgbai+5Qihb74I/",
      "include_colab_link": true
    },
    "kernelspec": {
      "name": "python3",
      "display_name": "Python 3"
    },
    "language_info": {
      "name": "python"
    }
  },
  "cells": [
    {
      "cell_type": "markdown",
      "metadata": {
        "id": "view-in-github",
        "colab_type": "text"
      },
      "source": [
        "<a href=\"https://colab.research.google.com/github/luisfernandorios/Actividades_Aprendizaje-/blob/main/Actividad_Semana_4_Eq132.ipynb\" target=\"_parent\"><img src=\"https://colab.research.google.com/assets/colab-badge.svg\" alt=\"Open In Colab\"/></a>"
      ]
    },
    {
      "cell_type": "markdown",
      "source": [
        "#**Maestría en Inteligencia Artificial Aplicada**\n",
        "##**Curso: Ciencia y analítica de datos (Gpo 10)**\n",
        "###Tecnológico de Monterrey\n",
        "###Prof titular: Jobish Vallikavungal Devassia \n",
        "###Prof tutor: Julio César Galindo López    \n",
        "\n",
        "###Alumno: Luis Fernando Rios Piedra A00453954\n",
        "###Alumno: David Eduardo Garcia Reyes A01086411\n",
        "\n",
        "### **Semana 4**\n",
        "###Módulo 3 (Parte 2) - Transformación y Reducción de datosación\n",
        "###**Realizar reducción de datos en Python con PCA"
      ],
      "metadata": {
        "id": "dVrbLz7It9mw"
      }
    },
    {
      "cell_type": "code",
      "execution_count": null,
      "metadata": {
        "id": "DwvZZ6V1t7WV"
      },
      "outputs": [],
      "source": [
        "import pandas as pd\n",
        "import numpy as np"
      ]
    },
    {
      "cell_type": "code",
      "source": [
        "# URL con la base de datos que paso por el proceso de limpieza en la actividad anterior\n",
        "path='https://raw.githubusercontent.com/PosgradoMNA/actividades-del-projecto-equipo-132/main/crd_client_clean_132.csv'"
      ],
      "metadata": {
        "id": "Hq2DRPLat8cU"
      },
      "execution_count": null,
      "outputs": []
    },
    {
      "cell_type": "code",
      "source": [
        "#Lectura de base de datos en el dataframe \"df\"\n",
        "df = pd.read_csv(path)\n",
        "df.index.name = None\n",
        "df"
      ],
      "metadata": {
        "colab": {
          "base_uri": "https://localhost:8080/",
          "height": 423
        },
        "id": "iCp4vEYtvh-K",
        "outputId": "32a213df-f86e-4ec7-deec-3be66e9e1b2c"
      },
      "execution_count": null,
      "outputs": [
        {
          "output_type": "execute_result",
          "data": {
            "text/plain": [
              "           X1   X2   X3   X4    X5   X6   X7   X8   X9  X10  ...      X15  \\\n",
              "0       20000  2.0  2.0  1.0  24.0  2.0  2.0 -1.0 -1.0 -1.0  ...      0.0   \n",
              "1      120000  2.0  2.0  2.0  26.0 -1.0  2.0 -1.0 -1.0 -1.0  ...   3272.0   \n",
              "2       90000  2.0  2.0  2.0  34.0 -1.0 -1.0 -1.0 -1.0 -1.0  ...  14331.0   \n",
              "3       50000  2.0  2.0  1.0  37.0 -1.0 -1.0 -1.0 -1.0 -1.0  ...  28314.0   \n",
              "4       50000  1.0  2.0  1.0  57.0 -1.0 -1.0 -1.0 -1.0 -1.0  ...  20940.0   \n",
              "...       ...  ...  ...  ...   ...  ...  ...  ...  ...  ...  ...      ...   \n",
              "29953  220000  1.0  3.0  1.0  39.0 -1.0 -1.0 -1.0 -1.0 -1.0  ...  88004.0   \n",
              "29954  150000  1.0  3.0  2.0  43.0 -1.0 -1.0 -1.0 -1.0 -1.0  ...   8979.0   \n",
              "29955   30000  1.0  2.0  2.0  37.0  4.0  3.0  2.0 -1.0 -1.0  ...  20878.0   \n",
              "29956   80000  1.0  3.0  1.0  41.0  1.0 -1.0 -1.0 -1.0 -1.0  ...  52774.0   \n",
              "29957   50000  1.0  2.0  1.0  46.0 -1.0 -1.0 -1.0 -1.0 -1.0  ...  36535.0   \n",
              "\n",
              "           X16      X17      X18      X19      X20     X21      X22     X23  \\\n",
              "0          0.0      0.0      0.0    689.0      0.0     0.0      0.0     0.0   \n",
              "1       3455.0   3261.0      0.0   1000.0   1000.0  1000.0      0.0  2000.0   \n",
              "2      14948.0  15549.0   1518.0   1500.0   1000.0  1000.0   1000.0  5000.0   \n",
              "3      28959.0  29547.0   2000.0   2019.0   1200.0  1100.0   1069.0  1000.0   \n",
              "4      19146.0  19131.0   2000.0  36681.0  10000.0  9000.0    689.0   679.0   \n",
              "...        ...      ...      ...      ...      ...     ...      ...     ...   \n",
              "29953  31237.0  15980.0   8500.0  20000.0   5003.0  3047.0   5000.0  1000.0   \n",
              "29954   5190.0      0.0   1837.0   3526.0   8998.0   129.0      0.0     0.0   \n",
              "29955  20582.0  19357.0      0.0      0.0  22000.0  4200.0   2000.0  3100.0   \n",
              "29956  11855.0  48944.0  85900.0   3409.0   1178.0  1926.0  52964.0  1804.0   \n",
              "29957  32428.0  15313.0   2078.0   1800.0   1430.0  1000.0   1000.0  1000.0   \n",
              "\n",
              "         Y  \n",
              "0      1.0  \n",
              "1      1.0  \n",
              "2      0.0  \n",
              "3      0.0  \n",
              "4      0.0  \n",
              "...    ...  \n",
              "29953  0.0  \n",
              "29954  0.0  \n",
              "29955  1.0  \n",
              "29956  1.0  \n",
              "29957  1.0  \n",
              "\n",
              "[29958 rows x 24 columns]"
            ],
            "text/html": [
              "\n",
              "  <div id=\"df-0ff2a716-6b54-4ef2-bd71-b3d065c537e3\">\n",
              "    <div class=\"colab-df-container\">\n",
              "      <div>\n",
              "<style scoped>\n",
              "    .dataframe tbody tr th:only-of-type {\n",
              "        vertical-align: middle;\n",
              "    }\n",
              "\n",
              "    .dataframe tbody tr th {\n",
              "        vertical-align: top;\n",
              "    }\n",
              "\n",
              "    .dataframe thead th {\n",
              "        text-align: right;\n",
              "    }\n",
              "</style>\n",
              "<table border=\"1\" class=\"dataframe\">\n",
              "  <thead>\n",
              "    <tr style=\"text-align: right;\">\n",
              "      <th></th>\n",
              "      <th>X1</th>\n",
              "      <th>X2</th>\n",
              "      <th>X3</th>\n",
              "      <th>X4</th>\n",
              "      <th>X5</th>\n",
              "      <th>X6</th>\n",
              "      <th>X7</th>\n",
              "      <th>X8</th>\n",
              "      <th>X9</th>\n",
              "      <th>X10</th>\n",
              "      <th>...</th>\n",
              "      <th>X15</th>\n",
              "      <th>X16</th>\n",
              "      <th>X17</th>\n",
              "      <th>X18</th>\n",
              "      <th>X19</th>\n",
              "      <th>X20</th>\n",
              "      <th>X21</th>\n",
              "      <th>X22</th>\n",
              "      <th>X23</th>\n",
              "      <th>Y</th>\n",
              "    </tr>\n",
              "  </thead>\n",
              "  <tbody>\n",
              "    <tr>\n",
              "      <th>0</th>\n",
              "      <td>20000</td>\n",
              "      <td>2.0</td>\n",
              "      <td>2.0</td>\n",
              "      <td>1.0</td>\n",
              "      <td>24.0</td>\n",
              "      <td>2.0</td>\n",
              "      <td>2.0</td>\n",
              "      <td>-1.0</td>\n",
              "      <td>-1.0</td>\n",
              "      <td>-1.0</td>\n",
              "      <td>...</td>\n",
              "      <td>0.0</td>\n",
              "      <td>0.0</td>\n",
              "      <td>0.0</td>\n",
              "      <td>0.0</td>\n",
              "      <td>689.0</td>\n",
              "      <td>0.0</td>\n",
              "      <td>0.0</td>\n",
              "      <td>0.0</td>\n",
              "      <td>0.0</td>\n",
              "      <td>1.0</td>\n",
              "    </tr>\n",
              "    <tr>\n",
              "      <th>1</th>\n",
              "      <td>120000</td>\n",
              "      <td>2.0</td>\n",
              "      <td>2.0</td>\n",
              "      <td>2.0</td>\n",
              "      <td>26.0</td>\n",
              "      <td>-1.0</td>\n",
              "      <td>2.0</td>\n",
              "      <td>-1.0</td>\n",
              "      <td>-1.0</td>\n",
              "      <td>-1.0</td>\n",
              "      <td>...</td>\n",
              "      <td>3272.0</td>\n",
              "      <td>3455.0</td>\n",
              "      <td>3261.0</td>\n",
              "      <td>0.0</td>\n",
              "      <td>1000.0</td>\n",
              "      <td>1000.0</td>\n",
              "      <td>1000.0</td>\n",
              "      <td>0.0</td>\n",
              "      <td>2000.0</td>\n",
              "      <td>1.0</td>\n",
              "    </tr>\n",
              "    <tr>\n",
              "      <th>2</th>\n",
              "      <td>90000</td>\n",
              "      <td>2.0</td>\n",
              "      <td>2.0</td>\n",
              "      <td>2.0</td>\n",
              "      <td>34.0</td>\n",
              "      <td>-1.0</td>\n",
              "      <td>-1.0</td>\n",
              "      <td>-1.0</td>\n",
              "      <td>-1.0</td>\n",
              "      <td>-1.0</td>\n",
              "      <td>...</td>\n",
              "      <td>14331.0</td>\n",
              "      <td>14948.0</td>\n",
              "      <td>15549.0</td>\n",
              "      <td>1518.0</td>\n",
              "      <td>1500.0</td>\n",
              "      <td>1000.0</td>\n",
              "      <td>1000.0</td>\n",
              "      <td>1000.0</td>\n",
              "      <td>5000.0</td>\n",
              "      <td>0.0</td>\n",
              "    </tr>\n",
              "    <tr>\n",
              "      <th>3</th>\n",
              "      <td>50000</td>\n",
              "      <td>2.0</td>\n",
              "      <td>2.0</td>\n",
              "      <td>1.0</td>\n",
              "      <td>37.0</td>\n",
              "      <td>-1.0</td>\n",
              "      <td>-1.0</td>\n",
              "      <td>-1.0</td>\n",
              "      <td>-1.0</td>\n",
              "      <td>-1.0</td>\n",
              "      <td>...</td>\n",
              "      <td>28314.0</td>\n",
              "      <td>28959.0</td>\n",
              "      <td>29547.0</td>\n",
              "      <td>2000.0</td>\n",
              "      <td>2019.0</td>\n",
              "      <td>1200.0</td>\n",
              "      <td>1100.0</td>\n",
              "      <td>1069.0</td>\n",
              "      <td>1000.0</td>\n",
              "      <td>0.0</td>\n",
              "    </tr>\n",
              "    <tr>\n",
              "      <th>4</th>\n",
              "      <td>50000</td>\n",
              "      <td>1.0</td>\n",
              "      <td>2.0</td>\n",
              "      <td>1.0</td>\n",
              "      <td>57.0</td>\n",
              "      <td>-1.0</td>\n",
              "      <td>-1.0</td>\n",
              "      <td>-1.0</td>\n",
              "      <td>-1.0</td>\n",
              "      <td>-1.0</td>\n",
              "      <td>...</td>\n",
              "      <td>20940.0</td>\n",
              "      <td>19146.0</td>\n",
              "      <td>19131.0</td>\n",
              "      <td>2000.0</td>\n",
              "      <td>36681.0</td>\n",
              "      <td>10000.0</td>\n",
              "      <td>9000.0</td>\n",
              "      <td>689.0</td>\n",
              "      <td>679.0</td>\n",
              "      <td>0.0</td>\n",
              "    </tr>\n",
              "    <tr>\n",
              "      <th>...</th>\n",
              "      <td>...</td>\n",
              "      <td>...</td>\n",
              "      <td>...</td>\n",
              "      <td>...</td>\n",
              "      <td>...</td>\n",
              "      <td>...</td>\n",
              "      <td>...</td>\n",
              "      <td>...</td>\n",
              "      <td>...</td>\n",
              "      <td>...</td>\n",
              "      <td>...</td>\n",
              "      <td>...</td>\n",
              "      <td>...</td>\n",
              "      <td>...</td>\n",
              "      <td>...</td>\n",
              "      <td>...</td>\n",
              "      <td>...</td>\n",
              "      <td>...</td>\n",
              "      <td>...</td>\n",
              "      <td>...</td>\n",
              "      <td>...</td>\n",
              "    </tr>\n",
              "    <tr>\n",
              "      <th>29953</th>\n",
              "      <td>220000</td>\n",
              "      <td>1.0</td>\n",
              "      <td>3.0</td>\n",
              "      <td>1.0</td>\n",
              "      <td>39.0</td>\n",
              "      <td>-1.0</td>\n",
              "      <td>-1.0</td>\n",
              "      <td>-1.0</td>\n",
              "      <td>-1.0</td>\n",
              "      <td>-1.0</td>\n",
              "      <td>...</td>\n",
              "      <td>88004.0</td>\n",
              "      <td>31237.0</td>\n",
              "      <td>15980.0</td>\n",
              "      <td>8500.0</td>\n",
              "      <td>20000.0</td>\n",
              "      <td>5003.0</td>\n",
              "      <td>3047.0</td>\n",
              "      <td>5000.0</td>\n",
              "      <td>1000.0</td>\n",
              "      <td>0.0</td>\n",
              "    </tr>\n",
              "    <tr>\n",
              "      <th>29954</th>\n",
              "      <td>150000</td>\n",
              "      <td>1.0</td>\n",
              "      <td>3.0</td>\n",
              "      <td>2.0</td>\n",
              "      <td>43.0</td>\n",
              "      <td>-1.0</td>\n",
              "      <td>-1.0</td>\n",
              "      <td>-1.0</td>\n",
              "      <td>-1.0</td>\n",
              "      <td>-1.0</td>\n",
              "      <td>...</td>\n",
              "      <td>8979.0</td>\n",
              "      <td>5190.0</td>\n",
              "      <td>0.0</td>\n",
              "      <td>1837.0</td>\n",
              "      <td>3526.0</td>\n",
              "      <td>8998.0</td>\n",
              "      <td>129.0</td>\n",
              "      <td>0.0</td>\n",
              "      <td>0.0</td>\n",
              "      <td>0.0</td>\n",
              "    </tr>\n",
              "    <tr>\n",
              "      <th>29955</th>\n",
              "      <td>30000</td>\n",
              "      <td>1.0</td>\n",
              "      <td>2.0</td>\n",
              "      <td>2.0</td>\n",
              "      <td>37.0</td>\n",
              "      <td>4.0</td>\n",
              "      <td>3.0</td>\n",
              "      <td>2.0</td>\n",
              "      <td>-1.0</td>\n",
              "      <td>-1.0</td>\n",
              "      <td>...</td>\n",
              "      <td>20878.0</td>\n",
              "      <td>20582.0</td>\n",
              "      <td>19357.0</td>\n",
              "      <td>0.0</td>\n",
              "      <td>0.0</td>\n",
              "      <td>22000.0</td>\n",
              "      <td>4200.0</td>\n",
              "      <td>2000.0</td>\n",
              "      <td>3100.0</td>\n",
              "      <td>1.0</td>\n",
              "    </tr>\n",
              "    <tr>\n",
              "      <th>29956</th>\n",
              "      <td>80000</td>\n",
              "      <td>1.0</td>\n",
              "      <td>3.0</td>\n",
              "      <td>1.0</td>\n",
              "      <td>41.0</td>\n",
              "      <td>1.0</td>\n",
              "      <td>-1.0</td>\n",
              "      <td>-1.0</td>\n",
              "      <td>-1.0</td>\n",
              "      <td>-1.0</td>\n",
              "      <td>...</td>\n",
              "      <td>52774.0</td>\n",
              "      <td>11855.0</td>\n",
              "      <td>48944.0</td>\n",
              "      <td>85900.0</td>\n",
              "      <td>3409.0</td>\n",
              "      <td>1178.0</td>\n",
              "      <td>1926.0</td>\n",
              "      <td>52964.0</td>\n",
              "      <td>1804.0</td>\n",
              "      <td>1.0</td>\n",
              "    </tr>\n",
              "    <tr>\n",
              "      <th>29957</th>\n",
              "      <td>50000</td>\n",
              "      <td>1.0</td>\n",
              "      <td>2.0</td>\n",
              "      <td>1.0</td>\n",
              "      <td>46.0</td>\n",
              "      <td>-1.0</td>\n",
              "      <td>-1.0</td>\n",
              "      <td>-1.0</td>\n",
              "      <td>-1.0</td>\n",
              "      <td>-1.0</td>\n",
              "      <td>...</td>\n",
              "      <td>36535.0</td>\n",
              "      <td>32428.0</td>\n",
              "      <td>15313.0</td>\n",
              "      <td>2078.0</td>\n",
              "      <td>1800.0</td>\n",
              "      <td>1430.0</td>\n",
              "      <td>1000.0</td>\n",
              "      <td>1000.0</td>\n",
              "      <td>1000.0</td>\n",
              "      <td>1.0</td>\n",
              "    </tr>\n",
              "  </tbody>\n",
              "</table>\n",
              "<p>29958 rows × 24 columns</p>\n",
              "</div>\n",
              "      <button class=\"colab-df-convert\" onclick=\"convertToInteractive('df-0ff2a716-6b54-4ef2-bd71-b3d065c537e3')\"\n",
              "              title=\"Convert this dataframe to an interactive table.\"\n",
              "              style=\"display:none;\">\n",
              "        \n",
              "  <svg xmlns=\"http://www.w3.org/2000/svg\" height=\"24px\"viewBox=\"0 0 24 24\"\n",
              "       width=\"24px\">\n",
              "    <path d=\"M0 0h24v24H0V0z\" fill=\"none\"/>\n",
              "    <path d=\"M18.56 5.44l.94 2.06.94-2.06 2.06-.94-2.06-.94-.94-2.06-.94 2.06-2.06.94zm-11 1L8.5 8.5l.94-2.06 2.06-.94-2.06-.94L8.5 2.5l-.94 2.06-2.06.94zm10 10l.94 2.06.94-2.06 2.06-.94-2.06-.94-.94-2.06-.94 2.06-2.06.94z\"/><path d=\"M17.41 7.96l-1.37-1.37c-.4-.4-.92-.59-1.43-.59-.52 0-1.04.2-1.43.59L10.3 9.45l-7.72 7.72c-.78.78-.78 2.05 0 2.83L4 21.41c.39.39.9.59 1.41.59.51 0 1.02-.2 1.41-.59l7.78-7.78 2.81-2.81c.8-.78.8-2.07 0-2.86zM5.41 20L4 18.59l7.72-7.72 1.47 1.35L5.41 20z\"/>\n",
              "  </svg>\n",
              "      </button>\n",
              "      \n",
              "  <style>\n",
              "    .colab-df-container {\n",
              "      display:flex;\n",
              "      flex-wrap:wrap;\n",
              "      gap: 12px;\n",
              "    }\n",
              "\n",
              "    .colab-df-convert {\n",
              "      background-color: #E8F0FE;\n",
              "      border: none;\n",
              "      border-radius: 50%;\n",
              "      cursor: pointer;\n",
              "      display: none;\n",
              "      fill: #1967D2;\n",
              "      height: 32px;\n",
              "      padding: 0 0 0 0;\n",
              "      width: 32px;\n",
              "    }\n",
              "\n",
              "    .colab-df-convert:hover {\n",
              "      background-color: #E2EBFA;\n",
              "      box-shadow: 0px 1px 2px rgba(60, 64, 67, 0.3), 0px 1px 3px 1px rgba(60, 64, 67, 0.15);\n",
              "      fill: #174EA6;\n",
              "    }\n",
              "\n",
              "    [theme=dark] .colab-df-convert {\n",
              "      background-color: #3B4455;\n",
              "      fill: #D2E3FC;\n",
              "    }\n",
              "\n",
              "    [theme=dark] .colab-df-convert:hover {\n",
              "      background-color: #434B5C;\n",
              "      box-shadow: 0px 1px 3px 1px rgba(0, 0, 0, 0.15);\n",
              "      filter: drop-shadow(0px 1px 2px rgba(0, 0, 0, 0.3));\n",
              "      fill: #FFFFFF;\n",
              "    }\n",
              "  </style>\n",
              "\n",
              "      <script>\n",
              "        const buttonEl =\n",
              "          document.querySelector('#df-0ff2a716-6b54-4ef2-bd71-b3d065c537e3 button.colab-df-convert');\n",
              "        buttonEl.style.display =\n",
              "          google.colab.kernel.accessAllowed ? 'block' : 'none';\n",
              "\n",
              "        async function convertToInteractive(key) {\n",
              "          const element = document.querySelector('#df-0ff2a716-6b54-4ef2-bd71-b3d065c537e3');\n",
              "          const dataTable =\n",
              "            await google.colab.kernel.invokeFunction('convertToInteractive',\n",
              "                                                     [key], {});\n",
              "          if (!dataTable) return;\n",
              "\n",
              "          const docLinkHtml = 'Like what you see? Visit the ' +\n",
              "            '<a target=\"_blank\" href=https://colab.research.google.com/notebooks/data_table.ipynb>data table notebook</a>'\n",
              "            + ' to learn more about interactive tables.';\n",
              "          element.innerHTML = '';\n",
              "          dataTable['output_type'] = 'display_data';\n",
              "          await google.colab.output.renderOutput(dataTable, element);\n",
              "          const docLink = document.createElement('div');\n",
              "          docLink.innerHTML = docLinkHtml;\n",
              "          element.appendChild(docLink);\n",
              "        }\n",
              "      </script>\n",
              "    </div>\n",
              "  </div>\n",
              "  "
            ]
          },
          "metadata": {},
          "execution_count": 3
        }
      ]
    },
    {
      "cell_type": "code",
      "source": [
        "# Attribute Information:\n",
        "\n",
        "# This research employed a binary variable, default payment (Yes = 1, No = 0), as the response variable. This study reviewed the literature and used the following 23 variables as explanatory variables: \n",
        "# X1: Amount of the given credit (NT dollar): it includes both the individual consumer credit and his/her family (supplementary) credit. \n",
        "# X2: Gender (1 = male; 2 = female). \n",
        "# X3: Education (1 = graduate school; 2 = university; 3 = high school; 4 = others). \n",
        "# X4: Marital status (1 = married; 2 = single; 3 = others). \n",
        "# X5: Age (year). \n",
        "# X6 - X11: History of past payment. We tracked the past monthly payment records (from April to September, 2005) as follows: X6 = the repayment status in September, 2005; X7 = the repayment status in August, 2005; . . .;X11 = the repayment status in April, 2005. The measurement scale for the repayment status is: -1 = pay duly; 1 = payment delay for one month; 2 = payment delay for two months; . . .; 8 = payment delay for eight months; 9 = payment delay for nine months and above. \n",
        "# X12-X17: Amount of bill statement (NT dollar). X12 = amount of bill statement in September, 2005; X13 = amount of bill statement in August, 2005; . . .; X17 = amount of bill statement in April, 2005. \n",
        "# X18-X23: Amount of previous payment (NT dollar). X18 = amount paid in September, 2005; X19 = amount paid in August, 2005; . . .;X23 = amount paid in April, 2005. "
      ],
      "metadata": {
        "id": "w37M5yAzKC2N"
      },
      "execution_count": null,
      "outputs": []
    },
    {
      "cell_type": "code",
      "source": [
        "#Cambianos nombre de variables de entrada/columnas para tener un relación y entendimiento sobre los datos que estamos manejando\n",
        "df.rename(columns = {\"X1\":\"Credit\",\"X2\":\"Gender\",\"X3\":\"Education\",\"X4\":\"Maritial_Status\",\"X5\":\"Age\",\"X6\":\"RPSep_05\",\"X7\":\"RPAug_05\",\"X8\":\"RPJul_05\",\"X9\":\"RPJun_05\",\"X10\":\"RPMay_05\",\"X11\":\"RPApr_05\",\"X12\":\"BSSep_05\",\"X13\":\"BSAug_05\",\"X14\":\"BSJul_05\",\"X15\":\"BSJun_05\",\"X16\":\"BSMay_05\",\"X17\":\"BSApr_05\",\"X18\":\"PPSep_05\",\"X19\":\"PPAug-05\",\"X20\":\"PPJul-05\",\"X21\":\"PPJun-05\",\"X22\":\"PPMay-05\",\"X23\":\"PPApr-05\"},inplace = True)\n"
      ],
      "metadata": {
        "id": "wEc0At536rjR"
      },
      "execution_count": null,
      "outputs": []
    },
    {
      "cell_type": "code",
      "source": [
        "#Desplegar estadísticos sobre los datos\n",
        "df.describe().transpose()"
      ],
      "metadata": {
        "colab": {
          "base_uri": "https://localhost:8080/",
          "height": 802
        },
        "id": "IAFdt3NEyE0F",
        "outputId": "20ce07e7-0c13-4241-da34-d0f92b3424df"
      },
      "execution_count": null,
      "outputs": [
        {
          "output_type": "execute_result",
          "data": {
            "text/plain": [
              "                   count           mean            std       min       25%  \\\n",
              "Credit           29958.0  167555.900928  129737.299088   10000.0  50000.00   \n",
              "Gender           29958.0       1.604012       0.489070       1.0      1.00   \n",
              "Education        29958.0       1.840810       0.743317       1.0      1.00   \n",
              "Maritial_Status  29958.0       1.553542       0.518304       1.0      1.00   \n",
              "Age              29958.0      35.483443       9.214319      21.0     28.00   \n",
              "RPSep_05         29958.0      -0.416316       1.142539      -1.0     -1.00   \n",
              "RPAug_05         29958.0      -0.532279       1.146252      -1.0     -1.00   \n",
              "RPJul_05         29958.0      -0.555978       1.125108      -1.0     -1.00   \n",
              "RPJun_05         29958.0      -0.624608       1.066540      -1.0     -1.00   \n",
              "RPMay_05         29958.0      -0.680186       1.000431      -1.0     -1.00   \n",
              "RPApr_05         29958.0      -0.671306       1.004253      -1.0     -1.00   \n",
              "BSSep_05         29958.0   51248.119901   73674.949943 -165580.0   3559.25   \n",
              "BSAug_05         29958.0   49200.493825   71211.232744  -69777.0   2984.00   \n",
              "BSJul_05         29958.0   47032.385273   69385.243340 -157264.0   2664.75   \n",
              "BSJun_05         29958.0   43279.335370   64364.684347 -170000.0   2327.50   \n",
              "BSMay_05         29958.0   40328.984578   60826.219326  -81334.0   1762.25   \n",
              "BSApr_05         29958.0   38889.925763   59582.883301 -339603.0   1256.00   \n",
              "PPSep_05         29958.0    5664.614460   16568.823518       0.0   1000.00   \n",
              "PPAug-05         29958.0    5925.715468   23055.983864       0.0    835.25   \n",
              "PPJul-05         29958.0    5228.429969   17617.338167       0.0    390.00   \n",
              "PPJun-05         29958.0    4829.873556   15676.205514       0.0    296.25   \n",
              "PPMay-05         29958.0    4801.481574   15285.552652       0.0    253.25   \n",
              "PPApr-05         29958.0    5220.708025   17788.983767       0.0    118.00   \n",
              "Y                29958.0       0.221143       0.415023       0.0      0.00   \n",
              "\n",
              "                      50%        75%        max  \n",
              "Credit           140000.0  240000.00  1000000.0  \n",
              "Gender                2.0       2.00        2.0  \n",
              "Education             2.0       2.00        4.0  \n",
              "Maritial_Status       2.0       2.00        3.0  \n",
              "Age                  34.0      41.00       79.0  \n",
              "RPSep_05             -1.0      -1.00        8.0  \n",
              "RPAug_05             -1.0      -1.00        8.0  \n",
              "RPJul_05             -1.0      -1.00        8.0  \n",
              "RPJun_05             -1.0      -1.00        8.0  \n",
              "RPMay_05             -1.0      -1.00        8.0  \n",
              "RPApr_05             -1.0      -1.00        8.0  \n",
              "BSSep_05          22379.0   67190.00   964511.0  \n",
              "BSAug_05          21194.5   64027.75   983931.0  \n",
              "BSJul_05          20085.5   60183.00  1664089.0  \n",
              "BSJun_05          19037.5   54551.25   891586.0  \n",
              "BSMay_05          18104.5   50220.75   927171.0  \n",
              "BSApr_05          17067.5   49234.75   961664.0  \n",
              "PPSep_05           2100.0    5007.00   873552.0  \n",
              "PPAug-05           2009.0    5000.00  1684259.0  \n",
              "PPJul-05           1800.0    4511.50   896040.0  \n",
              "PPJun-05           1500.0    4014.75   621000.0  \n",
              "PPMay-05           1500.0    4040.00   426529.0  \n",
              "PPApr-05           1500.0    4000.00   528666.0  \n",
              "Y                     0.0       0.00        1.0  "
            ],
            "text/html": [
              "\n",
              "  <div id=\"df-786c94d0-3376-4e69-baa7-edcf32312371\">\n",
              "    <div class=\"colab-df-container\">\n",
              "      <div>\n",
              "<style scoped>\n",
              "    .dataframe tbody tr th:only-of-type {\n",
              "        vertical-align: middle;\n",
              "    }\n",
              "\n",
              "    .dataframe tbody tr th {\n",
              "        vertical-align: top;\n",
              "    }\n",
              "\n",
              "    .dataframe thead th {\n",
              "        text-align: right;\n",
              "    }\n",
              "</style>\n",
              "<table border=\"1\" class=\"dataframe\">\n",
              "  <thead>\n",
              "    <tr style=\"text-align: right;\">\n",
              "      <th></th>\n",
              "      <th>count</th>\n",
              "      <th>mean</th>\n",
              "      <th>std</th>\n",
              "      <th>min</th>\n",
              "      <th>25%</th>\n",
              "      <th>50%</th>\n",
              "      <th>75%</th>\n",
              "      <th>max</th>\n",
              "    </tr>\n",
              "  </thead>\n",
              "  <tbody>\n",
              "    <tr>\n",
              "      <th>Credit</th>\n",
              "      <td>29958.0</td>\n",
              "      <td>167555.900928</td>\n",
              "      <td>129737.299088</td>\n",
              "      <td>10000.0</td>\n",
              "      <td>50000.00</td>\n",
              "      <td>140000.0</td>\n",
              "      <td>240000.00</td>\n",
              "      <td>1000000.0</td>\n",
              "    </tr>\n",
              "    <tr>\n",
              "      <th>Gender</th>\n",
              "      <td>29958.0</td>\n",
              "      <td>1.604012</td>\n",
              "      <td>0.489070</td>\n",
              "      <td>1.0</td>\n",
              "      <td>1.00</td>\n",
              "      <td>2.0</td>\n",
              "      <td>2.00</td>\n",
              "      <td>2.0</td>\n",
              "    </tr>\n",
              "    <tr>\n",
              "      <th>Education</th>\n",
              "      <td>29958.0</td>\n",
              "      <td>1.840810</td>\n",
              "      <td>0.743317</td>\n",
              "      <td>1.0</td>\n",
              "      <td>1.00</td>\n",
              "      <td>2.0</td>\n",
              "      <td>2.00</td>\n",
              "      <td>4.0</td>\n",
              "    </tr>\n",
              "    <tr>\n",
              "      <th>Maritial_Status</th>\n",
              "      <td>29958.0</td>\n",
              "      <td>1.553542</td>\n",
              "      <td>0.518304</td>\n",
              "      <td>1.0</td>\n",
              "      <td>1.00</td>\n",
              "      <td>2.0</td>\n",
              "      <td>2.00</td>\n",
              "      <td>3.0</td>\n",
              "    </tr>\n",
              "    <tr>\n",
              "      <th>Age</th>\n",
              "      <td>29958.0</td>\n",
              "      <td>35.483443</td>\n",
              "      <td>9.214319</td>\n",
              "      <td>21.0</td>\n",
              "      <td>28.00</td>\n",
              "      <td>34.0</td>\n",
              "      <td>41.00</td>\n",
              "      <td>79.0</td>\n",
              "    </tr>\n",
              "    <tr>\n",
              "      <th>RPSep_05</th>\n",
              "      <td>29958.0</td>\n",
              "      <td>-0.416316</td>\n",
              "      <td>1.142539</td>\n",
              "      <td>-1.0</td>\n",
              "      <td>-1.00</td>\n",
              "      <td>-1.0</td>\n",
              "      <td>-1.00</td>\n",
              "      <td>8.0</td>\n",
              "    </tr>\n",
              "    <tr>\n",
              "      <th>RPAug_05</th>\n",
              "      <td>29958.0</td>\n",
              "      <td>-0.532279</td>\n",
              "      <td>1.146252</td>\n",
              "      <td>-1.0</td>\n",
              "      <td>-1.00</td>\n",
              "      <td>-1.0</td>\n",
              "      <td>-1.00</td>\n",
              "      <td>8.0</td>\n",
              "    </tr>\n",
              "    <tr>\n",
              "      <th>RPJul_05</th>\n",
              "      <td>29958.0</td>\n",
              "      <td>-0.555978</td>\n",
              "      <td>1.125108</td>\n",
              "      <td>-1.0</td>\n",
              "      <td>-1.00</td>\n",
              "      <td>-1.0</td>\n",
              "      <td>-1.00</td>\n",
              "      <td>8.0</td>\n",
              "    </tr>\n",
              "    <tr>\n",
              "      <th>RPJun_05</th>\n",
              "      <td>29958.0</td>\n",
              "      <td>-0.624608</td>\n",
              "      <td>1.066540</td>\n",
              "      <td>-1.0</td>\n",
              "      <td>-1.00</td>\n",
              "      <td>-1.0</td>\n",
              "      <td>-1.00</td>\n",
              "      <td>8.0</td>\n",
              "    </tr>\n",
              "    <tr>\n",
              "      <th>RPMay_05</th>\n",
              "      <td>29958.0</td>\n",
              "      <td>-0.680186</td>\n",
              "      <td>1.000431</td>\n",
              "      <td>-1.0</td>\n",
              "      <td>-1.00</td>\n",
              "      <td>-1.0</td>\n",
              "      <td>-1.00</td>\n",
              "      <td>8.0</td>\n",
              "    </tr>\n",
              "    <tr>\n",
              "      <th>RPApr_05</th>\n",
              "      <td>29958.0</td>\n",
              "      <td>-0.671306</td>\n",
              "      <td>1.004253</td>\n",
              "      <td>-1.0</td>\n",
              "      <td>-1.00</td>\n",
              "      <td>-1.0</td>\n",
              "      <td>-1.00</td>\n",
              "      <td>8.0</td>\n",
              "    </tr>\n",
              "    <tr>\n",
              "      <th>BSSep_05</th>\n",
              "      <td>29958.0</td>\n",
              "      <td>51248.119901</td>\n",
              "      <td>73674.949943</td>\n",
              "      <td>-165580.0</td>\n",
              "      <td>3559.25</td>\n",
              "      <td>22379.0</td>\n",
              "      <td>67190.00</td>\n",
              "      <td>964511.0</td>\n",
              "    </tr>\n",
              "    <tr>\n",
              "      <th>BSAug_05</th>\n",
              "      <td>29958.0</td>\n",
              "      <td>49200.493825</td>\n",
              "      <td>71211.232744</td>\n",
              "      <td>-69777.0</td>\n",
              "      <td>2984.00</td>\n",
              "      <td>21194.5</td>\n",
              "      <td>64027.75</td>\n",
              "      <td>983931.0</td>\n",
              "    </tr>\n",
              "    <tr>\n",
              "      <th>BSJul_05</th>\n",
              "      <td>29958.0</td>\n",
              "      <td>47032.385273</td>\n",
              "      <td>69385.243340</td>\n",
              "      <td>-157264.0</td>\n",
              "      <td>2664.75</td>\n",
              "      <td>20085.5</td>\n",
              "      <td>60183.00</td>\n",
              "      <td>1664089.0</td>\n",
              "    </tr>\n",
              "    <tr>\n",
              "      <th>BSJun_05</th>\n",
              "      <td>29958.0</td>\n",
              "      <td>43279.335370</td>\n",
              "      <td>64364.684347</td>\n",
              "      <td>-170000.0</td>\n",
              "      <td>2327.50</td>\n",
              "      <td>19037.5</td>\n",
              "      <td>54551.25</td>\n",
              "      <td>891586.0</td>\n",
              "    </tr>\n",
              "    <tr>\n",
              "      <th>BSMay_05</th>\n",
              "      <td>29958.0</td>\n",
              "      <td>40328.984578</td>\n",
              "      <td>60826.219326</td>\n",
              "      <td>-81334.0</td>\n",
              "      <td>1762.25</td>\n",
              "      <td>18104.5</td>\n",
              "      <td>50220.75</td>\n",
              "      <td>927171.0</td>\n",
              "    </tr>\n",
              "    <tr>\n",
              "      <th>BSApr_05</th>\n",
              "      <td>29958.0</td>\n",
              "      <td>38889.925763</td>\n",
              "      <td>59582.883301</td>\n",
              "      <td>-339603.0</td>\n",
              "      <td>1256.00</td>\n",
              "      <td>17067.5</td>\n",
              "      <td>49234.75</td>\n",
              "      <td>961664.0</td>\n",
              "    </tr>\n",
              "    <tr>\n",
              "      <th>PPSep_05</th>\n",
              "      <td>29958.0</td>\n",
              "      <td>5664.614460</td>\n",
              "      <td>16568.823518</td>\n",
              "      <td>0.0</td>\n",
              "      <td>1000.00</td>\n",
              "      <td>2100.0</td>\n",
              "      <td>5007.00</td>\n",
              "      <td>873552.0</td>\n",
              "    </tr>\n",
              "    <tr>\n",
              "      <th>PPAug-05</th>\n",
              "      <td>29958.0</td>\n",
              "      <td>5925.715468</td>\n",
              "      <td>23055.983864</td>\n",
              "      <td>0.0</td>\n",
              "      <td>835.25</td>\n",
              "      <td>2009.0</td>\n",
              "      <td>5000.00</td>\n",
              "      <td>1684259.0</td>\n",
              "    </tr>\n",
              "    <tr>\n",
              "      <th>PPJul-05</th>\n",
              "      <td>29958.0</td>\n",
              "      <td>5228.429969</td>\n",
              "      <td>17617.338167</td>\n",
              "      <td>0.0</td>\n",
              "      <td>390.00</td>\n",
              "      <td>1800.0</td>\n",
              "      <td>4511.50</td>\n",
              "      <td>896040.0</td>\n",
              "    </tr>\n",
              "    <tr>\n",
              "      <th>PPJun-05</th>\n",
              "      <td>29958.0</td>\n",
              "      <td>4829.873556</td>\n",
              "      <td>15676.205514</td>\n",
              "      <td>0.0</td>\n",
              "      <td>296.25</td>\n",
              "      <td>1500.0</td>\n",
              "      <td>4014.75</td>\n",
              "      <td>621000.0</td>\n",
              "    </tr>\n",
              "    <tr>\n",
              "      <th>PPMay-05</th>\n",
              "      <td>29958.0</td>\n",
              "      <td>4801.481574</td>\n",
              "      <td>15285.552652</td>\n",
              "      <td>0.0</td>\n",
              "      <td>253.25</td>\n",
              "      <td>1500.0</td>\n",
              "      <td>4040.00</td>\n",
              "      <td>426529.0</td>\n",
              "    </tr>\n",
              "    <tr>\n",
              "      <th>PPApr-05</th>\n",
              "      <td>29958.0</td>\n",
              "      <td>5220.708025</td>\n",
              "      <td>17788.983767</td>\n",
              "      <td>0.0</td>\n",
              "      <td>118.00</td>\n",
              "      <td>1500.0</td>\n",
              "      <td>4000.00</td>\n",
              "      <td>528666.0</td>\n",
              "    </tr>\n",
              "    <tr>\n",
              "      <th>Y</th>\n",
              "      <td>29958.0</td>\n",
              "      <td>0.221143</td>\n",
              "      <td>0.415023</td>\n",
              "      <td>0.0</td>\n",
              "      <td>0.00</td>\n",
              "      <td>0.0</td>\n",
              "      <td>0.00</td>\n",
              "      <td>1.0</td>\n",
              "    </tr>\n",
              "  </tbody>\n",
              "</table>\n",
              "</div>\n",
              "      <button class=\"colab-df-convert\" onclick=\"convertToInteractive('df-786c94d0-3376-4e69-baa7-edcf32312371')\"\n",
              "              title=\"Convert this dataframe to an interactive table.\"\n",
              "              style=\"display:none;\">\n",
              "        \n",
              "  <svg xmlns=\"http://www.w3.org/2000/svg\" height=\"24px\"viewBox=\"0 0 24 24\"\n",
              "       width=\"24px\">\n",
              "    <path d=\"M0 0h24v24H0V0z\" fill=\"none\"/>\n",
              "    <path d=\"M18.56 5.44l.94 2.06.94-2.06 2.06-.94-2.06-.94-.94-2.06-.94 2.06-2.06.94zm-11 1L8.5 8.5l.94-2.06 2.06-.94-2.06-.94L8.5 2.5l-.94 2.06-2.06.94zm10 10l.94 2.06.94-2.06 2.06-.94-2.06-.94-.94-2.06-.94 2.06-2.06.94z\"/><path d=\"M17.41 7.96l-1.37-1.37c-.4-.4-.92-.59-1.43-.59-.52 0-1.04.2-1.43.59L10.3 9.45l-7.72 7.72c-.78.78-.78 2.05 0 2.83L4 21.41c.39.39.9.59 1.41.59.51 0 1.02-.2 1.41-.59l7.78-7.78 2.81-2.81c.8-.78.8-2.07 0-2.86zM5.41 20L4 18.59l7.72-7.72 1.47 1.35L5.41 20z\"/>\n",
              "  </svg>\n",
              "      </button>\n",
              "      \n",
              "  <style>\n",
              "    .colab-df-container {\n",
              "      display:flex;\n",
              "      flex-wrap:wrap;\n",
              "      gap: 12px;\n",
              "    }\n",
              "\n",
              "    .colab-df-convert {\n",
              "      background-color: #E8F0FE;\n",
              "      border: none;\n",
              "      border-radius: 50%;\n",
              "      cursor: pointer;\n",
              "      display: none;\n",
              "      fill: #1967D2;\n",
              "      height: 32px;\n",
              "      padding: 0 0 0 0;\n",
              "      width: 32px;\n",
              "    }\n",
              "\n",
              "    .colab-df-convert:hover {\n",
              "      background-color: #E2EBFA;\n",
              "      box-shadow: 0px 1px 2px rgba(60, 64, 67, 0.3), 0px 1px 3px 1px rgba(60, 64, 67, 0.15);\n",
              "      fill: #174EA6;\n",
              "    }\n",
              "\n",
              "    [theme=dark] .colab-df-convert {\n",
              "      background-color: #3B4455;\n",
              "      fill: #D2E3FC;\n",
              "    }\n",
              "\n",
              "    [theme=dark] .colab-df-convert:hover {\n",
              "      background-color: #434B5C;\n",
              "      box-shadow: 0px 1px 3px 1px rgba(0, 0, 0, 0.15);\n",
              "      filter: drop-shadow(0px 1px 2px rgba(0, 0, 0, 0.3));\n",
              "      fill: #FFFFFF;\n",
              "    }\n",
              "  </style>\n",
              "\n",
              "      <script>\n",
              "        const buttonEl =\n",
              "          document.querySelector('#df-786c94d0-3376-4e69-baa7-edcf32312371 button.colab-df-convert');\n",
              "        buttonEl.style.display =\n",
              "          google.colab.kernel.accessAllowed ? 'block' : 'none';\n",
              "\n",
              "        async function convertToInteractive(key) {\n",
              "          const element = document.querySelector('#df-786c94d0-3376-4e69-baa7-edcf32312371');\n",
              "          const dataTable =\n",
              "            await google.colab.kernel.invokeFunction('convertToInteractive',\n",
              "                                                     [key], {});\n",
              "          if (!dataTable) return;\n",
              "\n",
              "          const docLinkHtml = 'Like what you see? Visit the ' +\n",
              "            '<a target=\"_blank\" href=https://colab.research.google.com/notebooks/data_table.ipynb>data table notebook</a>'\n",
              "            + ' to learn more about interactive tables.';\n",
              "          element.innerHTML = '';\n",
              "          dataTable['output_type'] = 'display_data';\n",
              "          await google.colab.output.renderOutput(dataTable, element);\n",
              "          const docLink = document.createElement('div');\n",
              "          docLink.innerHTML = docLinkHtml;\n",
              "          element.appendChild(docLink);\n",
              "        }\n",
              "      </script>\n",
              "    </div>\n",
              "  </div>\n",
              "  "
            ]
          },
          "metadata": {},
          "execution_count": 6
        }
      ]
    },
    {
      "cell_type": "code",
      "source": [
        "# La base de datos cuenta con 30,000 registros y cada uno con 23 variables de entrada X y una variable de salida Y.\n",
        "#X1 es variable numérica\n",
        "#X2-X4 variables categóricas\n",
        "#X5 variable numérica\n",
        "#X6-X11 variables categóricas\n",
        "#X18-X23 variables numéricas\n",
        "#Y variable de respuesta categórica\n",
        "df.shape"
      ],
      "metadata": {
        "colab": {
          "base_uri": "https://localhost:8080/"
        },
        "id": "4ehjjZw5vn81",
        "outputId": "81b54a6a-bde2-4f3c-cdc9-2b7c4aef3376"
      },
      "execution_count": null,
      "outputs": [
        {
          "output_type": "execute_result",
          "data": {
            "text/plain": [
              "(29958, 24)"
            ]
          },
          "metadata": {},
          "execution_count": 7
        }
      ]
    },
    {
      "cell_type": "code",
      "source": [
        "df=df.drop(columns=['Gender','Education','Maritial_Status',\"RPSep_05\",\"RPAug_05\",\"RPJul_05\",\"RPJun_05\",\"RPMay_05\",\"RPApr_05\",'Y'])"
      ],
      "metadata": {
        "id": "Mx8t9xw7W__7"
      },
      "execution_count": null,
      "outputs": []
    },
    {
      "cell_type": "code",
      "source": [
        "#Reviasmos correlación entre todas las variables numéricas dentro del data set\n",
        "#Se aprecia que las variables BS*** muestran valores de correlación más altos comparados con las otras variables\n",
        "df.corr()['BSJun_05'].sort_values()"
      ],
      "metadata": {
        "colab": {
          "base_uri": "https://localhost:8080/"
        },
        "id": "bM4giyc1TpKj",
        "outputId": "38465fca-8eab-4224-f245-b30fbd694f15"
      },
      "execution_count": 86,
      "outputs": [
        {
          "output_type": "execute_result",
          "data": {
            "text/plain": [
              "Age         0.051528\n",
              "PPJun-05    0.130124\n",
              "PPMay-05    0.160283\n",
              "PPApr-05    0.177562\n",
              "PPAug-05    0.207498\n",
              "PPSep_05    0.232916\n",
              "Credit      0.294090\n",
              "PPJul-05    0.299953\n",
              "BSSep_05    0.860273\n",
              "BSAug_05    0.892456\n",
              "BSApr_05    0.900931\n",
              "BSJul_05    0.923953\n",
              "BSMay_05    0.940133\n",
              "BSJun_05    1.000000\n",
              "Name: BSJun_05, dtype: float64"
            ]
          },
          "metadata": {},
          "execution_count": 86
        }
      ]
    },
    {
      "cell_type": "markdown",
      "source": [
        "# INCIA PASO 1: Determine el número mínimo de componentes principales que representan la mayor parte de la variación en sus datos"
      ],
      "metadata": {
        "id": "5eQG57KaA-Ko"
      }
    },
    {
      "cell_type": "code",
      "source": [
        "# Llamando librerias de procesamiendo del PCA y escalamiento\n",
        "import sklearn\n",
        "from sklearn.decomposition import PCA\n",
        "from sklearn import preprocessing\n"
      ],
      "metadata": {
        "id": "zyLFB3fPV-yh"
      },
      "execution_count": null,
      "outputs": []
    },
    {
      "cell_type": "code",
      "source": [
        "#Llamando librerias para graficar\n",
        "import matplotlib as mpl\n",
        "import matplotlib.pyplot as plt\n",
        "import seaborn as sns\n"
      ],
      "metadata": {
        "id": "Rxv-cC2tcyIi"
      },
      "execution_count": null,
      "outputs": []
    },
    {
      "cell_type": "code",
      "source": [
        "#Se realiza operación de procesamiendo de PCA y escalamiendo al set de datos\n",
        "pcs=PCA()\n",
        "pcs.fit(preprocessing.scale(df))"
      ],
      "metadata": {
        "colab": {
          "base_uri": "https://localhost:8080/"
        },
        "id": "m6L_M7QslQ0x",
        "outputId": "47d8929b-33be-49a4-ee32-a45a023ecdd7"
      },
      "execution_count": null,
      "outputs": [
        {
          "output_type": "execute_result",
          "data": {
            "text/plain": [
              "PCA()"
            ]
          },
          "metadata": {},
          "execution_count": 34
        }
      ]
    },
    {
      "cell_type": "code",
      "source": [
        "#Creación de dataframe con resumen de cálculos de PCA\n",
        "summary={'Standard deviation':np.sqrt(pcs.explained_variance_),\n",
        "         'Proportion of variance':pcs.explained_variance_ratio_,\n",
        "         'Cumulative proportion':np.cumsum(pcs.explained_variance_ratio_)\n",
        "}\n",
        "summary\n",
        "pcsSummary=pd.DataFrame(summary).transpose()\n",
        "pcsSummary=pcsSummary.round(3)\n",
        "pcsSummary"
      ],
      "metadata": {
        "colab": {
          "base_uri": "https://localhost:8080/",
          "height": 143
        },
        "id": "z37npqBalwUK",
        "outputId": "e392c3ad-b376-4e7b-cb01-6cfe3e81843a"
      },
      "execution_count": null,
      "outputs": [
        {
          "output_type": "execute_result",
          "data": {
            "text/plain": [
              "                           0      1      2      3      4      5      6   \\\n",
              "Standard deviation      2.433  1.310  1.022  0.962  0.940  0.934  0.883   \n",
              "Proportion of variance  0.423  0.123  0.075  0.066  0.063  0.062  0.056   \n",
              "Cumulative proportion   0.423  0.545  0.620  0.686  0.749  0.812  0.867   \n",
              "\n",
              "                           7      8      9      10     11     12     13  \n",
              "Standard deviation      0.852  0.841  0.514  0.266  0.203  0.159  0.152  \n",
              "Proportion of variance  0.052  0.051  0.019  0.005  0.003  0.002  0.002  \n",
              "Cumulative proportion   0.919  0.970  0.989  0.994  0.997  0.998  1.000  "
            ],
            "text/html": [
              "\n",
              "  <div id=\"df-7e93ba8c-71f7-4528-baae-a5cb3a909ea2\">\n",
              "    <div class=\"colab-df-container\">\n",
              "      <div>\n",
              "<style scoped>\n",
              "    .dataframe tbody tr th:only-of-type {\n",
              "        vertical-align: middle;\n",
              "    }\n",
              "\n",
              "    .dataframe tbody tr th {\n",
              "        vertical-align: top;\n",
              "    }\n",
              "\n",
              "    .dataframe thead th {\n",
              "        text-align: right;\n",
              "    }\n",
              "</style>\n",
              "<table border=\"1\" class=\"dataframe\">\n",
              "  <thead>\n",
              "    <tr style=\"text-align: right;\">\n",
              "      <th></th>\n",
              "      <th>0</th>\n",
              "      <th>1</th>\n",
              "      <th>2</th>\n",
              "      <th>3</th>\n",
              "      <th>4</th>\n",
              "      <th>5</th>\n",
              "      <th>6</th>\n",
              "      <th>7</th>\n",
              "      <th>8</th>\n",
              "      <th>9</th>\n",
              "      <th>10</th>\n",
              "      <th>11</th>\n",
              "      <th>12</th>\n",
              "      <th>13</th>\n",
              "    </tr>\n",
              "  </thead>\n",
              "  <tbody>\n",
              "    <tr>\n",
              "      <th>Standard deviation</th>\n",
              "      <td>2.433</td>\n",
              "      <td>1.310</td>\n",
              "      <td>1.022</td>\n",
              "      <td>0.962</td>\n",
              "      <td>0.940</td>\n",
              "      <td>0.934</td>\n",
              "      <td>0.883</td>\n",
              "      <td>0.852</td>\n",
              "      <td>0.841</td>\n",
              "      <td>0.514</td>\n",
              "      <td>0.266</td>\n",
              "      <td>0.203</td>\n",
              "      <td>0.159</td>\n",
              "      <td>0.152</td>\n",
              "    </tr>\n",
              "    <tr>\n",
              "      <th>Proportion of variance</th>\n",
              "      <td>0.423</td>\n",
              "      <td>0.123</td>\n",
              "      <td>0.075</td>\n",
              "      <td>0.066</td>\n",
              "      <td>0.063</td>\n",
              "      <td>0.062</td>\n",
              "      <td>0.056</td>\n",
              "      <td>0.052</td>\n",
              "      <td>0.051</td>\n",
              "      <td>0.019</td>\n",
              "      <td>0.005</td>\n",
              "      <td>0.003</td>\n",
              "      <td>0.002</td>\n",
              "      <td>0.002</td>\n",
              "    </tr>\n",
              "    <tr>\n",
              "      <th>Cumulative proportion</th>\n",
              "      <td>0.423</td>\n",
              "      <td>0.545</td>\n",
              "      <td>0.620</td>\n",
              "      <td>0.686</td>\n",
              "      <td>0.749</td>\n",
              "      <td>0.812</td>\n",
              "      <td>0.867</td>\n",
              "      <td>0.919</td>\n",
              "      <td>0.970</td>\n",
              "      <td>0.989</td>\n",
              "      <td>0.994</td>\n",
              "      <td>0.997</td>\n",
              "      <td>0.998</td>\n",
              "      <td>1.000</td>\n",
              "    </tr>\n",
              "  </tbody>\n",
              "</table>\n",
              "</div>\n",
              "      <button class=\"colab-df-convert\" onclick=\"convertToInteractive('df-7e93ba8c-71f7-4528-baae-a5cb3a909ea2')\"\n",
              "              title=\"Convert this dataframe to an interactive table.\"\n",
              "              style=\"display:none;\">\n",
              "        \n",
              "  <svg xmlns=\"http://www.w3.org/2000/svg\" height=\"24px\"viewBox=\"0 0 24 24\"\n",
              "       width=\"24px\">\n",
              "    <path d=\"M0 0h24v24H0V0z\" fill=\"none\"/>\n",
              "    <path d=\"M18.56 5.44l.94 2.06.94-2.06 2.06-.94-2.06-.94-.94-2.06-.94 2.06-2.06.94zm-11 1L8.5 8.5l.94-2.06 2.06-.94-2.06-.94L8.5 2.5l-.94 2.06-2.06.94zm10 10l.94 2.06.94-2.06 2.06-.94-2.06-.94-.94-2.06-.94 2.06-2.06.94z\"/><path d=\"M17.41 7.96l-1.37-1.37c-.4-.4-.92-.59-1.43-.59-.52 0-1.04.2-1.43.59L10.3 9.45l-7.72 7.72c-.78.78-.78 2.05 0 2.83L4 21.41c.39.39.9.59 1.41.59.51 0 1.02-.2 1.41-.59l7.78-7.78 2.81-2.81c.8-.78.8-2.07 0-2.86zM5.41 20L4 18.59l7.72-7.72 1.47 1.35L5.41 20z\"/>\n",
              "  </svg>\n",
              "      </button>\n",
              "      \n",
              "  <style>\n",
              "    .colab-df-container {\n",
              "      display:flex;\n",
              "      flex-wrap:wrap;\n",
              "      gap: 12px;\n",
              "    }\n",
              "\n",
              "    .colab-df-convert {\n",
              "      background-color: #E8F0FE;\n",
              "      border: none;\n",
              "      border-radius: 50%;\n",
              "      cursor: pointer;\n",
              "      display: none;\n",
              "      fill: #1967D2;\n",
              "      height: 32px;\n",
              "      padding: 0 0 0 0;\n",
              "      width: 32px;\n",
              "    }\n",
              "\n",
              "    .colab-df-convert:hover {\n",
              "      background-color: #E2EBFA;\n",
              "      box-shadow: 0px 1px 2px rgba(60, 64, 67, 0.3), 0px 1px 3px 1px rgba(60, 64, 67, 0.15);\n",
              "      fill: #174EA6;\n",
              "    }\n",
              "\n",
              "    [theme=dark] .colab-df-convert {\n",
              "      background-color: #3B4455;\n",
              "      fill: #D2E3FC;\n",
              "    }\n",
              "\n",
              "    [theme=dark] .colab-df-convert:hover {\n",
              "      background-color: #434B5C;\n",
              "      box-shadow: 0px 1px 3px 1px rgba(0, 0, 0, 0.15);\n",
              "      filter: drop-shadow(0px 1px 2px rgba(0, 0, 0, 0.3));\n",
              "      fill: #FFFFFF;\n",
              "    }\n",
              "  </style>\n",
              "\n",
              "      <script>\n",
              "        const buttonEl =\n",
              "          document.querySelector('#df-7e93ba8c-71f7-4528-baae-a5cb3a909ea2 button.colab-df-convert');\n",
              "        buttonEl.style.display =\n",
              "          google.colab.kernel.accessAllowed ? 'block' : 'none';\n",
              "\n",
              "        async function convertToInteractive(key) {\n",
              "          const element = document.querySelector('#df-7e93ba8c-71f7-4528-baae-a5cb3a909ea2');\n",
              "          const dataTable =\n",
              "            await google.colab.kernel.invokeFunction('convertToInteractive',\n",
              "                                                     [key], {});\n",
              "          if (!dataTable) return;\n",
              "\n",
              "          const docLinkHtml = 'Like what you see? Visit the ' +\n",
              "            '<a target=\"_blank\" href=https://colab.research.google.com/notebooks/data_table.ipynb>data table notebook</a>'\n",
              "            + ' to learn more about interactive tables.';\n",
              "          element.innerHTML = '';\n",
              "          dataTable['output_type'] = 'display_data';\n",
              "          await google.colab.output.renderOutput(dataTable, element);\n",
              "          const docLink = document.createElement('div');\n",
              "          docLink.innerHTML = docLinkHtml;\n",
              "          element.appendChild(docLink);\n",
              "        }\n",
              "      </script>\n",
              "    </div>\n",
              "  </div>\n",
              "  "
            ]
          },
          "metadata": {},
          "execution_count": 35
        }
      ]
    },
    {
      "cell_type": "code",
      "source": [
        "#Operación para renombrar columnas como componentes PC**\n",
        "pcsSummary.columns=['PC{}'.format(i) for i in range(1,len(pcsSummary.columns)+1) ]\n",
        "pcsSummary"
      ],
      "metadata": {
        "colab": {
          "base_uri": "https://localhost:8080/",
          "height": 143
        },
        "id": "OzSI3tYyl1jy",
        "outputId": "461780f2-e754-4714-bee0-26a31828de83"
      },
      "execution_count": 68,
      "outputs": [
        {
          "output_type": "execute_result",
          "data": {
            "text/plain": [
              "                          PC1    PC2    PC3    PC4    PC5    PC6    PC7  \\\n",
              "Standard deviation      2.433  1.310  1.022  0.962  0.940  0.934  0.883   \n",
              "Proportion of variance  0.423  0.123  0.075  0.066  0.063  0.062  0.056   \n",
              "Cumulative proportion   0.423  0.545  0.620  0.686  0.749  0.812  0.867   \n",
              "\n",
              "                          PC8    PC9   PC10   PC11   PC12   PC13   PC14  \n",
              "Standard deviation      0.852  0.841  0.514  0.266  0.203  0.159  0.152  \n",
              "Proportion of variance  0.052  0.051  0.019  0.005  0.003  0.002  0.002  \n",
              "Cumulative proportion   0.919  0.970  0.989  0.994  0.997  0.998  1.000  "
            ],
            "text/html": [
              "\n",
              "  <div id=\"df-eeb87e9f-41d6-4594-8329-16c7a2f9ef4c\">\n",
              "    <div class=\"colab-df-container\">\n",
              "      <div>\n",
              "<style scoped>\n",
              "    .dataframe tbody tr th:only-of-type {\n",
              "        vertical-align: middle;\n",
              "    }\n",
              "\n",
              "    .dataframe tbody tr th {\n",
              "        vertical-align: top;\n",
              "    }\n",
              "\n",
              "    .dataframe thead th {\n",
              "        text-align: right;\n",
              "    }\n",
              "</style>\n",
              "<table border=\"1\" class=\"dataframe\">\n",
              "  <thead>\n",
              "    <tr style=\"text-align: right;\">\n",
              "      <th></th>\n",
              "      <th>PC1</th>\n",
              "      <th>PC2</th>\n",
              "      <th>PC3</th>\n",
              "      <th>PC4</th>\n",
              "      <th>PC5</th>\n",
              "      <th>PC6</th>\n",
              "      <th>PC7</th>\n",
              "      <th>PC8</th>\n",
              "      <th>PC9</th>\n",
              "      <th>PC10</th>\n",
              "      <th>PC11</th>\n",
              "      <th>PC12</th>\n",
              "      <th>PC13</th>\n",
              "      <th>PC14</th>\n",
              "    </tr>\n",
              "  </thead>\n",
              "  <tbody>\n",
              "    <tr>\n",
              "      <th>Standard deviation</th>\n",
              "      <td>2.433</td>\n",
              "      <td>1.310</td>\n",
              "      <td>1.022</td>\n",
              "      <td>0.962</td>\n",
              "      <td>0.940</td>\n",
              "      <td>0.934</td>\n",
              "      <td>0.883</td>\n",
              "      <td>0.852</td>\n",
              "      <td>0.841</td>\n",
              "      <td>0.514</td>\n",
              "      <td>0.266</td>\n",
              "      <td>0.203</td>\n",
              "      <td>0.159</td>\n",
              "      <td>0.152</td>\n",
              "    </tr>\n",
              "    <tr>\n",
              "      <th>Proportion of variance</th>\n",
              "      <td>0.423</td>\n",
              "      <td>0.123</td>\n",
              "      <td>0.075</td>\n",
              "      <td>0.066</td>\n",
              "      <td>0.063</td>\n",
              "      <td>0.062</td>\n",
              "      <td>0.056</td>\n",
              "      <td>0.052</td>\n",
              "      <td>0.051</td>\n",
              "      <td>0.019</td>\n",
              "      <td>0.005</td>\n",
              "      <td>0.003</td>\n",
              "      <td>0.002</td>\n",
              "      <td>0.002</td>\n",
              "    </tr>\n",
              "    <tr>\n",
              "      <th>Cumulative proportion</th>\n",
              "      <td>0.423</td>\n",
              "      <td>0.545</td>\n",
              "      <td>0.620</td>\n",
              "      <td>0.686</td>\n",
              "      <td>0.749</td>\n",
              "      <td>0.812</td>\n",
              "      <td>0.867</td>\n",
              "      <td>0.919</td>\n",
              "      <td>0.970</td>\n",
              "      <td>0.989</td>\n",
              "      <td>0.994</td>\n",
              "      <td>0.997</td>\n",
              "      <td>0.998</td>\n",
              "      <td>1.000</td>\n",
              "    </tr>\n",
              "  </tbody>\n",
              "</table>\n",
              "</div>\n",
              "      <button class=\"colab-df-convert\" onclick=\"convertToInteractive('df-eeb87e9f-41d6-4594-8329-16c7a2f9ef4c')\"\n",
              "              title=\"Convert this dataframe to an interactive table.\"\n",
              "              style=\"display:none;\">\n",
              "        \n",
              "  <svg xmlns=\"http://www.w3.org/2000/svg\" height=\"24px\"viewBox=\"0 0 24 24\"\n",
              "       width=\"24px\">\n",
              "    <path d=\"M0 0h24v24H0V0z\" fill=\"none\"/>\n",
              "    <path d=\"M18.56 5.44l.94 2.06.94-2.06 2.06-.94-2.06-.94-.94-2.06-.94 2.06-2.06.94zm-11 1L8.5 8.5l.94-2.06 2.06-.94-2.06-.94L8.5 2.5l-.94 2.06-2.06.94zm10 10l.94 2.06.94-2.06 2.06-.94-2.06-.94-.94-2.06-.94 2.06-2.06.94z\"/><path d=\"M17.41 7.96l-1.37-1.37c-.4-.4-.92-.59-1.43-.59-.52 0-1.04.2-1.43.59L10.3 9.45l-7.72 7.72c-.78.78-.78 2.05 0 2.83L4 21.41c.39.39.9.59 1.41.59.51 0 1.02-.2 1.41-.59l7.78-7.78 2.81-2.81c.8-.78.8-2.07 0-2.86zM5.41 20L4 18.59l7.72-7.72 1.47 1.35L5.41 20z\"/>\n",
              "  </svg>\n",
              "      </button>\n",
              "      \n",
              "  <style>\n",
              "    .colab-df-container {\n",
              "      display:flex;\n",
              "      flex-wrap:wrap;\n",
              "      gap: 12px;\n",
              "    }\n",
              "\n",
              "    .colab-df-convert {\n",
              "      background-color: #E8F0FE;\n",
              "      border: none;\n",
              "      border-radius: 50%;\n",
              "      cursor: pointer;\n",
              "      display: none;\n",
              "      fill: #1967D2;\n",
              "      height: 32px;\n",
              "      padding: 0 0 0 0;\n",
              "      width: 32px;\n",
              "    }\n",
              "\n",
              "    .colab-df-convert:hover {\n",
              "      background-color: #E2EBFA;\n",
              "      box-shadow: 0px 1px 2px rgba(60, 64, 67, 0.3), 0px 1px 3px 1px rgba(60, 64, 67, 0.15);\n",
              "      fill: #174EA6;\n",
              "    }\n",
              "\n",
              "    [theme=dark] .colab-df-convert {\n",
              "      background-color: #3B4455;\n",
              "      fill: #D2E3FC;\n",
              "    }\n",
              "\n",
              "    [theme=dark] .colab-df-convert:hover {\n",
              "      background-color: #434B5C;\n",
              "      box-shadow: 0px 1px 3px 1px rgba(0, 0, 0, 0.15);\n",
              "      filter: drop-shadow(0px 1px 2px rgba(0, 0, 0, 0.3));\n",
              "      fill: #FFFFFF;\n",
              "    }\n",
              "  </style>\n",
              "\n",
              "      <script>\n",
              "        const buttonEl =\n",
              "          document.querySelector('#df-eeb87e9f-41d6-4594-8329-16c7a2f9ef4c button.colab-df-convert');\n",
              "        buttonEl.style.display =\n",
              "          google.colab.kernel.accessAllowed ? 'block' : 'none';\n",
              "\n",
              "        async function convertToInteractive(key) {\n",
              "          const element = document.querySelector('#df-eeb87e9f-41d6-4594-8329-16c7a2f9ef4c');\n",
              "          const dataTable =\n",
              "            await google.colab.kernel.invokeFunction('convertToInteractive',\n",
              "                                                     [key], {});\n",
              "          if (!dataTable) return;\n",
              "\n",
              "          const docLinkHtml = 'Like what you see? Visit the ' +\n",
              "            '<a target=\"_blank\" href=https://colab.research.google.com/notebooks/data_table.ipynb>data table notebook</a>'\n",
              "            + ' to learn more about interactive tables.';\n",
              "          element.innerHTML = '';\n",
              "          dataTable['output_type'] = 'display_data';\n",
              "          await google.colab.output.renderOutput(dataTable, element);\n",
              "          const docLink = document.createElement('div');\n",
              "          docLink.innerHTML = docLinkHtml;\n",
              "          element.appendChild(docLink);\n",
              "        }\n",
              "      </script>\n",
              "    </div>\n",
              "  </div>\n",
              "  "
            ]
          },
          "metadata": {},
          "execution_count": 68
        }
      ]
    },
    {
      "cell_type": "code",
      "source": [
        "#Generar arreglo con componentes \"x\" para graficar Scree\n",
        "pc_components= np.arange(pcs.n_components_)+1\n",
        "pc_components\n"
      ],
      "metadata": {
        "colab": {
          "base_uri": "https://localhost:8080/"
        },
        "id": "85MXR4cxl3ir",
        "outputId": "58d646fe-ff3f-4f66-ac0f-d9ea98782d1a"
      },
      "execution_count": null,
      "outputs": [
        {
          "output_type": "execute_result",
          "data": {
            "text/plain": [
              "array([ 1,  2,  3,  4,  5,  6,  7,  8,  9, 10, 11, 12, 13, 14])"
            ]
          },
          "metadata": {},
          "execution_count": 37
        }
      ]
    },
    {
      "cell_type": "code",
      "source": [
        "#Generar valores de salida \"y\" para graficar Scree\n",
        "cumsum= np.cumsum(pcs.explained_variance_ratio_)\n",
        "var_ratio=pcs.explained_variance_ratio_"
      ],
      "metadata": {
        "id": "syN3XS8wl9qt"
      },
      "execution_count": null,
      "outputs": []
    },
    {
      "cell_type": "code",
      "source": [
        "#Operación para generar gráfica Scree\n",
        "scree=sns.set(style='whitegrid',font_scale=1.2)\n",
        "fig,ax= plt.subplots(figsize=(16,7))\n",
        "scre=e=sns.barplot(x=pc_components,\n",
        "                   y=var_ratio,\n",
        "                   color='b'\n",
        "                   )\n",
        "scree=sns.lineplot(x=pc_components-1,\n",
        "                    y=cumsum,\n",
        "                    color='black',\n",
        "                    linestyle='-',\n",
        "                    linewidth=2,\n",
        "                    marker='o',\n",
        "                    markersize=8\n",
        "    \n",
        ")\n",
        "\n",
        "plt.title('Scree Plot')\n",
        "plt.xlabel('N-th Principal Component')\n",
        "plt.ylabel('Variance Explained')\n",
        "plt.ylim(0, 1)\n",
        "plt.show()"
      ],
      "metadata": {
        "colab": {
          "base_uri": "https://localhost:8080/",
          "height": 469
        },
        "id": "8L032HkRmFQi",
        "outputId": "2c881cb6-5c18-4016-91d8-22dca4676198"
      },
      "execution_count": null,
      "outputs": [
        {
          "output_type": "display_data",
          "data": {
            "text/plain": [
              "<Figure size 1152x504 with 1 Axes>"
            ],
            "image/png": "[encoded data removed]"
          },
          "metadata": {}
        }
      ]
    },
    {
      "cell_type": "code",
      "source": [
        "#Valor de proporción de varianza acumulada entre PC1 a PC9\n",
        "pcsSummary.iloc[2,8]*100"
      ],
      "metadata": {
        "colab": {
          "base_uri": "https://localhost:8080/"
        },
        "id": "NOu4QhbYpNQo",
        "outputId": "c1f3cf87-04d7-4236-af41-e23ebdffb99e"
      },
      "execution_count": null,
      "outputs": [
        {
          "output_type": "execute_result",
          "data": {
            "text/plain": [
              "97.0"
            ]
          },
          "metadata": {},
          "execution_count": 41
        }
      ]
    },
    {
      "cell_type": "code",
      "source": [
        "#Generar dataframe resultado de la reducción con PCA que captura el 97% de la variación \n",
        "pcs_comp_df=pd.DataFrame(pcs.components_.transpose(),\n",
        "                       columns=pcsSummary.columns,\n",
        "                       index=df.columns\n",
        ")\n",
        "PCA_red_res=pcs_comp_df.iloc[:,:9]\n"
      ],
      "metadata": {
        "colab": {
          "base_uri": "https://localhost:8080/",
          "height": 488
        },
        "id": "fHF0iCH6mHhD",
        "outputId": "0a60420d-6657-4343-ba6f-ebcc74d03559"
      },
      "execution_count": null,
      "outputs": [
        {
          "output_type": "execute_result",
          "data": {
            "text/plain": [
              "               PC1       PC2       PC3       PC4       PC5       PC6  \\\n",
              "Credit    0.165507  0.300709 -0.378575 -0.200103  0.035312 -0.078883   \n",
              "Age       0.032789  0.071906 -0.869471  0.338990 -0.039760  0.071461   \n",
              "BSSep_05  0.372446 -0.190793 -0.034207 -0.063899  0.041391 -0.043987   \n",
              "BSAug_05  0.383253 -0.174644 -0.001814  0.007629  0.083164 -0.028824   \n",
              "BSJul_05  0.388264 -0.126883  0.034747  0.060528  0.113790  0.099239   \n",
              "BSJun_05  0.391557 -0.120403  0.034073  0.074774  0.028378  0.014527   \n",
              "BSMay_05  0.388505 -0.105928  0.033882  0.039553 -0.106756 -0.099290   \n",
              "BSApr_05  0.380672 -0.094157  0.018489 -0.070616 -0.164986  0.069272   \n",
              "PPSep_05  0.135120  0.383194  0.173845  0.362055  0.225652  0.040574   \n",
              "PPAug-05  0.116768  0.408391  0.200925  0.345745  0.148714  0.408361   \n",
              "PPJul-05  0.128056  0.392339  0.122065  0.244688 -0.239600 -0.108158   \n",
              "PPJun-05  0.116903  0.349613  0.062272 -0.094736 -0.577791 -0.500809   \n",
              "PPMay-05  0.113741  0.303923 -0.060900 -0.609833 -0.193395  0.602388   \n",
              "PPApr-05  0.105481  0.323529 -0.050896 -0.365692  0.659155 -0.409151   \n",
              "\n",
              "               PC7       PC8       PC9  \n",
              "Credit    0.111239 -0.046381 -0.821996  \n",
              "Age      -0.078816  0.027368  0.330346  \n",
              "BSSep_05  0.008169  0.009341  0.010348  \n",
              "BSAug_05 -0.032444 -0.135636  0.016872  \n",
              "BSJul_05 -0.121162  0.093077 -0.018607  \n",
              "BSJun_05  0.126494  0.039157  0.019109  \n",
              "BSMay_05 -0.007584  0.049781  0.023701  \n",
              "BSApr_05  0.007892 -0.000282  0.058701  \n",
              "PPSep_05 -0.201646 -0.748694  0.019949  \n",
              "PPAug-05 -0.278835  0.578491 -0.110712  \n",
              "PPJul-05  0.785216  0.068216  0.152990  \n",
              "PPJun-05 -0.462241  0.077764  0.098813  \n",
              "PPMay-05  0.014301 -0.164877  0.252920  \n",
              "PPApr-05  0.025459  0.181276  0.316686  "
            ],
            "text/html": [
              "\n",
              "  <div id=\"df-0d10724f-228a-4d0a-bbe0-5dbb20ced350\">\n",
              "    <div class=\"colab-df-container\">\n",
              "      <div>\n",
              "<style scoped>\n",
              "    .dataframe tbody tr th:only-of-type {\n",
              "        vertical-align: middle;\n",
              "    }\n",
              "\n",
              "    .dataframe tbody tr th {\n",
              "        vertical-align: top;\n",
              "    }\n",
              "\n",
              "    .dataframe thead th {\n",
              "        text-align: right;\n",
              "    }\n",
              "</style>\n",
              "<table border=\"1\" class=\"dataframe\">\n",
              "  <thead>\n",
              "    <tr style=\"text-align: right;\">\n",
              "      <th></th>\n",
              "      <th>PC1</th>\n",
              "      <th>PC2</th>\n",
              "      <th>PC3</th>\n",
              "      <th>PC4</th>\n",
              "      <th>PC5</th>\n",
              "      <th>PC6</th>\n",
              "      <th>PC7</th>\n",
              "      <th>PC8</th>\n",
              "      <th>PC9</th>\n",
              "    </tr>\n",
              "  </thead>\n",
              "  <tbody>\n",
              "    <tr>\n",
              "      <th>Credit</th>\n",
              "      <td>0.165507</td>\n",
              "      <td>0.300709</td>\n",
              "      <td>-0.378575</td>\n",
              "      <td>-0.200103</td>\n",
              "      <td>0.035312</td>\n",
              "      <td>-0.078883</td>\n",
              "      <td>0.111239</td>\n",
              "      <td>-0.046381</td>\n",
              "      <td>-0.821996</td>\n",
              "    </tr>\n",
              "    <tr>\n",
              "      <th>Age</th>\n",
              "      <td>0.032789</td>\n",
              "      <td>0.071906</td>\n",
              "      <td>-0.869471</td>\n",
              "      <td>0.338990</td>\n",
              "      <td>-0.039760</td>\n",
              "      <td>0.071461</td>\n",
              "      <td>-0.078816</td>\n",
              "      <td>0.027368</td>\n",
              "      <td>0.330346</td>\n",
              "    </tr>\n",
              "    <tr>\n",
              "      <th>BSSep_05</th>\n",
              "      <td>0.372446</td>\n",
              "      <td>-0.190793</td>\n",
              "      <td>-0.034207</td>\n",
              "      <td>-0.063899</td>\n",
              "      <td>0.041391</td>\n",
              "      <td>-0.043987</td>\n",
              "      <td>0.008169</td>\n",
              "      <td>0.009341</td>\n",
              "      <td>0.010348</td>\n",
              "    </tr>\n",
              "    <tr>\n",
              "      <th>BSAug_05</th>\n",
              "      <td>0.383253</td>\n",
              "      <td>-0.174644</td>\n",
              "      <td>-0.001814</td>\n",
              "      <td>0.007629</td>\n",
              "      <td>0.083164</td>\n",
              "      <td>-0.028824</td>\n",
              "      <td>-0.032444</td>\n",
              "      <td>-0.135636</td>\n",
              "      <td>0.016872</td>\n",
              "    </tr>\n",
              "    <tr>\n",
              "      <th>BSJul_05</th>\n",
              "      <td>0.388264</td>\n",
              "      <td>-0.126883</td>\n",
              "      <td>0.034747</td>\n",
              "      <td>0.060528</td>\n",
              "      <td>0.113790</td>\n",
              "      <td>0.099239</td>\n",
              "      <td>-0.121162</td>\n",
              "      <td>0.093077</td>\n",
              "      <td>-0.018607</td>\n",
              "    </tr>\n",
              "    <tr>\n",
              "      <th>BSJun_05</th>\n",
              "      <td>0.391557</td>\n",
              "      <td>-0.120403</td>\n",
              "      <td>0.034073</td>\n",
              "      <td>0.074774</td>\n",
              "      <td>0.028378</td>\n",
              "      <td>0.014527</td>\n",
              "      <td>0.126494</td>\n",
              "      <td>0.039157</td>\n",
              "      <td>0.019109</td>\n",
              "    </tr>\n",
              "    <tr>\n",
              "      <th>BSMay_05</th>\n",
              "      <td>0.388505</td>\n",
              "      <td>-0.105928</td>\n",
              "      <td>0.033882</td>\n",
              "      <td>0.039553</td>\n",
              "      <td>-0.106756</td>\n",
              "      <td>-0.099290</td>\n",
              "      <td>-0.007584</td>\n",
              "      <td>0.049781</td>\n",
              "      <td>0.023701</td>\n",
              "    </tr>\n",
              "    <tr>\n",
              "      <th>BSApr_05</th>\n",
              "      <td>0.380672</td>\n",
              "      <td>-0.094157</td>\n",
              "      <td>0.018489</td>\n",
              "      <td>-0.070616</td>\n",
              "      <td>-0.164986</td>\n",
              "      <td>0.069272</td>\n",
              "      <td>0.007892</td>\n",
              "      <td>-0.000282</td>\n",
              "      <td>0.058701</td>\n",
              "    </tr>\n",
              "    <tr>\n",
              "      <th>PPSep_05</th>\n",
              "      <td>0.135120</td>\n",
              "      <td>0.383194</td>\n",
              "      <td>0.173845</td>\n",
              "      <td>0.362055</td>\n",
              "      <td>0.225652</td>\n",
              "      <td>0.040574</td>\n",
              "      <td>-0.201646</td>\n",
              "      <td>-0.748694</td>\n",
              "      <td>0.019949</td>\n",
              "    </tr>\n",
              "    <tr>\n",
              "      <th>PPAug-05</th>\n",
              "      <td>0.116768</td>\n",
              "      <td>0.408391</td>\n",
              "      <td>0.200925</td>\n",
              "      <td>0.345745</td>\n",
              "      <td>0.148714</td>\n",
              "      <td>0.408361</td>\n",
              "      <td>-0.278835</td>\n",
              "      <td>0.578491</td>\n",
              "      <td>-0.110712</td>\n",
              "    </tr>\n",
              "    <tr>\n",
              "      <th>PPJul-05</th>\n",
              "      <td>0.128056</td>\n",
              "      <td>0.392339</td>\n",
              "      <td>0.122065</td>\n",
              "      <td>0.244688</td>\n",
              "      <td>-0.239600</td>\n",
              "      <td>-0.108158</td>\n",
              "      <td>0.785216</td>\n",
              "      <td>0.068216</td>\n",
              "      <td>0.152990</td>\n",
              "    </tr>\n",
              "    <tr>\n",
              "      <th>PPJun-05</th>\n",
              "      <td>0.116903</td>\n",
              "      <td>0.349613</td>\n",
              "      <td>0.062272</td>\n",
              "      <td>-0.094736</td>\n",
              "      <td>-0.577791</td>\n",
              "      <td>-0.500809</td>\n",
              "      <td>-0.462241</td>\n",
              "      <td>0.077764</td>\n",
              "      <td>0.098813</td>\n",
              "    </tr>\n",
              "    <tr>\n",
              "      <th>PPMay-05</th>\n",
              "      <td>0.113741</td>\n",
              "      <td>0.303923</td>\n",
              "      <td>-0.060900</td>\n",
              "      <td>-0.609833</td>\n",
              "      <td>-0.193395</td>\n",
              "      <td>0.602388</td>\n",
              "      <td>0.014301</td>\n",
              "      <td>-0.164877</td>\n",
              "      <td>0.252920</td>\n",
              "    </tr>\n",
              "    <tr>\n",
              "      <th>PPApr-05</th>\n",
              "      <td>0.105481</td>\n",
              "      <td>0.323529</td>\n",
              "      <td>-0.050896</td>\n",
              "      <td>-0.365692</td>\n",
              "      <td>0.659155</td>\n",
              "      <td>-0.409151</td>\n",
              "      <td>0.025459</td>\n",
              "      <td>0.181276</td>\n",
              "      <td>0.316686</td>\n",
              "    </tr>\n",
              "  </tbody>\n",
              "</table>\n",
              "</div>\n",
              "      <button class=\"colab-df-convert\" onclick=\"convertToInteractive('df-0d10724f-228a-4d0a-bbe0-5dbb20ced350')\"\n",
              "              title=\"Convert this dataframe to an interactive table.\"\n",
              "              style=\"display:none;\">\n",
              "        \n",
              "  <svg xmlns=\"http://www.w3.org/2000/svg\" height=\"24px\"viewBox=\"0 0 24 24\"\n",
              "       width=\"24px\">\n",
              "    <path d=\"M0 0h24v24H0V0z\" fill=\"none\"/>\n",
              "    <path d=\"M18.56 5.44l.94 2.06.94-2.06 2.06-.94-2.06-.94-.94-2.06-.94 2.06-2.06.94zm-11 1L8.5 8.5l.94-2.06 2.06-.94-2.06-.94L8.5 2.5l-.94 2.06-2.06.94zm10 10l.94 2.06.94-2.06 2.06-.94-2.06-.94-.94-2.06-.94 2.06-2.06.94z\"/><path d=\"M17.41 7.96l-1.37-1.37c-.4-.4-.92-.59-1.43-.59-.52 0-1.04.2-1.43.59L10.3 9.45l-7.72 7.72c-.78.78-.78 2.05 0 2.83L4 21.41c.39.39.9.59 1.41.59.51 0 1.02-.2 1.41-.59l7.78-7.78 2.81-2.81c.8-.78.8-2.07 0-2.86zM5.41 20L4 18.59l7.72-7.72 1.47 1.35L5.41 20z\"/>\n",
              "  </svg>\n",
              "      </button>\n",
              "      \n",
              "  <style>\n",
              "    .colab-df-container {\n",
              "      display:flex;\n",
              "      flex-wrap:wrap;\n",
              "      gap: 12px;\n",
              "    }\n",
              "\n",
              "    .colab-df-convert {\n",
              "      background-color: #E8F0FE;\n",
              "      border: none;\n",
              "      border-radius: 50%;\n",
              "      cursor: pointer;\n",
              "      display: none;\n",
              "      fill: #1967D2;\n",
              "      height: 32px;\n",
              "      padding: 0 0 0 0;\n",
              "      width: 32px;\n",
              "    }\n",
              "\n",
              "    .colab-df-convert:hover {\n",
              "      background-color: #E2EBFA;\n",
              "      box-shadow: 0px 1px 2px rgba(60, 64, 67, 0.3), 0px 1px 3px 1px rgba(60, 64, 67, 0.15);\n",
              "      fill: #174EA6;\n",
              "    }\n",
              "\n",
              "    [theme=dark] .colab-df-convert {\n",
              "      background-color: #3B4455;\n",
              "      fill: #D2E3FC;\n",
              "    }\n",
              "\n",
              "    [theme=dark] .colab-df-convert:hover {\n",
              "      background-color: #434B5C;\n",
              "      box-shadow: 0px 1px 3px 1px rgba(0, 0, 0, 0.15);\n",
              "      filter: drop-shadow(0px 1px 2px rgba(0, 0, 0, 0.3));\n",
              "      fill: #FFFFFF;\n",
              "    }\n",
              "  </style>\n",
              "\n",
              "      <script>\n",
              "        const buttonEl =\n",
              "          document.querySelector('#df-0d10724f-228a-4d0a-bbe0-5dbb20ced350 button.colab-df-convert');\n",
              "        buttonEl.style.display =\n",
              "          google.colab.kernel.accessAllowed ? 'block' : 'none';\n",
              "\n",
              "        async function convertToInteractive(key) {\n",
              "          const element = document.querySelector('#df-0d10724f-228a-4d0a-bbe0-5dbb20ced350');\n",
              "          const dataTable =\n",
              "            await google.colab.kernel.invokeFunction('convertToInteractive',\n",
              "                                                     [key], {});\n",
              "          if (!dataTable) return;\n",
              "\n",
              "          const docLinkHtml = 'Like what you see? Visit the ' +\n",
              "            '<a target=\"_blank\" href=https://colab.research.google.com/notebooks/data_table.ipynb>data table notebook</a>'\n",
              "            + ' to learn more about interactive tables.';\n",
              "          element.innerHTML = '';\n",
              "          dataTable['output_type'] = 'display_data';\n",
              "          await google.colab.output.renderOutput(dataTable, element);\n",
              "          const docLink = document.createElement('div');\n",
              "          docLink.innerHTML = docLinkHtml;\n",
              "          element.appendChild(docLink);\n",
              "        }\n",
              "      </script>\n",
              "    </div>\n",
              "  </div>\n",
              "  "
            ]
          },
          "metadata": {},
          "execution_count": 43
        }
      ]
    },
    {
      "cell_type": "markdown",
      "source": [
        "# PASO 2: Interprete cada componente principal en términos de las variables originales\n",
        "\n",
        "\n",
        "\n"
      ],
      "metadata": {
        "id": "aAnPtXigDgDZ"
      }
    },
    {
      "cell_type": "code",
      "source": [
        "PCA_red_res.PC1.nlargest(3)"
      ],
      "metadata": {
        "colab": {
          "base_uri": "https://localhost:8080/"
        },
        "id": "X-_BAjXysDlY",
        "outputId": "db2d5a04-76ed-4e3d-db9f-acdadb683585"
      },
      "execution_count": 70,
      "outputs": [
        {
          "output_type": "execute_result",
          "data": {
            "text/plain": [
              "BSJun_05    0.391557\n",
              "BSMay_05    0.388505\n",
              "BSJul_05    0.388264\n",
              "Name: PC1, dtype: float64"
            ]
          },
          "metadata": {},
          "execution_count": 70
        }
      ]
    },
    {
      "cell_type": "markdown",
      "source": [
        "**Para PC1 el saldo de corte de Mayo Junio y Julio (BS- bill statement) son las variables reales de mayor contribución.**"
      ],
      "metadata": {
        "id": "vfnD5mUCe4LP"
      }
    },
    {
      "cell_type": "code",
      "source": [
        "PCA_red_res.PC2.nlargest(3)"
      ],
      "metadata": {
        "colab": {
          "base_uri": "https://localhost:8080/"
        },
        "id": "WqwOb9yHeJVS",
        "outputId": "61c546a7-a802-469c-a9b0-b20b7771608f"
      },
      "execution_count": 72,
      "outputs": [
        {
          "output_type": "execute_result",
          "data": {
            "text/plain": [
              "PPAug-05    0.408391\n",
              "PPJul-05    0.392339\n",
              "PPSep_05    0.383194\n",
              "Name: PC2, dtype: float64"
            ]
          },
          "metadata": {},
          "execution_count": 72
        }
      ]
    },
    {
      "cell_type": "markdown",
      "source": [
        "**Para PC2 el historial de pagos de Julio, Agosto, Septiembre (PP- previous payment) son las variables reales de mayor contribución.**"
      ],
      "metadata": {
        "id": "ERKip0-DgBCw"
      }
    },
    {
      "cell_type": "code",
      "source": [
        "PCA_red_res.PC3.nlargest(3)"
      ],
      "metadata": {
        "colab": {
          "base_uri": "https://localhost:8080/"
        },
        "id": "Oi0-Ee-peJTE",
        "outputId": "fcee29a4-ae7d-4af5-f908-5435bb8113c1"
      },
      "execution_count": 73,
      "outputs": [
        {
          "output_type": "execute_result",
          "data": {
            "text/plain": [
              "PPAug-05    0.200925\n",
              "PPSep_05    0.173845\n",
              "PPJul-05    0.122065\n",
              "Name: PC3, dtype: float64"
            ]
          },
          "metadata": {},
          "execution_count": 73
        }
      ]
    },
    {
      "cell_type": "markdown",
      "source": [
        "**Para PC3 el saldo de corte de Mayo Junio y Julio (BS- bill statement) son las variables realeas con mayor contribución.**"
      ],
      "metadata": {
        "id": "komvlhnrgk3z"
      }
    },
    {
      "cell_type": "markdown",
      "source": [],
      "metadata": {
        "id": "4osMYcqpgk2g"
      }
    },
    {
      "cell_type": "code",
      "source": [
        "PCA_red_res.PC4.nlargest(3)"
      ],
      "metadata": {
        "colab": {
          "base_uri": "https://localhost:8080/"
        },
        "id": "cjkIS9AUeJQp",
        "outputId": "0fdb9a0e-14cb-4691-e4b5-7a65562fff13"
      },
      "execution_count": 74,
      "outputs": [
        {
          "output_type": "execute_result",
          "data": {
            "text/plain": [
              "PPSep_05    0.362055\n",
              "PPAug-05    0.345745\n",
              "Age         0.338990\n",
              "Name: PC4, dtype: float64"
            ]
          },
          "metadata": {},
          "execution_count": 74
        }
      ]
    },
    {
      "cell_type": "markdown",
      "source": [
        "**Para PC4 el historial de pagos de Agosto, Septiembre y la edad  son las variables realeas con mayor contribución.**"
      ],
      "metadata": {
        "id": "R1TYome8gtV0"
      }
    },
    {
      "cell_type": "code",
      "source": [
        "PCA_red_res.PC5.nlargest(3)"
      ],
      "metadata": {
        "colab": {
          "base_uri": "https://localhost:8080/"
        },
        "id": "aDuLGh7neJOi",
        "outputId": "14959689-8fd2-4c5e-c3dc-ff9d719ba544"
      },
      "execution_count": 75,
      "outputs": [
        {
          "output_type": "execute_result",
          "data": {
            "text/plain": [
              "PPApr-05    0.659155\n",
              "PPSep_05    0.225652\n",
              "PPAug-05    0.148714\n",
              "Name: PC5, dtype: float64"
            ]
          },
          "metadata": {},
          "execution_count": 75
        }
      ]
    },
    {
      "cell_type": "markdown",
      "source": [
        "**Para PC5 el historial de pagos de Abril, Agosto y Septiembre son las variables realeas con mayor contribución.**"
      ],
      "metadata": {
        "id": "rTitbvUfhIok"
      }
    },
    {
      "cell_type": "code",
      "source": [
        "PCA_red_res.PC6.nlargest(3)"
      ],
      "metadata": {
        "colab": {
          "base_uri": "https://localhost:8080/"
        },
        "id": "lEuITt3ueJMS",
        "outputId": "e8f616d1-7a2b-4fc4-c5ec-56b87adca671"
      },
      "execution_count": 76,
      "outputs": [
        {
          "output_type": "execute_result",
          "data": {
            "text/plain": [
              "PPMay-05    0.602388\n",
              "PPAug-05    0.408361\n",
              "BSJul_05    0.099239\n",
              "Name: PC6, dtype: float64"
            ]
          },
          "metadata": {},
          "execution_count": 76
        }
      ]
    },
    {
      "cell_type": "markdown",
      "source": [
        "**Para PC6 el historial de pagos de Mayo, Agosto y  el saldo de corte de Julio son las variables realeas con mayor contribución.**"
      ],
      "metadata": {
        "id": "8UhT5vVahK5k"
      }
    },
    {
      "cell_type": "code",
      "source": [
        "PCA_red_res.PC7.nlargest(3)"
      ],
      "metadata": {
        "colab": {
          "base_uri": "https://localhost:8080/"
        },
        "id": "3S2jjPlveJJx",
        "outputId": "e6ae5b97-fa5c-474c-e96e-c19f7fa96725"
      },
      "execution_count": 77,
      "outputs": [
        {
          "output_type": "execute_result",
          "data": {
            "text/plain": [
              "PPJul-05    0.785216\n",
              "BSJun_05    0.126494\n",
              "Credit      0.111239\n",
              "Name: PC7, dtype: float64"
            ]
          },
          "metadata": {},
          "execution_count": 77
        }
      ]
    },
    {
      "cell_type": "markdown",
      "source": [
        "**Para PC7 el pago de Julio, el saldo de corte de Junio y la cantidad de crédito otorgado son las variables reales con mayor contribución**"
      ],
      "metadata": {
        "id": "BbRp3wbnhZce"
      }
    },
    {
      "cell_type": "code",
      "source": [
        "PCA_red_res.PC8.nlargest(3)"
      ],
      "metadata": {
        "colab": {
          "base_uri": "https://localhost:8080/"
        },
        "id": "D8G9c5RVeJHJ",
        "outputId": "701d8b90-f4f7-42f9-b136-236948114683"
      },
      "execution_count": 80,
      "outputs": [
        {
          "output_type": "execute_result",
          "data": {
            "text/plain": [
              "PPAug-05    0.578491\n",
              "PPApr-05    0.181276\n",
              "BSJul_05    0.093077\n",
              "Name: PC8, dtype: float64"
            ]
          },
          "metadata": {},
          "execution_count": 80
        }
      ]
    },
    {
      "cell_type": "markdown",
      "source": [
        "**Para PC8 el historial de pagos de Abril, Agosto y el saldo de corte de Julio son las variables reales de mayor contribución.**"
      ],
      "metadata": {
        "id": "oECuZuLehoFl"
      }
    },
    {
      "cell_type": "code",
      "source": [
        "PCA_red_res.PC9.nlargest(3)"
      ],
      "metadata": {
        "colab": {
          "base_uri": "https://localhost:8080/"
        },
        "id": "s6PEobhheI3p",
        "outputId": "3a86fcdf-4275-419a-b956-1d5e57282574"
      },
      "execution_count": 79,
      "outputs": [
        {
          "output_type": "execute_result",
          "data": {
            "text/plain": [
              "Age         0.330346\n",
              "PPApr-05    0.316686\n",
              "PPMay-05    0.252920\n",
              "Name: PC9, dtype: float64"
            ]
          },
          "metadata": {},
          "execution_count": 79
        }
      ]
    },
    {
      "cell_type": "markdown",
      "source": [
        "**Para PC9 la edad y el historial de pagos de Abril y Mayo son las variables reales de mayor contribución.**"
      ],
      "metadata": {
        "id": "eo8dzKfth1eU"
      }
    },
    {
      "cell_type": "markdown",
      "source": [
        "**Del análisis anterior se puede determinar que si usara este data set para construir un modelo de predicciones las variables que más contribuyen están relacionadas con el saldo de corte y el historial de pagos de meses consecutivos**"
      ],
      "metadata": {
        "id": "u416KWS1iAxn"
      }
    },
    {
      "cell_type": "markdown",
      "source": [
        "# PASO 3: Identifique valores atípicos"
      ],
      "metadata": {
        "id": "yQiBFwl-GEnT"
      }
    },
    {
      "cell_type": "code",
      "source": [
        "sns.set(rc={'figure.figsize':(11,20)})\n",
        "sns.boxplot(data=df)\n",
        "plt.xticks(rotation=90)\n",
        "plt.show()"
      ],
      "metadata": {
        "colab": {
          "base_uri": "https://localhost:8080/",
          "height": 1000
        },
        "id": "7wj4O9jLoLar",
        "outputId": "d7e90d61-e640-4864-a0a1-0850ceecc93f"
      },
      "execution_count": 67,
      "outputs": [
        {
          "output_type": "display_data",
          "data": {
            "text/plain": [
              "<Figure size 792x1440 with 1 Axes>"
            ],
            "image/png": "[encoded data removed]"
          },
          "metadata": {}
        }
      ]
    },
    {
      "cell_type": "markdown",
      "source": [
        "**NOTA SOBRE EL BOXPLOT: En este caso el Boxplot no ayuda a determinar de manera eficaz e intuitiva cuales son los valores átipicos dentro del data set. Como se puede observar hay demasiados valores fuera de los límites superiores. Lo indicado sería tener una variable de \"salida\" de tipo numérico con la cual hacer comparativo usando las variables que muestran mayor correlación. ***"
      ],
      "metadata": {
        "id": "vtbQ3epjG0VN"
      }
    },
    {
      "cell_type": "markdown",
      "source": [
        "\n",
        "1. ¿Cuál es el número de componentes mínimo y por qué?\n",
        "\n",
        "**R. Como se puede apreciar en el gráfico Scree PC1,PC2 y PC3 tienen la mayor contribución de ahí en aldelante de PC4 a PC9 la propoción de cada uno esta entre 0.06 y 0.05 por lo que también deben ser tomadas en cuenta. A partir de PC10 la proporción se reduce a menos de 0.02. Si elegimos la componentes de PC1 a PC9 estamos tomando en cuenta el 97% de la contribución, lo cual lo hace los suficientemente extensivo para trabajar con un buen modelo.  ***\n",
        "\n",
        "\n",
        "2. ¿Cuál es la variación de los datos que representan esos componentes?\n",
        "\n",
        "**R. De acuerdo al cálculo de PCA la variación atribuida a las componentes PC1 a PC9 es del 97%. ***\n",
        "\n",
        "3. ¿Cuál es la pérdida de información después de realizar PCA?\n",
        "\n",
        "**R. Al reducir el numero de dimensiones de un total de 14 componentes numéricas a 9 componentes, solo tenemos una pérdida de información del 3%.***\n",
        "\n",
        "4. De las variables originales, ¿Cuál tiene mayor y cuál tiene menor importancia en los componentes principales?\n",
        "\n",
        "**R. Las variables originales relacionadas con saldo de corte ( que etiquetamos como \"BS\") y las variables originales relacionadas con pagos anteriores/historial de pagos (que etiquetamos coomo \"PS\"). ***\n",
        "\n",
        "5. ¿Cuándo se recomienda realizar un PCA y qué beneficios ofrece para Machine Learning?\n",
        "\n",
        "**R. PCA se recomienda cuando la mayoría de las variables dentro de un set de datos son numéricas y es una herramienta eficaz para identificar las variables que tienen mayor contribución y eliminar las que tengan baja contribución que al final se traduce en un modelo más sencillo de procesar con Machine Learning ***"
      ],
      "metadata": {
        "id": "RY2bvPTqG0Tb"
      }
    }
  ]
}