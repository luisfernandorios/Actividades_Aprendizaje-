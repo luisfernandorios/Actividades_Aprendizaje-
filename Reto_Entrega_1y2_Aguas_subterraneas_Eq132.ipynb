{
  "nbformat": 4,
  "nbformat_minor": 0,
  "metadata": {
    "colab": {
      "provenance": [],
      "mount_file_id": "1l7AqBkj3Jzb_qpSYUQBcGcVwqwIFip_6",
      "authorship_tag": "ABX9TyPs/RVni4l3aG8ktoB86D8o",
      "include_colab_link": true
    },
    "kernelspec": {
      "name": "python3",
      "display_name": "Python 3"
    },
    "language_info": {
      "name": "python"
    }
  },
  "cells": [
    {
      "cell_type": "markdown",
      "metadata": {
        "id": "view-in-github",
        "colab_type": "text"
      },
      "source": [
        "<a href=\"https://colab.research.google.com/github/luisfernandorios/Actividades_Aprendizaje-/blob/main/Reto_Entrega_1y2_Aguas_subterraneas_Eq132.ipynb\" target=\"_parent\"><img src=\"https://colab.research.google.com/assets/colab-badge.svg\" alt=\"Open In Colab\"/></a>"
      ]
    },
    {
      "cell_type": "markdown",
      "source": [
        "#**Maestría en Inteligencia Artificial Aplicada**\n",
        "##**Curso: Ciencia y analítica de datos (Gpo 10)**\n",
        "###Tecnológico de Monterrey\n",
        "###Prof titular: Dra. María de la Paz Rico Fernández \n",
        "###Prof tutor: Julio César Galindo López    \n",
        "\n",
        "###Alumno: Luis Fernando Rios Piedra A00453954\n",
        "### **Entrega 1 - Reto BdD Aguas Subterraneas**\n",
        "###16 Nov 2022"
      ],
      "metadata": {
        "id": "6EoPgXXOClCz"
      }
    },
    {
      "cell_type": "code",
      "execution_count": 391,
      "metadata": {
        "id": "1hxpBJ4qgghe"
      },
      "outputs": [],
      "source": [
        "import pandas as pd\n",
        "import numpy as np\n",
        "import seaborn as sns\n",
        "import matplotlib.pyplot as plt\n",
        "\n",
        "import requests, zipfile\n",
        "from io import BytesIO"
      ]
    },
    {
      "cell_type": "code",
      "source": [
        "from google.colab import drive\n",
        "drive.mount('/content/drive')"
      ],
      "metadata": {
        "colab": {
          "base_uri": "https://localhost:8080/"
        },
        "id": "QXiJId3VQrPS",
        "outputId": "b82f6997-b4de-4a7c-fcbc-e1fa5c31f617"
      },
      "execution_count": 392,
      "outputs": [
        {
          "output_type": "stream",
          "name": "stdout",
          "text": [
            "Drive already mounted at /content/drive; to attempt to forcibly remount, call drive.mount(\"/content/drive\", force_remount=True).\n"
          ]
        }
      ]
    },
    {
      "cell_type": "code",
      "source": [
        "#Lectura de la base de datos desde el sitio fuente\n",
        "path = '/content/drive/MyDrive/Cydd/Datos_de_calidad_del_agua_de_sitios_de_monitoreo_de_aguas_subterraneas_2020.csv'\n",
        "\n",
        "df = pd.read_csv(path, encoding = \"ISO-8859-1\")\n",
        "\n",
        "df.tail()"
      ],
      "metadata": {
        "colab": {
          "base_uri": "https://localhost:8080/",
          "height": 508
        },
        "id": "TwkTt9jKSSK3",
        "outputId": "151a36b4-1c58-47f5-8e2a-f787662d3970"
      },
      "execution_count": 393,
      "outputs": [
        {
          "output_type": "execute_result",
          "data": {
            "text/plain": [
              "            CLAVE                                     SITIO  \\\n",
              "1063  OCRBR5101M1              L-310 (COMUNIDAD SAN MANUEL)   \n",
              "1064  OCRBR5102M1  L-305 (EJIDO OJO DE AGUA LAS CRUCESITAS)   \n",
              "1065  OCRBR5105M2                HACIENDA MEXIQUITO POZO 01   \n",
              "1066  OCRBR5106M1                     COMUNIDAD LOS POCITOS   \n",
              "1067  OCRBR5109M1                      COMUNIDAD LA REFORMA   \n",
              "\n",
              "     ORGANISMO_DE_CUENCA      ESTADO          MUNICIPIO  \\\n",
              "1063           RIO BRAVO  NUEVO LEON            LINARES   \n",
              "1064           RIO BRAVO  NUEVO LEON            LINARES   \n",
              "1065           RIO BRAVO  NUEVO LEON  CADEREYTA JIMENEZ   \n",
              "1066           RIO BRAVO  NUEVO LEON            GALEANA   \n",
              "1067           RIO BRAVO  NUEVO LEON            GALEANA   \n",
              "\n",
              "                   ACUIFERO SUBTIPO   LONGITUD   LATITUD  PERIODO  ...  \\\n",
              "1063          CITRICOLA SUR    POZO  -99.54191  24.76036     2020  ...   \n",
              "1064          CITRICOLA SUR    POZO  -99.70099  24.78280     2020  ...   \n",
              "1065        CITRICOLA NORTE    POZO  -99.82249  25.55197     2020  ...   \n",
              "1066  NAVIDAD-POTOSI-RAICES    POZO -100.32683  24.80118     2020  ...   \n",
              "1067  NAVIDAD-POTOSI-RAICES    POZO -100.73302  25.09380     2020  ...   \n",
              "\n",
              "      CUMPLE_CON_DUR CUMPLE_CON_CF  CUMPLE_CON_NO3 CUMPLE_CON_AS  \\\n",
              "1063              NO            SI              NO            SI   \n",
              "1064              SI            SI              NO            SI   \n",
              "1065              NO            SI              NO            SI   \n",
              "1066              SI            SI              SI            SI   \n",
              "1067              SI            SI              SI            SI   \n",
              "\n",
              "      CUMPLE_CON_CD CUMPLE_CON_CR CUMPLE_CON_HG CUMPLE_CON_PB CUMPLE_CON_MN  \\\n",
              "1063             SI            SI            SI            SI            SI   \n",
              "1064             SI            SI            SI            SI            SI   \n",
              "1065             SI            SI            SI            SI            SI   \n",
              "1066             SI            SI            SI            SI            SI   \n",
              "1067             SI            SI            SI            SI            SI   \n",
              "\n",
              "     CUMPLE_CON_FE  \n",
              "1063            SI  \n",
              "1064            SI  \n",
              "1065            SI  \n",
              "1066            SI  \n",
              "1067            SI  \n",
              "\n",
              "[5 rows x 57 columns]"
            ],
            "text/html": [
              "\n",
              "  <div id=\"df-efe7a328-de74-4cc7-b7f1-a25afa8d4849\">\n",
              "    <div class=\"colab-df-container\">\n",
              "      <div>\n",
              "<style scoped>\n",
              "    .dataframe tbody tr th:only-of-type {\n",
              "        vertical-align: middle;\n",
              "    }\n",
              "\n",
              "    .dataframe tbody tr th {\n",
              "        vertical-align: top;\n",
              "    }\n",
              "\n",
              "    .dataframe thead th {\n",
              "        text-align: right;\n",
              "    }\n",
              "</style>\n",
              "<table border=\"1\" class=\"dataframe\">\n",
              "  <thead>\n",
              "    <tr style=\"text-align: right;\">\n",
              "      <th></th>\n",
              "      <th>CLAVE</th>\n",
              "      <th>SITIO</th>\n",
              "      <th>ORGANISMO_DE_CUENCA</th>\n",
              "      <th>ESTADO</th>\n",
              "      <th>MUNICIPIO</th>\n",
              "      <th>ACUIFERO</th>\n",
              "      <th>SUBTIPO</th>\n",
              "      <th>LONGITUD</th>\n",
              "      <th>LATITUD</th>\n",
              "      <th>PERIODO</th>\n",
              "      <th>...</th>\n",
              "      <th>CUMPLE_CON_DUR</th>\n",
              "      <th>CUMPLE_CON_CF</th>\n",
              "      <th>CUMPLE_CON_NO3</th>\n",
              "      <th>CUMPLE_CON_AS</th>\n",
              "      <th>CUMPLE_CON_CD</th>\n",
              "      <th>CUMPLE_CON_CR</th>\n",
              "      <th>CUMPLE_CON_HG</th>\n",
              "      <th>CUMPLE_CON_PB</th>\n",
              "      <th>CUMPLE_CON_MN</th>\n",
              "      <th>CUMPLE_CON_FE</th>\n",
              "    </tr>\n",
              "  </thead>\n",
              "  <tbody>\n",
              "    <tr>\n",
              "      <th>1063</th>\n",
              "      <td>OCRBR5101M1</td>\n",
              "      <td>L-310 (COMUNIDAD SAN MANUEL)</td>\n",
              "      <td>RIO BRAVO</td>\n",
              "      <td>NUEVO LEON</td>\n",
              "      <td>LINARES</td>\n",
              "      <td>CITRICOLA SUR</td>\n",
              "      <td>POZO</td>\n",
              "      <td>-99.54191</td>\n",
              "      <td>24.76036</td>\n",
              "      <td>2020</td>\n",
              "      <td>...</td>\n",
              "      <td>NO</td>\n",
              "      <td>SI</td>\n",
              "      <td>NO</td>\n",
              "      <td>SI</td>\n",
              "      <td>SI</td>\n",
              "      <td>SI</td>\n",
              "      <td>SI</td>\n",
              "      <td>SI</td>\n",
              "      <td>SI</td>\n",
              "      <td>SI</td>\n",
              "    </tr>\n",
              "    <tr>\n",
              "      <th>1064</th>\n",
              "      <td>OCRBR5102M1</td>\n",
              "      <td>L-305 (EJIDO OJO DE AGUA LAS CRUCESITAS)</td>\n",
              "      <td>RIO BRAVO</td>\n",
              "      <td>NUEVO LEON</td>\n",
              "      <td>LINARES</td>\n",
              "      <td>CITRICOLA SUR</td>\n",
              "      <td>POZO</td>\n",
              "      <td>-99.70099</td>\n",
              "      <td>24.78280</td>\n",
              "      <td>2020</td>\n",
              "      <td>...</td>\n",
              "      <td>SI</td>\n",
              "      <td>SI</td>\n",
              "      <td>NO</td>\n",
              "      <td>SI</td>\n",
              "      <td>SI</td>\n",
              "      <td>SI</td>\n",
              "      <td>SI</td>\n",
              "      <td>SI</td>\n",
              "      <td>SI</td>\n",
              "      <td>SI</td>\n",
              "    </tr>\n",
              "    <tr>\n",
              "      <th>1065</th>\n",
              "      <td>OCRBR5105M2</td>\n",
              "      <td>HACIENDA MEXIQUITO POZO 01</td>\n",
              "      <td>RIO BRAVO</td>\n",
              "      <td>NUEVO LEON</td>\n",
              "      <td>CADEREYTA JIMENEZ</td>\n",
              "      <td>CITRICOLA NORTE</td>\n",
              "      <td>POZO</td>\n",
              "      <td>-99.82249</td>\n",
              "      <td>25.55197</td>\n",
              "      <td>2020</td>\n",
              "      <td>...</td>\n",
              "      <td>NO</td>\n",
              "      <td>SI</td>\n",
              "      <td>NO</td>\n",
              "      <td>SI</td>\n",
              "      <td>SI</td>\n",
              "      <td>SI</td>\n",
              "      <td>SI</td>\n",
              "      <td>SI</td>\n",
              "      <td>SI</td>\n",
              "      <td>SI</td>\n",
              "    </tr>\n",
              "    <tr>\n",
              "      <th>1066</th>\n",
              "      <td>OCRBR5106M1</td>\n",
              "      <td>COMUNIDAD LOS POCITOS</td>\n",
              "      <td>RIO BRAVO</td>\n",
              "      <td>NUEVO LEON</td>\n",
              "      <td>GALEANA</td>\n",
              "      <td>NAVIDAD-POTOSI-RAICES</td>\n",
              "      <td>POZO</td>\n",
              "      <td>-100.32683</td>\n",
              "      <td>24.80118</td>\n",
              "      <td>2020</td>\n",
              "      <td>...</td>\n",
              "      <td>SI</td>\n",
              "      <td>SI</td>\n",
              "      <td>SI</td>\n",
              "      <td>SI</td>\n",
              "      <td>SI</td>\n",
              "      <td>SI</td>\n",
              "      <td>SI</td>\n",
              "      <td>SI</td>\n",
              "      <td>SI</td>\n",
              "      <td>SI</td>\n",
              "    </tr>\n",
              "    <tr>\n",
              "      <th>1067</th>\n",
              "      <td>OCRBR5109M1</td>\n",
              "      <td>COMUNIDAD LA REFORMA</td>\n",
              "      <td>RIO BRAVO</td>\n",
              "      <td>NUEVO LEON</td>\n",
              "      <td>GALEANA</td>\n",
              "      <td>NAVIDAD-POTOSI-RAICES</td>\n",
              "      <td>POZO</td>\n",
              "      <td>-100.73302</td>\n",
              "      <td>25.09380</td>\n",
              "      <td>2020</td>\n",
              "      <td>...</td>\n",
              "      <td>SI</td>\n",
              "      <td>SI</td>\n",
              "      <td>SI</td>\n",
              "      <td>SI</td>\n",
              "      <td>SI</td>\n",
              "      <td>SI</td>\n",
              "      <td>SI</td>\n",
              "      <td>SI</td>\n",
              "      <td>SI</td>\n",
              "      <td>SI</td>\n",
              "    </tr>\n",
              "  </tbody>\n",
              "</table>\n",
              "<p>5 rows × 57 columns</p>\n",
              "</div>\n",
              "      <button class=\"colab-df-convert\" onclick=\"convertToInteractive('df-efe7a328-de74-4cc7-b7f1-a25afa8d4849')\"\n",
              "              title=\"Convert this dataframe to an interactive table.\"\n",
              "              style=\"display:none;\">\n",
              "        \n",
              "  <svg xmlns=\"http://www.w3.org/2000/svg\" height=\"24px\"viewBox=\"0 0 24 24\"\n",
              "       width=\"24px\">\n",
              "    <path d=\"M0 0h24v24H0V0z\" fill=\"none\"/>\n",
              "    <path d=\"M18.56 5.44l.94 2.06.94-2.06 2.06-.94-2.06-.94-.94-2.06-.94 2.06-2.06.94zm-11 1L8.5 8.5l.94-2.06 2.06-.94-2.06-.94L8.5 2.5l-.94 2.06-2.06.94zm10 10l.94 2.06.94-2.06 2.06-.94-2.06-.94-.94-2.06-.94 2.06-2.06.94z\"/><path d=\"M17.41 7.96l-1.37-1.37c-.4-.4-.92-.59-1.43-.59-.52 0-1.04.2-1.43.59L10.3 9.45l-7.72 7.72c-.78.78-.78 2.05 0 2.83L4 21.41c.39.39.9.59 1.41.59.51 0 1.02-.2 1.41-.59l7.78-7.78 2.81-2.81c.8-.78.8-2.07 0-2.86zM5.41 20L4 18.59l7.72-7.72 1.47 1.35L5.41 20z\"/>\n",
              "  </svg>\n",
              "      </button>\n",
              "      \n",
              "  <style>\n",
              "    .colab-df-container {\n",
              "      display:flex;\n",
              "      flex-wrap:wrap;\n",
              "      gap: 12px;\n",
              "    }\n",
              "\n",
              "    .colab-df-convert {\n",
              "      background-color: #E8F0FE;\n",
              "      border: none;\n",
              "      border-radius: 50%;\n",
              "      cursor: pointer;\n",
              "      display: none;\n",
              "      fill: #1967D2;\n",
              "      height: 32px;\n",
              "      padding: 0 0 0 0;\n",
              "      width: 32px;\n",
              "    }\n",
              "\n",
              "    .colab-df-convert:hover {\n",
              "      background-color: #E2EBFA;\n",
              "      box-shadow: 0px 1px 2px rgba(60, 64, 67, 0.3), 0px 1px 3px 1px rgba(60, 64, 67, 0.15);\n",
              "      fill: #174EA6;\n",
              "    }\n",
              "\n",
              "    [theme=dark] .colab-df-convert {\n",
              "      background-color: #3B4455;\n",
              "      fill: #D2E3FC;\n",
              "    }\n",
              "\n",
              "    [theme=dark] .colab-df-convert:hover {\n",
              "      background-color: #434B5C;\n",
              "      box-shadow: 0px 1px 3px 1px rgba(0, 0, 0, 0.15);\n",
              "      filter: drop-shadow(0px 1px 2px rgba(0, 0, 0, 0.3));\n",
              "      fill: #FFFFFF;\n",
              "    }\n",
              "  </style>\n",
              "\n",
              "      <script>\n",
              "        const buttonEl =\n",
              "          document.querySelector('#df-efe7a328-de74-4cc7-b7f1-a25afa8d4849 button.colab-df-convert');\n",
              "        buttonEl.style.display =\n",
              "          google.colab.kernel.accessAllowed ? 'block' : 'none';\n",
              "\n",
              "        async function convertToInteractive(key) {\n",
              "          const element = document.querySelector('#df-efe7a328-de74-4cc7-b7f1-a25afa8d4849');\n",
              "          const dataTable =\n",
              "            await google.colab.kernel.invokeFunction('convertToInteractive',\n",
              "                                                     [key], {});\n",
              "          if (!dataTable) return;\n",
              "\n",
              "          const docLinkHtml = 'Like what you see? Visit the ' +\n",
              "            '<a target=\"_blank\" href=https://colab.research.google.com/notebooks/data_table.ipynb>data table notebook</a>'\n",
              "            + ' to learn more about interactive tables.';\n",
              "          element.innerHTML = '';\n",
              "          dataTable['output_type'] = 'display_data';\n",
              "          await google.colab.output.renderOutput(dataTable, element);\n",
              "          const docLink = document.createElement('div');\n",
              "          docLink.innerHTML = docLinkHtml;\n",
              "          element.appendChild(docLink);\n",
              "        }\n",
              "      </script>\n",
              "    </div>\n",
              "  </div>\n",
              "  "
            ]
          },
          "metadata": {},
          "execution_count": 393
        }
      ]
    },
    {
      "cell_type": "code",
      "source": [
        "\n",
        "df.columns"
      ],
      "metadata": {
        "id": "3ZZRZAkToX9Q",
        "colab": {
          "base_uri": "https://localhost:8080/"
        },
        "outputId": "6898fc2d-c658-4cd9-d940-07c26871734e"
      },
      "execution_count": 394,
      "outputs": [
        {
          "output_type": "execute_result",
          "data": {
            "text/plain": [
              "Index(['CLAVE', 'SITIO', 'ORGANISMO_DE_CUENCA', 'ESTADO', 'MUNICIPIO',\n",
              "       'ACUIFERO', 'SUBTIPO', 'LONGITUD', 'LATITUD', 'PERIODO', 'ALC_mg/L',\n",
              "       'CALIDAD_ALC', 'CONDUCT_mS/cm', 'CALIDAD_CONDUC', 'SDT_mg/L',\n",
              "       'SDT_M_mg/L', 'CALIDAD_SDT_ra', 'CALIDAD_SDT_salin', 'FLUORUROS_mg/L',\n",
              "       'CALIDAD_FLUO', 'DUR_mg/L', 'CALIDAD_DUR', 'COLI_FEC_NMP/100_mL',\n",
              "       'CALIDAD_COLI_FEC', 'N_NO3_mg/L', 'CALIDAD_N_NO3', 'AS_TOT_mg/L',\n",
              "       'CALIDAD_AS', 'CD_TOT_mg/L', 'CALIDAD_CD', 'CR_TOT_mg/L', 'CALIDAD_CR',\n",
              "       'HG_TOT_mg/L', 'CALIDAD_HG', 'PB_TOT_mg/L', 'CALIDAD_PB', 'MN_TOT_mg/L',\n",
              "       'CALIDAD_MN', 'FE_TOT_mg/L', 'CALIDAD_FE', 'SEMAFORO', 'CONTAMINANTES',\n",
              "       'CUMPLE_CON_ALC', 'CUMPLE_CON_COND', 'CUMPLE_CON_SDT_ra',\n",
              "       'CUMPLE_CON_SDT_salin', 'CUMPLE_CON_FLUO', 'CUMPLE_CON_DUR',\n",
              "       'CUMPLE_CON_CF', 'CUMPLE_CON_NO3', 'CUMPLE_CON_AS', 'CUMPLE_CON_CD',\n",
              "       'CUMPLE_CON_CR', 'CUMPLE_CON_HG', 'CUMPLE_CON_PB', 'CUMPLE_CON_MN',\n",
              "       'CUMPLE_CON_FE'],\n",
              "      dtype='object')"
            ]
          },
          "metadata": {},
          "execution_count": 394
        }
      ]
    },
    {
      "cell_type": "code",
      "source": [
        "#Se observa que la dimensión/columna SDT_mg/L esta vacía\n",
        "df.info()"
      ],
      "metadata": {
        "id": "iJQuFXgdgzws",
        "colab": {
          "base_uri": "https://localhost:8080/"
        },
        "outputId": "7c6e048b-b6d5-4f31-a518-2e01aee3901b"
      },
      "execution_count": 395,
      "outputs": [
        {
          "output_type": "stream",
          "name": "stdout",
          "text": [
            "<class 'pandas.core.frame.DataFrame'>\n",
            "RangeIndex: 1068 entries, 0 to 1067\n",
            "Data columns (total 57 columns):\n",
            " #   Column                Non-Null Count  Dtype  \n",
            "---  ------                --------------  -----  \n",
            " 0   CLAVE                 1068 non-null   object \n",
            " 1   SITIO                 1068 non-null   object \n",
            " 2   ORGANISMO_DE_CUENCA   1068 non-null   object \n",
            " 3   ESTADO                1068 non-null   object \n",
            " 4   MUNICIPIO             1068 non-null   object \n",
            " 5   ACUIFERO              1068 non-null   object \n",
            " 6   SUBTIPO               1068 non-null   object \n",
            " 7   LONGITUD              1068 non-null   float64\n",
            " 8   LATITUD               1068 non-null   float64\n",
            " 9   PERIODO               1068 non-null   int64  \n",
            " 10  ALC_mg/L              1064 non-null   float64\n",
            " 11  CALIDAD_ALC           1064 non-null   object \n",
            " 12  CONDUCT_mS/cm         1062 non-null   float64\n",
            " 13  CALIDAD_CONDUC        1062 non-null   object \n",
            " 14  SDT_mg/L              0 non-null      float64\n",
            " 15  SDT_M_mg/L            1066 non-null   object \n",
            " 16  CALIDAD_SDT_ra        1066 non-null   object \n",
            " 17  CALIDAD_SDT_salin     1066 non-null   object \n",
            " 18  FLUORUROS_mg/L        1068 non-null   object \n",
            " 19  CALIDAD_FLUO          1068 non-null   object \n",
            " 20  DUR_mg/L              1067 non-null   object \n",
            " 21  CALIDAD_DUR           1067 non-null   object \n",
            " 22  COLI_FEC_NMP/100_mL   1068 non-null   object \n",
            " 23  CALIDAD_COLI_FEC      1068 non-null   object \n",
            " 24  N_NO3_mg/L            1067 non-null   object \n",
            " 25  CALIDAD_N_NO3         1067 non-null   object \n",
            " 26  AS_TOT_mg/L           1068 non-null   object \n",
            " 27  CALIDAD_AS            1068 non-null   object \n",
            " 28  CD_TOT_mg/L           1068 non-null   object \n",
            " 29  CALIDAD_CD            1068 non-null   object \n",
            " 30  CR_TOT_mg/L           1068 non-null   object \n",
            " 31  CALIDAD_CR            1068 non-null   object \n",
            " 32  HG_TOT_mg/L           1068 non-null   object \n",
            " 33  CALIDAD_HG            1068 non-null   object \n",
            " 34  PB_TOT_mg/L           1068 non-null   object \n",
            " 35  CALIDAD_PB            1068 non-null   object \n",
            " 36  MN_TOT_mg/L           1068 non-null   object \n",
            " 37  CALIDAD_MN            1068 non-null   object \n",
            " 38  FE_TOT_mg/L           1068 non-null   object \n",
            " 39  CALIDAD_FE            1068 non-null   object \n",
            " 40  SEMAFORO              1068 non-null   object \n",
            " 41  CONTAMINANTES         634 non-null    object \n",
            " 42  CUMPLE_CON_ALC        1068 non-null   object \n",
            " 43  CUMPLE_CON_COND       1068 non-null   object \n",
            " 44  CUMPLE_CON_SDT_ra     1068 non-null   object \n",
            " 45  CUMPLE_CON_SDT_salin  1068 non-null   object \n",
            " 46  CUMPLE_CON_FLUO       1068 non-null   object \n",
            " 47  CUMPLE_CON_DUR        1068 non-null   object \n",
            " 48  CUMPLE_CON_CF         1068 non-null   object \n",
            " 49  CUMPLE_CON_NO3        1068 non-null   object \n",
            " 50  CUMPLE_CON_AS         1068 non-null   object \n",
            " 51  CUMPLE_CON_CD         1068 non-null   object \n",
            " 52  CUMPLE_CON_CR         1068 non-null   object \n",
            " 53  CUMPLE_CON_HG         1068 non-null   object \n",
            " 54  CUMPLE_CON_PB         1068 non-null   object \n",
            " 55  CUMPLE_CON_MN         1068 non-null   object \n",
            " 56  CUMPLE_CON_FE         1068 non-null   object \n",
            "dtypes: float64(5), int64(1), object(51)\n",
            "memory usage: 475.7+ KB\n"
          ]
        }
      ]
    },
    {
      "cell_type": "markdown",
      "source": [
        "---\n",
        "\n",
        "*   Inicia Limpieza de datos \n",
        "\n",
        "---"
      ],
      "metadata": {
        "id": "DJ16GOEFhCWQ"
      }
    },
    {
      "cell_type": "code",
      "source": [
        "#Se observa que hay algunas otras dimensiones con pocos registros nulos.\n",
        "df.isnull().sum()"
      ],
      "metadata": {
        "id": "cKJhPa2Pebdu",
        "colab": {
          "base_uri": "https://localhost:8080/"
        },
        "outputId": "91c0c2ec-032e-4424-ba89-320f502ff514"
      },
      "execution_count": 396,
      "outputs": [
        {
          "output_type": "execute_result",
          "data": {
            "text/plain": [
              "CLAVE                      0\n",
              "SITIO                      0\n",
              "ORGANISMO_DE_CUENCA        0\n",
              "ESTADO                     0\n",
              "MUNICIPIO                  0\n",
              "ACUIFERO                   0\n",
              "SUBTIPO                    0\n",
              "LONGITUD                   0\n",
              "LATITUD                    0\n",
              "PERIODO                    0\n",
              "ALC_mg/L                   4\n",
              "CALIDAD_ALC                4\n",
              "CONDUCT_mS/cm              6\n",
              "CALIDAD_CONDUC             6\n",
              "SDT_mg/L                1068\n",
              "SDT_M_mg/L                 2\n",
              "CALIDAD_SDT_ra             2\n",
              "CALIDAD_SDT_salin          2\n",
              "FLUORUROS_mg/L             0\n",
              "CALIDAD_FLUO               0\n",
              "DUR_mg/L                   1\n",
              "CALIDAD_DUR                1\n",
              "COLI_FEC_NMP/100_mL        0\n",
              "CALIDAD_COLI_FEC           0\n",
              "N_NO3_mg/L                 1\n",
              "CALIDAD_N_NO3              1\n",
              "AS_TOT_mg/L                0\n",
              "CALIDAD_AS                 0\n",
              "CD_TOT_mg/L                0\n",
              "CALIDAD_CD                 0\n",
              "CR_TOT_mg/L                0\n",
              "CALIDAD_CR                 0\n",
              "HG_TOT_mg/L                0\n",
              "CALIDAD_HG                 0\n",
              "PB_TOT_mg/L                0\n",
              "CALIDAD_PB                 0\n",
              "MN_TOT_mg/L                0\n",
              "CALIDAD_MN                 0\n",
              "FE_TOT_mg/L                0\n",
              "CALIDAD_FE                 0\n",
              "SEMAFORO                   0\n",
              "CONTAMINANTES            434\n",
              "CUMPLE_CON_ALC             0\n",
              "CUMPLE_CON_COND            0\n",
              "CUMPLE_CON_SDT_ra          0\n",
              "CUMPLE_CON_SDT_salin       0\n",
              "CUMPLE_CON_FLUO            0\n",
              "CUMPLE_CON_DUR             0\n",
              "CUMPLE_CON_CF              0\n",
              "CUMPLE_CON_NO3             0\n",
              "CUMPLE_CON_AS              0\n",
              "CUMPLE_CON_CD              0\n",
              "CUMPLE_CON_CR              0\n",
              "CUMPLE_CON_HG              0\n",
              "CUMPLE_CON_PB              0\n",
              "CUMPLE_CON_MN              0\n",
              "CUMPLE_CON_FE              0\n",
              "dtype: int64"
            ]
          },
          "metadata": {},
          "execution_count": 396
        }
      ]
    },
    {
      "cell_type": "code",
      "source": [
        "#Se inicia sección para verificar posible imputación cruzando información entre las dimensiones dentro del conjunto de datos que están relacionadas entre si. Por ejemplo,\n",
        "# el conjunto de datos contiene la dimensión 'ALC_mg/L' y por otro lado hay otra dimensión de tipo categórico CUMPLE_CON_ALC.\n",
        "df[df['ALC_mg/L'].isnull()].CUMPLE_CON_ALC"
      ],
      "metadata": {
        "id": "Z5MbA_Nv9--g",
        "colab": {
          "base_uri": "https://localhost:8080/"
        },
        "outputId": "38450e02-4001-4b8a-e34c-d8cc7ccbb072"
      },
      "execution_count": 397,
      "outputs": [
        {
          "output_type": "execute_result",
          "data": {
            "text/plain": [
              "406    ND\n",
              "407    ND\n",
              "722    ND\n",
              "861    ND\n",
              "Name: CUMPLE_CON_ALC, dtype: object"
            ]
          },
          "metadata": {},
          "execution_count": 397
        }
      ]
    },
    {
      "cell_type": "code",
      "source": [
        "#Si no es posible realizar imputación se remueven los registros.\n",
        "df.dropna(subset=['ALC_mg/L'],inplace=True)"
      ],
      "metadata": {
        "id": "dQ89wsqi_ZCo"
      },
      "execution_count": 398,
      "outputs": []
    },
    {
      "cell_type": "code",
      "source": [
        "df[df['CONDUCT_mS/cm'].isnull()].CUMPLE_CON_COND "
      ],
      "metadata": {
        "id": "tVJ4fgd1A7I3",
        "colab": {
          "base_uri": "https://localhost:8080/"
        },
        "outputId": "617449b5-6eb4-422b-b2d5-b8eb4b75c2a8"
      },
      "execution_count": 399,
      "outputs": [
        {
          "output_type": "execute_result",
          "data": {
            "text/plain": [
              "18     ND\n",
              "281    ND\n",
              "293    ND\n",
              "616    ND\n",
              "891    ND\n",
              "906    ND\n",
              "Name: CUMPLE_CON_COND, dtype: object"
            ]
          },
          "metadata": {},
          "execution_count": 399
        }
      ]
    },
    {
      "cell_type": "code",
      "source": [
        "df.dropna(subset=['CONDUCT_mS/cm'],inplace=True)"
      ],
      "metadata": {
        "id": "2W2aLFMnDA_H"
      },
      "execution_count": 400,
      "outputs": []
    },
    {
      "cell_type": "code",
      "source": [
        "df[df['SDT_M_mg/L' ].isnull()].CUMPLE_CON_SDT_ra "
      ],
      "metadata": {
        "id": "HhCLgXoFDNoX",
        "colab": {
          "base_uri": "https://localhost:8080/"
        },
        "outputId": "9b1a19d8-06ea-4035-d8d9-11d327788082"
      },
      "execution_count": 401,
      "outputs": [
        {
          "output_type": "execute_result",
          "data": {
            "text/plain": [
              "175    ND\n",
              "677    ND\n",
              "Name: CUMPLE_CON_SDT_ra, dtype: object"
            ]
          },
          "metadata": {},
          "execution_count": 401
        }
      ]
    },
    {
      "cell_type": "code",
      "source": [
        "df.dropna(subset=['SDT_M_mg/L'],inplace=True)"
      ],
      "metadata": {
        "id": "gYs6QgZfDWM_"
      },
      "execution_count": 402,
      "outputs": []
    },
    {
      "cell_type": "code",
      "source": [
        "df[df['DUR_mg/L'   ].isnull()].CUMPLE_CON_DUR"
      ],
      "metadata": {
        "id": "NakjT9dQDn5m",
        "colab": {
          "base_uri": "https://localhost:8080/"
        },
        "outputId": "dae41137-475d-4691-92aa-1bf306747c03"
      },
      "execution_count": 403,
      "outputs": [
        {
          "output_type": "execute_result",
          "data": {
            "text/plain": [
              "635    ND\n",
              "Name: CUMPLE_CON_DUR, dtype: object"
            ]
          },
          "metadata": {},
          "execution_count": 403
        }
      ]
    },
    {
      "cell_type": "code",
      "source": [
        "df.dropna(subset=['DUR_mg/L'],inplace=True)"
      ],
      "metadata": {
        "id": "5C8ZWgo_DwJ3"
      },
      "execution_count": 404,
      "outputs": []
    },
    {
      "cell_type": "code",
      "source": [
        "df[df['N_NO3_mg/L'   ].isnull()].CUMPLE_CON_NO3 "
      ],
      "metadata": {
        "id": "ZdTd4A4RD13e",
        "colab": {
          "base_uri": "https://localhost:8080/"
        },
        "outputId": "d8e09baf-c630-427d-ca53-3d35bec541e6"
      },
      "execution_count": 405,
      "outputs": [
        {
          "output_type": "execute_result",
          "data": {
            "text/plain": [
              "234    ND\n",
              "Name: CUMPLE_CON_NO3, dtype: object"
            ]
          },
          "metadata": {},
          "execution_count": 405
        }
      ]
    },
    {
      "cell_type": "code",
      "source": [
        "df.dropna(subset=['N_NO3_mg/L'],inplace=True)"
      ],
      "metadata": {
        "id": "50MRE5PnEAKe"
      },
      "execution_count": 406,
      "outputs": []
    },
    {
      "cell_type": "code",
      "source": [
        "#Se identifica que con la dimensión SDT_mg/L es viable hacer imputación\n",
        "df[df['SDT_mg/L'].isnull()].CALIDAD_SDT_salin "
      ],
      "metadata": {
        "id": "WNtjSszUEYd_",
        "colab": {
          "base_uri": "https://localhost:8080/"
        },
        "outputId": "265d5229-a824-4121-898a-f147b99eccbc"
      },
      "execution_count": 407,
      "outputs": [
        {
          "output_type": "execute_result",
          "data": {
            "text/plain": [
              "0            Potable - Dulce\n",
              "1            Potable - Dulce\n",
              "2            Potable - Dulce\n",
              "3            Potable - Dulce\n",
              "4       Ligeramente salobres\n",
              "                ...         \n",
              "1063    Ligeramente salobres\n",
              "1064         Potable - Dulce\n",
              "1065    Ligeramente salobres\n",
              "1066         Potable - Dulce\n",
              "1067         Potable - Dulce\n",
              "Name: CALIDAD_SDT_salin, Length: 1054, dtype: object"
            ]
          },
          "metadata": {},
          "execution_count": 407
        }
      ]
    },
    {
      "cell_type": "code",
      "source": [
        "#Creando función con escala para realizar imputación de la columna SDT_mg/L.\n",
        "def SDT_val (SDT):\n",
        "  np.random.seed(101)\n",
        "  if SDT =='Potable - Dulce':\n",
        "    return np.random.randint(1,1001)\n",
        "  elif SDT=='Ligeramente salobres':\n",
        "    return np.random.randint(1001,2001)\n",
        "  elif SDT== 'Salobres':\n",
        "    return np.random.randint(2001,10001)\n",
        "  elif SDT== 'Salinas':\n",
        "    return np.random.randint(10001,30000)"
      ],
      "metadata": {
        "id": "LLZoeJenF9M-"
      },
      "execution_count": 408,
      "outputs": []
    },
    {
      "cell_type": "code",
      "source": [
        "#Además,se crea una función de limpieza para las dimensiones donde hay registros que combinan el símbolo \"<\" con mediciones. En este caso se usa de referencia las escalas definidas \n",
        "#en el documento de \"Escalas_subterranea\"\n",
        "def lim_inf (val_min):\n",
        "  np.random.seed(101)\n",
        "  if val_min =='<1.1':\n",
        "    return round(np.random.uniform(0,1.1),1)\n",
        "  elif val_min =='<0.2':\n",
        "    return round(np.random.uniform(0,0.2),1)\n",
        "  elif val_min =='<0.025':\n",
        "    return round(np.random.uniform(0,0.025),3)\n",
        "  elif val_min =='<0.02':\n",
        "    return round(np.random.uniform(0,0.02),2)\n",
        "  elif val_min =='<0.01':\n",
        "   return round(np.random.uniform(0,0.01),2)\n",
        "  elif val_min =='<0.005':\n",
        "   return round(np.random.uniform(0,0.005),3)\n",
        "  elif val_min =='<0.003':\n",
        "   return round(np.random.uniform(0,0.003),3)\n",
        "  elif val_min =='<0.0015':\n",
        "   return round(np.random.uniform(0,0.0015),4)\n",
        "  elif val_min =='<0.0005':\n",
        "   return round(np.random.uniform(0,0.0005),4)\n",
        "  elif val_min =='<20':\n",
        "   return round(np.random.uniform(0,20),1)\n",
        "  else:\n",
        "    return val_min\n"
      ],
      "metadata": {
        "id": "w6I27x2BQclJ"
      },
      "execution_count": 409,
      "outputs": []
    },
    {
      "cell_type": "code",
      "source": [
        "#Método para aplicar la imputación en la columna SDT_mg/L.\n",
        "df['SDT_mg/L'] = df['CALIDAD_SDT_salin'].apply(SDT_val)"
      ],
      "metadata": {
        "id": "S2hYNFDZISh_"
      },
      "execution_count": 410,
      "outputs": []
    },
    {
      "cell_type": "code",
      "source": [
        "#Método para aplicar la imputación en las distintas columnas con registros combinando mediciones con el símbolo \"<\". \n",
        "df['HG_TOT_mg/L'] = df['HG_TOT_mg/L'].apply(lim_inf)\n",
        "df['COLI_FEC_NMP/100_mL'] = df['COLI_FEC_NMP/100_mL'].apply(lim_inf)\n",
        "df['MN_TOT_mg/L'] = df['MN_TOT_mg/L'].apply(lim_inf)\n",
        "df['CD_TOT_mg/L'] = df['CD_TOT_mg/L'].apply(lim_inf)\n",
        "df['CR_TOT_mg/L'] = df['CR_TOT_mg/L'].apply(lim_inf)\n",
        "df['PB_TOT_mg/L'] = df['PB_TOT_mg/L'].apply(lim_inf)\n",
        "df['AS_TOT_mg/L'] = df['AS_TOT_mg/L'].apply(lim_inf)\n",
        "df['N_NO3_mg/L'] = df['N_NO3_mg/L'].apply(lim_inf)\n",
        "df['FE_TOT_mg/L'] = df['FE_TOT_mg/L'].apply(lim_inf)\n",
        "df['FLUORUROS_mg/L'] = df['FLUORUROS_mg/L'].apply(lim_inf)\n",
        "df['COLI_FEC_NMP/100_mL'] = df['COLI_FEC_NMP/100_mL'].apply(lim_inf)\n",
        "df['DUR_mg/L'] = df['DUR_mg/L'].apply(lim_inf)\n",
        "\n",
        "\n"
      ],
      "metadata": {
        "id": "HI8FlaqUSn9J"
      },
      "execution_count": 411,
      "outputs": []
    },
    {
      "cell_type": "code",
      "source": [
        "#Método de limpieza para los registros dentro de la dimensión CONTAMINANTES.\n",
        "df['CONTAMINANTES'] = df['CONTAMINANTES'].fillna(\"Ninguno\")"
      ],
      "metadata": {
        "id": "eGillbj9Ll_j"
      },
      "execution_count": 412,
      "outputs": []
    },
    {
      "cell_type": "code",
      "source": [
        "#Verificando que la limpieza de datos nulos ha surtido efecto. \n",
        "df.isnull().sum()\n"
      ],
      "metadata": {
        "id": "dBR1LfqXg2D4",
        "colab": {
          "base_uri": "https://localhost:8080/"
        },
        "outputId": "cae4f97c-241a-4459-dab5-842ba56b2672"
      },
      "execution_count": 413,
      "outputs": [
        {
          "output_type": "execute_result",
          "data": {
            "text/plain": [
              "CLAVE                   0\n",
              "SITIO                   0\n",
              "ORGANISMO_DE_CUENCA     0\n",
              "ESTADO                  0\n",
              "MUNICIPIO               0\n",
              "ACUIFERO                0\n",
              "SUBTIPO                 0\n",
              "LONGITUD                0\n",
              "LATITUD                 0\n",
              "PERIODO                 0\n",
              "ALC_mg/L                0\n",
              "CALIDAD_ALC             0\n",
              "CONDUCT_mS/cm           0\n",
              "CALIDAD_CONDUC          0\n",
              "SDT_mg/L                0\n",
              "SDT_M_mg/L              0\n",
              "CALIDAD_SDT_ra          0\n",
              "CALIDAD_SDT_salin       0\n",
              "FLUORUROS_mg/L          0\n",
              "CALIDAD_FLUO            0\n",
              "DUR_mg/L                0\n",
              "CALIDAD_DUR             0\n",
              "COLI_FEC_NMP/100_mL     0\n",
              "CALIDAD_COLI_FEC        0\n",
              "N_NO3_mg/L              0\n",
              "CALIDAD_N_NO3           0\n",
              "AS_TOT_mg/L             0\n",
              "CALIDAD_AS              0\n",
              "CD_TOT_mg/L             0\n",
              "CALIDAD_CD              0\n",
              "CR_TOT_mg/L             0\n",
              "CALIDAD_CR              0\n",
              "HG_TOT_mg/L             0\n",
              "CALIDAD_HG              0\n",
              "PB_TOT_mg/L             0\n",
              "CALIDAD_PB              0\n",
              "MN_TOT_mg/L             0\n",
              "CALIDAD_MN              0\n",
              "FE_TOT_mg/L             0\n",
              "CALIDAD_FE              0\n",
              "SEMAFORO                0\n",
              "CONTAMINANTES           0\n",
              "CUMPLE_CON_ALC          0\n",
              "CUMPLE_CON_COND         0\n",
              "CUMPLE_CON_SDT_ra       0\n",
              "CUMPLE_CON_SDT_salin    0\n",
              "CUMPLE_CON_FLUO         0\n",
              "CUMPLE_CON_DUR          0\n",
              "CUMPLE_CON_CF           0\n",
              "CUMPLE_CON_NO3          0\n",
              "CUMPLE_CON_AS           0\n",
              "CUMPLE_CON_CD           0\n",
              "CUMPLE_CON_CR           0\n",
              "CUMPLE_CON_HG           0\n",
              "CUMPLE_CON_PB           0\n",
              "CUMPLE_CON_MN           0\n",
              "CUMPLE_CON_FE           0\n",
              "dtype: int64"
            ]
          },
          "metadata": {},
          "execution_count": 413
        }
      ]
    },
    {
      "cell_type": "code",
      "source": [
        "#Se observa dentro del conjuto de datos que hay dimensiones de tipo numérico defindos como objetos, p.e. SDT_M_mg/L \n",
        "df.select_dtypes(include='object').info()"
      ],
      "metadata": {
        "id": "-hLKGUW6m7bM",
        "colab": {
          "base_uri": "https://localhost:8080/"
        },
        "outputId": "829886f0-fe77-4f6f-8f7c-544374f7de1b"
      },
      "execution_count": 414,
      "outputs": [
        {
          "output_type": "stream",
          "name": "stdout",
          "text": [
            "<class 'pandas.core.frame.DataFrame'>\n",
            "Int64Index: 1054 entries, 0 to 1067\n",
            "Data columns (total 51 columns):\n",
            " #   Column                Non-Null Count  Dtype \n",
            "---  ------                --------------  ----- \n",
            " 0   CLAVE                 1054 non-null   object\n",
            " 1   SITIO                 1054 non-null   object\n",
            " 2   ORGANISMO_DE_CUENCA   1054 non-null   object\n",
            " 3   ESTADO                1054 non-null   object\n",
            " 4   MUNICIPIO             1054 non-null   object\n",
            " 5   ACUIFERO              1054 non-null   object\n",
            " 6   SUBTIPO               1054 non-null   object\n",
            " 7   CALIDAD_ALC           1054 non-null   object\n",
            " 8   CALIDAD_CONDUC        1054 non-null   object\n",
            " 9   SDT_M_mg/L            1054 non-null   object\n",
            " 10  CALIDAD_SDT_ra        1054 non-null   object\n",
            " 11  CALIDAD_SDT_salin     1054 non-null   object\n",
            " 12  FLUORUROS_mg/L        1054 non-null   object\n",
            " 13  CALIDAD_FLUO          1054 non-null   object\n",
            " 14  DUR_mg/L              1054 non-null   object\n",
            " 15  CALIDAD_DUR           1054 non-null   object\n",
            " 16  COLI_FEC_NMP/100_mL   1054 non-null   object\n",
            " 17  CALIDAD_COLI_FEC      1054 non-null   object\n",
            " 18  N_NO3_mg/L            1054 non-null   object\n",
            " 19  CALIDAD_N_NO3         1054 non-null   object\n",
            " 20  AS_TOT_mg/L           1054 non-null   object\n",
            " 21  CALIDAD_AS            1054 non-null   object\n",
            " 22  CD_TOT_mg/L           1054 non-null   object\n",
            " 23  CALIDAD_CD            1054 non-null   object\n",
            " 24  CR_TOT_mg/L           1054 non-null   object\n",
            " 25  CALIDAD_CR            1054 non-null   object\n",
            " 26  HG_TOT_mg/L           1054 non-null   object\n",
            " 27  CALIDAD_HG            1054 non-null   object\n",
            " 28  PB_TOT_mg/L           1054 non-null   object\n",
            " 29  CALIDAD_PB            1054 non-null   object\n",
            " 30  MN_TOT_mg/L           1054 non-null   object\n",
            " 31  CALIDAD_MN            1054 non-null   object\n",
            " 32  FE_TOT_mg/L           1054 non-null   object\n",
            " 33  CALIDAD_FE            1054 non-null   object\n",
            " 34  SEMAFORO              1054 non-null   object\n",
            " 35  CONTAMINANTES         1054 non-null   object\n",
            " 36  CUMPLE_CON_ALC        1054 non-null   object\n",
            " 37  CUMPLE_CON_COND       1054 non-null   object\n",
            " 38  CUMPLE_CON_SDT_ra     1054 non-null   object\n",
            " 39  CUMPLE_CON_SDT_salin  1054 non-null   object\n",
            " 40  CUMPLE_CON_FLUO       1054 non-null   object\n",
            " 41  CUMPLE_CON_DUR        1054 non-null   object\n",
            " 42  CUMPLE_CON_CF         1054 non-null   object\n",
            " 43  CUMPLE_CON_NO3        1054 non-null   object\n",
            " 44  CUMPLE_CON_AS         1054 non-null   object\n",
            " 45  CUMPLE_CON_CD         1054 non-null   object\n",
            " 46  CUMPLE_CON_CR         1054 non-null   object\n",
            " 47  CUMPLE_CON_HG         1054 non-null   object\n",
            " 48  CUMPLE_CON_PB         1054 non-null   object\n",
            " 49  CUMPLE_CON_MN         1054 non-null   object\n",
            " 50  CUMPLE_CON_FE         1054 non-null   object\n",
            "dtypes: object(51)\n",
            "memory usage: 428.2+ KB\n"
          ]
        }
      ]
    },
    {
      "cell_type": "code",
      "source": [
        "#Método para corregir el tipo de dato en todas las dimensiones numéricas que aparecen clasificadas como \"objetos\"\n",
        "df[['AS_TOT_mg/L','N_NO3_mg/L','COLI_FEC_NMP/100_mL','FLUORUROS_mg/L','SDT_M_mg/L','CD_TOT_mg/L', 'CR_TOT_mg/L', 'HG_TOT_mg/L',\n",
        "        'PB_TOT_mg/L',  'MN_TOT_mg/L', \n",
        "       'FE_TOT_mg/L','DUR_mg/L']]=df[['AS_TOT_mg/L','N_NO3_mg/L','COLI_FEC_NMP/100_mL','FLUORUROS_mg/L','SDT_M_mg/L','CD_TOT_mg/L', 'CR_TOT_mg/L', 'HG_TOT_mg/L',\n",
        "        'PB_TOT_mg/L',  'MN_TOT_mg/L', \n",
        "       'FE_TOT_mg/L','DUR_mg/L']].astype('float64')"
      ],
      "metadata": {
        "id": "fgpzW5Lvlgvh"
      },
      "execution_count": 415,
      "outputs": []
    },
    {
      "cell_type": "markdown",
      "source": [
        "---\n",
        "\n",
        "*   Finaliza Limpieza de datos \n",
        "\n",
        "---"
      ],
      "metadata": {
        "id": "Y3FDxnSghIsY"
      }
    },
    {
      "cell_type": "markdown",
      "source": [
        "---\n",
        "\n",
        "*   Identificando tendencias centrales promedio, media y mediana de los datos. \n",
        "Identificar medidas de dispersión, máximo, mínimo .\n",
        "\n",
        "---"
      ],
      "metadata": {
        "id": "YorloGzNgdFJ"
      }
    },
    {
      "cell_type": "code",
      "source": [
        "df.describe(include='all').transpose()"
      ],
      "metadata": {
        "colab": {
          "base_uri": "https://localhost:8080/",
          "height": 1000
        },
        "id": "rg8ZCG5JfzYM",
        "outputId": "2ec884d1-eb0b-4766-aaf5-e24d2e1390fa"
      },
      "execution_count": 416,
      "outputs": [
        {
          "output_type": "execute_result",
          "data": {
            "text/plain": [
              "                       count unique                          top  freq  \\\n",
              "CLAVE                   1054   1054                       DLAGU6     1   \n",
              "SITIO                   1054   1052             POZO VILLA UNION     2   \n",
              "ORGANISMO_DE_CUENCA     1054     13  CUENCAS CENTRALES DEL NORTE   231   \n",
              "ESTADO                  1054     32                      DURANGO   119   \n",
              "MUNICIPIO               1054    447                       LA PAZ    26   \n",
              "ACUIFERO                1054    272         PENINSULA DE YUCATAN   119   \n",
              "SUBTIPO                 1054      8                         POZO  1025   \n",
              "LONGITUD              1054.0    NaN                          NaN   NaN   \n",
              "LATITUD               1054.0    NaN                          NaN   NaN   \n",
              "PERIODO               1054.0    NaN                          NaN   NaN   \n",
              "ALC_mg/L              1054.0    NaN                          NaN   NaN   \n",
              "CALIDAD_ALC             1054      4                         Alta   790   \n",
              "CONDUCT_mS/cm         1054.0    NaN                          NaN   NaN   \n",
              "CALIDAD_CONDUC          1054      5        Permisible para riego   458   \n",
              "SDT_mg/L              1054.0    NaN                          NaN   NaN   \n",
              "SDT_M_mg/L            1054.0    NaN                          NaN   NaN   \n",
              "CALIDAD_SDT_ra          1054      5         Excelente para riego   485   \n",
              "CALIDAD_SDT_salin       1054      4              Potable - Dulce   826   \n",
              "FLUORUROS_mg/L        1054.0    NaN                          NaN   NaN   \n",
              "CALIDAD_FLUO            1054      4                         Baja   426   \n",
              "DUR_mg/L              1054.0    NaN                          NaN   NaN   \n",
              "CALIDAD_DUR             1054      4               Potable - Dura   572   \n",
              "COLI_FEC_NMP/100_mL   1054.0    NaN                          NaN   NaN   \n",
              "CALIDAD_COLI_FEC        1054      5          Potable - Excelente   730   \n",
              "N_NO3_mg/L            1054.0    NaN                          NaN   NaN   \n",
              "CALIDAD_N_NO3           1054      3          Potable - Excelente   780   \n",
              "AS_TOT_mg/L           1054.0    NaN                          NaN   NaN   \n",
              "CALIDAD_AS              1054      3          Potable - Excelente   805   \n",
              "CD_TOT_mg/L           1054.0    NaN                          NaN   NaN   \n",
              "CALIDAD_CD              1054      2          Potable - Excelente  1052   \n",
              "CR_TOT_mg/L           1054.0    NaN                          NaN   NaN   \n",
              "CALIDAD_CR              1054      2          Potable - Excelente  1039   \n",
              "HG_TOT_mg/L           1054.0    NaN                          NaN   NaN   \n",
              "CALIDAD_HG              1054      2          Potable - Excelente  1053   \n",
              "PB_TOT_mg/L           1054.0    NaN                          NaN   NaN   \n",
              "CALIDAD_PB              1054      2          Potable - Excelente  1042   \n",
              "MN_TOT_mg/L           1054.0    NaN                          NaN   NaN   \n",
              "CALIDAD_MN              1054      3          Potable - Excelente   969   \n",
              "FE_TOT_mg/L           1054.0    NaN                          NaN   NaN   \n",
              "CALIDAD_FE              1054      2          Potable - Excelente   920   \n",
              "SEMAFORO                1054      3                        Verde   427   \n",
              "CONTAMINANTES           1054    126                      Ninguno   427   \n",
              "CUMPLE_CON_ALC          1054      2                           SI   997   \n",
              "CUMPLE_CON_COND         1054      2                           SI   931   \n",
              "CUMPLE_CON_SDT_ra       1054      2                           SI   984   \n",
              "CUMPLE_CON_SDT_salin    1054      2                           SI   984   \n",
              "CUMPLE_CON_FLUO         1054      2                           SI   864   \n",
              "CUMPLE_CON_DUR          1054      2                           SI   829   \n",
              "CUMPLE_CON_CF           1054      2                           SI   993   \n",
              "CUMPLE_CON_NO3          1054      2                           SI   974   \n",
              "CUMPLE_CON_AS           1054      2                           SI   929   \n",
              "CUMPLE_CON_CD           1054      2                           SI  1052   \n",
              "CUMPLE_CON_CR           1054      2                           SI  1039   \n",
              "CUMPLE_CON_HG           1054      2                           SI  1053   \n",
              "CUMPLE_CON_PB           1054      2                           SI  1042   \n",
              "CUMPLE_CON_MN           1054      2                           SI   969   \n",
              "CUMPLE_CON_FE           1054      2                           SI   920   \n",
              "\n",
              "                             mean          std        min        25%  \\\n",
              "CLAVE                         NaN          NaN        NaN        NaN   \n",
              "SITIO                         NaN          NaN        NaN        NaN   \n",
              "ORGANISMO_DE_CUENCA           NaN          NaN        NaN        NaN   \n",
              "ESTADO                        NaN          NaN        NaN        NaN   \n",
              "MUNICIPIO                     NaN          NaN        NaN        NaN   \n",
              "ACUIFERO                      NaN          NaN        NaN        NaN   \n",
              "SUBTIPO                       NaN          NaN        NaN        NaN   \n",
              "LONGITUD               -101.84827     6.697568 -116.66425 -105.38517   \n",
              "LATITUD                 23.161796     3.875005   14.56115  20.224857   \n",
              "PERIODO                    2020.0          0.0     2020.0     2020.0   \n",
              "ALC_mg/L               234.695266   111.147849      26.64   164.2575   \n",
              "CALIDAD_ALC                   NaN          NaN        NaN        NaN   \n",
              "CONDUCT_mS/cm         1142.726471  1248.990617      110.0      506.0   \n",
              "CALIDAD_CONDUC                NaN          NaN        NaN        NaN   \n",
              "SDT_mg/L              1464.850095   1889.02723      864.0      864.0   \n",
              "SDT_M_mg/L             896.945797  2765.757924      101.2     338.05   \n",
              "CALIDAD_SDT_ra                NaN          NaN        NaN        NaN   \n",
              "CALIDAD_SDT_salin             NaN          NaN        NaN        NaN   \n",
              "FLUORUROS_mg/L           1.063557     1.938347        0.1   0.269475   \n",
              "CALIDAD_FLUO                  NaN          NaN        NaN        NaN   \n",
              "DUR_mg/L               349.663509   361.173585       10.3    121.512   \n",
              "CALIDAD_DUR                   NaN          NaN        NaN        NaN   \n",
              "COLI_FEC_NMP/100_mL    359.388805    2065.7658        0.6        0.6   \n",
              "CALIDAD_COLI_FEC              NaN          NaN        NaN        NaN   \n",
              "N_NO3_mg/L               4.321044     8.378644       0.01   0.651667   \n",
              "CALIDAD_N_NO3                 NaN          NaN        NaN        NaN   \n",
              "AS_TOT_mg/L              0.019504     0.035051       0.01       0.01   \n",
              "CALIDAD_AS                    NaN          NaN        NaN        NaN   \n",
              "CD_TOT_mg/L              0.002032     0.000934      0.002      0.002   \n",
              "CALIDAD_CD                    NaN          NaN        NaN        NaN   \n",
              "CR_TOT_mg/L              0.011751       0.1555      0.003      0.003   \n",
              "CALIDAD_CR                    NaN          NaN        NaN        NaN   \n",
              "HG_TOT_mg/L              0.000376     0.000495     0.0003     0.0003   \n",
              "CALIDAD_HG                    NaN          NaN        NaN        NaN   \n",
              "PB_TOT_mg/L              0.003342     0.003457      0.003      0.003   \n",
              "CALIDAD_PB                    NaN          NaN        NaN        NaN   \n",
              "MN_TOT_mg/L              0.072601     0.378924     0.0008     0.0008   \n",
              "CALIDAD_MN                    NaN          NaN        NaN        NaN   \n",
              "FE_TOT_mg/L              0.407726     5.574623      0.013      0.013   \n",
              "CALIDAD_FE                    NaN          NaN        NaN        NaN   \n",
              "SEMAFORO                      NaN          NaN        NaN        NaN   \n",
              "CONTAMINANTES                 NaN          NaN        NaN        NaN   \n",
              "CUMPLE_CON_ALC                NaN          NaN        NaN        NaN   \n",
              "CUMPLE_CON_COND               NaN          NaN        NaN        NaN   \n",
              "CUMPLE_CON_SDT_ra             NaN          NaN        NaN        NaN   \n",
              "CUMPLE_CON_SDT_salin          NaN          NaN        NaN        NaN   \n",
              "CUMPLE_CON_FLUO               NaN          NaN        NaN        NaN   \n",
              "CUMPLE_CON_DUR                NaN          NaN        NaN        NaN   \n",
              "CUMPLE_CON_CF                 NaN          NaN        NaN        NaN   \n",
              "CUMPLE_CON_NO3                NaN          NaN        NaN        NaN   \n",
              "CUMPLE_CON_AS                 NaN          NaN        NaN        NaN   \n",
              "CUMPLE_CON_CD                 NaN          NaN        NaN        NaN   \n",
              "CUMPLE_CON_CR                 NaN          NaN        NaN        NaN   \n",
              "CUMPLE_CON_HG                 NaN          NaN        NaN        NaN   \n",
              "CUMPLE_CON_PB                 NaN          NaN        NaN        NaN   \n",
              "CUMPLE_CON_MN                 NaN          NaN        NaN        NaN   \n",
              "CUMPLE_CON_FE                 NaN          NaN        NaN        NaN   \n",
              "\n",
              "                             50%        75%         max  \n",
              "CLAVE                        NaN        NaN         NaN  \n",
              "SITIO                        NaN        NaN         NaN  \n",
              "ORGANISMO_DE_CUENCA          NaN        NaN         NaN  \n",
              "ESTADO                       NaN        NaN         NaN  \n",
              "MUNICIPIO                    NaN        NaN         NaN  \n",
              "ACUIFERO                     NaN        NaN         NaN  \n",
              "SUBTIPO                      NaN        NaN         NaN  \n",
              "LONGITUD             -102.170665 -98.971268   -86.86412  \n",
              "LATITUD                22.640705   25.50877   32.677713  \n",
              "PERIODO                   2020.0     2020.0      2020.0  \n",
              "ALC_mg/L                 215.825     292.93      1650.0  \n",
              "CALIDAD_ALC                  NaN        NaN         NaN  \n",
              "CONDUCT_mS/cm              820.0     1328.0     18577.0  \n",
              "CALIDAD_CONDUC               NaN        NaN         NaN  \n",
              "SDT_mg/L                   864.0      864.0     23152.0  \n",
              "SDT_M_mg/L                 551.4      915.6     82170.0  \n",
              "CALIDAD_SDT_ra               NaN        NaN         NaN  \n",
              "CALIDAD_SDT_salin            NaN        NaN         NaN  \n",
              "FLUORUROS_mg/L           0.50695     1.1424     34.8033  \n",
              "CALIDAD_FLUO                 NaN        NaN         NaN  \n",
              "DUR_mg/L               245.99445   455.6172   3810.6922  \n",
              "CALIDAD_DUR                  NaN        NaN         NaN  \n",
              "COLI_FEC_NMP/100_mL          0.6      10.75     24196.0  \n",
              "CALIDAD_COLI_FEC             NaN        NaN         NaN  \n",
              "N_NO3_mg/L              2.082916   5.190385  121.007813  \n",
              "CALIDAD_N_NO3                NaN        NaN         NaN  \n",
              "AS_TOT_mg/L                 0.01       0.01      0.4522  \n",
              "CALIDAD_AS                   NaN        NaN         NaN  \n",
              "CD_TOT_mg/L                0.002      0.002     0.03211  \n",
              "CALIDAD_CD                   NaN        NaN         NaN  \n",
              "CR_TOT_mg/L                0.003      0.003      5.0032  \n",
              "CALIDAD_CR                   NaN        NaN         NaN  \n",
              "HG_TOT_mg/L               0.0003     0.0003     0.01415  \n",
              "CALIDAD_HG                   NaN        NaN         NaN  \n",
              "PB_TOT_mg/L                0.003      0.003      0.0809  \n",
              "CALIDAD_PB                   NaN        NaN         NaN  \n",
              "MN_TOT_mg/L               0.0008    0.00983       8.982  \n",
              "CALIDAD_MN                   NaN        NaN         NaN  \n",
              "FE_TOT_mg/L               0.0469   0.172275     178.615  \n",
              "CALIDAD_FE                   NaN        NaN         NaN  \n",
              "SEMAFORO                     NaN        NaN         NaN  \n",
              "CONTAMINANTES                NaN        NaN         NaN  \n",
              "CUMPLE_CON_ALC               NaN        NaN         NaN  \n",
              "CUMPLE_CON_COND              NaN        NaN         NaN  \n",
              "CUMPLE_CON_SDT_ra            NaN        NaN         NaN  \n",
              "CUMPLE_CON_SDT_salin         NaN        NaN         NaN  \n",
              "CUMPLE_CON_FLUO              NaN        NaN         NaN  \n",
              "CUMPLE_CON_DUR               NaN        NaN         NaN  \n",
              "CUMPLE_CON_CF                NaN        NaN         NaN  \n",
              "CUMPLE_CON_NO3               NaN        NaN         NaN  \n",
              "CUMPLE_CON_AS                NaN        NaN         NaN  \n",
              "CUMPLE_CON_CD                NaN        NaN         NaN  \n",
              "CUMPLE_CON_CR                NaN        NaN         NaN  \n",
              "CUMPLE_CON_HG                NaN        NaN         NaN  \n",
              "CUMPLE_CON_PB                NaN        NaN         NaN  \n",
              "CUMPLE_CON_MN                NaN        NaN         NaN  \n",
              "CUMPLE_CON_FE                NaN        NaN         NaN  "
            ],
            "text/html": [
              "\n",
              "  <div id=\"df-22deb085-7870-4281-b6b2-a8b4bb947ba9\">\n",
              "    <div class=\"colab-df-container\">\n",
              "      <div>\n",
              "<style scoped>\n",
              "    .dataframe tbody tr th:only-of-type {\n",
              "        vertical-align: middle;\n",
              "    }\n",
              "\n",
              "    .dataframe tbody tr th {\n",
              "        vertical-align: top;\n",
              "    }\n",
              "\n",
              "    .dataframe thead th {\n",
              "        text-align: right;\n",
              "    }\n",
              "</style>\n",
              "<table border=\"1\" class=\"dataframe\">\n",
              "  <thead>\n",
              "    <tr style=\"text-align: right;\">\n",
              "      <th></th>\n",
              "      <th>count</th>\n",
              "      <th>unique</th>\n",
              "      <th>top</th>\n",
              "      <th>freq</th>\n",
              "      <th>mean</th>\n",
              "      <th>std</th>\n",
              "      <th>min</th>\n",
              "      <th>25%</th>\n",
              "      <th>50%</th>\n",
              "      <th>75%</th>\n",
              "      <th>max</th>\n",
              "    </tr>\n",
              "  </thead>\n",
              "  <tbody>\n",
              "    <tr>\n",
              "      <th>CLAVE</th>\n",
              "      <td>1054</td>\n",
              "      <td>1054</td>\n",
              "      <td>DLAGU6</td>\n",
              "      <td>1</td>\n",
              "      <td>NaN</td>\n",
              "      <td>NaN</td>\n",
              "      <td>NaN</td>\n",
              "      <td>NaN</td>\n",
              "      <td>NaN</td>\n",
              "      <td>NaN</td>\n",
              "      <td>NaN</td>\n",
              "    </tr>\n",
              "    <tr>\n",
              "      <th>SITIO</th>\n",
              "      <td>1054</td>\n",
              "      <td>1052</td>\n",
              "      <td>POZO VILLA UNION</td>\n",
              "      <td>2</td>\n",
              "      <td>NaN</td>\n",
              "      <td>NaN</td>\n",
              "      <td>NaN</td>\n",
              "      <td>NaN</td>\n",
              "      <td>NaN</td>\n",
              "      <td>NaN</td>\n",
              "      <td>NaN</td>\n",
              "    </tr>\n",
              "    <tr>\n",
              "      <th>ORGANISMO_DE_CUENCA</th>\n",
              "      <td>1054</td>\n",
              "      <td>13</td>\n",
              "      <td>CUENCAS CENTRALES DEL NORTE</td>\n",
              "      <td>231</td>\n",
              "      <td>NaN</td>\n",
              "      <td>NaN</td>\n",
              "      <td>NaN</td>\n",
              "      <td>NaN</td>\n",
              "      <td>NaN</td>\n",
              "      <td>NaN</td>\n",
              "      <td>NaN</td>\n",
              "    </tr>\n",
              "    <tr>\n",
              "      <th>ESTADO</th>\n",
              "      <td>1054</td>\n",
              "      <td>32</td>\n",
              "      <td>DURANGO</td>\n",
              "      <td>119</td>\n",
              "      <td>NaN</td>\n",
              "      <td>NaN</td>\n",
              "      <td>NaN</td>\n",
              "      <td>NaN</td>\n",
              "      <td>NaN</td>\n",
              "      <td>NaN</td>\n",
              "      <td>NaN</td>\n",
              "    </tr>\n",
              "    <tr>\n",
              "      <th>MUNICIPIO</th>\n",
              "      <td>1054</td>\n",
              "      <td>447</td>\n",
              "      <td>LA PAZ</td>\n",
              "      <td>26</td>\n",
              "      <td>NaN</td>\n",
              "      <td>NaN</td>\n",
              "      <td>NaN</td>\n",
              "      <td>NaN</td>\n",
              "      <td>NaN</td>\n",
              "      <td>NaN</td>\n",
              "      <td>NaN</td>\n",
              "    </tr>\n",
              "    <tr>\n",
              "      <th>ACUIFERO</th>\n",
              "      <td>1054</td>\n",
              "      <td>272</td>\n",
              "      <td>PENINSULA DE YUCATAN</td>\n",
              "      <td>119</td>\n",
              "      <td>NaN</td>\n",
              "      <td>NaN</td>\n",
              "      <td>NaN</td>\n",
              "      <td>NaN</td>\n",
              "      <td>NaN</td>\n",
              "      <td>NaN</td>\n",
              "      <td>NaN</td>\n",
              "    </tr>\n",
              "    <tr>\n",
              "      <th>SUBTIPO</th>\n",
              "      <td>1054</td>\n",
              "      <td>8</td>\n",
              "      <td>POZO</td>\n",
              "      <td>1025</td>\n",
              "      <td>NaN</td>\n",
              "      <td>NaN</td>\n",
              "      <td>NaN</td>\n",
              "      <td>NaN</td>\n",
              "      <td>NaN</td>\n",
              "      <td>NaN</td>\n",
              "      <td>NaN</td>\n",
              "    </tr>\n",
              "    <tr>\n",
              "      <th>LONGITUD</th>\n",
              "      <td>1054.0</td>\n",
              "      <td>NaN</td>\n",
              "      <td>NaN</td>\n",
              "      <td>NaN</td>\n",
              "      <td>-101.84827</td>\n",
              "      <td>6.697568</td>\n",
              "      <td>-116.66425</td>\n",
              "      <td>-105.38517</td>\n",
              "      <td>-102.170665</td>\n",
              "      <td>-98.971268</td>\n",
              "      <td>-86.86412</td>\n",
              "    </tr>\n",
              "    <tr>\n",
              "      <th>LATITUD</th>\n",
              "      <td>1054.0</td>\n",
              "      <td>NaN</td>\n",
              "      <td>NaN</td>\n",
              "      <td>NaN</td>\n",
              "      <td>23.161796</td>\n",
              "      <td>3.875005</td>\n",
              "      <td>14.56115</td>\n",
              "      <td>20.224857</td>\n",
              "      <td>22.640705</td>\n",
              "      <td>25.50877</td>\n",
              "      <td>32.677713</td>\n",
              "    </tr>\n",
              "    <tr>\n",
              "      <th>PERIODO</th>\n",
              "      <td>1054.0</td>\n",
              "      <td>NaN</td>\n",
              "      <td>NaN</td>\n",
              "      <td>NaN</td>\n",
              "      <td>2020.0</td>\n",
              "      <td>0.0</td>\n",
              "      <td>2020.0</td>\n",
              "      <td>2020.0</td>\n",
              "      <td>2020.0</td>\n",
              "      <td>2020.0</td>\n",
              "      <td>2020.0</td>\n",
              "    </tr>\n",
              "    <tr>\n",
              "      <th>ALC_mg/L</th>\n",
              "      <td>1054.0</td>\n",
              "      <td>NaN</td>\n",
              "      <td>NaN</td>\n",
              "      <td>NaN</td>\n",
              "      <td>234.695266</td>\n",
              "      <td>111.147849</td>\n",
              "      <td>26.64</td>\n",
              "      <td>164.2575</td>\n",
              "      <td>215.825</td>\n",
              "      <td>292.93</td>\n",
              "      <td>1650.0</td>\n",
              "    </tr>\n",
              "    <tr>\n",
              "      <th>CALIDAD_ALC</th>\n",
              "      <td>1054</td>\n",
              "      <td>4</td>\n",
              "      <td>Alta</td>\n",
              "      <td>790</td>\n",
              "      <td>NaN</td>\n",
              "      <td>NaN</td>\n",
              "      <td>NaN</td>\n",
              "      <td>NaN</td>\n",
              "      <td>NaN</td>\n",
              "      <td>NaN</td>\n",
              "      <td>NaN</td>\n",
              "    </tr>\n",
              "    <tr>\n",
              "      <th>CONDUCT_mS/cm</th>\n",
              "      <td>1054.0</td>\n",
              "      <td>NaN</td>\n",
              "      <td>NaN</td>\n",
              "      <td>NaN</td>\n",
              "      <td>1142.726471</td>\n",
              "      <td>1248.990617</td>\n",
              "      <td>110.0</td>\n",
              "      <td>506.0</td>\n",
              "      <td>820.0</td>\n",
              "      <td>1328.0</td>\n",
              "      <td>18577.0</td>\n",
              "    </tr>\n",
              "    <tr>\n",
              "      <th>CALIDAD_CONDUC</th>\n",
              "      <td>1054</td>\n",
              "      <td>5</td>\n",
              "      <td>Permisible para riego</td>\n",
              "      <td>458</td>\n",
              "      <td>NaN</td>\n",
              "      <td>NaN</td>\n",
              "      <td>NaN</td>\n",
              "      <td>NaN</td>\n",
              "      <td>NaN</td>\n",
              "      <td>NaN</td>\n",
              "      <td>NaN</td>\n",
              "    </tr>\n",
              "    <tr>\n",
              "      <th>SDT_mg/L</th>\n",
              "      <td>1054.0</td>\n",
              "      <td>NaN</td>\n",
              "      <td>NaN</td>\n",
              "      <td>NaN</td>\n",
              "      <td>1464.850095</td>\n",
              "      <td>1889.02723</td>\n",
              "      <td>864.0</td>\n",
              "      <td>864.0</td>\n",
              "      <td>864.0</td>\n",
              "      <td>864.0</td>\n",
              "      <td>23152.0</td>\n",
              "    </tr>\n",
              "    <tr>\n",
              "      <th>SDT_M_mg/L</th>\n",
              "      <td>1054.0</td>\n",
              "      <td>NaN</td>\n",
              "      <td>NaN</td>\n",
              "      <td>NaN</td>\n",
              "      <td>896.945797</td>\n",
              "      <td>2765.757924</td>\n",
              "      <td>101.2</td>\n",
              "      <td>338.05</td>\n",
              "      <td>551.4</td>\n",
              "      <td>915.6</td>\n",
              "      <td>82170.0</td>\n",
              "    </tr>\n",
              "    <tr>\n",
              "      <th>CALIDAD_SDT_ra</th>\n",
              "      <td>1054</td>\n",
              "      <td>5</td>\n",
              "      <td>Excelente para riego</td>\n",
              "      <td>485</td>\n",
              "      <td>NaN</td>\n",
              "      <td>NaN</td>\n",
              "      <td>NaN</td>\n",
              "      <td>NaN</td>\n",
              "      <td>NaN</td>\n",
              "      <td>NaN</td>\n",
              "      <td>NaN</td>\n",
              "    </tr>\n",
              "    <tr>\n",
              "      <th>CALIDAD_SDT_salin</th>\n",
              "      <td>1054</td>\n",
              "      <td>4</td>\n",
              "      <td>Potable - Dulce</td>\n",
              "      <td>826</td>\n",
              "      <td>NaN</td>\n",
              "      <td>NaN</td>\n",
              "      <td>NaN</td>\n",
              "      <td>NaN</td>\n",
              "      <td>NaN</td>\n",
              "      <td>NaN</td>\n",
              "      <td>NaN</td>\n",
              "    </tr>\n",
              "    <tr>\n",
              "      <th>FLUORUROS_mg/L</th>\n",
              "      <td>1054.0</td>\n",
              "      <td>NaN</td>\n",
              "      <td>NaN</td>\n",
              "      <td>NaN</td>\n",
              "      <td>1.063557</td>\n",
              "      <td>1.938347</td>\n",
              "      <td>0.1</td>\n",
              "      <td>0.269475</td>\n",
              "      <td>0.50695</td>\n",
              "      <td>1.1424</td>\n",
              "      <td>34.8033</td>\n",
              "    </tr>\n",
              "    <tr>\n",
              "      <th>CALIDAD_FLUO</th>\n",
              "      <td>1054</td>\n",
              "      <td>4</td>\n",
              "      <td>Baja</td>\n",
              "      <td>426</td>\n",
              "      <td>NaN</td>\n",
              "      <td>NaN</td>\n",
              "      <td>NaN</td>\n",
              "      <td>NaN</td>\n",
              "      <td>NaN</td>\n",
              "      <td>NaN</td>\n",
              "      <td>NaN</td>\n",
              "    </tr>\n",
              "    <tr>\n",
              "      <th>DUR_mg/L</th>\n",
              "      <td>1054.0</td>\n",
              "      <td>NaN</td>\n",
              "      <td>NaN</td>\n",
              "      <td>NaN</td>\n",
              "      <td>349.663509</td>\n",
              "      <td>361.173585</td>\n",
              "      <td>10.3</td>\n",
              "      <td>121.512</td>\n",
              "      <td>245.99445</td>\n",
              "      <td>455.6172</td>\n",
              "      <td>3810.6922</td>\n",
              "    </tr>\n",
              "    <tr>\n",
              "      <th>CALIDAD_DUR</th>\n",
              "      <td>1054</td>\n",
              "      <td>4</td>\n",
              "      <td>Potable - Dura</td>\n",
              "      <td>572</td>\n",
              "      <td>NaN</td>\n",
              "      <td>NaN</td>\n",
              "      <td>NaN</td>\n",
              "      <td>NaN</td>\n",
              "      <td>NaN</td>\n",
              "      <td>NaN</td>\n",
              "      <td>NaN</td>\n",
              "    </tr>\n",
              "    <tr>\n",
              "      <th>COLI_FEC_NMP/100_mL</th>\n",
              "      <td>1054.0</td>\n",
              "      <td>NaN</td>\n",
              "      <td>NaN</td>\n",
              "      <td>NaN</td>\n",
              "      <td>359.388805</td>\n",
              "      <td>2065.7658</td>\n",
              "      <td>0.6</td>\n",
              "      <td>0.6</td>\n",
              "      <td>0.6</td>\n",
              "      <td>10.75</td>\n",
              "      <td>24196.0</td>\n",
              "    </tr>\n",
              "    <tr>\n",
              "      <th>CALIDAD_COLI_FEC</th>\n",
              "      <td>1054</td>\n",
              "      <td>5</td>\n",
              "      <td>Potable - Excelente</td>\n",
              "      <td>730</td>\n",
              "      <td>NaN</td>\n",
              "      <td>NaN</td>\n",
              "      <td>NaN</td>\n",
              "      <td>NaN</td>\n",
              "      <td>NaN</td>\n",
              "      <td>NaN</td>\n",
              "      <td>NaN</td>\n",
              "    </tr>\n",
              "    <tr>\n",
              "      <th>N_NO3_mg/L</th>\n",
              "      <td>1054.0</td>\n",
              "      <td>NaN</td>\n",
              "      <td>NaN</td>\n",
              "      <td>NaN</td>\n",
              "      <td>4.321044</td>\n",
              "      <td>8.378644</td>\n",
              "      <td>0.01</td>\n",
              "      <td>0.651667</td>\n",
              "      <td>2.082916</td>\n",
              "      <td>5.190385</td>\n",
              "      <td>121.007813</td>\n",
              "    </tr>\n",
              "    <tr>\n",
              "      <th>CALIDAD_N_NO3</th>\n",
              "      <td>1054</td>\n",
              "      <td>3</td>\n",
              "      <td>Potable - Excelente</td>\n",
              "      <td>780</td>\n",
              "      <td>NaN</td>\n",
              "      <td>NaN</td>\n",
              "      <td>NaN</td>\n",
              "      <td>NaN</td>\n",
              "      <td>NaN</td>\n",
              "      <td>NaN</td>\n",
              "      <td>NaN</td>\n",
              "    </tr>\n",
              "    <tr>\n",
              "      <th>AS_TOT_mg/L</th>\n",
              "      <td>1054.0</td>\n",
              "      <td>NaN</td>\n",
              "      <td>NaN</td>\n",
              "      <td>NaN</td>\n",
              "      <td>0.019504</td>\n",
              "      <td>0.035051</td>\n",
              "      <td>0.01</td>\n",
              "      <td>0.01</td>\n",
              "      <td>0.01</td>\n",
              "      <td>0.01</td>\n",
              "      <td>0.4522</td>\n",
              "    </tr>\n",
              "    <tr>\n",
              "      <th>CALIDAD_AS</th>\n",
              "      <td>1054</td>\n",
              "      <td>3</td>\n",
              "      <td>Potable - Excelente</td>\n",
              "      <td>805</td>\n",
              "      <td>NaN</td>\n",
              "      <td>NaN</td>\n",
              "      <td>NaN</td>\n",
              "      <td>NaN</td>\n",
              "      <td>NaN</td>\n",
              "      <td>NaN</td>\n",
              "      <td>NaN</td>\n",
              "    </tr>\n",
              "    <tr>\n",
              "      <th>CD_TOT_mg/L</th>\n",
              "      <td>1054.0</td>\n",
              "      <td>NaN</td>\n",
              "      <td>NaN</td>\n",
              "      <td>NaN</td>\n",
              "      <td>0.002032</td>\n",
              "      <td>0.000934</td>\n",
              "      <td>0.002</td>\n",
              "      <td>0.002</td>\n",
              "      <td>0.002</td>\n",
              "      <td>0.002</td>\n",
              "      <td>0.03211</td>\n",
              "    </tr>\n",
              "    <tr>\n",
              "      <th>CALIDAD_CD</th>\n",
              "      <td>1054</td>\n",
              "      <td>2</td>\n",
              "      <td>Potable - Excelente</td>\n",
              "      <td>1052</td>\n",
              "      <td>NaN</td>\n",
              "      <td>NaN</td>\n",
              "      <td>NaN</td>\n",
              "      <td>NaN</td>\n",
              "      <td>NaN</td>\n",
              "      <td>NaN</td>\n",
              "      <td>NaN</td>\n",
              "    </tr>\n",
              "    <tr>\n",
              "      <th>CR_TOT_mg/L</th>\n",
              "      <td>1054.0</td>\n",
              "      <td>NaN</td>\n",
              "      <td>NaN</td>\n",
              "      <td>NaN</td>\n",
              "      <td>0.011751</td>\n",
              "      <td>0.1555</td>\n",
              "      <td>0.003</td>\n",
              "      <td>0.003</td>\n",
              "      <td>0.003</td>\n",
              "      <td>0.003</td>\n",
              "      <td>5.0032</td>\n",
              "    </tr>\n",
              "    <tr>\n",
              "      <th>CALIDAD_CR</th>\n",
              "      <td>1054</td>\n",
              "      <td>2</td>\n",
              "      <td>Potable - Excelente</td>\n",
              "      <td>1039</td>\n",
              "      <td>NaN</td>\n",
              "      <td>NaN</td>\n",
              "      <td>NaN</td>\n",
              "      <td>NaN</td>\n",
              "      <td>NaN</td>\n",
              "      <td>NaN</td>\n",
              "      <td>NaN</td>\n",
              "    </tr>\n",
              "    <tr>\n",
              "      <th>HG_TOT_mg/L</th>\n",
              "      <td>1054.0</td>\n",
              "      <td>NaN</td>\n",
              "      <td>NaN</td>\n",
              "      <td>NaN</td>\n",
              "      <td>0.000376</td>\n",
              "      <td>0.000495</td>\n",
              "      <td>0.0003</td>\n",
              "      <td>0.0003</td>\n",
              "      <td>0.0003</td>\n",
              "      <td>0.0003</td>\n",
              "      <td>0.01415</td>\n",
              "    </tr>\n",
              "    <tr>\n",
              "      <th>CALIDAD_HG</th>\n",
              "      <td>1054</td>\n",
              "      <td>2</td>\n",
              "      <td>Potable - Excelente</td>\n",
              "      <td>1053</td>\n",
              "      <td>NaN</td>\n",
              "      <td>NaN</td>\n",
              "      <td>NaN</td>\n",
              "      <td>NaN</td>\n",
              "      <td>NaN</td>\n",
              "      <td>NaN</td>\n",
              "      <td>NaN</td>\n",
              "    </tr>\n",
              "    <tr>\n",
              "      <th>PB_TOT_mg/L</th>\n",
              "      <td>1054.0</td>\n",
              "      <td>NaN</td>\n",
              "      <td>NaN</td>\n",
              "      <td>NaN</td>\n",
              "      <td>0.003342</td>\n",
              "      <td>0.003457</td>\n",
              "      <td>0.003</td>\n",
              "      <td>0.003</td>\n",
              "      <td>0.003</td>\n",
              "      <td>0.003</td>\n",
              "      <td>0.0809</td>\n",
              "    </tr>\n",
              "    <tr>\n",
              "      <th>CALIDAD_PB</th>\n",
              "      <td>1054</td>\n",
              "      <td>2</td>\n",
              "      <td>Potable - Excelente</td>\n",
              "      <td>1042</td>\n",
              "      <td>NaN</td>\n",
              "      <td>NaN</td>\n",
              "      <td>NaN</td>\n",
              "      <td>NaN</td>\n",
              "      <td>NaN</td>\n",
              "      <td>NaN</td>\n",
              "      <td>NaN</td>\n",
              "    </tr>\n",
              "    <tr>\n",
              "      <th>MN_TOT_mg/L</th>\n",
              "      <td>1054.0</td>\n",
              "      <td>NaN</td>\n",
              "      <td>NaN</td>\n",
              "      <td>NaN</td>\n",
              "      <td>0.072601</td>\n",
              "      <td>0.378924</td>\n",
              "      <td>0.0008</td>\n",
              "      <td>0.0008</td>\n",
              "      <td>0.0008</td>\n",
              "      <td>0.00983</td>\n",
              "      <td>8.982</td>\n",
              "    </tr>\n",
              "    <tr>\n",
              "      <th>CALIDAD_MN</th>\n",
              "      <td>1054</td>\n",
              "      <td>3</td>\n",
              "      <td>Potable - Excelente</td>\n",
              "      <td>969</td>\n",
              "      <td>NaN</td>\n",
              "      <td>NaN</td>\n",
              "      <td>NaN</td>\n",
              "      <td>NaN</td>\n",
              "      <td>NaN</td>\n",
              "      <td>NaN</td>\n",
              "      <td>NaN</td>\n",
              "    </tr>\n",
              "    <tr>\n",
              "      <th>FE_TOT_mg/L</th>\n",
              "      <td>1054.0</td>\n",
              "      <td>NaN</td>\n",
              "      <td>NaN</td>\n",
              "      <td>NaN</td>\n",
              "      <td>0.407726</td>\n",
              "      <td>5.574623</td>\n",
              "      <td>0.013</td>\n",
              "      <td>0.013</td>\n",
              "      <td>0.0469</td>\n",
              "      <td>0.172275</td>\n",
              "      <td>178.615</td>\n",
              "    </tr>\n",
              "    <tr>\n",
              "      <th>CALIDAD_FE</th>\n",
              "      <td>1054</td>\n",
              "      <td>2</td>\n",
              "      <td>Potable - Excelente</td>\n",
              "      <td>920</td>\n",
              "      <td>NaN</td>\n",
              "      <td>NaN</td>\n",
              "      <td>NaN</td>\n",
              "      <td>NaN</td>\n",
              "      <td>NaN</td>\n",
              "      <td>NaN</td>\n",
              "      <td>NaN</td>\n",
              "    </tr>\n",
              "    <tr>\n",
              "      <th>SEMAFORO</th>\n",
              "      <td>1054</td>\n",
              "      <td>3</td>\n",
              "      <td>Verde</td>\n",
              "      <td>427</td>\n",
              "      <td>NaN</td>\n",
              "      <td>NaN</td>\n",
              "      <td>NaN</td>\n",
              "      <td>NaN</td>\n",
              "      <td>NaN</td>\n",
              "      <td>NaN</td>\n",
              "      <td>NaN</td>\n",
              "    </tr>\n",
              "    <tr>\n",
              "      <th>CONTAMINANTES</th>\n",
              "      <td>1054</td>\n",
              "      <td>126</td>\n",
              "      <td>Ninguno</td>\n",
              "      <td>427</td>\n",
              "      <td>NaN</td>\n",
              "      <td>NaN</td>\n",
              "      <td>NaN</td>\n",
              "      <td>NaN</td>\n",
              "      <td>NaN</td>\n",
              "      <td>NaN</td>\n",
              "      <td>NaN</td>\n",
              "    </tr>\n",
              "    <tr>\n",
              "      <th>CUMPLE_CON_ALC</th>\n",
              "      <td>1054</td>\n",
              "      <td>2</td>\n",
              "      <td>SI</td>\n",
              "      <td>997</td>\n",
              "      <td>NaN</td>\n",
              "      <td>NaN</td>\n",
              "      <td>NaN</td>\n",
              "      <td>NaN</td>\n",
              "      <td>NaN</td>\n",
              "      <td>NaN</td>\n",
              "      <td>NaN</td>\n",
              "    </tr>\n",
              "    <tr>\n",
              "      <th>CUMPLE_CON_COND</th>\n",
              "      <td>1054</td>\n",
              "      <td>2</td>\n",
              "      <td>SI</td>\n",
              "      <td>931</td>\n",
              "      <td>NaN</td>\n",
              "      <td>NaN</td>\n",
              "      <td>NaN</td>\n",
              "      <td>NaN</td>\n",
              "      <td>NaN</td>\n",
              "      <td>NaN</td>\n",
              "      <td>NaN</td>\n",
              "    </tr>\n",
              "    <tr>\n",
              "      <th>CUMPLE_CON_SDT_ra</th>\n",
              "      <td>1054</td>\n",
              "      <td>2</td>\n",
              "      <td>SI</td>\n",
              "      <td>984</td>\n",
              "      <td>NaN</td>\n",
              "      <td>NaN</td>\n",
              "      <td>NaN</td>\n",
              "      <td>NaN</td>\n",
              "      <td>NaN</td>\n",
              "      <td>NaN</td>\n",
              "      <td>NaN</td>\n",
              "    </tr>\n",
              "    <tr>\n",
              "      <th>CUMPLE_CON_SDT_salin</th>\n",
              "      <td>1054</td>\n",
              "      <td>2</td>\n",
              "      <td>SI</td>\n",
              "      <td>984</td>\n",
              "      <td>NaN</td>\n",
              "      <td>NaN</td>\n",
              "      <td>NaN</td>\n",
              "      <td>NaN</td>\n",
              "      <td>NaN</td>\n",
              "      <td>NaN</td>\n",
              "      <td>NaN</td>\n",
              "    </tr>\n",
              "    <tr>\n",
              "      <th>CUMPLE_CON_FLUO</th>\n",
              "      <td>1054</td>\n",
              "      <td>2</td>\n",
              "      <td>SI</td>\n",
              "      <td>864</td>\n",
              "      <td>NaN</td>\n",
              "      <td>NaN</td>\n",
              "      <td>NaN</td>\n",
              "      <td>NaN</td>\n",
              "      <td>NaN</td>\n",
              "      <td>NaN</td>\n",
              "      <td>NaN</td>\n",
              "    </tr>\n",
              "    <tr>\n",
              "      <th>CUMPLE_CON_DUR</th>\n",
              "      <td>1054</td>\n",
              "      <td>2</td>\n",
              "      <td>SI</td>\n",
              "      <td>829</td>\n",
              "      <td>NaN</td>\n",
              "      <td>NaN</td>\n",
              "      <td>NaN</td>\n",
              "      <td>NaN</td>\n",
              "      <td>NaN</td>\n",
              "      <td>NaN</td>\n",
              "      <td>NaN</td>\n",
              "    </tr>\n",
              "    <tr>\n",
              "      <th>CUMPLE_CON_CF</th>\n",
              "      <td>1054</td>\n",
              "      <td>2</td>\n",
              "      <td>SI</td>\n",
              "      <td>993</td>\n",
              "      <td>NaN</td>\n",
              "      <td>NaN</td>\n",
              "      <td>NaN</td>\n",
              "      <td>NaN</td>\n",
              "      <td>NaN</td>\n",
              "      <td>NaN</td>\n",
              "      <td>NaN</td>\n",
              "    </tr>\n",
              "    <tr>\n",
              "      <th>CUMPLE_CON_NO3</th>\n",
              "      <td>1054</td>\n",
              "      <td>2</td>\n",
              "      <td>SI</td>\n",
              "      <td>974</td>\n",
              "      <td>NaN</td>\n",
              "      <td>NaN</td>\n",
              "      <td>NaN</td>\n",
              "      <td>NaN</td>\n",
              "      <td>NaN</td>\n",
              "      <td>NaN</td>\n",
              "      <td>NaN</td>\n",
              "    </tr>\n",
              "    <tr>\n",
              "      <th>CUMPLE_CON_AS</th>\n",
              "      <td>1054</td>\n",
              "      <td>2</td>\n",
              "      <td>SI</td>\n",
              "      <td>929</td>\n",
              "      <td>NaN</td>\n",
              "      <td>NaN</td>\n",
              "      <td>NaN</td>\n",
              "      <td>NaN</td>\n",
              "      <td>NaN</td>\n",
              "      <td>NaN</td>\n",
              "      <td>NaN</td>\n",
              "    </tr>\n",
              "    <tr>\n",
              "      <th>CUMPLE_CON_CD</th>\n",
              "      <td>1054</td>\n",
              "      <td>2</td>\n",
              "      <td>SI</td>\n",
              "      <td>1052</td>\n",
              "      <td>NaN</td>\n",
              "      <td>NaN</td>\n",
              "      <td>NaN</td>\n",
              "      <td>NaN</td>\n",
              "      <td>NaN</td>\n",
              "      <td>NaN</td>\n",
              "      <td>NaN</td>\n",
              "    </tr>\n",
              "    <tr>\n",
              "      <th>CUMPLE_CON_CR</th>\n",
              "      <td>1054</td>\n",
              "      <td>2</td>\n",
              "      <td>SI</td>\n",
              "      <td>1039</td>\n",
              "      <td>NaN</td>\n",
              "      <td>NaN</td>\n",
              "      <td>NaN</td>\n",
              "      <td>NaN</td>\n",
              "      <td>NaN</td>\n",
              "      <td>NaN</td>\n",
              "      <td>NaN</td>\n",
              "    </tr>\n",
              "    <tr>\n",
              "      <th>CUMPLE_CON_HG</th>\n",
              "      <td>1054</td>\n",
              "      <td>2</td>\n",
              "      <td>SI</td>\n",
              "      <td>1053</td>\n",
              "      <td>NaN</td>\n",
              "      <td>NaN</td>\n",
              "      <td>NaN</td>\n",
              "      <td>NaN</td>\n",
              "      <td>NaN</td>\n",
              "      <td>NaN</td>\n",
              "      <td>NaN</td>\n",
              "    </tr>\n",
              "    <tr>\n",
              "      <th>CUMPLE_CON_PB</th>\n",
              "      <td>1054</td>\n",
              "      <td>2</td>\n",
              "      <td>SI</td>\n",
              "      <td>1042</td>\n",
              "      <td>NaN</td>\n",
              "      <td>NaN</td>\n",
              "      <td>NaN</td>\n",
              "      <td>NaN</td>\n",
              "      <td>NaN</td>\n",
              "      <td>NaN</td>\n",
              "      <td>NaN</td>\n",
              "    </tr>\n",
              "    <tr>\n",
              "      <th>CUMPLE_CON_MN</th>\n",
              "      <td>1054</td>\n",
              "      <td>2</td>\n",
              "      <td>SI</td>\n",
              "      <td>969</td>\n",
              "      <td>NaN</td>\n",
              "      <td>NaN</td>\n",
              "      <td>NaN</td>\n",
              "      <td>NaN</td>\n",
              "      <td>NaN</td>\n",
              "      <td>NaN</td>\n",
              "      <td>NaN</td>\n",
              "    </tr>\n",
              "    <tr>\n",
              "      <th>CUMPLE_CON_FE</th>\n",
              "      <td>1054</td>\n",
              "      <td>2</td>\n",
              "      <td>SI</td>\n",
              "      <td>920</td>\n",
              "      <td>NaN</td>\n",
              "      <td>NaN</td>\n",
              "      <td>NaN</td>\n",
              "      <td>NaN</td>\n",
              "      <td>NaN</td>\n",
              "      <td>NaN</td>\n",
              "      <td>NaN</td>\n",
              "    </tr>\n",
              "  </tbody>\n",
              "</table>\n",
              "</div>\n",
              "      <button class=\"colab-df-convert\" onclick=\"convertToInteractive('df-22deb085-7870-4281-b6b2-a8b4bb947ba9')\"\n",
              "              title=\"Convert this dataframe to an interactive table.\"\n",
              "              style=\"display:none;\">\n",
              "        \n",
              "  <svg xmlns=\"http://www.w3.org/2000/svg\" height=\"24px\"viewBox=\"0 0 24 24\"\n",
              "       width=\"24px\">\n",
              "    <path d=\"M0 0h24v24H0V0z\" fill=\"none\"/>\n",
              "    <path d=\"M18.56 5.44l.94 2.06.94-2.06 2.06-.94-2.06-.94-.94-2.06-.94 2.06-2.06.94zm-11 1L8.5 8.5l.94-2.06 2.06-.94-2.06-.94L8.5 2.5l-.94 2.06-2.06.94zm10 10l.94 2.06.94-2.06 2.06-.94-2.06-.94-.94-2.06-.94 2.06-2.06.94z\"/><path d=\"M17.41 7.96l-1.37-1.37c-.4-.4-.92-.59-1.43-.59-.52 0-1.04.2-1.43.59L10.3 9.45l-7.72 7.72c-.78.78-.78 2.05 0 2.83L4 21.41c.39.39.9.59 1.41.59.51 0 1.02-.2 1.41-.59l7.78-7.78 2.81-2.81c.8-.78.8-2.07 0-2.86zM5.41 20L4 18.59l7.72-7.72 1.47 1.35L5.41 20z\"/>\n",
              "  </svg>\n",
              "      </button>\n",
              "      \n",
              "  <style>\n",
              "    .colab-df-container {\n",
              "      display:flex;\n",
              "      flex-wrap:wrap;\n",
              "      gap: 12px;\n",
              "    }\n",
              "\n",
              "    .colab-df-convert {\n",
              "      background-color: #E8F0FE;\n",
              "      border: none;\n",
              "      border-radius: 50%;\n",
              "      cursor: pointer;\n",
              "      display: none;\n",
              "      fill: #1967D2;\n",
              "      height: 32px;\n",
              "      padding: 0 0 0 0;\n",
              "      width: 32px;\n",
              "    }\n",
              "\n",
              "    .colab-df-convert:hover {\n",
              "      background-color: #E2EBFA;\n",
              "      box-shadow: 0px 1px 2px rgba(60, 64, 67, 0.3), 0px 1px 3px 1px rgba(60, 64, 67, 0.15);\n",
              "      fill: #174EA6;\n",
              "    }\n",
              "\n",
              "    [theme=dark] .colab-df-convert {\n",
              "      background-color: #3B4455;\n",
              "      fill: #D2E3FC;\n",
              "    }\n",
              "\n",
              "    [theme=dark] .colab-df-convert:hover {\n",
              "      background-color: #434B5C;\n",
              "      box-shadow: 0px 1px 3px 1px rgba(0, 0, 0, 0.15);\n",
              "      filter: drop-shadow(0px 1px 2px rgba(0, 0, 0, 0.3));\n",
              "      fill: #FFFFFF;\n",
              "    }\n",
              "  </style>\n",
              "\n",
              "      <script>\n",
              "        const buttonEl =\n",
              "          document.querySelector('#df-22deb085-7870-4281-b6b2-a8b4bb947ba9 button.colab-df-convert');\n",
              "        buttonEl.style.display =\n",
              "          google.colab.kernel.accessAllowed ? 'block' : 'none';\n",
              "\n",
              "        async function convertToInteractive(key) {\n",
              "          const element = document.querySelector('#df-22deb085-7870-4281-b6b2-a8b4bb947ba9');\n",
              "          const dataTable =\n",
              "            await google.colab.kernel.invokeFunction('convertToInteractive',\n",
              "                                                     [key], {});\n",
              "          if (!dataTable) return;\n",
              "\n",
              "          const docLinkHtml = 'Like what you see? Visit the ' +\n",
              "            '<a target=\"_blank\" href=https://colab.research.google.com/notebooks/data_table.ipynb>data table notebook</a>'\n",
              "            + ' to learn more about interactive tables.';\n",
              "          element.innerHTML = '';\n",
              "          dataTable['output_type'] = 'display_data';\n",
              "          await google.colab.output.renderOutput(dataTable, element);\n",
              "          const docLink = document.createElement('div');\n",
              "          docLink.innerHTML = docLinkHtml;\n",
              "          element.appendChild(docLink);\n",
              "        }\n",
              "      </script>\n",
              "    </div>\n",
              "  </div>\n",
              "  "
            ]
          },
          "metadata": {},
          "execution_count": 416
        }
      ]
    },
    {
      "cell_type": "markdown",
      "source": [
        "---\n",
        "\n",
        "*   Identificar correlaciones.\n",
        "\n",
        "---"
      ],
      "metadata": {
        "id": "8Pukl--0gpjZ"
      }
    },
    {
      "cell_type": "code",
      "source": [
        "#Revisando correlación entre variables numéricas, \n",
        "plt.figure(figsize=(6,4))\n",
        "sns.heatmap(df.select_dtypes(exclude='object').corr(),cmap='coolwarm');"
      ],
      "metadata": {
        "id": "c1gX21wCk1Je",
        "colab": {
          "base_uri": "https://localhost:8080/",
          "height": 376
        },
        "outputId": "1f9f748b-726e-490d-83dc-dac5436711c3"
      },
      "execution_count": 417,
      "outputs": [
        {
          "output_type": "display_data",
          "data": {
            "text/plain": [
              "<Figure size 432x288 with 2 Axes>"
            ],
            "image/png": "[encoded data removed]"
          },
          "metadata": {
            "needs_background": "light"
          }
        }
      ]
    },
    {
      "cell_type": "markdown",
      "source": [],
      "metadata": {
        "id": "RFBMlGP1guDY"
      }
    },
    {
      "cell_type": "markdown",
      "source": [
        "---\n",
        "\n",
        "*   Identificar medidas de posición no centrales , los cuartiles , outliers.   \n",
        "\n",
        "---"
      ],
      "metadata": {
        "id": "-lXih7vwgyog"
      }
    },
    {
      "cell_type": "code",
      "source": [
        "#Se identifica que los datos de las variables CONDUCT_mS/cm y DUR_mg/L presentan un superposición con la cual es posible visibilizar outliers\n",
        "sns.scatterplot(data=df,x='CONDUCT_mS/cm',y='DUR_mg/L',hue='SEMAFORO');"
      ],
      "metadata": {
        "colab": {
          "base_uri": "https://localhost:8080/",
          "height": 284
        },
        "id": "RGxNBIVfd_85",
        "outputId": "a9ba7678-d742-4ed2-d99d-155ede1e107e"
      },
      "execution_count": 418,
      "outputs": [
        {
          "output_type": "display_data",
          "data": {
            "text/plain": [
              "<Figure size 432x288 with 1 Axes>"
            ],
            "image/png": "[encoded data removed]"
          },
          "metadata": {
            "needs_background": "light"
          }
        }
      ]
    },
    {
      "cell_type": "code",
      "source": [
        "sns.boxplot(data=df['CONDUCT_mS/cm'])"
      ],
      "metadata": {
        "id": "K_Z5dhTe5c-g",
        "colab": {
          "base_uri": "https://localhost:8080/",
          "height": 282
        },
        "outputId": "d25534de-38bd-4a3c-969b-dfd9879c5931"
      },
      "execution_count": 419,
      "outputs": [
        {
          "output_type": "execute_result",
          "data": {
            "text/plain": [
              "<matplotlib.axes._subplots.AxesSubplot at 0x7f4cdae3e5d0>"
            ]
          },
          "metadata": {},
          "execution_count": 419
        },
        {
          "output_type": "display_data",
          "data": {
            "text/plain": [
              "<Figure size 432x288 with 1 Axes>"
            ],
            "image/png": "[encoded data removed]"
          },
          "metadata": {
            "needs_background": "light"
          }
        }
      ]
    },
    {
      "cell_type": "code",
      "source": [
        "sns.boxplot(data=df['CONDUCT_mS/cm'])"
      ],
      "metadata": {
        "colab": {
          "base_uri": "https://localhost:8080/",
          "height": 282
        },
        "id": "HnjdaJDES_0G",
        "outputId": "5d640271-ba0b-40f3-d798-7a55cc522847"
      },
      "execution_count": 420,
      "outputs": [
        {
          "output_type": "execute_result",
          "data": {
            "text/plain": [
              "<matplotlib.axes._subplots.AxesSubplot at 0x7f4cdae09890>"
            ]
          },
          "metadata": {},
          "execution_count": 420
        },
        {
          "output_type": "display_data",
          "data": {
            "text/plain": [
              "<Figure size 432x288 with 1 Axes>"
            ],
            "image/png": "[encoded data removed]"
          },
          "metadata": {
            "needs_background": "light"
          }
        }
      ]
    },
    {
      "cell_type": "code",
      "source": [
        "q75,q25=np.percentile(df[['CONDUCT_mS/cm']],[75,25])\n",
        "upper_limit=q75+1.5*(q75-q25)\n",
        "upper_limit"
      ],
      "metadata": {
        "id": "Q1hLn3QQ_9F_",
        "colab": {
          "base_uri": "https://localhost:8080/"
        },
        "outputId": "f1ddc865-1188-4930-92c8-b6128ed7210e"
      },
      "execution_count": 421,
      "outputs": [
        {
          "output_type": "execute_result",
          "data": {
            "text/plain": [
              "2561.0"
            ]
          },
          "metadata": {},
          "execution_count": 421
        }
      ]
    },
    {
      "cell_type": "code",
      "source": [
        "q75,q25=np.percentile(df[['DUR_mg/L']],[75,25])\n",
        "upper_limit=q75+1.5*(q75-q25)\n",
        "upper_limit"
      ],
      "metadata": {
        "colab": {
          "base_uri": "https://localhost:8080/"
        },
        "id": "qXOMKyjRPvZg",
        "outputId": "e0802a74-895d-4ab8-f662-47c7c724a551"
      },
      "execution_count": 422,
      "outputs": [
        {
          "output_type": "execute_result",
          "data": {
            "text/plain": [
              "956.7749999999999"
            ]
          },
          "metadata": {},
          "execution_count": 422
        }
      ]
    },
    {
      "cell_type": "code",
      "source": [
        "#Eliminiación de outliers dentro de las variables 'CONDUCT_mS/cm' y 'DUR_mg/L' 2000/690\n",
        "df1=df[(df['CONDUCT_mS/cm']<2561)&(df['DUR_mg/L']<956)]\n",
        "df1.shape"
      ],
      "metadata": {
        "colab": {
          "base_uri": "https://localhost:8080/"
        },
        "id": "G4W-WtDlM2nh",
        "outputId": "76e6ccbb-9d88-4789-91fa-e5246b235508"
      },
      "execution_count": 423,
      "outputs": [
        {
          "output_type": "execute_result",
          "data": {
            "text/plain": [
              "(950, 57)"
            ]
          },
          "metadata": {},
          "execution_count": 423
        }
      ]
    },
    {
      "cell_type": "code",
      "source": [
        "sns.boxplot(data=df1['CONDUCT_mS/cm'])"
      ],
      "metadata": {
        "colab": {
          "base_uri": "https://localhost:8080/",
          "height": 282
        },
        "id": "AjccFSZZSqIt",
        "outputId": "3213c77a-c09d-4e7b-c231-2aac08b3484a"
      },
      "execution_count": 424,
      "outputs": [
        {
          "output_type": "execute_result",
          "data": {
            "text/plain": [
              "<matplotlib.axes._subplots.AxesSubplot at 0x7f4cdad7c450>"
            ]
          },
          "metadata": {},
          "execution_count": 424
        },
        {
          "output_type": "display_data",
          "data": {
            "text/plain": [
              "<Figure size 432x288 with 1 Axes>"
            ],
            "image/png": "[encoded data removed]"
          },
          "metadata": {
            "needs_background": "light"
          }
        }
      ]
    },
    {
      "cell_type": "code",
      "source": [
        "sns.boxplot(data=df1['CONDUCT_mS/cm'])"
      ],
      "metadata": {
        "colab": {
          "base_uri": "https://localhost:8080/",
          "height": 282
        },
        "id": "9pfk-MuiSqAN",
        "outputId": "9db779ba-8766-45c4-fd46-dd6f0f57c8ec"
      },
      "execution_count": 425,
      "outputs": [
        {
          "output_type": "execute_result",
          "data": {
            "text/plain": [
              "<matplotlib.axes._subplots.AxesSubplot at 0x7f4cdaceab90>"
            ]
          },
          "metadata": {},
          "execution_count": 425
        },
        {
          "output_type": "display_data",
          "data": {
            "text/plain": [
              "<Figure size 432x288 with 1 Axes>"
            ],
            "image/png": "[encoded data removed]"
          },
          "metadata": {
            "needs_background": "light"
          }
        }
      ]
    },
    {
      "cell_type": "code",
      "source": [
        "sns.scatterplot(data=df1,x='CONDUCT_mS/cm',y='DUR_mg/L',hue='SEMAFORO');"
      ],
      "metadata": {
        "id": "EvJmQnlf1jOx",
        "colab": {
          "base_uri": "https://localhost:8080/",
          "height": 284
        },
        "outputId": "414e460a-7108-438f-e325-128075a4b047"
      },
      "execution_count": 426,
      "outputs": [
        {
          "output_type": "display_data",
          "data": {
            "text/plain": [
              "<Figure size 432x288 with 1 Axes>"
            ],
            "image/png": "[encoded data removed]"
          },
          "metadata": {
            "needs_background": "light"
          }
        }
      ]
    },
    {
      "cell_type": "code",
      "source": [
        "#Desplegar # de registros después de la eliminación de outliers\n",
        "print(df1.shape)\n"
      ],
      "metadata": {
        "colab": {
          "base_uri": "https://localhost:8080/"
        },
        "id": "IHkiEoArIS1W",
        "outputId": "39e5fa2b-db7e-4330-ee95-cf2851881710"
      },
      "execution_count": 427,
      "outputs": [
        {
          "output_type": "stream",
          "name": "stdout",
          "text": [
            "(950, 57)\n"
          ]
        }
      ]
    },
    {
      "cell_type": "markdown",
      "source": [
        "\n",
        "\n",
        "---\n",
        "\n",
        "*   Finaliza tratamiendo de outliers\n",
        "\n",
        "---\n",
        "\n",
        "\n",
        "\n",
        "\n"
      ],
      "metadata": {
        "id": "baMUEEPRS0Qr"
      }
    },
    {
      "cell_type": "markdown",
      "source": [
        "---\n",
        "\n",
        "*   Realizar análisis para encontrar si existe una relación entre la calidad del agua y su ubicación geográfica a través de K- means.\n",
        "\n",
        "---"
      ],
      "metadata": {
        "id": "eqGq1bocfbtg"
      }
    },
    {
      "cell_type": "code",
      "source": [
        "\n",
        "sit_est=df[['SITIO','ESTADO','SEMAFORO']]\n",
        "X= df[['LONGITUD','LATITUD' ]]"
      ],
      "metadata": {
        "id": "WsYj2alIE7H0"
      },
      "execution_count": 428,
      "outputs": []
    },
    {
      "cell_type": "code",
      "source": [
        "from sklearn.cluster import KMeans"
      ],
      "metadata": {
        "id": "MlKYprWw9uuX"
      },
      "execution_count": 429,
      "outputs": []
    },
    {
      "cell_type": "code",
      "source": [
        "#\n",
        "X = pd.get_dummies(X)\n",
        "X.head()"
      ],
      "metadata": {
        "id": "iapgAny2Gk-c",
        "colab": {
          "base_uri": "https://localhost:8080/",
          "height": 206
        },
        "outputId": "70eb996a-dba6-4228-9857-d4ccdaad1c61"
      },
      "execution_count": 430,
      "outputs": [
        {
          "output_type": "execute_result",
          "data": {
            "text/plain": [
              "    LONGITUD   LATITUD\n",
              "0 -102.02210  22.20887\n",
              "1 -102.20075  21.99958\n",
              "2 -102.28801  22.36685\n",
              "3 -102.29449  22.18435\n",
              "4 -110.24480  23.45138"
            ],
            "text/html": [
              "\n",
              "  <div id=\"df-51e0ea9e-4eec-4118-9e34-7efc2d0991b1\">\n",
              "    <div class=\"colab-df-container\">\n",
              "      <div>\n",
              "<style scoped>\n",
              "    .dataframe tbody tr th:only-of-type {\n",
              "        vertical-align: middle;\n",
              "    }\n",
              "\n",
              "    .dataframe tbody tr th {\n",
              "        vertical-align: top;\n",
              "    }\n",
              "\n",
              "    .dataframe thead th {\n",
              "        text-align: right;\n",
              "    }\n",
              "</style>\n",
              "<table border=\"1\" class=\"dataframe\">\n",
              "  <thead>\n",
              "    <tr style=\"text-align: right;\">\n",
              "      <th></th>\n",
              "      <th>LONGITUD</th>\n",
              "      <th>LATITUD</th>\n",
              "    </tr>\n",
              "  </thead>\n",
              "  <tbody>\n",
              "    <tr>\n",
              "      <th>0</th>\n",
              "      <td>-102.02210</td>\n",
              "      <td>22.20887</td>\n",
              "    </tr>\n",
              "    <tr>\n",
              "      <th>1</th>\n",
              "      <td>-102.20075</td>\n",
              "      <td>21.99958</td>\n",
              "    </tr>\n",
              "    <tr>\n",
              "      <th>2</th>\n",
              "      <td>-102.28801</td>\n",
              "      <td>22.36685</td>\n",
              "    </tr>\n",
              "    <tr>\n",
              "      <th>3</th>\n",
              "      <td>-102.29449</td>\n",
              "      <td>22.18435</td>\n",
              "    </tr>\n",
              "    <tr>\n",
              "      <th>4</th>\n",
              "      <td>-110.24480</td>\n",
              "      <td>23.45138</td>\n",
              "    </tr>\n",
              "  </tbody>\n",
              "</table>\n",
              "</div>\n",
              "      <button class=\"colab-df-convert\" onclick=\"convertToInteractive('df-51e0ea9e-4eec-4118-9e34-7efc2d0991b1')\"\n",
              "              title=\"Convert this dataframe to an interactive table.\"\n",
              "              style=\"display:none;\">\n",
              "        \n",
              "  <svg xmlns=\"http://www.w3.org/2000/svg\" height=\"24px\"viewBox=\"0 0 24 24\"\n",
              "       width=\"24px\">\n",
              "    <path d=\"M0 0h24v24H0V0z\" fill=\"none\"/>\n",
              "    <path d=\"M18.56 5.44l.94 2.06.94-2.06 2.06-.94-2.06-.94-.94-2.06-.94 2.06-2.06.94zm-11 1L8.5 8.5l.94-2.06 2.06-.94-2.06-.94L8.5 2.5l-.94 2.06-2.06.94zm10 10l.94 2.06.94-2.06 2.06-.94-2.06-.94-.94-2.06-.94 2.06-2.06.94z\"/><path d=\"M17.41 7.96l-1.37-1.37c-.4-.4-.92-.59-1.43-.59-.52 0-1.04.2-1.43.59L10.3 9.45l-7.72 7.72c-.78.78-.78 2.05 0 2.83L4 21.41c.39.39.9.59 1.41.59.51 0 1.02-.2 1.41-.59l7.78-7.78 2.81-2.81c.8-.78.8-2.07 0-2.86zM5.41 20L4 18.59l7.72-7.72 1.47 1.35L5.41 20z\"/>\n",
              "  </svg>\n",
              "      </button>\n",
              "      \n",
              "  <style>\n",
              "    .colab-df-container {\n",
              "      display:flex;\n",
              "      flex-wrap:wrap;\n",
              "      gap: 12px;\n",
              "    }\n",
              "\n",
              "    .colab-df-convert {\n",
              "      background-color: #E8F0FE;\n",
              "      border: none;\n",
              "      border-radius: 50%;\n",
              "      cursor: pointer;\n",
              "      display: none;\n",
              "      fill: #1967D2;\n",
              "      height: 32px;\n",
              "      padding: 0 0 0 0;\n",
              "      width: 32px;\n",
              "    }\n",
              "\n",
              "    .colab-df-convert:hover {\n",
              "      background-color: #E2EBFA;\n",
              "      box-shadow: 0px 1px 2px rgba(60, 64, 67, 0.3), 0px 1px 3px 1px rgba(60, 64, 67, 0.15);\n",
              "      fill: #174EA6;\n",
              "    }\n",
              "\n",
              "    [theme=dark] .colab-df-convert {\n",
              "      background-color: #3B4455;\n",
              "      fill: #D2E3FC;\n",
              "    }\n",
              "\n",
              "    [theme=dark] .colab-df-convert:hover {\n",
              "      background-color: #434B5C;\n",
              "      box-shadow: 0px 1px 3px 1px rgba(0, 0, 0, 0.15);\n",
              "      filter: drop-shadow(0px 1px 2px rgba(0, 0, 0, 0.3));\n",
              "      fill: #FFFFFF;\n",
              "    }\n",
              "  </style>\n",
              "\n",
              "      <script>\n",
              "        const buttonEl =\n",
              "          document.querySelector('#df-51e0ea9e-4eec-4118-9e34-7efc2d0991b1 button.colab-df-convert');\n",
              "        buttonEl.style.display =\n",
              "          google.colab.kernel.accessAllowed ? 'block' : 'none';\n",
              "\n",
              "        async function convertToInteractive(key) {\n",
              "          const element = document.querySelector('#df-51e0ea9e-4eec-4118-9e34-7efc2d0991b1');\n",
              "          const dataTable =\n",
              "            await google.colab.kernel.invokeFunction('convertToInteractive',\n",
              "                                                     [key], {});\n",
              "          if (!dataTable) return;\n",
              "\n",
              "          const docLinkHtml = 'Like what you see? Visit the ' +\n",
              "            '<a target=\"_blank\" href=https://colab.research.google.com/notebooks/data_table.ipynb>data table notebook</a>'\n",
              "            + ' to learn more about interactive tables.';\n",
              "          element.innerHTML = '';\n",
              "          dataTable['output_type'] = 'display_data';\n",
              "          await google.colab.output.renderOutput(dataTable, element);\n",
              "          const docLink = document.createElement('div');\n",
              "          docLink.innerHTML = docLinkHtml;\n",
              "          element.appendChild(docLink);\n",
              "        }\n",
              "      </script>\n",
              "    </div>\n",
              "  </div>\n",
              "  "
            ]
          },
          "metadata": {},
          "execution_count": 430
        }
      ]
    },
    {
      "cell_type": "code",
      "source": [
        "ssd = []\n",
        "\n",
        "for k in range(2,30):\n",
        "    \n",
        "    model = KMeans(n_clusters=k)\n",
        "    \n",
        "    \n",
        "    model.fit(X)\n",
        "    \n",
        "\n",
        "    ssd.append(model.inertia_)\n",
        "plt.plot(range(2,30),ssd,'o--')\n",
        "plt.xlabel(\"K Value\")\n",
        "plt.ylabel(\"SSD\")"
      ],
      "metadata": {
        "colab": {
          "base_uri": "https://localhost:8080/",
          "height": 296
        },
        "id": "L3WEVvWnReza",
        "outputId": "250859e8-aae5-4ca0-ce56-b371c3905234"
      },
      "execution_count": 431,
      "outputs": [
        {
          "output_type": "execute_result",
          "data": {
            "text/plain": [
              "Text(0, 0.5, 'SSD')"
            ]
          },
          "metadata": {},
          "execution_count": 431
        },
        {
          "output_type": "display_data",
          "data": {
            "text/plain": [
              "<Figure size 432x288 with 1 Axes>"
            ],
            "image/png": "[encoded data removed]"
          },
          "metadata": {
            "needs_background": "light"
          }
        }
      ]
    },
    {
      "cell_type": "code",
      "source": [
        "pd.Series(ssd).diff().plot(kind='bar')"
      ],
      "metadata": {
        "colab": {
          "base_uri": "https://localhost:8080/",
          "height": 289
        },
        "id": "roPX9OazRoU8",
        "outputId": "1fc3b496-c749-401a-8bae-16c7ad29e433"
      },
      "execution_count": 432,
      "outputs": [
        {
          "output_type": "execute_result",
          "data": {
            "text/plain": [
              "<matplotlib.axes._subplots.AxesSubplot at 0x7f4cdabcfb50>"
            ]
          },
          "metadata": {},
          "execution_count": 432
        },
        {
          "output_type": "display_data",
          "data": {
            "text/plain": [
              "<Figure size 432x288 with 1 Axes>"
            ],
            "image/png": "[encoded data removed]"
          },
          "metadata": {
            "needs_background": "light"
          }
        }
      ]
    },
    {
      "cell_type": "code",
      "source": [
        "model = KMeans(n_clusters=3)\n",
        "model.fit_predict(X)\n"
      ],
      "metadata": {
        "id": "K7fI-ILFEu9d",
        "colab": {
          "base_uri": "https://localhost:8080/"
        },
        "outputId": "329a468d-f739-41ae-847e-edf73e9735d3"
      },
      "execution_count": 433,
      "outputs": [
        {
          "output_type": "execute_result",
          "data": {
            "text/plain": [
              "array([0, 0, 0, ..., 0, 0, 0], dtype=int32)"
            ]
          },
          "metadata": {},
          "execution_count": 433
        }
      ]
    },
    {
      "cell_type": "code",
      "source": [
        "X['K=3 Clusters'] = model.labels_"
      ],
      "metadata": {
        "id": "fR63T42EEu2N"
      },
      "execution_count": 434,
      "outputs": []
    },
    {
      "cell_type": "code",
      "source": [
        "X.corr()['K=3 Clusters'].sort_values()"
      ],
      "metadata": {
        "id": "WJotFwa0HSkU",
        "colab": {
          "base_uri": "https://localhost:8080/"
        },
        "outputId": "a6498c78-6e80-4ad1-ffe3-1233e6633268"
      },
      "execution_count": 435,
      "outputs": [
        {
          "output_type": "execute_result",
          "data": {
            "text/plain": [
              "LATITUD        -0.028581\n",
              "LONGITUD        0.353803\n",
              "K=3 Clusters    1.000000\n",
              "Name: K=3 Clusters, dtype: float64"
            ]
          },
          "metadata": {},
          "execution_count": 435
        }
      ]
    },
    {
      "cell_type": "code",
      "source": [
        "import plotly.express as px"
      ],
      "metadata": {
        "id": "Dxr1nVVK98CI"
      },
      "execution_count": 436,
      "outputs": []
    },
    {
      "cell_type": "code",
      "source": [
        "df_clus_loc=pd.concat([sit_est,X],axis=1)\n"
      ],
      "metadata": {
        "id": "hZO5x063HdB2"
      },
      "execution_count": 437,
      "outputs": []
    },
    {
      "cell_type": "code",
      "source": [
        "df_clus_loc.head()\n"
      ],
      "metadata": {
        "colab": {
          "base_uri": "https://localhost:8080/",
          "height": 206
        },
        "id": "aEOqDx-2GYIe",
        "outputId": "ebc26365-feb9-444d-9ca5-8559ff7b0109"
      },
      "execution_count": 438,
      "outputs": [
        {
          "output_type": "execute_result",
          "data": {
            "text/plain": [
              "                    SITIO               ESTADO SEMAFORO   LONGITUD   LATITUD  \\\n",
              "0            POZO SAN GIL       AGUASCALIENTES    Verde -102.02210  22.20887   \n",
              "1  POZO R013 CAÑADA HONDA       AGUASCALIENTES    Verde -102.20075  21.99958   \n",
              "2              POZO COSIO       AGUASCALIENTES     Rojo -102.28801  22.36685   \n",
              "3      POZO EL SALITRILLO       AGUASCALIENTES    Verde -102.29449  22.18435   \n",
              "4      RANCHO EL TECOLOTE  BAJA CALIFORNIA SUR     Rojo -110.24480  23.45138   \n",
              "\n",
              "   K=3 Clusters  \n",
              "0             0  \n",
              "1             0  \n",
              "2             0  \n",
              "3             0  \n",
              "4             1  "
            ],
            "text/html": [
              "\n",
              "  <div id=\"df-6aa0cfcb-3601-4ee2-a7da-f4a60d8d768e\">\n",
              "    <div class=\"colab-df-container\">\n",
              "      <div>\n",
              "<style scoped>\n",
              "    .dataframe tbody tr th:only-of-type {\n",
              "        vertical-align: middle;\n",
              "    }\n",
              "\n",
              "    .dataframe tbody tr th {\n",
              "        vertical-align: top;\n",
              "    }\n",
              "\n",
              "    .dataframe thead th {\n",
              "        text-align: right;\n",
              "    }\n",
              "</style>\n",
              "<table border=\"1\" class=\"dataframe\">\n",
              "  <thead>\n",
              "    <tr style=\"text-align: right;\">\n",
              "      <th></th>\n",
              "      <th>SITIO</th>\n",
              "      <th>ESTADO</th>\n",
              "      <th>SEMAFORO</th>\n",
              "      <th>LONGITUD</th>\n",
              "      <th>LATITUD</th>\n",
              "      <th>K=3 Clusters</th>\n",
              "    </tr>\n",
              "  </thead>\n",
              "  <tbody>\n",
              "    <tr>\n",
              "      <th>0</th>\n",
              "      <td>POZO SAN GIL</td>\n",
              "      <td>AGUASCALIENTES</td>\n",
              "      <td>Verde</td>\n",
              "      <td>-102.02210</td>\n",
              "      <td>22.20887</td>\n",
              "      <td>0</td>\n",
              "    </tr>\n",
              "    <tr>\n",
              "      <th>1</th>\n",
              "      <td>POZO R013 CAÑADA HONDA</td>\n",
              "      <td>AGUASCALIENTES</td>\n",
              "      <td>Verde</td>\n",
              "      <td>-102.20075</td>\n",
              "      <td>21.99958</td>\n",
              "      <td>0</td>\n",
              "    </tr>\n",
              "    <tr>\n",
              "      <th>2</th>\n",
              "      <td>POZO COSIO</td>\n",
              "      <td>AGUASCALIENTES</td>\n",
              "      <td>Rojo</td>\n",
              "      <td>-102.28801</td>\n",
              "      <td>22.36685</td>\n",
              "      <td>0</td>\n",
              "    </tr>\n",
              "    <tr>\n",
              "      <th>3</th>\n",
              "      <td>POZO EL SALITRILLO</td>\n",
              "      <td>AGUASCALIENTES</td>\n",
              "      <td>Verde</td>\n",
              "      <td>-102.29449</td>\n",
              "      <td>22.18435</td>\n",
              "      <td>0</td>\n",
              "    </tr>\n",
              "    <tr>\n",
              "      <th>4</th>\n",
              "      <td>RANCHO EL TECOLOTE</td>\n",
              "      <td>BAJA CALIFORNIA SUR</td>\n",
              "      <td>Rojo</td>\n",
              "      <td>-110.24480</td>\n",
              "      <td>23.45138</td>\n",
              "      <td>1</td>\n",
              "    </tr>\n",
              "  </tbody>\n",
              "</table>\n",
              "</div>\n",
              "      <button class=\"colab-df-convert\" onclick=\"convertToInteractive('df-6aa0cfcb-3601-4ee2-a7da-f4a60d8d768e')\"\n",
              "              title=\"Convert this dataframe to an interactive table.\"\n",
              "              style=\"display:none;\">\n",
              "        \n",
              "  <svg xmlns=\"http://www.w3.org/2000/svg\" height=\"24px\"viewBox=\"0 0 24 24\"\n",
              "       width=\"24px\">\n",
              "    <path d=\"M0 0h24v24H0V0z\" fill=\"none\"/>\n",
              "    <path d=\"M18.56 5.44l.94 2.06.94-2.06 2.06-.94-2.06-.94-.94-2.06-.94 2.06-2.06.94zm-11 1L8.5 8.5l.94-2.06 2.06-.94-2.06-.94L8.5 2.5l-.94 2.06-2.06.94zm10 10l.94 2.06.94-2.06 2.06-.94-2.06-.94-.94-2.06-.94 2.06-2.06.94z\"/><path d=\"M17.41 7.96l-1.37-1.37c-.4-.4-.92-.59-1.43-.59-.52 0-1.04.2-1.43.59L10.3 9.45l-7.72 7.72c-.78.78-.78 2.05 0 2.83L4 21.41c.39.39.9.59 1.41.59.51 0 1.02-.2 1.41-.59l7.78-7.78 2.81-2.81c.8-.78.8-2.07 0-2.86zM5.41 20L4 18.59l7.72-7.72 1.47 1.35L5.41 20z\"/>\n",
              "  </svg>\n",
              "      </button>\n",
              "      \n",
              "  <style>\n",
              "    .colab-df-container {\n",
              "      display:flex;\n",
              "      flex-wrap:wrap;\n",
              "      gap: 12px;\n",
              "    }\n",
              "\n",
              "    .colab-df-convert {\n",
              "      background-color: #E8F0FE;\n",
              "      border: none;\n",
              "      border-radius: 50%;\n",
              "      cursor: pointer;\n",
              "      display: none;\n",
              "      fill: #1967D2;\n",
              "      height: 32px;\n",
              "      padding: 0 0 0 0;\n",
              "      width: 32px;\n",
              "    }\n",
              "\n",
              "    .colab-df-convert:hover {\n",
              "      background-color: #E2EBFA;\n",
              "      box-shadow: 0px 1px 2px rgba(60, 64, 67, 0.3), 0px 1px 3px 1px rgba(60, 64, 67, 0.15);\n",
              "      fill: #174EA6;\n",
              "    }\n",
              "\n",
              "    [theme=dark] .colab-df-convert {\n",
              "      background-color: #3B4455;\n",
              "      fill: #D2E3FC;\n",
              "    }\n",
              "\n",
              "    [theme=dark] .colab-df-convert:hover {\n",
              "      background-color: #434B5C;\n",
              "      box-shadow: 0px 1px 3px 1px rgba(0, 0, 0, 0.15);\n",
              "      filter: drop-shadow(0px 1px 2px rgba(0, 0, 0, 0.3));\n",
              "      fill: #FFFFFF;\n",
              "    }\n",
              "  </style>\n",
              "\n",
              "      <script>\n",
              "        const buttonEl =\n",
              "          document.querySelector('#df-6aa0cfcb-3601-4ee2-a7da-f4a60d8d768e button.colab-df-convert');\n",
              "        buttonEl.style.display =\n",
              "          google.colab.kernel.accessAllowed ? 'block' : 'none';\n",
              "\n",
              "        async function convertToInteractive(key) {\n",
              "          const element = document.querySelector('#df-6aa0cfcb-3601-4ee2-a7da-f4a60d8d768e');\n",
              "          const dataTable =\n",
              "            await google.colab.kernel.invokeFunction('convertToInteractive',\n",
              "                                                     [key], {});\n",
              "          if (!dataTable) return;\n",
              "\n",
              "          const docLinkHtml = 'Like what you see? Visit the ' +\n",
              "            '<a target=\"_blank\" href=https://colab.research.google.com/notebooks/data_table.ipynb>data table notebook</a>'\n",
              "            + ' to learn more about interactive tables.';\n",
              "          element.innerHTML = '';\n",
              "          dataTable['output_type'] = 'display_data';\n",
              "          await google.colab.output.renderOutput(dataTable, element);\n",
              "          const docLink = document.createElement('div');\n",
              "          docLink.innerHTML = docLinkHtml;\n",
              "          element.appendChild(docLink);\n",
              "        }\n",
              "      </script>\n",
              "    </div>\n",
              "  </div>\n",
              "  "
            ]
          },
          "metadata": {},
          "execution_count": 438
        }
      ]
    },
    {
      "cell_type": "markdown",
      "source": [
        "\n",
        "\n",
        "---\n",
        "\n",
        "*   Mostrar resultados de agrupamiento de latitudes y longitudes con K means en el mapa de México.\n",
        "\n",
        "---\n",
        "\n"
      ],
      "metadata": {
        "id": "2e4LLMp9fFPE"
      }
    },
    {
      "cell_type": "code",
      "source": [
        "import plotly.express as px\n",
        "\n",
        "fig = px.scatter_mapbox(df_clus_loc, lat=\"LATITUD\", lon=\"LONGITUD\", hover_name=\"SITIO\", hover_data=['ESTADO','SEMAFORO'],color='K=3 Clusters',\n",
        "                        #color_continuous_scale=['green','yellow','red'], \n",
        "                        zoom=3, height=300)\n",
        "fig.update_layout(\n",
        "    mapbox_style=\"white-bg\",\n",
        "    mapbox_layers=[\n",
        "        {\n",
        "            \"below\": 'traces',\n",
        "            \"sourcetype\": \"raster\",\n",
        "            \"sourceattribution\": \"United States Geological Survey\",\n",
        "            \"source\": [\n",
        "                \"https://basemap.nationalmap.gov/arcgis/rest/services/USGSImageryOnly/MapServer/tile/{z}/{y}/{x}\"\n",
        "            ]\n",
        "        }\n",
        "      ])\n",
        "fig.update_layout(margin={\"r\":0,\"t\":0,\"l\":0,\"b\":0})\n",
        "fig.show()"
      ],
      "metadata": {
        "id": "9Eqwjw6CEblu",
        "colab": {
          "base_uri": "https://localhost:8080/",
          "height": 317
        },
        "outputId": "e384e04a-aba2-4d11-b1b9-4c3173596cfa"
      },
      "execution_count": 439,
      "outputs": [
        {
          "output_type": "display_data",
          "data": {
            "text/html": [
              "<html>\n",
              "<head><meta charset=\"utf-8\" /></head>\n",
              "<body>\n",
              "    <div>            <script src=\"https://cdnjs.cloudflare.com/ajax/libs/mathjax/2.7.5/MathJax.js?config=TeX-AMS-MML_SVG\"></script><script type=\"text/javascript\">if (window.MathJax) {MathJax.Hub.Config({SVG: {font: \"STIX-Web\"}});}</script>                <script type=\"text/javascript\">window.PlotlyConfig = {MathJaxConfig: 'local'};</script>\n",
              "        <script src=\"https://cdn.plot.ly/plotly-2.8.3.min.js\"></script>                <div id=\"65c74b29-59ec-4f71-8fd2-396d8a70938d\" class=\"plotly-graph-div\" style=\"height:300px; width:100%;\"></div>            <script type=\"text/javascript\">                                    window.PLOTLYENV=window.PLOTLYENV || {};                                    if (document.getElementById(\"65c74b29-59ec-4f71-8fd2-396d8a70938d\")) {                    Plotly.newPlot(                        \"65c74b29-59ec-4f71-8fd2-396d8a70938d\",                        [{\"customdata\":[[\"AGUASCALIENTES\",\"Verde\"],[\"AGUASCALIENTES\",\"Verde\"],[\"AGUASCALIENTES\",\"Rojo\"],[\"AGUASCALIENTES\",\"Verde\"],[\"BAJA CALIFORNIA SUR\",\"Rojo\"],[\"BAJA CALIFORNIA SUR\",\"Rojo\"],[\"BAJA CALIFORNIA SUR\",\"Verde\"],[\"BAJA CALIFORNIA SUR\",\"Rojo\"],[\"BAJA CALIFORNIA SUR\",\"Verde\"],[\"BAJA CALIFORNIA SUR\",\"Rojo\"],[\"BAJA CALIFORNIA SUR\",\"Verde\"],[\"BAJA CALIFORNIA SUR\",\"Verde\"],[\"BAJA CALIFORNIA SUR\",\"Rojo\"],[\"BAJA CALIFORNIA SUR\",\"Rojo\"],[\"BAJA CALIFORNIA SUR\",\"Rojo\"],[\"BAJA CALIFORNIA SUR\",\"Verde\"],[\"BAJA CALIFORNIA SUR\",\"Verde\"],[\"BAJA CALIFORNIA SUR\",\"Amarillo\"],[\"BAJA CALIFORNIA SUR\",\"Verde\"],[\"BAJA CALIFORNIA SUR\",\"Rojo\"],[\"BAJA CALIFORNIA SUR\",\"Amarillo\"],[\"BAJA CALIFORNIA SUR\",\"Verde\"],[\"BAJA CALIFORNIA SUR\",\"Rojo\"],[\"BAJA CALIFORNIA SUR\",\"Amarillo\"],[\"BAJA CALIFORNIA SUR\",\"Verde\"],[\"BAJA CALIFORNIA SUR\",\"Verde\"],[\"BAJA CALIFORNIA SUR\",\"Verde\"],[\"BAJA CALIFORNIA SUR\",\"Rojo\"],[\"BAJA CALIFORNIA SUR\",\"Rojo\"],[\"BAJA CALIFORNIA SUR\",\"Verde\"],[\"BAJA CALIFORNIA SUR\",\"Rojo\"],[\"BAJA CALIFORNIA SUR\",\"Verde\"],[\"BAJA CALIFORNIA SUR\",\"Rojo\"],[\"BAJA CALIFORNIA SUR\",\"Verde\"],[\"BAJA CALIFORNIA SUR\",\"Verde\"],[\"BAJA CALIFORNIA SUR\",\"Rojo\"],[\"BAJA CALIFORNIA SUR\",\"Amarillo\"],[\"BAJA CALIFORNIA SUR\",\"Amarillo\"],[\"BAJA CALIFORNIA SUR\",\"Amarillo\"],[\"BAJA CALIFORNIA SUR\",\"Verde\"],[\"BAJA CALIFORNIA SUR\",\"Verde\"],[\"BAJA CALIFORNIA SUR\",\"Verde\"],[\"BAJA CALIFORNIA SUR\",\"Verde\"],[\"BAJA CALIFORNIA SUR\",\"Rojo\"],[\"BAJA CALIFORNIA SUR\",\"Amarillo\"],[\"BAJA CALIFORNIA SUR\",\"Rojo\"],[\"BAJA CALIFORNIA SUR\",\"Rojo\"],[\"BAJA CALIFORNIA SUR\",\"Verde\"],[\"BAJA CALIFORNIA SUR\",\"Rojo\"],[\"BAJA CALIFORNIA SUR\",\"Verde\"],[\"BAJA CALIFORNIA SUR\",\"Verde\"],[\"BAJA CALIFORNIA SUR\",\"Rojo\"],[\"CAMPECHE\",\"Amarillo\"],[\"CAMPECHE\",\"Amarillo\"],[\"CAMPECHE\",\"Amarillo\"],[\"CAMPECHE\",\"Verde\"],[\"CAMPECHE\",\"Amarillo\"],[\"CAMPECHE\",\"Amarillo\"],[\"CAMPECHE\",\"Amarillo\"],[\"CAMPECHE\",\"Verde\"],[\"CAMPECHE\",\"Verde\"],[\"CAMPECHE\",\"Rojo\"],[\"CAMPECHE\",\"Amarillo\"],[\"CAMPECHE\",\"Rojo\"],[\"CAMPECHE\",\"Amarillo\"],[\"CAMPECHE\",\"Amarillo\"],[\"CAMPECHE\",\"Amarillo\"],[\"CAMPECHE\",\"Amarillo\"],[\"CAMPECHE\",\"Amarillo\"],[\"CAMPECHE\",\"Verde\"],[\"CAMPECHE\",\"Rojo\"],[\"CAMPECHE\",\"Verde\"],[\"CAMPECHE\",\"Verde\"],[\"CAMPECHE\",\"Amarillo\"],[\"CAMPECHE\",\"Rojo\"],[\"CAMPECHE\",\"Rojo\"],[\"CAMPECHE\",\"Amarillo\"],[\"CHIHUAHUA\",\"Verde\"],[\"CHIHUAHUA\",\"Rojo\"],[\"CHIHUAHUA\",\"Amarillo\"],[\"CHIHUAHUA\",\"Verde\"],[\"CHIHUAHUA\",\"Rojo\"],[\"CHIHUAHUA\",\"Rojo\"],[\"CHIHUAHUA\",\"Rojo\"],[\"CHIHUAHUA\",\"Amarillo\"],[\"CHIHUAHUA\",\"Verde\"],[\"CHIHUAHUA\",\"Verde\"],[\"CHIHUAHUA\",\"Rojo\"],[\"CHIHUAHUA\",\"Verde\"],[\"CHIHUAHUA\",\"Amarillo\"],[\"CHIHUAHUA\",\"Rojo\"],[\"CHIHUAHUA\",\"Rojo\"],[\"CHIHUAHUA\",\"Rojo\"],[\"CHIHUAHUA\",\"Rojo\"],[\"CHIHUAHUA\",\"Verde\"],[\"CHIHUAHUA\",\"Amarillo\"],[\"CHIHUAHUA\",\"Rojo\"],[\"CHIHUAHUA\",\"Rojo\"],[\"CHIHUAHUA\",\"Rojo\"],[\"CHIHUAHUA\",\"Rojo\"],[\"CHIHUAHUA\",\"Verde\"],[\"CHIHUAHUA\",\"Amarillo\"],[\"CHIHUAHUA\",\"Rojo\"],[\"CHIHUAHUA\",\"Rojo\"],[\"CHIHUAHUA\",\"Rojo\"],[\"CHIHUAHUA\",\"Rojo\"],[\"CHIHUAHUA\",\"Rojo\"],[\"CHIHUAHUA\",\"Verde\"],[\"CHIHUAHUA\",\"Rojo\"],[\"CHIHUAHUA\",\"Rojo\"],[\"CHIHUAHUA\",\"Rojo\"],[\"CHIHUAHUA\",\"Rojo\"],[\"COAHUILA DE ZARAGOZA\",\"Verde\"],[\"COAHUILA DE ZARAGOZA\",\"Rojo\"],[\"COAHUILA DE ZARAGOZA\",\"Rojo\"],[\"COAHUILA DE ZARAGOZA\",\"Rojo\"],[\"COAHUILA DE ZARAGOZA\",\"Amarillo\"],[\"COAHUILA DE ZARAGOZA\",\"Verde\"],[\"COAHUILA DE ZARAGOZA\",\"Rojo\"],[\"COAHUILA DE ZARAGOZA\",\"Amarillo\"],[\"COAHUILA DE ZARAGOZA\",\"Amarillo\"],[\"COAHUILA DE ZARAGOZA\",\"Verde\"],[\"COAHUILA DE ZARAGOZA\",\"Rojo\"],[\"COAHUILA DE ZARAGOZA\",\"Rojo\"],[\"COAHUILA DE ZARAGOZA\",\"Rojo\"],[\"COAHUILA DE ZARAGOZA\",\"Rojo\"],[\"COAHUILA DE ZARAGOZA\",\"Amarillo\"],[\"COAHUILA DE ZARAGOZA\",\"Rojo\"],[\"COAHUILA DE ZARAGOZA\",\"Rojo\"],[\"COAHUILA DE ZARAGOZA\",\"Amarillo\"],[\"COAHUILA DE ZARAGOZA\",\"Rojo\"],[\"COAHUILA DE ZARAGOZA\",\"Amarillo\"],[\"COAHUILA DE ZARAGOZA\",\"Verde\"],[\"COAHUILA DE ZARAGOZA\",\"Amarillo\"],[\"COAHUILA DE ZARAGOZA\",\"Amarillo\"],[\"COAHUILA DE ZARAGOZA\",\"Amarillo\"],[\"COAHUILA DE ZARAGOZA\",\"Amarillo\"],[\"COAHUILA DE ZARAGOZA\",\"Amarillo\"],[\"COAHUILA DE ZARAGOZA\",\"Amarillo\"],[\"COAHUILA DE ZARAGOZA\",\"Amarillo\"],[\"COAHUILA DE ZARAGOZA\",\"Verde\"],[\"COAHUILA DE ZARAGOZA\",\"Rojo\"],[\"COAHUILA DE ZARAGOZA\",\"Verde\"],[\"COAHUILA DE ZARAGOZA\",\"Verde\"],[\"COAHUILA DE ZARAGOZA\",\"Amarillo\"],[\"COAHUILA DE ZARAGOZA\",\"Rojo\"],[\"COAHUILA DE ZARAGOZA\",\"Rojo\"],[\"COAHUILA DE ZARAGOZA\",\"Amarillo\"],[\"COAHUILA DE ZARAGOZA\",\"Amarillo\"],[\"COAHUILA DE ZARAGOZA\",\"Amarillo\"],[\"COAHUILA DE ZARAGOZA\",\"Rojo\"],[\"COAHUILA DE ZARAGOZA\",\"Amarillo\"],[\"COLIMA\",\"Rojo\"],[\"COLIMA\",\"Rojo\"],[\"COLIMA\",\"Amarillo\"],[\"COLIMA\",\"Verde\"],[\"COLIMA\",\"Rojo\"],[\"COLIMA\",\"Amarillo\"],[\"COLIMA\",\"Rojo\"],[\"COLIMA\",\"Amarillo\"],[\"COLIMA\",\"Rojo\"],[\"COLIMA\",\"Rojo\"],[\"COLIMA\",\"Verde\"],[\"COLIMA\",\"Amarillo\"],[\"COLIMA\",\"Verde\"],[\"COLIMA\",\"Rojo\"],[\"COLIMA\",\"Amarillo\"],[\"COLIMA\",\"Verde\"],[\"COLIMA\",\"Verde\"],[\"COLIMA\",\"Rojo\"],[\"COLIMA\",\"Verde\"],[\"COLIMA\",\"Rojo\"],[\"COLIMA\",\"Rojo\"],[\"COLIMA\",\"Verde\"],[\"COLIMA\",\"Verde\"],[\"COLIMA\",\"Rojo\"],[\"COLIMA\",\"Rojo\"],[\"DURANGO\",\"Rojo\"],[\"DURANGO\",\"Rojo\"],[\"DURANGO\",\"Rojo\"],[\"DURANGO\",\"Rojo\"],[\"DURANGO\",\"Rojo\"],[\"DURANGO\",\"Rojo\"],[\"DURANGO\",\"Rojo\"],[\"DURANGO\",\"Rojo\"],[\"DURANGO\",\"Amarillo\"],[\"DURANGO\",\"Verde\"],[\"DURANGO\",\"Rojo\"],[\"DURANGO\",\"Rojo\"],[\"DURANGO\",\"Verde\"],[\"DURANGO\",\"Rojo\"],[\"DURANGO\",\"Verde\"],[\"DURANGO\",\"Verde\"],[\"DURANGO\",\"Verde\"],[\"DURANGO\",\"Rojo\"],[\"DURANGO\",\"Verde\"],[\"DURANGO\",\"Rojo\"],[\"DURANGO\",\"Verde\"],[\"DURANGO\",\"Verde\"],[\"DURANGO\",\"Rojo\"],[\"DURANGO\",\"Verde\"],[\"DURANGO\",\"Verde\"],[\"DURANGO\",\"Rojo\"],[\"DURANGO\",\"Rojo\"],[\"DURANGO\",\"Rojo\"],[\"DURANGO\",\"Rojo\"],[\"DURANGO\",\"Rojo\"],[\"DURANGO\",\"Rojo\"],[\"DURANGO\",\"Rojo\"],[\"DURANGO\",\"Rojo\"],[\"DURANGO\",\"Rojo\"],[\"DURANGO\",\"Rojo\"],[\"DURANGO\",\"Rojo\"],[\"DURANGO\",\"Rojo\"],[\"DURANGO\",\"Rojo\"],[\"DURANGO\",\"Verde\"],[\"DURANGO\",\"Rojo\"],[\"DURANGO\",\"Rojo\"],[\"DURANGO\",\"Verde\"],[\"DURANGO\",\"Rojo\"],[\"DURANGO\",\"Rojo\"],[\"DURANGO\",\"Rojo\"],[\"DURANGO\",\"Rojo\"],[\"DURANGO\",\"Rojo\"],[\"DURANGO\",\"Rojo\"],[\"DURANGO\",\"Rojo\"],[\"DURANGO\",\"Verde\"],[\"DURANGO\",\"Verde\"],[\"DURANGO\",\"Verde\"],[\"DURANGO\",\"Rojo\"],[\"DURANGO\",\"Verde\"],[\"DURANGO\",\"Rojo\"],[\"DURANGO\",\"Rojo\"],[\"DURANGO\",\"Verde\"],[\"DURANGO\",\"Rojo\"],[\"DURANGO\",\"Rojo\"],[\"DURANGO\",\"Rojo\"],[\"DURANGO\",\"Rojo\"],[\"DURANGO\",\"Rojo\"],[\"DURANGO\",\"Rojo\"],[\"DURANGO\",\"Rojo\"],[\"DURANGO\",\"Rojo\"],[\"DURANGO\",\"Rojo\"],[\"DURANGO\",\"Rojo\"],[\"DURANGO\",\"Verde\"],[\"DURANGO\",\"Amarillo\"],[\"DURANGO\",\"Verde\"],[\"DURANGO\",\"Rojo\"],[\"DURANGO\",\"Rojo\"],[\"DURANGO\",\"Rojo\"],[\"DURANGO\",\"Verde\"],[\"DURANGO\",\"Rojo\"],[\"DURANGO\",\"Rojo\"],[\"DURANGO\",\"Rojo\"],[\"DURANGO\",\"Verde\"],[\"DURANGO\",\"Rojo\"],[\"DURANGO\",\"Verde\"],[\"DURANGO\",\"Verde\"],[\"DURANGO\",\"Rojo\"],[\"DURANGO\",\"Rojo\"],[\"DURANGO\",\"Rojo\"],[\"DURANGO\",\"Rojo\"],[\"DURANGO\",\"Rojo\"],[\"DURANGO\",\"Amarillo\"],[\"DURANGO\",\"Verde\"],[\"DURANGO\",\"Rojo\"],[\"DURANGO\",\"Verde\"],[\"MEXICO\",\"Verde\"],[\"MEXICO\",\"Verde\"],[\"MEXICO\",\"Verde\"],[\"MEXICO\",\"Verde\"],[\"MEXICO\",\"Verde\"],[\"MEXICO\",\"Verde\"],[\"MEXICO\",\"Amarillo\"],[\"MEXICO\",\"Verde\"],[\"MEXICO\",\"Verde\"],[\"MEXICO\",\"Verde\"],[\"MEXICO\",\"Verde\"],[\"MEXICO\",\"Rojo\"],[\"MEXICO\",\"Rojo\"],[\"GUANAJUATO\",\"Rojo\"],[\"GUANAJUATO\",\"Rojo\"],[\"GUANAJUATO\",\"Rojo\"],[\"GUANAJUATO\",\"Verde\"],[\"GUANAJUATO\",\"Amarillo\"],[\"GUANAJUATO\",\"Rojo\"],[\"GUANAJUATO\",\"Rojo\"],[\"GUANAJUATO\",\"Rojo\"],[\"GUANAJUATO\",\"Rojo\"],[\"GUANAJUATO\",\"Verde\"],[\"GUANAJUATO\",\"Verde\"],[\"GUANAJUATO\",\"Rojo\"],[\"GUANAJUATO\",\"Rojo\"],[\"GUANAJUATO\",\"Rojo\"],[\"GUANAJUATO\",\"Verde\"],[\"GUANAJUATO\",\"Verde\"],[\"GUANAJUATO\",\"Rojo\"],[\"GUANAJUATO\",\"Amarillo\"],[\"GUANAJUATO\",\"Rojo\"],[\"GUANAJUATO\",\"Rojo\"],[\"GUANAJUATO\",\"Verde\"],[\"GUANAJUATO\",\"Rojo\"],[\"GUANAJUATO\",\"Verde\"],[\"GUANAJUATO\",\"Rojo\"],[\"GUANAJUATO\",\"Verde\"],[\"GUANAJUATO\",\"Verde\"],[\"GUANAJUATO\",\"Verde\"],[\"GUANAJUATO\",\"Verde\"],[\"GUANAJUATO\",\"Verde\"],[\"GUANAJUATO\",\"Amarillo\"],[\"GUANAJUATO\",\"Verde\"],[\"GUANAJUATO\",\"Rojo\"],[\"GUANAJUATO\",\"Verde\"],[\"GUANAJUATO\",\"Verde\"],[\"GUANAJUATO\",\"Verde\"],[\"GUANAJUATO\",\"Verde\"],[\"GUANAJUATO\",\"Amarillo\"],[\"GUANAJUATO\",\"Amarillo\"],[\"GUANAJUATO\",\"Amarillo\"],[\"GUANAJUATO\",\"Verde\"],[\"GUERRERO\",\"Verde\"],[\"GUERRERO\",\"Rojo\"],[\"GUERRERO\",\"Verde\"],[\"GUERRERO\",\"Verde\"],[\"GUERRERO\",\"Amarillo\"],[\"HIDALGO\",\"Rojo\"],[\"HIDALGO\",\"Amarillo\"],[\"HIDALGO\",\"Verde\"],[\"HIDALGO\",\"Amarillo\"],[\"HIDALGO\",\"Amarillo\"],[\"HIDALGO\",\"Amarillo\"],[\"HIDALGO\",\"Amarillo\"],[\"HIDALGO\",\"Amarillo\"],[\"HIDALGO\",\"Amarillo\"],[\"HIDALGO\",\"Amarillo\"],[\"HIDALGO\",\"Rojo\"],[\"HIDALGO\",\"Verde\"],[\"HIDALGO\",\"Verde\"],[\"HIDALGO\",\"Verde\"],[\"HIDALGO\",\"Rojo\"],[\"HIDALGO\",\"Rojo\"],[\"HIDALGO\",\"Rojo\"],[\"HIDALGO\",\"Rojo\"],[\"HIDALGO\",\"Verde\"],[\"HIDALGO\",\"Amarillo\"],[\"HIDALGO\",\"Amarillo\"],[\"HIDALGO\",\"Verde\"],[\"HIDALGO\",\"Verde\"],[\"HIDALGO\",\"Verde\"],[\"HIDALGO\",\"Verde\"],[\"HIDALGO\",\"Verde\"],[\"HIDALGO\",\"Verde\"],[\"HIDALGO\",\"Verde\"],[\"HIDALGO\",\"Rojo\"],[\"HIDALGO\",\"Amarillo\"],[\"HIDALGO\",\"Rojo\"],[\"HIDALGO\",\"Rojo\"],[\"HIDALGO\",\"Amarillo\"],[\"HIDALGO\",\"Amarillo\"],[\"HIDALGO\",\"Amarillo\"],[\"HIDALGO\",\"Verde\"],[\"AGUASCALIENTES\",\"Amarillo\"],[\"AGUASCALIENTES\",\"Rojo\"],[\"AGUASCALIENTES\",\"Rojo\"],[\"AGUASCALIENTES\",\"Rojo\"],[\"AGUASCALIENTES\",\"Verde\"],[\"AGUASCALIENTES\",\"Verde\"],[\"AGUASCALIENTES\",\"Rojo\"],[\"AGUASCALIENTES\",\"Rojo\"],[\"AGUASCALIENTES\",\"Verde\"],[\"AGUASCALIENTES\",\"Rojo\"],[\"MICHOACAN DE OCAMPO\",\"Verde\"],[\"MICHOACAN DE OCAMPO\",\"Rojo\"],[\"MICHOACAN DE OCAMPO\",\"Verde\"],[\"MICHOACAN DE OCAMPO\",\"Verde\"],[\"MICHOACAN DE OCAMPO\",\"Verde\"],[\"MICHOACAN DE OCAMPO\",\"Verde\"],[\"MICHOACAN DE OCAMPO\",\"Verde\"],[\"MICHOACAN DE OCAMPO\",\"Verde\"],[\"MICHOACAN DE OCAMPO\",\"Amarillo\"],[\"MICHOACAN DE OCAMPO\",\"Verde\"],[\"MICHOACAN DE OCAMPO\",\"Verde\"],[\"MICHOACAN DE OCAMPO\",\"Verde\"],[\"MICHOACAN DE OCAMPO\",\"Verde\"],[\"MICHOACAN DE OCAMPO\",\"Amarillo\"],[\"MICHOACAN DE OCAMPO\",\"Verde\"],[\"MICHOACAN DE OCAMPO\",\"Amarillo\"],[\"MICHOACAN DE OCAMPO\",\"Amarillo\"],[\"MICHOACAN DE OCAMPO\",\"Verde\"],[\"MICHOACAN DE OCAMPO\",\"Amarillo\"],[\"MICHOACAN DE OCAMPO\",\"Verde\"],[\"MICHOACAN DE OCAMPO\",\"Amarillo\"],[\"MICHOACAN DE OCAMPO\",\"Verde\"],[\"MICHOACAN DE OCAMPO\",\"Verde\"],[\"MICHOACAN DE OCAMPO\",\"Amarillo\"],[\"MICHOACAN DE OCAMPO\",\"Verde\"],[\"MICHOACAN DE OCAMPO\",\"Rojo\"],[\"MICHOACAN DE OCAMPO\",\"Verde\"],[\"NAYARIT\",\"Rojo\"],[\"NAYARIT\",\"Verde\"],[\"NAYARIT\",\"Verde\"],[\"NAYARIT\",\"Rojo\"],[\"NAYARIT\",\"Rojo\"],[\"NAYARIT\",\"Rojo\"],[\"PUEBLA\",\"Rojo\"],[\"PUEBLA\",\"Verde\"],[\"PUEBLA\",\"Verde\"],[\"PUEBLA\",\"Verde\"],[\"PUEBLA\",\"Amarillo\"],[\"PUEBLA\",\"Amarillo\"],[\"PUEBLA\",\"Verde\"],[\"PUEBLA\",\"Amarillo\"],[\"PUEBLA\",\"Verde\"],[\"PUEBLA\",\"Verde\"],[\"PUEBLA\",\"Verde\"],[\"PUEBLA\",\"Rojo\"],[\"PUEBLA\",\"Rojo\"],[\"PUEBLA\",\"Verde\"],[\"PUEBLA\",\"Rojo\"],[\"PUEBLA\",\"Rojo\"],[\"PUEBLA\",\"Rojo\"],[\"PUEBLA\",\"Verde\"],[\"PUEBLA\",\"Amarillo\"],[\"PUEBLA\",\"Verde\"],[\"PUEBLA\",\"Verde\"],[\"PUEBLA\",\"Amarillo\"],[\"PUEBLA\",\"Rojo\"],[\"QUERETARO ARTEAGA\",\"Verde\"],[\"QUERETARO ARTEAGA\",\"Verde\"],[\"QUERETARO ARTEAGA\",\"Verde\"],[\"QUERETARO ARTEAGA\",\"Verde\"],[\"QUERETARO ARTEAGA\",\"Rojo\"],[\"QUERETARO ARTEAGA\",\"Rojo\"],[\"QUINTANA ROO\",\"Verde\"],[\"QUINTANA ROO\",\"Verde\"],[\"QUINTANA ROO\",\"Verde\"],[\"QUINTANA ROO\",\"Amarillo\"],[\"QUINTANA ROO\",\"Amarillo\"],[\"QUINTANA ROO\",\"Verde\"],[\"QUINTANA ROO\",\"Amarillo\"],[\"QUINTANA ROO\",\"Amarillo\"],[\"QUINTANA ROO\",\"Amarillo\"],[\"QUINTANA ROO\",\"Amarillo\"],[\"QUINTANA ROO\",\"Verde\"],[\"QUINTANA ROO\",\"Amarillo\"],[\"QUINTANA ROO\",\"Amarillo\"],[\"QUINTANA ROO\",\"Amarillo\"],[\"QUINTANA ROO\",\"Amarillo\"],[\"SAN LUIS POTOSI\",\"Rojo\"],[\"SAN LUIS POTOSI\",\"Rojo\"],[\"SAN LUIS POTOSI\",\"Amarillo\"],[\"SAN LUIS POTOSI\",\"Verde\"],[\"SAN LUIS POTOSI\",\"Amarillo\"],[\"SAN LUIS POTOSI\",\"Verde\"],[\"SAN LUIS POTOSI\",\"Verde\"],[\"SAN LUIS POTOSI\",\"Rojo\"],[\"SAN LUIS POTOSI\",\"Amarillo\"],[\"SAN LUIS POTOSI\",\"Rojo\"],[\"SAN LUIS POTOSI\",\"Rojo\"],[\"SAN LUIS POTOSI\",\"Rojo\"],[\"SAN LUIS POTOSI\",\"Rojo\"],[\"SAN LUIS POTOSI\",\"Rojo\"],[\"SAN LUIS POTOSI\",\"Rojo\"],[\"SAN LUIS POTOSI\",\"Rojo\"],[\"SAN LUIS POTOSI\",\"Rojo\"],[\"SAN LUIS POTOSI\",\"Rojo\"],[\"SAN LUIS POTOSI\",\"Rojo\"],[\"SAN LUIS POTOSI\",\"Rojo\"],[\"SAN LUIS POTOSI\",\"Verde\"],[\"SAN LUIS POTOSI\",\"Verde\"],[\"SAN LUIS POTOSI\",\"Rojo\"],[\"SAN LUIS POTOSI\",\"Rojo\"],[\"SAN LUIS POTOSI\",\"Rojo\"],[\"SAN LUIS POTOSI\",\"Verde\"],[\"SAN LUIS POTOSI\",\"Verde\"],[\"SAN LUIS POTOSI\",\"Verde\"],[\"SAN LUIS POTOSI\",\"Verde\"],[\"SAN LUIS POTOSI\",\"Verde\"],[\"SAN LUIS POTOSI\",\"Rojo\"],[\"SAN LUIS POTOSI\",\"Amarillo\"],[\"SAN LUIS POTOSI\",\"Verde\"],[\"SAN LUIS POTOSI\",\"Verde\"],[\"SAN LUIS POTOSI\",\"Amarillo\"],[\"SAN LUIS POTOSI\",\"Amarillo\"],[\"SAN LUIS POTOSI\",\"Verde\"],[\"SAN LUIS POTOSI\",\"Rojo\"],[\"SAN LUIS POTOSI\",\"Verde\"],[\"SAN LUIS POTOSI\",\"Rojo\"],[\"SAN LUIS POTOSI\",\"Rojo\"],[\"SAN LUIS POTOSI\",\"Verde\"],[\"SAN LUIS POTOSI\",\"Verde\"],[\"SAN LUIS POTOSI\",\"Verde\"],[\"SAN LUIS POTOSI\",\"Verde\"],[\"SAN LUIS POTOSI\",\"Verde\"],[\"SAN LUIS POTOSI\",\"Verde\"],[\"TABASCO\",\"Amarillo\"],[\"TABASCO\",\"Amarillo\"],[\"TABASCO\",\"Verde\"],[\"TABASCO\",\"Amarillo\"],[\"TABASCO\",\"Verde\"],[\"TABASCO\",\"Verde\"],[\"TABASCO\",\"Verde\"],[\"TABASCO\",\"Verde\"],[\"TABASCO\",\"Verde\"],[\"TABASCO\",\"Verde\"],[\"TABASCO\",\"Amarillo\"],[\"TABASCO\",\"Verde\"],[\"TABASCO\",\"Amarillo\"],[\"TLAXCALA\",\"Verde\"],[\"TLAXCALA\",\"Verde\"],[\"TLAXCALA\",\"Verde\"],[\"TLAXCALA\",\"Verde\"],[\"TLAXCALA\",\"Amarillo\"],[\"TLAXCALA\",\"Verde\"],[\"TLAXCALA\",\"Amarillo\"],[\"TLAXCALA\",\"Verde\"],[\"TLAXCALA\",\"Rojo\"],[\"TLAXCALA\",\"Amarillo\"],[\"TLAXCALA\",\"Verde\"],[\"TLAXCALA\",\"Amarillo\"],[\"TLAXCALA\",\"Amarillo\"],[\"TLAXCALA\",\"Rojo\"],[\"TLAXCALA\",\"Verde\"],[\"TLAXCALA\",\"Verde\"],[\"TLAXCALA\",\"Verde\"],[\"TLAXCALA\",\"Verde\"],[\"TLAXCALA\",\"Verde\"],[\"TLAXCALA\",\"Verde\"],[\"TLAXCALA\",\"Verde\"],[\"TLAXCALA\",\"Verde\"],[\"TLAXCALA\",\"Verde\"],[\"TLAXCALA\",\"Verde\"],[\"ZACATECAS\",\"Verde\"],[\"ZACATECAS\",\"Rojo\"],[\"ZACATECAS\",\"Rojo\"],[\"ZACATECAS\",\"Rojo\"],[\"ZACATECAS\",\"Verde\"],[\"ZACATECAS\",\"Rojo\"],[\"ZACATECAS\",\"Verde\"],[\"ZACATECAS\",\"Rojo\"],[\"ZACATECAS\",\"Rojo\"],[\"ZACATECAS\",\"Rojo\"],[\"ZACATECAS\",\"Rojo\"],[\"ZACATECAS\",\"Verde\"],[\"ZACATECAS\",\"Rojo\"],[\"ZACATECAS\",\"Rojo\"],[\"ZACATECAS\",\"Rojo\"],[\"ZACATECAS\",\"Verde\"],[\"ZACATECAS\",\"Rojo\"],[\"ZACATECAS\",\"Rojo\"],[\"ZACATECAS\",\"Rojo\"],[\"ZACATECAS\",\"Verde\"],[\"ZACATECAS\",\"Verde\"],[\"ZACATECAS\",\"Verde\"],[\"ZACATECAS\",\"Amarillo\"],[\"ZACATECAS\",\"Verde\"],[\"ZACATECAS\",\"Rojo\"],[\"ZACATECAS\",\"Verde\"],[\"ZACATECAS\",\"Verde\"],[\"ZACATECAS\",\"Verde\"],[\"ZACATECAS\",\"Rojo\"],[\"ZACATECAS\",\"Verde\"],[\"ZACATECAS\",\"Rojo\"],[\"ZACATECAS\",\"Rojo\"],[\"ZACATECAS\",\"Rojo\"],[\"ZACATECAS\",\"Amarillo\"],[\"ZACATECAS\",\"Verde\"],[\"ZACATECAS\",\"Rojo\"],[\"ZACATECAS\",\"Rojo\"],[\"ZACATECAS\",\"Amarillo\"],[\"ZACATECAS\",\"Verde\"],[\"ZACATECAS\",\"Verde\"],[\"ZACATECAS\",\"Rojo\"],[\"ZACATECAS\",\"Verde\"],[\"ZACATECAS\",\"Rojo\"],[\"ZACATECAS\",\"Rojo\"],[\"ZACATECAS\",\"Verde\"],[\"ZACATECAS\",\"Rojo\"],[\"ZACATECAS\",\"Rojo\"],[\"ZACATECAS\",\"Rojo\"],[\"ZACATECAS\",\"Rojo\"],[\"ZACATECAS\",\"Rojo\"],[\"ZACATECAS\",\"Rojo\"],[\"ZACATECAS\",\"Rojo\"],[\"ZACATECAS\",\"Verde\"],[\"ZACATECAS\",\"Verde\"],[\"ZACATECAS\",\"Verde\"],[\"ZACATECAS\",\"Verde\"],[\"ZACATECAS\",\"Verde\"],[\"ZACATECAS\",\"Rojo\"],[\"ZACATECAS\",\"Rojo\"],[\"ZACATECAS\",\"Rojo\"],[\"ZACATECAS\",\"Rojo\"],[\"ZACATECAS\",\"Rojo\"],[\"ZACATECAS\",\"Rojo\"],[\"ZACATECAS\",\"Verde\"],[\"ZACATECAS\",\"Rojo\"],[\"ZACATECAS\",\"Rojo\"],[\"ZACATECAS\",\"Rojo\"],[\"ZACATECAS\",\"Rojo\"],[\"ZACATECAS\",\"Verde\"],[\"ZACATECAS\",\"Rojo\"],[\"ZACATECAS\",\"Rojo\"],[\"ZACATECAS\",\"Rojo\"],[\"ZACATECAS\",\"Rojo\"],[\"ZACATECAS\",\"Rojo\"],[\"ZACATECAS\",\"Rojo\"],[\"DISTRITO FEDERAL\",\"Verde\"],[\"DISTRITO FEDERAL\",\"Amarillo\"],[\"MEXICO\",\"Amarillo\"],[\"MEXICO\",\"Verde\"],[\"MEXICO\",\"Rojo\"],[\"MEXICO\",\"Rojo\"],[\"MEXICO\",\"Verde\"],[\"MEXICO\",\"Verde\"],[\"HIDALGO\",\"Verde\"],[\"MEXICO\",\"Verde\"],[\"MEXICO\",\"Verde\"],[\"MORELOS\",\"Verde\"],[\"MORELOS\",\"Verde\"],[\"MORELOS\",\"Verde\"],[\"MORELOS\",\"Verde\"],[\"MORELOS\",\"Verde\"],[\"MORELOS\",\"Verde\"],[\"MORELOS\",\"Verde\"],[\"MEXICO\",\"Verde\"],[\"OAXACA\",\"Amarillo\"],[\"OAXACA\",\"Rojo\"],[\"OAXACA\",\"Verde\"],[\"OAXACA\",\"Verde\"],[\"OAXACA\",\"Verde\"],[\"MORELOS\",\"Amarillo\"],[\"MORELOS\",\"Rojo\"],[\"MORELOS\",\"Rojo\"],[\"MORELOS\",\"Rojo\"],[\"OAXACA\",\"Verde\"],[\"OAXACA\",\"Rojo\"],[\"OAXACA\",\"Verde\"],[\"DURANGO\",\"Rojo\"],[\"DURANGO\",\"Rojo\"],[\"DURANGO\",\"Rojo\"],[\"DURANGO\",\"Rojo\"],[\"DURANGO\",\"Verde\"],[\"DURANGO\",\"Verde\"],[\"DURANGO\",\"Amarillo\"],[\"DURANGO\",\"Rojo\"],[\"DURANGO\",\"Rojo\"],[\"DURANGO\",\"Rojo\"],[\"DURANGO\",\"Verde\"],[\"DURANGO\",\"Verde\"],[\"DURANGO\",\"Verde\"],[\"DURANGO\",\"Rojo\"],[\"DURANGO\",\"Verde\"],[\"DURANGO\",\"Rojo\"],[\"DURANGO\",\"Verde\"],[\"DURANGO\",\"Verde\"],[\"DURANGO\",\"Rojo\"],[\"DURANGO\",\"Rojo\"],[\"DURANGO\",\"Verde\"],[\"DURANGO\",\"Rojo\"],[\"DURANGO\",\"Rojo\"],[\"COAHUILA DE ZARAGOZA\",\"Rojo\"],[\"COAHUILA DE ZARAGOZA\",\"Rojo\"],[\"COAHUILA DE ZARAGOZA\",\"Rojo\"],[\"COAHUILA DE ZARAGOZA\",\"Verde\"],[\"COAHUILA DE ZARAGOZA\",\"Verde\"],[\"DURANGO\",\"Verde\"],[\"DURANGO\",\"Rojo\"],[\"DURANGO\",\"Rojo\"],[\"DURANGO\",\"Rojo\"],[\"DURANGO\",\"Rojo\"],[\"COAHUILA DE ZARAGOZA\",\"Rojo\"],[\"COAHUILA DE ZARAGOZA\",\"Verde\"],[\"COAHUILA DE ZARAGOZA\",\"Verde\"],[\"COAHUILA DE ZARAGOZA\",\"Rojo\"],[\"COAHUILA DE ZARAGOZA\",\"Rojo\"],[\"COAHUILA DE ZARAGOZA\",\"Rojo\"],[\"COAHUILA DE ZARAGOZA\",\"Rojo\"],[\"COAHUILA DE ZARAGOZA\",\"Rojo\"],[\"DURANGO\",\"Rojo\"],[\"COAHUILA DE ZARAGOZA\",\"Rojo\"],[\"COAHUILA DE ZARAGOZA\",\"Rojo\"],[\"COAHUILA DE ZARAGOZA\",\"Rojo\"],[\"COAHUILA DE ZARAGOZA\",\"Rojo\"],[\"COAHUILA DE ZARAGOZA\",\"Verde\"],[\"COAHUILA DE ZARAGOZA\",\"Rojo\"],[\"CHIAPAS\",\"Rojo\"],[\"CHIAPAS\",\"Rojo\"],[\"CHIAPAS\",\"Rojo\"],[\"CHIAPAS\",\"Verde\"],[\"CHIAPAS\",\"Verde\"],[\"CHIAPAS\",\"Amarillo\"],[\"CHIAPAS\",\"Verde\"],[\"CHIAPAS\",\"Verde\"],[\"CHIAPAS\",\"Amarillo\"],[\"CHIAPAS\",\"Amarillo\"],[\"CHIAPAS\",\"Rojo\"],[\"CHIAPAS\",\"Verde\"],[\"CHIAPAS\",\"Verde\"],[\"CHIAPAS\",\"Verde\"],[\"CHIAPAS\",\"Verde\"],[\"CHIAPAS\",\"Verde\"],[\"CHIAPAS\",\"Verde\"],[\"CHIAPAS\",\"Verde\"],[\"CHIAPAS\",\"Amarillo\"],[\"CHIAPAS\",\"Amarillo\"],[\"CHIAPAS\",\"Verde\"],[\"VERACRUZ DE IGNACIO DE LA LLAVE\",\"Verde\"],[\"VERACRUZ DE IGNACIO DE LA LLAVE\",\"Amarillo\"],[\"VERACRUZ DE IGNACIO DE LA LLAVE\",\"Amarillo\"],[\"VERACRUZ DE IGNACIO DE LA LLAVE\",\"Amarillo\"],[\"VERACRUZ DE IGNACIO DE LA LLAVE\",\"Verde\"],[\"VERACRUZ DE IGNACIO DE LA LLAVE\",\"Rojo\"],[\"VERACRUZ DE IGNACIO DE LA LLAVE\",\"Verde\"],[\"VERACRUZ DE IGNACIO DE LA LLAVE\",\"Rojo\"],[\"VERACRUZ DE IGNACIO DE LA LLAVE\",\"Verde\"],[\"VERACRUZ DE IGNACIO DE LA LLAVE\",\"Verde\"],[\"VERACRUZ DE IGNACIO DE LA LLAVE\",\"Amarillo\"],[\"VERACRUZ DE IGNACIO DE LA LLAVE\",\"Verde\"],[\"VERACRUZ DE IGNACIO DE LA LLAVE\",\"Verde\"],[\"VERACRUZ DE IGNACIO DE LA LLAVE\",\"Rojo\"],[\"VERACRUZ DE IGNACIO DE LA LLAVE\",\"Amarillo\"],[\"TAMAULIPAS\",\"Verde\"],[\"TAMAULIPAS\",\"Verde\"],[\"TAMAULIPAS\",\"Amarillo\"],[\"TAMAULIPAS\",\"Amarillo\"],[\"TAMAULIPAS\",\"Verde\"],[\"TAMAULIPAS\",\"Amarillo\"],[\"TAMAULIPAS\",\"Rojo\"],[\"TAMAULIPAS\",\"Amarillo\"],[\"TAMAULIPAS\",\"Rojo\"],[\"TAMAULIPAS\",\"Verde\"],[\"TAMAULIPAS\",\"Amarillo\"],[\"TAMAULIPAS\",\"Amarillo\"],[\"TAMAULIPAS\",\"Verde\"],[\"TAMAULIPAS\",\"Rojo\"],[\"TAMAULIPAS\",\"Rojo\"],[\"TAMAULIPAS\",\"Amarillo\"],[\"TAMAULIPAS\",\"Rojo\"],[\"TAMAULIPAS\",\"Amarillo\"],[\"TAMAULIPAS\",\"Amarillo\"],[\"TAMAULIPAS\",\"Verde\"],[\"TAMAULIPAS\",\"Amarillo\"],[\"TAMAULIPAS\",\"Amarillo\"],[\"TAMAULIPAS\",\"Amarillo\"],[\"TAMAULIPAS\",\"Amarillo\"],[\"TAMAULIPAS\",\"Rojo\"],[\"JALISCO\",\"Rojo\"],[\"JALISCO\",\"Rojo\"],[\"JALISCO\",\"Rojo\"],[\"JALISCO\",\"Rojo\"],[\"JALISCO\",\"Rojo\"],[\"JALISCO\",\"Amarillo\"],[\"JALISCO\",\"Rojo\"],[\"JALISCO\",\"Rojo\"],[\"JALISCO\",\"Verde\"],[\"JALISCO\",\"Verde\"],[\"JALISCO\",\"Verde\"],[\"JALISCO\",\"Verde\"],[\"JALISCO\",\"Verde\"],[\"JALISCO\",\"Amarillo\"],[\"JALISCO\",\"Verde\"],[\"JALISCO\",\"Amarillo\"],[\"JALISCO\",\"Verde\"],[\"JALISCO\",\"Rojo\"],[\"JALISCO\",\"Verde\"],[\"JALISCO\",\"Rojo\"],[\"JALISCO\",\"Rojo\"],[\"JALISCO\",\"Rojo\"],[\"JALISCO\",\"Verde\"],[\"JALISCO\",\"Rojo\"],[\"JALISCO\",\"Rojo\"],[\"JALISCO\",\"Verde\"],[\"JALISCO\",\"Rojo\"],[\"JALISCO\",\"Rojo\"],[\"JALISCO\",\"Verde\"],[\"JALISCO\",\"Verde\"],[\"JALISCO\",\"Verde\"],[\"JALISCO\",\"Amarillo\"],[\"JALISCO\",\"Verde\"],[\"SONORA\",\"Verde\"],[\"SONORA\",\"Verde\"],[\"SONORA\",\"Rojo\"],[\"SONORA\",\"Verde\"],[\"SONORA\",\"Verde\"],[\"SONORA\",\"Verde\"],[\"SONORA\",\"Verde\"],[\"SONORA\",\"Verde\"],[\"SONORA\",\"Amarillo\"],[\"SONORA\",\"Verde\"],[\"SONORA\",\"Verde\"],[\"SONORA\",\"Rojo\"],[\"SONORA\",\"Verde\"],[\"SONORA\",\"Verde\"],[\"SONORA\",\"Amarillo\"],[\"SONORA\",\"Verde\"],[\"SONORA\",\"Verde\"],[\"SONORA\",\"Verde\"],[\"SONORA\",\"Verde\"],[\"SONORA\",\"Verde\"],[\"SONORA\",\"Amarillo\"],[\"SONORA\",\"Rojo\"],[\"SONORA\",\"Verde\"],[\"SONORA\",\"Verde\"],[\"SONORA\",\"Verde\"],[\"SONORA\",\"Verde\"],[\"SONORA\",\"Verde\"],[\"SONORA\",\"Verde\"],[\"SONORA\",\"Verde\"],[\"SONORA\",\"Verde\"],[\"SONORA\",\"Verde\"],[\"SONORA\",\"Rojo\"],[\"SONORA\",\"Rojo\"],[\"SONORA\",\"Rojo\"],[\"SONORA\",\"Rojo\"],[\"SONORA\",\"Rojo\"],[\"SONORA\",\"Verde\"],[\"SONORA\",\"Verde\"],[\"SONORA\",\"Verde\"],[\"SONORA\",\"Rojo\"],[\"SONORA\",\"Verde\"],[\"SONORA\",\"Verde\"],[\"SONORA\",\"Verde\"],[\"SONORA\",\"Rojo\"],[\"SONORA\",\"Verde\"],[\"SONORA\",\"Amarillo\"],[\"SONORA\",\"Verde\"],[\"SONORA\",\"Amarillo\"],[\"SONORA\",\"Amarillo\"],[\"SONORA\",\"Verde\"],[\"SONORA\",\"Amarillo\"],[\"SONORA\",\"Amarillo\"],[\"SONORA\",\"Verde\"],[\"SONORA\",\"Rojo\"],[\"SONORA\",\"Rojo\"],[\"SONORA\",\"Verde\"],[\"SONORA\",\"Verde\"],[\"SONORA\",\"Verde\"],[\"SONORA\",\"Verde\"],[\"SONORA\",\"Amarillo\"],[\"SONORA\",\"Verde\"],[\"SONORA\",\"Verde\"],[\"SONORA\",\"Rojo\"],[\"SONORA\",\"Verde\"],[\"SONORA\",\"Verde\"],[\"SONORA\",\"Verde\"],[\"SONORA\",\"Verde\"],[\"SONORA\",\"Verde\"],[\"SONORA\",\"Amarillo\"],[\"SONORA\",\"Verde\"],[\"SONORA\",\"Rojo\"],[\"SONORA\",\"Rojo\"],[\"SONORA\",\"Rojo\"],[\"SONORA\",\"Rojo\"],[\"SONORA\",\"Rojo\"],[\"SONORA\",\"Rojo\"],[\"SONORA\",\"Verde\"],[\"SONORA\",\"Rojo\"],[\"SONORA\",\"Rojo\"],[\"SONORA\",\"Rojo\"],[\"SONORA\",\"Rojo\"],[\"SONORA\",\"Rojo\"],[\"SONORA\",\"Verde\"],[\"SONORA\",\"Rojo\"],[\"SONORA\",\"Rojo\"],[\"SONORA\",\"Rojo\"],[\"SONORA\",\"Verde\"],[\"SONORA\",\"Verde\"],[\"SONORA\",\"Verde\"],[\"SONORA\",\"Rojo\"],[\"SONORA\",\"Rojo\"],[\"SONORA\",\"Verde\"],[\"SONORA\",\"Verde\"],[\"BAJA CALIFORNIA\",\"Amarillo\"],[\"BAJA CALIFORNIA\",\"Rojo\"],[\"BAJA CALIFORNIA\",\"Rojo\"],[\"BAJA CALIFORNIA\",\"Verde\"],[\"BAJA CALIFORNIA\",\"Rojo\"],[\"BAJA CALIFORNIA\",\"Amarillo\"],[\"BAJA CALIFORNIA\",\"Verde\"],[\"BAJA CALIFORNIA\",\"Amarillo\"],[\"BAJA CALIFORNIA\",\"Amarillo\"],[\"BAJA CALIFORNIA\",\"Amarillo\"],[\"BAJA CALIFORNIA\",\"Amarillo\"],[\"BAJA CALIFORNIA\",\"Amarillo\"],[\"BAJA CALIFORNIA\",\"Amarillo\"],[\"BAJA CALIFORNIA\",\"Verde\"],[\"BAJA CALIFORNIA\",\"Verde\"],[\"BAJA CALIFORNIA\",\"Verde\"],[\"BAJA CALIFORNIA\",\"Rojo\"],[\"BAJA CALIFORNIA\",\"Amarillo\"],[\"BAJA CALIFORNIA\",\"Amarillo\"],[\"BAJA CALIFORNIA\",\"Amarillo\"],[\"SONORA\",\"Amarillo\"],[\"SONORA\",\"Verde\"],[\"BAJA CALIFORNIA\",\"Amarillo\"],[\"SONORA\",\"Verde\"],[\"SONORA\",\"Verde\"],[\"SONORA\",\"Amarillo\"],[\"SONORA\",\"Rojo\"],[\"BAJA CALIFORNIA\",\"Amarillo\"],[\"BAJA CALIFORNIA\",\"Amarillo\"],[\"BAJA CALIFORNIA\",\"Amarillo\"],[\"SONORA\",\"Amarillo\"],[\"BAJA CALIFORNIA\",\"Amarillo\"],[\"BAJA CALIFORNIA\",\"Amarillo\"],[\"BAJA CALIFORNIA\",\"Verde\"],[\"BAJA CALIFORNIA\",\"Verde\"],[\"BAJA CALIFORNIA\",\"Verde\"],[\"SONORA\",\"Amarillo\"],[\"SONORA\",\"Amarillo\"],[\"SINALOA\",\"Verde\"],[\"SINALOA\",\"Rojo\"],[\"SINALOA\",\"Amarillo\"],[\"SINALOA\",\"Amarillo\"],[\"SINALOA\",\"Verde\"],[\"SINALOA\",\"Amarillo\"],[\"SINALOA\",\"Rojo\"],[\"SINALOA\",\"Rojo\"],[\"SINALOA\",\"Rojo\"],[\"SINALOA\",\"Verde\"],[\"SINALOA\",\"Amarillo\"],[\"SINALOA\",\"Amarillo\"],[\"SINALOA\",\"Amarillo\"],[\"SINALOA\",\"Rojo\"],[\"SINALOA\",\"Amarillo\"],[\"SINALOA\",\"Amarillo\"],[\"SINALOA\",\"Rojo\"],[\"SINALOA\",\"Verde\"],[\"SINALOA\",\"Verde\"],[\"SINALOA\",\"Verde\"],[\"SINALOA\",\"Verde\"],[\"SINALOA\",\"Amarillo\"],[\"SINALOA\",\"Verde\"],[\"SINALOA\",\"Verde\"],[\"SINALOA\",\"Verde\"],[\"SINALOA\",\"Amarillo\"],[\"SINALOA\",\"Amarillo\"],[\"SINALOA\",\"Rojo\"],[\"SINALOA\",\"Rojo\"],[\"SINALOA\",\"Amarillo\"],[\"SINALOA\",\"Rojo\"],[\"SINALOA\",\"Verde\"],[\"OAXACA\",\"Rojo\"],[\"OAXACA\",\"Rojo\"],[\"OAXACA\",\"Rojo\"],[\"OAXACA\",\"Amarillo\"],[\"OAXACA\",\"Rojo\"],[\"OAXACA\",\"Rojo\"],[\"OAXACA\",\"Verde\"],[\"OAXACA\",\"Verde\"],[\"OAXACA\",\"Amarillo\"],[\"OAXACA\",\"Rojo\"],[\"OAXACA\",\"Verde\"],[\"YUCATAN\",\"Amarillo\"],[\"YUCATAN\",\"Verde\"],[\"YUCATAN\",\"Rojo\"],[\"YUCATAN\",\"Verde\"],[\"YUCATAN\",\"Amarillo\"],[\"YUCATAN\",\"Amarillo\"],[\"YUCATAN\",\"Rojo\"],[\"YUCATAN\",\"Amarillo\"],[\"YUCATAN\",\"Verde\"],[\"YUCATAN\",\"Verde\"],[\"YUCATAN\",\"Verde\"],[\"YUCATAN\",\"Verde\"],[\"YUCATAN\",\"Amarillo\"],[\"YUCATAN\",\"Amarillo\"],[\"YUCATAN\",\"Amarillo\"],[\"YUCATAN\",\"Rojo\"],[\"YUCATAN\",\"Verde\"],[\"YUCATAN\",\"Amarillo\"],[\"YUCATAN\",\"Amarillo\"],[\"YUCATAN\",\"Amarillo\"],[\"YUCATAN\",\"Amarillo\"],[\"YUCATAN\",\"Amarillo\"],[\"YUCATAN\",\"Amarillo\"],[\"YUCATAN\",\"Verde\"],[\"YUCATAN\",\"Amarillo\"],[\"YUCATAN\",\"Verde\"],[\"YUCATAN\",\"Verde\"],[\"YUCATAN\",\"Verde\"],[\"YUCATAN\",\"Verde\"],[\"YUCATAN\",\"Verde\"],[\"YUCATAN\",\"Amarillo\"],[\"YUCATAN\",\"Amarillo\"],[\"YUCATAN\",\"Amarillo\"],[\"YUCATAN\",\"Amarillo\"],[\"YUCATAN\",\"Verde\"],[\"YUCATAN\",\"Amarillo\"],[\"YUCATAN\",\"Amarillo\"],[\"YUCATAN\",\"Amarillo\"],[\"YUCATAN\",\"Amarillo\"],[\"YUCATAN\",\"Amarillo\"],[\"YUCATAN\",\"Verde\"],[\"YUCATAN\",\"Verde\"],[\"YUCATAN\",\"Amarillo\"],[\"YUCATAN\",\"Verde\"],[\"YUCATAN\",\"Amarillo\"],[\"YUCATAN\",\"Amarillo\"],[\"YUCATAN\",\"Verde\"],[\"YUCATAN\",\"Amarillo\"],[\"YUCATAN\",\"Amarillo\"],[\"YUCATAN\",\"Amarillo\"],[\"YUCATAN\",\"Amarillo\"],[\"YUCATAN\",\"Amarillo\"],[\"YUCATAN\",\"Amarillo\"],[\"YUCATAN\",\"Amarillo\"],[\"YUCATAN\",\"Verde\"],[\"YUCATAN\",\"Amarillo\"],[\"YUCATAN\",\"Amarillo\"],[\"YUCATAN\",\"Amarillo\"],[\"YUCATAN\",\"Verde\"],[\"YUCATAN\",\"Verde\"],[\"YUCATAN\",\"Verde\"],[\"YUCATAN\",\"Amarillo\"],[\"YUCATAN\",\"Amarillo\"],[\"YUCATAN\",\"Amarillo\"],[\"YUCATAN\",\"Amarillo\"],[\"YUCATAN\",\"Amarillo\"],[\"YUCATAN\",\"Verde\"],[\"YUCATAN\",\"Rojo\"],[\"YUCATAN\",\"Amarillo\"],[\"YUCATAN\",\"Amarillo\"],[\"YUCATAN\",\"Verde\"],[\"YUCATAN\",\"Amarillo\"],[\"YUCATAN\",\"Amarillo\"],[\"YUCATAN\",\"Verde\"],[\"YUCATAN\",\"Verde\"],[\"YUCATAN\",\"Rojo\"],[\"YUCATAN\",\"Amarillo\"],[\"YUCATAN\",\"Verde\"],[\"YUCATAN\",\"Verde\"],[\"YUCATAN\",\"Amarillo\"],[\"YUCATAN\",\"Amarillo\"],[\"YUCATAN\",\"Verde\"],[\"YUCATAN\",\"Amarillo\"],[\"YUCATAN\",\"Amarillo\"],[\"YUCATAN\",\"Verde\"],[\"NUEVO LEON\",\"Verde\"],[\"NUEVO LEON\",\"Verde\"],[\"NUEVO LEON\",\"Verde\"],[\"NUEVO LEON\",\"Verde\"],[\"NUEVO LEON\",\"Verde\"],[\"NUEVO LEON\",\"Rojo\"],[\"NUEVO LEON\",\"Verde\"],[\"NUEVO LEON\",\"Rojo\"],[\"NUEVO LEON\",\"Rojo\"],[\"NUEVO LEON\",\"Amarillo\"],[\"NUEVO LEON\",\"Rojo\"],[\"NUEVO LEON\",\"Rojo\"],[\"NUEVO LEON\",\"Rojo\"],[\"NUEVO LEON\",\"Verde\"],[\"NUEVO LEON\",\"Verde\"]],\"hovertemplate\":\"<b>%{hovertext}</b><br><br>LATITUD=%{lat}<br>LONGITUD=%{lon}<br>ESTADO=%{customdata[0]}<br>SEMAFORO=%{customdata[1]}<br>K=3 Clusters=%{marker.color}<extra></extra>\",\"hovertext\":[\"POZO SAN GIL\",\"POZO R013 CA\\u00d1ADA HONDA\",\"POZO COSIO\",\"POZO EL SALITRILLO\",\"RANCHO EL TECOLOTE\",\"POZO A.P. CNA 7 (ANTES POZO A.P. CNA 6)\",\"POZO 26, SAN JUAN\",\"VICTOR HUGO CESE\\u00d1A\",\"LAS PARRITAS\",\"SAN ANTONIO\",\"AGUA AMARGA Y SAN PEDRO MEXICO\",\"EL TRIUNFO\",\"JUAN DOMINGUEZ COTA\",\"TIRO SANTA CRUZ\",\"EL ROSARIO II\",\"SP. A.P. 1, L. 9, COL. SIN.\",\"L. 16-17 COL. LAGUNA\",\"L. 20, EJ. STO. DOMINGO\",\"RANCHO AGUA DULCE, GVO. GLEZ.\",\"POZO NO. 14\",\"POZO 2A\",\"MULEGE 1\",\"MULEGE 3\",\"CNA-SI-03 (EJ. ALFREDO V. BONFIL)\",\"BENITO JUAREZ 2\",\"LAGUNEROS 2\",\"DIAZ ORDAZ 2. 2A. ETAPA\",\"POZO Z.A #13 G. DIAZ ORDAZ (ANTES RANCHO EL PILOTO 2)\",\"E. ZAPATA 1\",\"CARACOL 2\",\"EL SILENCIO 2 (CNA-VIZ-51)\",\"GMO. PRIETO 1\",\"HIELERA\",\"POZO NO.VII R(ANTES A.P. VII)\",\"POZO NO. 197-A\",\"POZO NO. 145\",\"POZO NO. XII (ANTES A.P. XII)\",\"A.P. NO. X\",\"POZO NO. XI (ANTES A.P. XI)\",\"POZO NO. XVII\",\"POZO NO. XXII (ANTES A.P. XXII)\",\"POZO NO. XXIV (ANTES A.P. XXIV)\",\"POZO NO. XXVI (ANTES A.P. XXVI)\",\"POZO NO. 378-R\",\"POZO CLAVE 42\",\"POZO CLAVE 14-R\",\"POZO CLAVE 2\",\"POZO CLAVE 35R\",\"POZO CLAVE 91\",\"POZO NO. 5 PIDER\",\"POZO SAN BERNABE\",\"POZO JAVIER ARAMBURO\",\"POZO DEL SISTEMA DE AGUA POTABLE DE CANDELARIA-CAMPECHE\",\"POZO DEL SISTEMA DE AGUA POTABLE DE CHULBAC\",\"POZO 1 ORIENTE DE LA GALERIA FILTRANTE DE CHINA\",\"POZO DEL SISTEMA DE AGUA POTABLE DE UAYAMON\",\"POZO DEL SISTEMA DE AGUA POTABLE DE SEYBAPLAYA\",\"POZO DEL SISTEMA DE AGUA POTABLE DE VILLA MADERO\",\"POZO 1 DEL SISTEMA DE AGUA POTABLE DE ULUMAL\",\"POZO DEL SISTEMA DE AGUA POTABLE DE ALFREDO V. BONFIL\",\"POZO DEL SISTEMA DE AGUA POTABLE DE PUEBLO NUEVO\",\"POZO 6 DEL SISTEMA DE AGUA POTABLE DE HOPELCHEN\",\"POZO 3 DEL SISTEMA DE AGUA POTABLE DE BOLONCHEN DE REJON\",\"POZO DEL SISTEMA DE AGUA POTABLE DE NOHALAL\",\"POZO 1 DEL SISTEMA DE AGUA POTABLE DE HECELCHAKAN\",\"POZO DEL SISTEMA DE AGUA POTABLE DE POMUCH\",\"POZO 3 DEL SISTEMA DE AGUA POTABLE DE TENABO\",\"POZO DEL SISTEMA DE AGUA POTABLE DE DZITBALCHE\",\"POZO 2 DEL SISTEMA DE AGUA POTABLE DE CALKINI\",\"POZO DEL SISTEMA DE AGUA POTABLE DE CENTENARIO\",\"POZO DEL SISTEMA DE AGUA POTABLE DE BEL HA\",\"POZO 1 DEL SISTEMA DE AGUA POTABLE DE ESCARCEGA\",\"POZO 4 DEL SISTEMA DE AGUA POTABLE DE CHICBUL\",\"POZO DE A.P. EL RAMONAL\",\"POZO DE A.P. JUSTO SIERRA\",\"POZO DE A.P. NUEVO COAHUILA\",\"POZO DE A.P. NUEVO PROGRESO (CAMPO MENONITA).\",\"VALLE DE JUAREZ 1\",\"VALLE DE JUAREZ 2\",\"VALLE DE JUAREZ 3\",\"FLORES MAGON-VILLA AHUMADA 3\",\"BUENAVENTURA 3\",\"CASAS GRANDES 3\",\"CASAS GRANDES 1\",\"BAJA BABICORA 2\",\"BAJA BABICORA 1\",\"CUAUHTEMOC 3\",\"MEOQUI-DELICIAS (M-48)\",\"MEOQUI-DELICIAS (M-42)\",\"POZO 24\",\"MEOQUI-DELICIAS (M-51)\",\"MEOQUI-DELICIAS (M-45)\",\"MEOQUI-DELICIAS (6-B)\",\"CASETA OJO LAGUNA\",\"EL SAUZ-ENCINILLAS 2\",\"MEOQUI-DELICIAS (21-A)\",\"MEOQUI-DELICIAS (M-28)\",\"LOS JUNCOS 2\",\"MEOQUI-DELICIAS (M-29)\",\"CASAS GRANDES 2\",\"ASCENSION 2\",\"PALOMAS-GUADALUPE VICTORIA 2\",\"PALOMAS-GUADALUPE VICTORIA 3\",\"PALOMAS-GUADALUPE VICTORIA 1\",\"LAGUNA DE PALOMAS 2\",\"LAGUNA DE PALOMAS 1\",\"MEOQUI-DELICIAS (M-11)\",\"JIMENEZ-CAMARGO 3\",\"JIMENEZ-CAMARGO 1\",\"MEOQUI-DELICIAS (M-101)\",\"MEOQUI-DELICIAS 3\",\"MEOQUI-DELICIAS 2\",\"POZO 1 RANCHO SAN JUAN (CHAPULA)\",\"POZO HOSPITAL DEL ISSSTE\",\"PAREDON 2 - EJIDO COSME\",\"POZO 1 RANCHO LA CHIRIPA\",\"CA\\u00d1ON DEL DERRAMADERO 2\",\"POZO TANQUE NUEVO\",\"POZO RANCHO EL NOGAL\",\"POZO DAVISA - DON COSME\",\"POZO CLUB CAMPESTRE SALTILLO\",\"POZO RANCHO PAOLA\",\"POZO RANCHO DON BETO\",\"POZO SALINAS DEL REY SUR\",\"POZO No. 6 PE\\u00d1OLES\",\"EL HUNDIDO 1\",\"RANCHO DR. CELESTINO VALDEZ\",\"POZO EJIDO HIGUERAS\",\"POZO EL SOL\",\"POZO SAN RAFAEL DE LOS MILAGROS\",\"POZO EL MIMBRE\",\"POZO LA CANDELARIA\",\"POZO ESTACION MADERO\",\"P-2, RECREATIVO EL OASIS\",\"P-1, SAN JUDAS\",\"GSC 85, BODEGAS SAN LORENZO\",\"POZO EJ. SAN LORENZO\",\"GSC 87, PARRAS\",\"POZO REGIONAL PARRAS\",\"P- HOYO 11, RINCON DEL MONTERO\",\"QUINTA MIRA FLORES\",\"GSC 144, HACIENDA DEL MARQUEZ\",\"GALERIA PARRAS\",\"POZO BARRIAL DEL OJO DE AGUA\",\"POZO RANCHO VALLE SAN JOSE\",\"POZO LOS HOYOS - COAHUILA\",\"POZO LA PRESA\",\"POZO EL MESTE\\u00d1O\",\"POZO LA CECILIA\",\"POZO EJIDO LAS TRINCHERAS\",\"POZO PIEDRA BLANCA\",\"POZO CALLEJON DE GUEVARA\",\"MANANTIAL AGUA FRIA\",\"MANANTIAL LOS AMIALES\",\"MANANTIAL AGUA CALIENTE\",\"POZO DE AGUA POTABLE No. 334 EL COLOMO\",\"MANANTIAL EL HERVIDERO\",\"POZO A.P. CERRO DE ORTEGA\",\"POZO No. 1303, CUALATILLA\",\"POZO No. 1569, CLUB DEPORTIVO TECOMENSE\",\"POZO No. 1131, CAPDAM\",\"POZO No. 635 A.P. EL REAL\",\"POZO NO. 622 RANCHO LOS DESMONTES\",\"POZO DE AGUA POTABLE No. 1325 EL CHAVARIN\",\"POZO No. 618 H. ARMERIA, RINCON DE LOPEZ\",\"MANANTIAL LA GUARACHA\",\"POZO NUEVO A.P. PUEBLO JUAREZ\",\"POZO No. 13 SAN RAFAEL\",\"POZO DE AGUA POTABLE No. 1094 MARABASCO\",\"POZO ASOCIACION DE USUARIOS POZO 3\",\"POZO NO. 1125 JAVIER PARRA GODINEZ\",\"POZO 147 EJIDO SALAGUA\",\"POZO 129 EJIDO SALAGUA (FRAHOPA)\",\"POZO No. 1394 A.P. VENUSTIANO CARRANZA\",\"POZO No. 780, UNIDAD DEPORTIVA SUR\",\"POZO No. 1432, CAPDAM\",\"MANANTIAL LA TOMA\",\"POZO BAYLON\",\"POZO GUANACEVI\",\"POZO SAN FERMIN\",\"POZO LAS DELICIAS\",\"POZO EL MEZQUITAL\",\"POZO COLINAS\",\"POZO VALLE DORADO\",\"POZO EL TAGARETE\",\"POZO LA HUERTA\",\"POZO LAS TURBINAS\",\"POZO LA ESTANCIA\",\"POZO 2 LOS HERRERA\",\"POZO CARRERAS\",\"POZO PRESIDIOS\",\"POZO 2 TEPEHUANES\",\"POZO 1 TEPEHUANES\",\"POZO 3 TEPEHUANES\",\"POZO SAN JOSE DE LA BOCA\",\"POZO 1 SANTA CLARA\",\"POZO 2 SANTA CLARA\",\"POZO RAMON CORONA\",\"POZO 1  IGNACIO LOPEZ RAYON\",\"POZO 2 IGNACIO LOPEZ RAYON\",\"POZO 2 PURISIMA\",\"POZO 1 CUAUHTEMOC\",\"POZO EMILIANO ZAPATA\",\"POZO CERRO DE SANTIAGO\",\"POZO J. AGUSTIN CASTRO\",\"POZO LUIS MOYA\",\"POZO YERBANIS\",\"POZO 3 PE\\u00d1ON BLANCO\",\"POZO COVADONGA\",\"POZO 2 PEDRICE\\u00d1A\",\"POZO 1 PEDRICE\\u00d1A\",\"POZO 2 VELARDE\\u00d1A\",\"POZO VISTA HERMOSA\",\"POZO 4 CUENCAME\",\"POZO 1 CUENCAME\",\"POZO 12 DE DICIEMBRE\",\"POZO 10 DE ABRIL (SANTA CLARA)\",\"POZO HEBERTO CASTILLO\",\"POZO VICENTE GUERRERO 1\",\"POZO LA PARRILLA\",\"POZO SAN ISIDRO DE MURILLOS\",\"POZO NOMBRE DE DIOS\",\"POZO DIECISEIS DE SEPTIEMBRE\",\"POZO COL. 20 DE NOV.\",\"POZO 7 GABINO SANTILLAN\",\"POZO COL. EL CIPRES\",\"POZO TAPIAS\",\"POZO SANDIAS\",\"POZO 10 DE ABRIL\",\"POZO COL. HIDALGO\",\"POZO JUAN .B. CEBALLOS\",\"POZO NICOLAS BRAVO\",\"POZO BRUNO MARTINEZ\",\"POZO DONATO GUERRA\",\"POZO 1 SAN LUCAS DE OCAMPO\",\"POZO LEONA VICARIO\",\"POZO EL RANCHITO\",\"POZO LA SECUNDARIA\",\"POZO LAS CANCHAS\",\"POZO TOLEDO\",\"POZO LA LOMA\",\"POZO ATOTONILCO - DURANGO\",\"POZO JOSE Ma. PATONI\",\"POZO NOGALES\",\"POZO MELCHOR OCAMPO\",\"POZO FUENTE DEL LLANO\",\"POZO CIENEGA ESCOBAR\",\"POZO LAS CUESTAS\",\"POZO MIGUEL NEGRETE\",\"POZO NUEVO IDEAL I\",\"LAS MARGARITAS - DURANGO\",\"POZO CANATLAN\",\"POZO FRANCISCO I. MADERO\",\"POZO GUADALUPE VICTORIA\",\"POZO CIENEGUILLA\",\"POZO VILLA UNION 3\",\"POZO VILLA UNION\",\"POZO LA ESPERANZA\",\"POZO LAS DROGAS\",\"POZO PUERTO PINTO\",\"POZO SAN BERNARDO\",\"POZO 5 DE JULIO\",\"POZO SARDINAS\",\"POZO PUERTA DE CABRERA\",\"POZO EJ. REVOLUCION\",\"POZO VILLA HIDALGO\",\"POZO LAS NIEVES\",\"POZO DE PARQUE INDUSTRIAL TOLUCA 2000\",\"SAN ANTONIO ABAD\",\"POZO SANTA MARIA CANCHESDA\",\"SITIO No. 11 NORIA IMSS\",\"POZO TIC TI\",\"POZO 5. LAS FUENTES\",\"POZO DE INYECCION MACROPLANTA TOLUCA NORTE\",\"POZO TECOAC ATLACOMULCO\",\"POZO CERVECERIA CUAUHTEMOC MOCTEZUMA S.A. DE C.V\",\"POZO NUM. 37 OPERADO POR APAS METEPEC\",\"POZO CUATRO SURCOS SANTA MARIA RAYON\",\"POZO ALAMEDA TENANCINGO\",\"MANANTIAL EL BORBOLLON\",\"IRAPUATO-VALLE 2\",\"BERUMBO\",\"LA CANOA\",\"COL. RANCHO NUEVO\",\"RANCHO NUEVO\",\"RODEO DE AYALA\",\"18 DE MARZO\",\"BORDO BLANCO 2\",\"SAN MIGUEL OCTOPAN\",\"SAPAL 2\",\"SAPAL 1 (POZO #1)\",\"RANCHO NUEVO JESUS DEL MONTE\",\"J. REFUGIO MU\\u00d1OZ FRANCO\",\"EJIDO PUERTA DE SAN GERMAN (NICASIO BECERRA)\",\"ADOLFO MARIO ROMERO PADILLA\",\"D.C. INDUSTRIAL POZO NUEVO\",\"EJIDO MONTE NUEVO\",\"POZO EL LINDERO\",\"COMUNIDAD SAN JOSE DE LA ESTACADA\",\"RANCHO DE GUADALUPE 2\",\"VIBORILLAS\",\"EL SALITRE - ITURBIDE\",\"JAIME CONTRERAS\",\"PRESIDENCIA MUNICIPAL DE ACAMBARO 1\",\"PRESIDENCIA MUNICIPAL DE ACAMBARO 3\",\"MALAYAS 1\",\"JUMAPAA 2\",\"PRESIDENCIA MUNICIPAL DE ACAMBARO 2\",\"SALVATIERRA-ACAMBARO 1\",\"SAN JOSE\",\"LAS PE\\u00d1AS\",\"FIDEL TELLEZ SAMANO\",\"SALVATIERRA-ACAMBARO 3\",\"VALLE DE LA CUEVITA 1\",\"VALLE DE LA CUEVITA 3\",\"JAUREGUI POZO NUEVO\",\"SAN ISIDRO DE LA CONCEPCION\",\"LA CONCEPCION (POZO 2 COL. 19 DE ABRIL)\",\"SAN LUIS REY\",\"SANTA MARIA DEL REFUGIO\",\"CONJUNTO RESIDENCIAL PLAYA MAR II\",\"GALON SOBERON\",\"POZO ZIHUATANEJO TERMINAL DE AUTOBUSES\",\"IXTAPA 1\",\"POZO GENARO GALEANA\",\"MANANTIAL AMAJAC\",\"POZO GRANDE\",\"POZO BROTANTE\",\"POZO EL MEXE\",\"POZO ULAPA MELCHOR OCAMPO\",\"MANANTIAL CERRO COLORADO\",\"POZO EL TORRION\",\"MANANTIAL TEZONTEPEC\",\"MANANTIAL TLACOTLAPILCO\",\"POZO EL MEZQUITE II\",\"POZO CHICAVASCO\",\"POZO S.A.P. METZTITLAN\",\"MANANTIAL LOS CANGREJOS/VENTOQUIPA\",\"POZO SANTIAGO TEXTIL\",\"POZO MICHIMALTONGO\",\"MANANTIAL EL GEISER\",\"POZO CALTIMACAN\",\"POZO LA ESTANCIA 2\",\"POZO ORIZABITA\",\"POZO CAPULA\",\"POZO MOHAI\",\"MANANTIAL TOLANTONGO\",\"SAN PABLO TETLAPAYAC\",\"POZO ZIMAPAN 1\",\"POZO ZIMAPAN 2\",\"POZO MARAVILLAS\",\"POZO SAN BARTOLO OZOCALPAN\",\"CARDONAL\",\"SAN JOSE PIEDRA GORDA\",\"SAN JOSE BOJAY\",\"POZO EL LLANO SEGUNDA SECCION\",\"POZO SAN FRANCISCO BOJAY COLONIA\",\"POZO SANTA ANA AHUEHUEPAN\",\"POZO SANTA MARIA DAXTHO\",\"POZO PEDRO MARIA ANAYA\",\"POZO JOSE MARIA PINO SUAREZ\",\"POZO PASO BLANCO\",\"POZO DE LA COMUNIDAD DE LOS DURON\",\"PALO ALTO POZO N\\u00ba 2\",\"POZO JALTICHE DE ABAJO\",\"POZO SANTA MARIA DE GALLARDO\",\"CALVILLO POZO No. 1 INDEPENDENCIA\",\"POZO SAN TADEO\",\"POZO TAPIAS VIEJAS\",\"POZO 1 VILLA JUAREZ, ASIENTOS\",\"POZO GRACIAS A DIOS\",\"SAPAZ 1\",\"LAURELES (POZO CD. DEL SOL II)\",\"ORGANISMO OPERADOR TINGUINDIN\",\"POZO RODEO DE SAN ANTONIO\",\"COMUNIDAD EL ARCO\",\"EJIDO EL GRANJENAL\",\"COMUNIDAD SAN PEDRO\",\"SANTA FE\",\"SAN ISIDRO 1\",\"EJIDO BELLAS FUENTES\",\"TIRINDARO\",\"CIUDAD UNIVERSITARIA\",\"POZO VILLA MAGNA 3\",\"CERRITO ITZICUARO (A.P.)\",\"POZO COMAPAT\",\"EJIDO HUARACHA\",\"COMUNIDAD LAZARO CARDENAS\",\"POZO INDEPENDENCIA\",\"EJIDO YEREGE\",\"NORIA LOS TABLEROS\",\"MAGALLANES\",\"LA VIRGEN 1\",\"EL FRESNO 1\",\"UNIDAD DEPORTIVA\",\"POZO MIL CUMBRES\",\"POZO SAN AGUSTIN DEL PULQUE\",\"POZO HUECORIO\",\"POZO EL RODEO\",\"CULTURA 1\",\"POZO PRIETO CRISPIN\",\"POZO ATOTONILCO\",\"POZO EL LOMILLO DEL RIO\",\"POZO ACAPONETA (SISTEMA TECUALA-NOVILLERO)\",\"LA POBLANA\",\"MORATILLA 4\",\"XOXTLA 1\",\"CLAUDIA SANCHEZ REGULES\",\"DELIA ESCALANTE DE SANCHEZ\",\"POZO AP LOCALIDAD DE AHUEHUETZINGO\",\"LA LOMA\",\"TEPOYANES 4\",\"JOSE ROSENDO FCO. CORTES HDZ.\",\"SAN ANTONIO CHICHICUAUTLA, SPR DE RI\",\"BLANCA LILIA LENDLE RUGARCIA\",\"MPIO. CUAYUCATEPEC\",\"MUNICIPAL S.J. TEPETEOPAN\",\"OOAP DE TEHUACAN AEROPUERTO 3\",\"MPIO. ZINACATEPEC\",\"MUNICIPAL SAN JOSE MIAHUATLAN\",\"SAN BALTAZAR TETELA POZO CENTRO\",\"SAN BALTAZAR TETELA POZO DE LA \\\" Y\\\" GRIEGA\",\"COLONIA UNION ANTORCHISTA\",\"BALCONES DEL SUR SOAPAP\",\"BALCONES DEL SUR SOAPAP 2\",\"SOCIEDAD DOS BARRANCAS DE ACTEOPAN MORELOS\",\"SOCIEDAD EL ROSARIO SPR DE RI\",\"POZO 58-A SAN PEDRO AHUACATLAN\",\"POZO 5-A ARBOLEDAS NO. 6 (JAPAM)\",\"POZO II  BETANIA\",\"POZO 44 BORDO BLANCO\",\"POZO 57 LA LLAVE ASJR-5\",\"HORNO DE CAL\",\"POZO 7 NUEVOS HORIZONTES II\",\"POZO 9 NUEVOS HORIZONTES II\",\"POZO 2 DE LA ZONA DE CAPTACION AEROPUERTO (ANTIGUA)\",\"POZO 5 DEL SISTEMA DE AGUA POTABLE DE TULUM\",\"POZO 6 DEL SISTEMA DE AGUA POTABLE DE TULUM\",\"POZO PLAYA DEL CARMEN\",\"POZO 3 DEL SISTEMA DE AGUA POTABLE DE FELIPE CARRILLO PUERTO\",\"POZO 5 DEL SISTEMA DE AGUA POTABLE DE PLAYA DEL CARMEN\",\"POZO 1 (COLEGIO DE BACHILLERES) DEL SISTEMA DE AGUA POTABLE DE JOSE MARIA MORELOS Y PAVON\",\"POZO 1 DEL SISTEMA DE AGUA POTABLE DEL EJIDO CAFETAL-LIMONES\",\"POZO 1 COZUMEL\",\"POZO 2 COZUMEL\",\"POZO 3 COZUMEL\",\"POZO 4 COZUMEL\",\"POZO 5 COZUMEL\",\"SAUZ DE CALERA\",\"EL SALITRAL\",\"POZO NO. 17 LOS METATES (CNA-77)\",\"POZO NO. 18 SAN PEDRO (CNA-731)\",\"POZO NO. 3 CEDRAL (CNA-755)\",\"POZO VANEGAS\",\"SAN JOSE DE IPOA MH18\",\"ESTACION WADLEY\",\"POZO NO. 3 LA MASITA\",\"POZO TIERRA NUEVA\",\"EL FUERTE\",\"SANTO DOMINGO\",\"BALNEARIO SAN DIEGO\",\"POZO NO. 504 (CNA-12-504)\",\"POZO NO. 3 VILLA DE REYES (CNA-12-213)\",\"POZO NO. 2 VILLA DE REYES (CNA-12-211)\",\"POZO SAN FRANCISCO EL HUNDIDO\",\"OJO CALIENTE 1\",\"OJO CALIENTE 2\",\"DELEGACION VILLA DE POZOS\",\"FRACC. VILLA JARDIN\",\"INTERNADO DAMIAN CARMONA\",\"MU\\u00d1OZ\",\"POZO PERIFERICO 1\",\"CABECERA MUNICIPAL\",\"POZO NO. 1 VENADO (NO. 598)\",\"POZO EL EPAZOTE (NO. 632)\",\"POZO RANCHO SEDARH (POZO NO. 2)\",\"POZO LA ZAMORILLA (CNA-72)\",\"POZO BOCAS (NO. 35)\",\"POZO AGUA POTABLE SAN JUAN SIN AGUA\",\"LA CHILERA\",\"EL REFUGIO CNA - 22\",\"POZO SAN DIEGO\",\"EJIDO EL REFUGIO\",\"LA MEZCLITA\",\"POZO EMILIANO ZAPATA 2\",\"POZO TECOMATES\",\"POZO EL PESCADITO\",\"PALMA DEL SALTO\",\"LA MAROMA - MINA\",\"LOS CATORCE\",\"GRANJAS LA FLORIDA CNA-11-394\",\"EL HUIZACHE CNA-11-248\",\"LA ZORRA CNA-11-274\",\"FRACC. LA FLORIDA CNA-11-299\",\"REAL DEL POTOSI CNA-11-304\",\"SAPAET LAZARO CARDENAS\",\"SAPAET BELLOTA 53\",\"SAPAET FRANCISCO I MADERO\",\"SAPAET MIGUEL HIDALGO\",\"SAPAET LEANDRO ROVIROSA\",\"POZO HUAPACAL 1A SECC.\",\"GASOLINERA ORSAN\",\"SAPAET CHONTALPA 1\",\"HUASTECA\",\"1.- CUAUHTEMOCZIN\",\"2- CA\\u00d1ALES\",\"3.- MECATEPEC\",\"4.- SAPAET C-11\",\"SAN PABLO DEL MONTE (CENTRO)\",\"CUAMILPA\",\"TLAXCO I\",\"ESPA\\u00d1ITA - EL CARMEN\",\"ESPIRITU SANTO\",\"COL. XICOHTENCATL\",\"MESA REDONDA\",\"CLOROBENCENOS\",\"SAN JUAN BAUTISTA\",\"LA VIRGEN\",\"GPE. VICTORIA\",\"TEQUEXQUITLA 2 Y/O (BARRIO GUADALUPE)\",\"QUIAHUIXTLAN\",\"POZO SAN JOSE ATOYATENCO\",\"POZO SAN MIGUEL XOCHITECATITLA\",\"POZO BUENAVENTURA\",\"POZO1. POTRERO\",\"POZO 2 SAN MARCOS CONTLA\",\"POZO 1 SAN MARCOS CONTLA\",\"POZO 6 IXTACUIXTLA. SAN MIGUEL LA PRESA\",\"POZO  NATIVITAS\",\"SAN BARTOLOME TENANGO\",\"POZO 2 ZACATELCO. BARRANCA SANCHEZ\",\"POZO SAN VICENTE XILOXOXITLA\",\"LORETO\",\"VILLA GONZALEZ ORTEGA\",\"VILLA DE COS\",\"GRAL. PANFILO NATERA\",\"SAN PABLO\",\"ESTEBAN S. CASTORENA\",\"LA HONDA\",\"SAN MIGUEL\",\"OJOCALIENTE\",\"LOS ARELLANO\",\"MARAVILLAS\",\"TEPETONGO\",\"ERMITA DE GUADALUPE\",\"POZO NO.7 JEREZ\",\"LA CAPILLA\",\"MALPASO  (POZO)\",\"POZO 2 AGUA POTABLE SISTEMA BENITO JUAREZ\",\"POZO 1401 GRANJA MARIA TERESA\",\"POZO 524 AGUA POTABLE RANCHO NUEVO (SUSTITUTO POZO 669 RANCHO NUEVO)\",\"MORELOS\",\"NORIA DE ANGELES\",\"ENRIQUE ESTRADA\",\"POZO No 2 EL LAMPOTAL\",\"SAUCEDA DE LA BORDA\",\"FRACC. CHE GUEVARA\",\"CIENEGUITAS\",\"SAN JERONIMO\",\"BA\\u00d1UELOS\",\"TRANCOSO\",\"LA QUEMADA\",\"TENANGO\",\"PINOS\",\"POZO SANTA BARBARA\",\"MELCHOR OCAMPO\",\"MAZAPIL\",\"CONCEPCION DEL ORO\",\"EL SALVADOR 2 (EL SALVADOR SAL008)\",\"EL SALVADOR 1 (TANQUE NUEVO SAL003)\",\"JAULAS DE ARRIBA\",\"EL SITIO\",\"EL OBRAJE\",\"MIGUEL AUZA\",\"VILLA HIDALGO\",\"EL SOTOLILLO\",\"LA JOYA\",\"JUAN ALDAMA\",\"CAMACHO 2 (ESTACION OPAL CNA 006)\",\"CAMACHO 1 (SAN MARCOS)\",\"ESTANCIA LA COLORADA\",\"GUADALUPE DE LAS CORRIENTES\",\"CA\\u00d1ITAS DE FELIPE PESCADOR\",\"RANCHO GRANDE\",\"POZOS DE CARRILLO\",\"PANUCO\",\"SAN JOSE DEL RIO\",\"VICENTE GUERRERO 2\",\"EMILIANO ZAPATA\",\"SAIN ALTO\",\"FELIPE CARRILLO PUERTO (EL ARENAL)\",\"SANTA ELENA\",\"EL FUERTE\",\"GENERAL FRANCISCO R MURGUIA\",\"EL CARDITO 2 (BANDERITAS)\",\"EL CARDITO 1  (RANCHO NUEVO CNA041)\",\"FRANCISCO I MADERO\",\"SIERRA VIEJA\",\"EL CAPIROTE\",\"CARCAMO DE BOMBEO\",\"CHUPADEROS\",\"POZO 581 PARDILLO (SUSTITUTO POZO NO. 2007 AGUA POTABLE SANTA ANA)\",\"POZO 6 TABASCO\",\"APULCO\",\"NOCHISTLAN\",\"LUIS MOYA\",\"HUANUSCO\",\"POZO RN-11 AV. LEANDRO VALLE S/N. COL. DEL MAR\",\"POZO RN-18E CAMINO DE OPERACION SUR-RAMAL NETZAHUALCOYOTL\",\"POZO RPT-19 AUTOPISTA PE\\u00d1ON-TEXCOCO\",\"POZO RPT-16 AUTOPISTA PE\\u00d1ON-TEXCOCO\",\"POZO RFC-3 CAMINO _OP_NORTE LOS REYES-ECATEPEC\",\"POZO RFC-15-BIS CAM_OP_NORTE LOS REYES\",\"POZO RT-28-BIS PUEBLO DE TEOLOYUCAN\",\"POZO RT-31 PUEBLO DE TEOLOYUCAN\",\"POZO RTIZ-3 CARR.FED.MEXICO-PACHUCA KM. 50+000\",\"SAN ANDRES METLA\",\"POZO SAN MATEO TEZOQUIAPA (MIRAFLORES)\",\"SAPAC SECTOR NO. 4 CHAMILPA UNIVERSIDAD\",\"PLANCHUELAS\",\"POZO LAS MORAS\",\"POZO NO. 3 DE TETELCINGO (REFRIGERACION DE CUAUTLA)\",\"BONANZA\",\"TETECALITA-CHICONCUAC\",\"EL TERRERO (RIEGO AGRICOLA)\",\"POZO LA ALBORADA (CAMPESTRE ASTURIANO)\",\"POZO TLAXIACO\",\"POZO HUAJUAPAN\",\"POZO SAN AGUSTIN ATENANGO\",\"POZO MARISCALA DE JUAREZ\",\"POZO CALIHUALA (BALSAS)\",\"POZO CUALIATL\",\"POZO MIRADOR\",\"POZO EL ZARCO DE YAUTEPEC\",\"POZO 2 DE LA TOMA 3\",\"POZO NORIA SAN MARCOS ARTEAGA\",\"POZO NORIA TAMAZULA\",\"POZO TIPO NORIA ABAJO LAS CAMPANAS\",\"POZO SAN AGUSTIN\",\"POZO LAS MARIAS\",\"POZO 47 LAS PALMAS\",\"POZO RODEO\",\"POZO 1 NAZAS\",\"POZO BENITO JUAREZ\",\"POZO PASO NACIONAL\",\"POZO LAZARO CARDENAS II\",\"POZO 4983 EL VIDO (LA SOCIEDAD)\",\"POZO 2 RANCHO LAS HABAS\",\"POZO 1 RANCHO GRANDE\",\"POZO VICENTE SUAREZ\",\"POZO 2 LOS SABINOS\",\"POZO 1022 CD. JUAREZ\",\"POZO 1 CD. JUAREZ\",\"POZO LA TORRE\\u00d1A (POZO TRANSPORTE)\",\"POZO 5 RANCHO MI SUE\\u00d1O\",\"POZO 4101 SAN FERNANDO\",\"POZO 14 SAN IGNACIO (SIDEAPA)\",\"POZO 32 PANCHO VILLA (SIDEAPA)\",\"POZO 6 CASA DE LA CULTURA (SIDEAPA)\",\"POZO 5 TRUJANO/URREA\",\"POZO 7 LIBRES PICARDIAS\",\"POZO COL. VICTORIA (BOMBA 12 SIMAS)\",\"POZO 1254 (BOMBA 72 SIMAS)\",\"POZO 4074 (BOMBA 50 SIMAS)\",\"POZO 3704 (BOMBA 31 SIMAS)\",\"POZO 336 (BOMBA 35 SIMAS)\",\"POZO EL QUEMADO\",\"POZO 2718 NAZARENO\",\"POZO CNA 4840\",\"POZO BELLA UNION\",\"POZO 1 LA ESPERANZA\",\"POZO 369 ALBIA\",\"POZO EL CANARIO\",\"POZO 1 EL CUIJE\",\"POZO CAMPO DE TIRO-STMV\",\"POZO NUEVO SAN ISIDRO\",\"POZO ALAMITO\",\"POZO 701 EL FRESNO DEL NORTE\",\"POZO CALERAS DE LA LAGUNA\",\"POZO ADM\",\"POZO 529 GATHO\",\"POZO EL CARI\\u00d1O\",\"POZO GILITA 2\",\"POZO SAN PABLO\",\"POZO SAN ISIDRO\",\"POZO NUEVA VICTORIA\",\"MANANTIAL RIO CHILA\",\"MANANTIAL POZA LA VIRGEN\",\"UNINAJAB\",\"SANTA RITA\",\"INDEPENDENCIA\",\"SAPAM MARGARITAS\",\"EMBOTELLADORA AGUA ELECTRON\",\"POZO BERRIOZABAL\",\"RANCHO GIUSEPPE CONSTANZO\",\"QUINTA 2 POTRILLOS\",\"HUIXTLA\",\"SAPAM MAZATAN\",\"COAPATAP\",\"METAPA\",\"FINCA SANTA CRUZ\",\"MIGUEL ALEMAN\",\"TACSA, RANCHO SAN ANTONIO\",\"RANCHO LOS TOROS\",\"MACAYO 3RA. SECCION\",\"SANTA TERESA 2A. SECCION\",\"EST. JUAREZ\",\"CRAS CUENCA PAPALOAPAN (POBL. NOPALTEPEC)\",\"EJIDO XALTEPEC (POBL. XALTEPEC)\",\"H. AYTO. DE PEROTE (POBL. ZALAYETA)\",\"COMISION REGIONAL DE AGUA Y SANEAMIENTO POZO 8\",\"COMISION REGIONAL DE AGUA Y SANEAMIENTO DEL PUERTO DE VERACRUZ (BETO AVILA POZO 16-A)\",\"CMASA EL CONCHAL\",\"EMBOTELLADORA TROPICAL, S.A. DE C.V. (PEPSI-COLA)\",\"H. AYUNTAMIENTO CONSTITUCIONAL ORIZABA (POBLADO EL TREBOL)\",\"CRYOINFRA\",\"CMAPS NANCHITAL (P-KM 34-2)\",\"COMISION MUNICIPAL DE AGUA POTABLE Y SANEAMIENTO DE COATZACOALCOS (POZO ALLENDE No. 1)\",\"DOS MATAS SOC. DE PROD. RURAL DE R. L. (P-2)\",\"O OP CD. CARDEL (COL. V. LOPEZ P-3)\",\"SAS (FERROSUR)\",\"O OP LOC TIERRA BLANCA (P-1)\",\"POZO 18 EJIDO SANTA ROSA\",\"POZO 21 EJ. EL PROGRESO\",\"POZO 212 JORGE VALENTIN BERNAL\",\"POZO 70 ALEJANDRO BARBA\",\"ANGELICA ACEVEDO\",\"P1MRP\",\"POZO 14 JORGE GUEVARA\",\"POZO 6 HUERTA GUEMEZ\",\"POZO 9 ROTOPLAS BLANCO\",\"POZO 13 RANCHO ERICO\",\"POZO 27 EL OJITO\",\"POZO 1 HIELO Y AGUA DE VICTORIA\",\"POZO 25 COMAPA PLANTA TRATADORA\",\"POZO 54 LOS COMPADRES\",\"POZO 81 HUERTA EL CIELO\",\"POZO 76A RANCHO LOS NARANJOS\",\"POZO 139 A PROFE LIRA\",\"POZO 112 CASA HOGAR MAMA PAULITA\",\"POZO 147 EJIDO SAN PEDRO\",\"POZO 117A COMAPA GONZALEZ\",\"EJ. EL MOQUETITO\",\"EJ. MIGUEL HIDALGO\",\"EJ- LAZARO CARDENAS\",\"RANCHO LA UNION\",\"POZO CONDORSITA N. 1\",\"POZO TOLUQUILLA 7\",\"POZO ELVIRA NU\\u00d1EZ\",\"POZO JOSE CRUZ HERNANDEZ\",\"POZO NICOLAS JIMENEZ MORENO\",\"POZO JUAN CARLOS MINAN VEGA\",\"POZO RANCHO ALEGRE\",\"POZO RANCHO LA LOMA\",\"POZO GRUPO BARCEL\",\"POZO 62. (SARH 344)\",\"POZO NO. 369. QUIMIKAO 1R\",\"POZO TATEPOSCO 2\",\"POZO LAS GRANJAS\",\"POZO COYOTES\",\"POZO NO. 74 CNA\",\"POZO EL MEZQUITE\",\"POZO AMPARO MACIAS NAVARRO\",\"POZO NO. 33. PLAN DE ADOBES\",\"POZO NO. 100. TEPATITLAN DE MORELOS\",\"POZO INULINA Y MIEL DE AGAVE\",\"POZO 4 CH-103. JOCOTEPEC\",\"POZO 3 CH-223. SIMAPA. SAN JUAN COSALA\",\"POZO 2 CH-37. CHAPALA (HOTEL MONTECARLO)\",\"POZO LA NANTESANA\",\"POZO NO. 760\",\"POZO ATOTONILCO MPIO 1\",\"POZO CDC (PATRON SPIRITS S.A. DE C.V.)\",\"POZO PARQUE ACUATICO SANTA RITA\",\"POZO NO. 687\",\"POZO UNIDAD DEPORTIVA OCOTLAN\",\"POZO 34. ATEQUIZA 2\",\"POZO SUR POBLACION TAPALPA\",\"POZO RADIAL SEAPAL\",\"POZO SEAPAL 9\",\"POZO 6\",\"POZO 3 OJO DE AGUA\",\"CUITACA\",\"POZO EJIDO MIGUEL HIDALGO\",\"MILPILLAS\",\"PARQUE INDUSTRIAL DE NOGALES\",\"LAS CHIMENEAS\",\"POZO BLOQUERA MADERAS Y CONCRETOS\",\"POZO TUBUTAMA\",\"POZO EL MEZCALITO\",\"POZO EJIDO SAN JOSE\",\"POZO EJIDO SAN MANUEL\",\"POZO EL CALLEJON\",\"POZO ESTACION LLANO\",\"POZO LOS HOYOS\",\"POZO CUMPAS\",\"POZO SAHUARIPA SA-04\",\"LA POZA\",\"EL VAPOR\",\"POZO FABRICA DE LOS ANGELES\",\"POZO SAUZ DE URES\",\"SAN PABLO DE ACONCHI\",\"POZO ARIZPE\",\"POZO TAHUICHOPA\",\"POZO BACOACHI\",\"NUEVO POZO CHINAPA\",\"POZO BENJAMIN HILL\",\"POZO NO. 2 EL GUEYPARIN\",\"POZO VILLA DEL REAL\",\"POZO BAGOTES Z12\",\"EL REAL DEL CATORCE\",\"HACIENDA DE LA FLOR\",\"POZO VIVEROS DE CESUES\",\"EL CAMPITO\",\"POZO NO. 12V\",\"LAS NORIAS\",\"RANCHO CERRO DE LAS HORMIGAS\",\"TECORIPA\",\"POZO TEPACHE\",\"POZO DIVISADEROS\",\"VI\\u00d1EDO LOS ARROYOS\",\"CAMPO SAN JOSE\",\"POZO SANTA ANA\",\"PILA LOMA DE GUADALUPE\",\"POZO LA AURORA\",\"COICOBA-JAMBIOLABAMPO\",\"POZO #2 ETCHOJOA\",\"POZO 504\",\"POZO BACUM\",\"POZO PUEBLO YAQUI POZO NO. 3\",\"GRUPO GAMEZ\",\"POZO SAN JOSE BACUM\",\"CABORA\",\"EJIDO EL SABINO\",\"POZO TESOPACO\",\"POZO CASA BLANCA\",\"POZO SAN MIGUEL DE HORCASITAS\",\"POZO 122\",\"POZO NO. 1 BOCA ABIERTA\",\"POZO 2 BIS\",\"POZO EL VALIENTE\",\"LOS ARRIEROS\",\"POZO EL DESTIERRO\",\"LA COLORADA\",\"POZO CARBO\",\"EL VERANITO\",\"SIREBAMPO\",\"POZO DIF\",\"AGIABAMPO\",\"POZO EJIDO TENIENTE JUAN DE LA BARRERA\",\"OOMAPAS No. 5\",\"OOMAPAS No 2\",\"OOMAPAS 5 PE\\u00d1ASCO\",\"OOMAPAS 6 PE\\u00d1ASCO\",\"EJIDO CAMPODONICO\",\"SAN MANUEL\",\"EJIDO LA PRIMAVERA\",\"EL VENTARRON\",\"POZO QUITOVAC\",\"PUBLICO URBANO SONOITA\",\"EJIDO PAPAGOS\",\"CERRO COLORADO\",\"CAMPO CORPUS\",\"CAMPO SAN ENRIQUE\",\"POZO CAMPO TODOS SANTOS\",\"CAMPO LOS APACHES\",\"LA MORA\",\"SAN FELIPE DE JESUS\",\"BAVIACORA 1\",\"EL MAZOCAHUI\",\"URES.\",\"TOPAHUE\",\"EL MOLINITO\",\"POZO SR1A (CNA 105)\",\"MANEADERO 1 (POZO SALON EJIDAL)\",\"MANEADERO 3 (POZO CESPE)\",\"OJOS NEGROS 1 (POZO 04A-CNA- B4)\",\"OJOS NEGROS 3 (POZO CNA 60/08)\",\"ENSENADA 1 (POZO CESPE)\",\"POZO NO. 273\",\"POZO NO. 160\",\"NORIA NO. 22\",\"POZO SR-2 (CESPE)\",\"POZO SR - 1 (EJIDO BENITO JUAREZ)\",\"POZO SR-3 (POZO CNA-04-PC)\",\"CAMALU 1 (POZO No 2)\",\"CAMALU 3 (POZO CNA2B)\",\"POZO VG-1 (CNA-19)\",\"POZO VG-2 (CNA-04A-001)\",\"POZO VG-3A (CNA-150)\",\"SAN QUINTIN 1 (POZO UABC)\",\"SAN QUINTIN 3 (POZO EJIDO NVO MEXICALI)\",\"SAN SIMON 1 (POZO No 10 LOS PINOS)\",\"GOLFO DE SANTA CLARA\",\"LOTE NO. 3-A, COL. BOJORQUEZ\",\"POZO NO. 19 CH. ELIAS\",\"PARCELA NO. 22, EJIDO LAGUNITAS\",\"VALLE DE SAN LUIS RIO COLORADO\",\"SISTEMA DE INFILTRACION DE AGUAS RESIDUALES 1\",\"SISTEMA DE INFILTRACION DE AGUAS RESIDUALES 2\",\"POZO NO. R-89 EJIDO HERMOSILLO\",\"POZO SR 2-A (NORIA)\",\"POZO NO. 1  ULLOA\",\"LOTE NO. 5 MZA 81 AV REVOLUCION Y CALLE TERCERA\",\"SAN TELMO 1 (POZO EX EJIDO SINALOA)\",\"SAN TELMO 2 (POZO EJIDO DIAZ ORDAZ)\",\"POZO 10\",\"POZO PB-14\",\"POZO NO. 2 (CASCABEL)\",\"POZO NO. 3\",\"POZO 15\",\"POZO CNA 7\",\"LOMA DE RODRIGUERA\",\"POZO CNA 197 COFRADIA NAVOLATO\",\"POZO CNA RC-5\",\"POZO CNA 135\",\"LAS TRANCAS\",\"BOCA DE ARROYO (CNA-402)\",\"POZO CNA-159\",\"POZO CNA 188\",\"POZO CNA 1\",\"POZO #1 BASE 10\",\"POZO CNA EL VARAL\",\"LA ENTRADA\",\"POZO CNA-350 BOCA DE ARROYO\",\"POZO 12 LAS QUINTAS\",\"EL DORADO, LA CRUZ DE NAVITO\",\"QUILA\",\"TABALA\",\"EL LIMONCITO\",\"EL ROBLE\",\"EJIDO LA CRUZ\",\"EJIDO DIMAS\",\"PIAXTLA DE ABAJO\",\"SAN IGNACIO\",\"POZO CNA 82\",\"WALAMO (CNA-013)\",\"POZO VILLA UNION\",\"POZO CNA 03\",\"POZO CNA 221\",\"POZO CNA-264 (ALHUEY)\",\"POZO CNA-268 (AGUSTINA RAMIREZ)\",\"SAN ANTONIO - (SINALOA)\",\"POZO SAN LORENZO CACAOTEPEC\",\"POZO HUITZO\",\"2025-T8 SAP UNION ZAPATA\",\"POZO LA LUZ 5. CODIPSA 37\",\"POZO No. 47 Codipsa 28 MAGDALENA ZAHUATLAN\",\"POZO EL SAUZ\",\"SANTA LUCIA OCOTLAN\",\"MAGDALENA OCOTLAN\",\"SAN JOSE DEL PROGRESO\",\"OCOTLAN DE MORELOS\",\"SAN MARTIN LOS CANSECO\",\"LAGUNA CHABELA\",\"OTOCH MA AX YETEL KOOH 2\",\"POZO 1 DEL SISTEMA DE AGUA POTABLE CHEMAX\",\"POZO UADY (BEBIDAS PURIFICADAS DEL SURESTE, S.A. DE C.V. AGUAS ARRIBA)\",\"POZO LAS AMERICAS II (BEBIDAS PURIFICADAS DEL SURESTE, S.A. DE C.V.)\",\"POZO 13 DE LA PLANTA MERIDA III DE LA JAPAY\",\"POZO 6 DE LA PLANTA TEMOZON NORTE DE LA JAPAY\",\"COSGAYA\",\"KOMCHEN (HARINERA DE YUCATAN, S.A. DE C.V. AGUAS ABAJO)\",\"SANTA MARIA YAXCHE\",\"POZO 25 (HARINERA DE YUCATAN, S.A. DE C.V. AGUAS ABAJO)\",\"DZITYA\",\"POZO 1 DE SIERRA PAPACAL\",\"POZO 1 DEL SISTEMA DE AGUA POTABLE ESPITA\",\"POZO 3 (SANTA CRUZ) DEL SISTEMA DE AGUA POTABLE DE TIZIMIN\",\"POZO 4 DEL SISTEMA DE AGUA POTABLE DE VALLADOLID\",\"POZO 1 DEL SISTEMA DE AGUA POTABLE DE SOTUTA\",\"EL CORCHITO\",\"CHELENTUN\",\"POZO 1 DEL SISTEMA DE AGUA POTABLE DE TICUL\",\"CENOTE YAXBACALTUN\",\"ANILLO DE CENOTES DE YUCATAN 5\",\"POZO 5 DE LA PLANTA MERIDA II DE LA JAPAY\",\"POZO 1 DE LA PLANTA MERIDA III DE LA JAPAY\",\"POZO 1 DE LA PLANTA MERIDA II DE LA JAPAY\",\"ITZINCAB\",\"OBSERVATORIO CNA\",\"POZO 10 CENTRO DEPORTIVO DEL SUR (COMPA\\u00d1IA EMBOTELLADORA DEL SURESTE S.A. DE C.V. AGUAS ARRIBA)\",\"POZO 2 DE LA PLANTA MERIDA I DE LA JAPAY\",\"POZO 20 DE LA PLANTA MERIDA I DE LA JAPAY\",\"POZO 1 DEL SISTEMA DE AGUA POTABLE HUNUCMA\",\"POZO 1 DEL SISTEMA DE AGUA POTABLE DE CELESTUN\",\"POZO 2 DEL  SISTEMA DE AGUA POTABLE DE PETO\",\"BACA\",\"POZO 2 DZITAS\",\"POZO 2 OPICHEN\",\"POZO 1 SAN MATEO OXKUTZCAB\",\"POZO 1 TZUCACAB\",\"POZO 2 TUNKAS\",\"POZO 1 TAHDZIU\",\"POZO 1 TAHDZIBICHEN\",\"POZO MOTUL\",\"POZO 3 DEL SISTEMA DE AGUA POTABLE DE UMAN\",\"CUZAMA\",\"TIXKOKOB\",\"ACANCEH\",\"AKIL\",\"CACALCHEN\",\"CANSAHCAB\",\"CAUCEL\",\"CHEMAX\",\"CHICXULUB PUEBLO\",\"CHOCHOLA\",\"CHOLUL\",\"CUZAMA.\",\"DZAN\",\"HALACHO\",\"HOCABA\",\"HOCTUN\",\"HOMUN\",\"HUHI\",\"KANASIN\",\"KINCHIL\",\"MANI\",\"MAXCANU\",\"MUNA\",\"POZO IZAMAL\",\"POPOLA\",\"TEABO\",\"TECOH\",\"TEKANTO\",\"TEKAX DE ALVARO OBREGON\",\"TEKIT\",\"TELCHAC PUEBLO\",\"TEMAX\",\"TEMOZON\",\"TETIZ\",\"TIMUCUY\",\"TIXCACALCUPUL\",\"TIXKOKOB.\",\"TIXPHEUAL\",\"UAYMA\",\"POZO 2 PISTE\",\"XOCCHEL\",\"YAXCABA\",\"ACUIFERO MINA NL POZO No, 10 SADM\",\"HACIENDA DOLORES TD 01 (POZO COMUNITARIO)\",\"POZO DE AGUA Y DRENAJE No. 9 CERRITOS\",\"EJIDO SANTA ISABEL Y DOLORES (TOMA DOMICILIARIA POZO COMUNITARIO)\",\"POZO SAN JERONIMO II (SADM)\",\"POZO HOSPITAL CIVIL II (ROTONDA) MITRAS MONTERREY\",\"EJIDO EL CALVARIO (POZO COMUNITARIO)\",\"POZO RANCHO NOGALITOS-RAYMUNDO TREVI\\u00d1O-EJ. LA LAGUNA (RED DE REFERENCIA)\",\"L-343 (EJIDO ELDIEZ)\",\"L-363 - B (COMUNIDAD EL CARMEN DE LOS ELIZONDO)\",\"L-310 (COMUNIDAD SAN MANUEL)\",\"L-305 (EJIDO OJO DE AGUA LAS CRUCESITAS)\",\"HACIENDA MEXIQUITO POZO 01\",\"COMUNIDAD LOS POCITOS\",\"COMUNIDAD LA REFORMA\"],\"lat\":[22.20887,21.99958,22.36685,22.18435,23.45138,23.46493,23.4746,22.8905,23.799861,23.824722,23.94632,23.807347,23.97374,23.80554,23.74221,25.13549,25.2401,25.5047,26.2279,26.24466,26.30176,26.88679,26.85661,27.3359,27.9193,27.82175,27.7335,27.62943,27.5469,27.5281,27.4703,27.8332,22.902244,24.13871,24.099,24.08122,24.08008,24.05496,24.04636,24.0301,24.01131,23.992694,23.97425,24.05342,23.96589,23.96004,23.96127,23.93433,23.94544,23.315977,23.14838,23.06715,18.1868,19.74566,19.77364,19.65788,19.63013,19.52958,19.27276,19.52199,19.74728,19.74251,20.00898,20.10319,20.1959,20.14573,20.02983,20.321355,20.37721,18.648749,18.93264,18.6058,18.77386,17.83397,17.94648,17.89228,19.67761,31.54709,31.34143,31.27197,30.15929,30.29047,30.37578,30.26354,29.03065,28.7217,28.58134,28.426111,28.355833,28.41368,28.33,28.391111,28.270833,29.48187,29.06838,28.23409,28.42294,28.99189,28.15061,30.74747,31.05437,31.37659,31.55764,31.31058,26.895,26.75179,28.069779,26.91534,27.11688,27.7325,27.86334,28.424252,25.26437,25.43041,25.91717,25.28887,25.29527,25.26241,25.61108,25.58455,25.49529,25.43227,25.44533,27.07335,27.02141,26.60065,25.45353,25.63039,25.62313,25.66383,25.67093,25.76645,25.71831,25.60186,25.59078,25.498,25.51958,25.48861,25.4889,25.47734,25.43984,25.4402,25.43402,25.40617,25.44787,25.41228,25.33876,25.53829,25.57514,25.6075,25.65501,26.991111,19.30209,19.16797,19.20459,19.053861,19.08445,18.75098,19.02129,18.53648,18.90683,18.84347,18.82877,19.20004,19.05583,19.0665,19.17448,18.78657,19.22969,19.03872,19.03032,19.127083,19.12627,19.0126,18.99686,18.98215,18.99035,25.91927,25.93558,26.32283,25.69362,23.47888,25.04651,25.04395,25.04969,25.03796,25.03166,25.09101,25.16548,25.31562,25.28245,25.33097,25.34377,25.33631,25.32961,24.47972,24.47431,24.18502,24.22206,24.17523,24.24767,24.28914,24.42197,24.53926,24.60663,24.55178,24.67848,24.79006,24.90714,25.12443,25.11561,25.06215,25.03684,24.85957,24.8579,24.70461,24.55637,25.05818,23.72654,23.77516,23.68358,23.85314,24.05297,24.04655,23.98935,24.05443,23.9961,25.2468,25.0322,24.15877,24.20678,24.39102,24.52291,24.61722,24.72936,24.69971,24.77588,24.78529,24.78859,24.80296,24.78616,24.84292,24.87891,24.98567,24.93752,24.84937,25.61184,24.78359,25.00915,24.90358,25.07573,24.53437,24.4068,24.45596,24.05253,23.98723,25.69755,25.86359,25.97,25.96688,25.9907,26.0371,26.08627,26.05124,26.20266,26.25007,26.39792,19.265198,19.309457,19.853333,19.290975,19.80764,19.80016,19.37737,19.77544,19.28808,19.24489,19.15112,18.96333,20.02582,20.57098,20.34876,20.49238,20.52136,20.52867,20.48533,20.53083,20.53592,20.57378,20.82194,20.83033,20.9631,21.03844,21.04601,21.0545,21.07644,20.95763,21.30496,21.16993,21.28666,21.08537,21.10395,19.96578,19.99429,20.09978,20.02222,20.04927,20.00199,20.22812,20.09883,20.10117,20.08219,20.31771,20.30137,20.36399,20.58675,20.62644,20.60187,20.57006,20.43779,16.78592,16.90052,17.64925,17.66322,16.8592,20.30608,20.26517,20.28279,20.22377,20.14135,20.12033,20.1635,20.19098,20.374697,20.14934,20.20277,20.5906,20.03506,20.04073,20.1119,20.5781,20.529806,20.38902,20.60693,20.50695,20.58922,20.64791,20.62865,20.74246,20.74084,20.20148,20.215,20.519206,19.808833,20.049444,20.050972,20.085211,20.124508,20.1325,20.153822,20.244944,21.97497,21.75181,21.9055,21.7742,22.04557,21.84439,21.92306,21.85116,22.09141,21.92859,19.9832,20.37462,19.73448,20.3129,20.25488,20.033085,20.12745,19.9038,19.85138,19.82134,19.76757,19.68698,19.6743,19.66929,19.775278,19.89514,20.02568,19.86747,20.03009,19.70112,19.68638,19.68025,19.70113,19.67649,19.694543,19.960694,19.540556,21.5235,21.496444,21.50517,22.39909,22.38992,22.50185,19.066111,19.100638,19.1595,18.64453,18.64013,18.49065,19.29417,18.94999,19.32091,19.34465,19.33307,18.555518,18.52118,18.50288,18.34312,18.30804,18.906389,18.9125,18.952936,18.949183,18.950533,18.954833,18.950014,20.4348,20.38641,20.38444,20.49568,20.46708,20.897297,21.097619,21.054694,21.063778,20.260856,20.258889,20.66763,19.551606,20.670825,19.75637,19.02157,20.50653,20.50324,20.48572,20.47974,20.47431,22.86287,22.85518,23.88715,23.89052,23.8672,23.88652,23.4757,23.61399,23.13955,21.70316,21.72247,21.61292,21.75607,21.77099,21.79597,21.79467,21.76215,21.85608,21.8518,22.09806,22.14021,22.13944,22.15571,22.2086,22.62326,22.93326,22.82189,22.6766,22.56481,22.51589,22.93944,21.94958,21.93902,21.91946,21.93332,21.94226,21.92411,21.98469,21.87902,23.7606,23.5156,23.7002,22.152806,22.236667,22.18311,22.148889,22.16275,17.9944,18.0952,18.33234,18.25555,18.42864,18.19725,18.16021,17.66316,17.79193,18.203917,18.01954,17.890833,18.174722,19.11973,19.27067,19.60381,19.44886,19.36149,19.35489,19.42248,19.33034,19.238278,19.304917,19.279028,19.305667,19.335861,19.249139,19.234778,19.157639,19.169556,19.198528,19.199861,19.234778,19.23225,19.253833,19.196667,19.274722,22.26984,22.50461,23.28831,22.68725,22.55745,22.46404,22.3972,22.03707,22.57168,21.7858,22.40142,22.45727,22.58724,22.668,22.67957,22.60544,22.69688,22.67801,22.75491,22.8637,22.48371,22.99946,22.89857,22.85651,22.72228,22.71613,22.66717,22.65815,22.77001,22.40547,22.28876,22.3024,23.01389,24.8328,24.63532,24.55602,24.52365,24.38432,22.02965,21.97693,22.16702,24.24546,22.35961,22.47274,22.89935,24.25089,24.32433,24.24101,23.78591,23.70464,23.56972,23.44424,23.19742,22.91561,23.20728,23.18828,23.5544,23.58569,23.66212,22.59379,23.85291,24.00304,24.19737,24.00488,22.79935,23.50368,23.6513,23.81987,23.15117,23.20094,21.87239,21.34599,21.38652,22.4365,21.77476,19.28548,19.27505,19.48637,19.48943,19.631455,19.6658,19.7652,19.77982,19.81857,19.22227,19.22688,18.98108,18.83821,18.86836,18.86758,18.60531,18.77216,18.76767,18.96856,17.24958,17.80557,17.61476,17.85734,17.53781,18.982331,18.913047,18.919158,18.899089,17.716749,17.689281,17.812971,26.36715,26.55391,26.49838,25.18228,25.22352,25.19079,25.2657,25.29312,25.2521,25.75665,25.74547,25.72986,25.47861,25.52502,25.49591,25.61817,25.51222,25.50964,25.59531,25.56933,25.5515,25.557981,25.32396,25.53584,25.53947,25.52089,25.56234,25.57216,25.71844,25.38962,25.81251,25.62614,25.1457,25.67098,25.59293,25.69791,25.41693,25.61982,25.73095,25.74773,25.50616,25.55517,25.7626,25.54237,25.38371,25.72976,25.56458,26.43415,16.36604,16.25877,16.10393,16.13222,16.25175,16.32036,16.75936,16.79464,16.83165,16.18219,15.06411,14.86892,14.88354,14.83955,14.71028,14.56115,14.73264,14.81863,17.9474,17.73659,17.6012,18.27438,19.37728,19.40857,19.15789,19.16367,19.08284,18.86073,18.85579,18.11244,18.06723,18.156147,18.5883,19.364444,19.208333,18.44476,23.96256,23.96787,24.09905,24.07263,24.07083,24.04188,24.06487,23.92383,23.87666,23.89004,23.80415,23.74566,23.75981,23.10411,22.99903,23.02564,22.61112,22.81973,22.6609,22.81269,25.271139,24.943278,24.868972,24.5745,22.95678,20.55369,20.55216,20.56188,20.58667,20.59044,20.53809,20.50331,20.4318,20.437,20.49387,20.59728,20.60925,20.58173,20.68918,20.74867,20.78165,20.78513,20.81347,20.87053,20.28585,20.28941,20.291776,20.69921,20.48296,20.54083,20.5208,20.4222,20.44043,20.3593,20.39211,19.937367,20.71904,20.64282,31.32013,30.975972,30.99709,31.14924,31.11264,31.25638,31.27681,31.16129,30.88404,30.71054,30.72676,30.62337,30.40185,30.3647,30.12831,29.98647,29.04973,29.86644,29.65365,29.44813,29.40136,29.77367,30.34119,30.37335,30.63566,30.43986,30.17053,30.04605,29.15153,29.09646,28.96157,29.07231,29.1707,29.08897,29.1931,29.04896,29.19417,28.62613,29.53688,29.62448,29.12727,29.10249,30.5497,27.02193,27.03958,26.74182,26.9182,27.22643,27.54914,27.35044,27.55372,27.51951,27.43473,27.79186,27.83808,27.49006,29.48865,28.24131,27.96825,27.99206,28.05193,28.3203,28.29499,28.79964,29.68917,26.96844,26.63968,27.0255,26.36403,26.41087,31.583167,31.48255,31.483056,31.482694,30.955389,30.63,30.496028,30.703528,31.515833,31.8692,31.886913,31.939167,28.86665,28.84804,28.68438,28.31952,29.97765,29.85496,29.71359,29.53365,29.42405,29.26547,29.20333,31.096444,31.728857,31.756832,31.937644,31.907726,31.846055,32.110833,32.084111,32.04725,31.114528,31.097745,31.013624,30.807972,30.857222,30.768832,30.755786,30.728562,30.650416,30.543055,30.434638,31.69387,32.263333,32.331944,32.321953,32.324167,32.394722,32.389167,32.501378,31.090335,32.677713,32.475555,30.958833,30.965888,32.57165,32.56358,30.83374,32.47223,32.44377,24.79921,24.87168,24.76599,24.76621,24.76086,24.70395,25.46517,25.43721,25.29359,25.36881,25.56787,25.6375,25.5882,26.3226,25.91714,24.34763,24.4151,24.44365,23.93004,23.92107,23.89952,23.73324,23.83393,23.94078,23.32884,23.14434,23.19806,23.12525,25.73292,25.37833,25.31937,25.365346,17.13487,17.28417,16.917,16.11369,17.393722,16.5169,16.736547,16.707683,16.686089,16.794025,16.65004,20.66138,20.65032,20.65104,21.04919,21.0673,20.97083,21.06234,21.09699,21.10331,21.11674,21.10537,21.06721,21.12627,21.007819,21.131844,20.68116,20.59704,21.278556,20.71957,20.39698,20.72703,20.68943,20.87006,20.96876,20.88382,20.91598,20.94637,20.89973,20.84451,20.82198,21.01301,20.85034,20.12536,21.065171,20.84,20.54778,20.31575,20.06769,20.90794,20.20322,20.45031,21.093629,20.87508,20.741298,21.009329,20.812778,20.265556,20.982222,21.15685,21.014722,20.655,21.136389,20.750833,21.043056,20.74294,20.386944,20.476389,20.81592,20.864444,20.73932,20.72727,20.934444,20.916111,20.386389,20.583056,20.484722,20.93906,20.731944,20.399722,20.741944,21.010556,20.201944,20.532222,21.18967,21.14076,20.804167,20.962222,20.810556,20.536667,21.002222,20.977778,20.716944,20.70436,20.83792,20.548056,26.01722,25.53044,26.05851,25.53369,25.67537,25.68766,25.55759,25.28444,24.84821,24.97478,24.76036,24.7828,25.55197,24.80118,25.0938],\"legendgroup\":\"\",\"lon\":[-102.0221,-102.20075,-102.28801,-102.29449,-110.2448,-110.22067,-110.21396,-109.907306,-110.088778,-110.054722,-109.907091,-110.108253,-109.95892,-110.0611,-110.11185,-111.72009,-111.8038,-111.92221,-111.4857,-111.50755,-111.54894,-112.00146,-112.05319,-112.762754,-113.7937,-113.67867,-113.4545,-113.44772,-113.3826,-113.34142,-113.2982,-113.2666,-109.897306,-110.29474,-110.35254,-110.33359,-110.30773,-110.31538,-110.31963,-110.32825,-110.32911,-110.351111,-110.372139,-110.37261,-109.92619,-109.90588,-109.89282,-109.91576,-109.96126,-109.705375,-109.69954,-109.697542,-91.04672,-90.55914,-90.49801,-90.42225,-90.65317,-90.70225,-90.62253,-90.17564,-90.12211,-89.85167,-89.74793,-89.90955,-90.1235,-90.16612,-90.22615,-90.059102,-90.0605,-90.288313,-89.31538,-90.72135,-90.92259,-90.66071,-90.73954,-90.77618,-89.67811,-106.28142,-106.11205,-105.8813,-106.43805,-107.65257,-107.93162,-107.96673,-107.47621,-107.24538,-107.00819,-105.543611,-105.567222,-106.86832,-105.428333,-105.625833,-105.480278,-106.40643,-106.2562,-105.39353,-105.41464,-104.66156,-105.39771,-107.93687,-108.00337,-107.76391,-107.79295,-107.61123,-103.97686,-104.34589,-105.355883,-105.43712,-104.89832,-105.163889,-105.19762,-105.411715,-101.21586,-101.01262,-101.32825,-101.26036,-101.27869,-101.72879,-100.89375,-100.91532,-100.95275,-100.88791,-100.92313,-103.46597,-103.34128,-102.26766,-100.87861,-100.81335,-102.62177,-102.49373,-102.36098,-102.2642,-102.19048,-102.16606,-102.17481,-102.19453,-102.20174,-102.17817,-102.17488,-102.16675,-102.16873,-102.17355,-102.18182,-102.1726,-102.15225,-102.0033,-101.83615,-101.86935,-101.91452,-101.98118,-101.87539,-102.070556,-103.86679,-103.83367,-103.62713,-104.243333,-103.5444,-103.72062,-103.98904,-103.53304,-103.96526,-103.94745,-103.89716,-104.55952,-103.93098,-103.87371,-103.91957,-103.82841,-104.52775,-104.23293,-104.205807,-104.322361,-104.3391,-104.10233,-103.73567,-104.05985,-103.70785,-105.41268,-105.95998,-104.80348,-105.04658,-104.3969,-105.44319,-105.43259,-105.42947,-105.42039,-105.41407,-105.42473,-105.50608,-105.68874,-105.6288,-105.71853,-105.72154,-105.7346,-105.77733,-103.3553,-103.37133,-103.63499,-103.72039,-103.73916,-103.79449,-103.81477,-103.85242,-103.81525,-103.92517,-103.96478,-103.88003,-104.02779,-104.079,-103.79279,-103.78701,-103.72887,-103.72011,-103.6934,-103.69635,-103.57082,-103.48315,-105.42265,-103.98071,-104.08413,-104.05886,-104.24706,-104.54745,-104.58898,-104.58664,-104.6448,-104.70648,-105.5974,-105.40988,-104.58995,-104.6666,-104.74164,-104.65405,-104.64327,-104.64101,-104.494,-104.48151,-104.47535,-104.48941,-104.47438,-104.45502,-104.48885,-104.45044,-104.72531,-104.85949,-104.86008,-105.74362,-104.01215,-104.98288,-105.05289,-105.19465,-104.77643,-104.32395,-104.12454,-104.04673,-104.05328,-104.70206,-104.82782,-105.36349,-105.37875,-105.50631,-105.4951,-105.56483,-105.25206,-105.10002,-104.91611,-105.38731,-99.636214,-99.565228,-100.055556,-99.733256,-99.89711,-99.88533,-99.57123,-99.8446,-99.5944,-99.61376,-99.58713,-99.58578,-100.102953,-101.19775,-101.63174,-101.5999,-100.74664,-100.74094,-101.62505,-101.60165,-101.60741,-100.74847,-101.71557,-101.71862,-101.72489,-101.78114,-101.77142,-101.66885,-101.60686,-101.62457,-101.23622,-100.71867,-100.61406,-100.43322,-100.45618,-100.94476,-100.8494,-100.82738,-100.73109,-100.71377,-100.69376,-100.87295,-101.17033,-101.24153,-101.14751,-100.75557,-100.6114,-100.47076,-100.73115,-100.78609,-100.80016,-100.78631,-100.80598,-99.8099,-99.82812,-101.54423,-101.58913,-99.79753,-98.71523,-98.9582,-99.0077,-99.08415,-99.16673,-99.26236,-99.37739,-99.27902,-99.222808,-99.05493,-98.95688,-98.75922,-98.33827,-98.3479,-99.38646,-99.69317,-99.371536,-99.20256,-99.2082,-99.12295,-99.12514,-99.00614,-98.91058,-99.37726,-99.37852,-99.59644,-99.49225,-99.2325,-99.36025,-99.208889,-99.307056,-99.331475,-99.349736,-99.383056,-99.34955,-99.426861,-102.31557,-102.12402,-101.96439,-102.79253,-102.11368,-102.728,-102.6984,-102.53558,-102.06644,-102.48305,-102.27883,-102.03397,-102.47758,-101.50779,-101.56994,-101.619108,-101.51646,-101.53455,-101.57115,-101.68031,-101.74463,-101.20471,-101.32479,-101.28187,-101.200833,-100.41537,-100.30782,-100.82883,-100.1963,-100.61861,-100.50424,-100.5378,-100.54557,-100.56885,-101.146748,-101.0716,-101.622389,-104.91927,-104.889981,-104.87448,-105.48229,-105.45444,-105.35105,-98.173416,-98.236861,-98.3181,-98.4632,-98.45872,-98.63208,-98.5107,-97.90212,-97.39487,-97.38157,-97.35787,-97.49158,-97.54919,-97.42657,-97.24615,-97.26469,-98.176667,-98.174444,-98.270067,-98.235944,-98.233775,-97.831,-97.745167,-99.98505,-100.00822,-99.98733,-99.92782,-99.9958,-99.923085,-86.980831,-87.034944,-87.030361,-87.491956,-87.494394,-87.147252,-88.041736,-87.156944,-88.70259,-88.11042,-86.86412,-86.87732,-86.88714,-86.90199,-86.86888,-102.16434,-102.08324,-100.84775,-100.80168,-100.77255,-100.95345,-100.63371,-100.98165,-100.59898,-100.6233,-100.67056,-100.76304,-100.95185,-100.94273,-100.94395,-100.95308,-100.97465,-100.75535,-100.75287,-100.87992,-100.90186,-100.97169,-100.99982,-101.01147,-101.70246,-101.10362,-100.90541,-100.91297,-100.98261,-101.02171,-100.47511,-100.06028,-100.05403,-100.08496,-100.07085,-100.07782,-100.04975,-100.16041,-100.0928,-100.9075,-100.8472,-100.9102,-100.84225,-100.853056,-100.850917,-100.846028,-100.867611,-93.00783,-93.3223,-93.2048,-93.30885,-92.87828,-93.14629,-92.85941,-93.47752,-92.94162,-94.127225,-93.382611,-93.524722,-93.626667,-98.17097,-98.28158,-98.12397,-98.4251,-98.45527,-97.83136,-97.85323,-97.64395,-97.861167,-98.276028,-98.38975,-97.662472,-98.248972,-98.355,-98.350389,-98.225111,-98.204417,-98.180389,-98.196944,-98.350389,-98.318669,-98.299472,-98.242389,-98.299444,-101.97933,-101.94518,-102.35692,-102.15784,-102.09825,-102.27015,-101.83738,-102.85178,-102.25301,-102.98526,-102.02176,-103.14919,-103.02734,-103.00322,-102.22758,-102.67478,-102.70026,-102.71925,-102.73696,-102.64638,-101.87106,-102.74783,-102.428,-102.43731,-102.49688,-102.50675,-102.51749,-102.52832,-102.31134,-102.8707,-102.88506,-101.67815,-103.19989,-101.6368,-101.54754,-101.34845,-100.86099,-100.96738,-101.57321,-101.65055,-101.63465,-103.4338,-101.72702,-101.73639,-102.65772,-103.39173,-102.42171,-102.17488,-102.39469,-102.51058,-102.75542,-102.96398,-102.99778,-102.59026,-103.26627,-103.34804,-103.29927,-103.258,-103.4398,-102.08253,-103.13707,-103.0163,-101.99526,-101.62038,-102.71887,-102.1482,-102.15312,-103.03076,-102.31851,-102.73489,-102.91,-102.77041,-102.69382,-102.24267,-102.97662,-99.06975,-99.0458,-98.95787,-98.94932,-99.16265,-99.1204,-99.1851,-99.19142,-98.97644,-98.83974,-98.81591,-99.24037,-99.17501,-99.16624,-98.92501,-99.20771,-99.18458,-99.37027,-98.86337,-97.66029,-97.77236,-97.96749,-98.14664,-98.2704,-99.09035,-98.969544,-99.07,-99.01,-97.859258,-97.584348,-97.778111,-104.32958,-104.05814,-104.18966,-104.55594,-104.11991,-104.2005,-104.02016,-103.9979,-103.9074,-103.8946,-103.87814,-103.87056,-103.65114,-103.62177,-103.59594,-103.60639,-103.54249,-103.53596,-103.538,-103.50867,-103.5023,-103.501283,-103.49377,-103.48221,-103.47512,-103.45091,-103.44817,-103.44813,-103.39419,-103.44236,-103.41213,-103.41669,-103.40289,-103.36106,-103.34812,-103.33905,-103.34386,-103.39794,-103.31006,-103.29658,-103.43071,-103.48577,-103.24722,-103.19515,-103.1743,-103.07743,-103.43761,-102.80791,-92.40592,-92.35277,-92.14164,-91.9742,-92.005,-91.997,-93.149917,-93.26927,-93.19359,-93.27483,-92.52818,-92.45143,-92.29876,-92.18802,-92.15914,-92.21712,-92.41133,-92.34088,-93.29137,-93.16784,-93.19794,-96.00141,-97.35938,-97.39143,-96.1283,-96.12286,-96.10287,-97.06181,-97.06786,-94.40802,-94.38855,-94.382728,-96.41788,-96.368889,-96.151389,-96.36532,-99.266,-99.08132,-99.12158,-98.90733,-99.12199,-99.00892,-98.86932,-98.99417,-99.00736,-99.14043,-98.95889,-99.12487,-99.07846,-99.1285,-99.07515,-98.8833,-99.0124,-99.01105,-98.85201,-98.42944,-98.210222,-98.105556,-98.640361,-98.306417,-99.70181,-103.41894,-103.39606,-103.41161,-103.4189,-103.44709,-103.42775,-103.40662,-103.39468,-103.3113,-103.2251,-103.2423,-103.08514,-102.92708,-103.02829,-102.84686,-102.7868,-102.76882,-102.78058,-102.67258,-103.42982,-103.3473,-103.203028,-102.46471,-102.49986,-102.5032,-102.54816,-102.37494,-102.39088,-102.779,-103.1489,-103.757005,-105.24227,-105.21211,-109.53205,-110.217722,-110.48888,-110.63928,-110.45173,-110.96166,-110.97975,-110.95548,-111.4674,-111.84424,-111.40456,-111.42039,-111.52424,-111.10273,-109.78725,-109.78207,-109.22978,-110.96012,-110.93517,-110.7555,-110.43803,-110.20114,-110.16094,-110.15789,-109.95586,-110.03386,-111.10934,-111.03294,-111.01328,-111.12072,-111.05556,-110.94133,-110.85297,-110.83528,-110.87231,-110.63302,-110.75323,-109.95654,-109.53619,-109.47377,-111.72465,-111.7881,-111.11664,-108.93771,-108.9527,-109.35634,-109.64116,-109.95354,-110.07716,-110.04506,-110.20887,-110.14316,-109.55175,-109.50509,-109.37109,-109.98356,-110.72807,-110.67577,-110.54756,-110.90689,-110.91963,-111.04355,-110.68851,-110.5811,-110.95433,-109.23479,-109.23692,-108.94231,-109.1386,-109.08665,-113.31117,-113.38027,-113.397778,-113.393333,-113.011667,-112.9422,-112.323444,-112.164167,-112.750556,-112.8298,-112.882705,-113.108056,-111.64552,-111.63597,-111.38788,-111.22335,-110.2048,-110.24974,-110.15437,-110.11926,-110.38294,-110.62928,-110.75911,-116.087167,-116.578519,-116.572811,-116.225506,-116.197794,-116.603028,-116.501111,-116.593639,-116.66425,-116.150528,-116.085944,-116.247378,-116.036861,-116.044586,-115.926332,-115.956988,-116.011263,-115.9695,-115.941306,-115.870444,-114.492423,-115.034722,-115.040083,-114.904922,-114.852722,-114.814167,-114.815556,-114.905833,-116.194721,-114.780743,-114.897222,-116.016139,-116.157083,-116.6218,-116.58073,-114.81693,-114.77949,-114.80636,-107.42654,-107.40047,-107.6446,-107.59661,-107.71181,-107.72429,-107.97163,-108.13171,-108.19576,-108.1502,-108.45831,-108.4194,-108.579,-108.74541,-109.20195,-107.32762,-107.21882,-107.09189,-106.77659,-106.81741,-106.92464,-106.76889,-106.65798,-106.41753,-106.23798,-106.24055,-106.22059,-106.2584,-108.34293,-108.13493,-108.15846,-108.161147,-96.80786,-96.88211,-96.4101,-97.59158,-97.243556,-96.7519,-96.67775,-96.710403,-96.685436,-96.677381,-96.73783,-87.61132,-87.63874,-87.93813,-89.64454,-89.64467,-89.50298,-89.61706,-89.7046,-89.66156,-89.63533,-89.63902,-89.69169,-89.73847,-88.29481,-88.13511,-88.21379,-89.00757,-89.632889,-89.34762,-89.55652,-89.268131,-89.87605,-89.69752,-89.53176,-89.69258,-89.69471,-89.65182,-89.65668,-89.60053,-89.59899,-89.8667,-90.23556,-88.92191,-89.399375,-88.52539,-89.86,-89.43381,-89.05186,-88.74911,-88.94375,-88.83189,-89.289489,-89.75842,-89.317067,-89.397639,-89.453611,-89.347778,-89.227778,-89.08996,-89.706944,-87.937222,-89.516667,-89.829722,-89.556389,-89.32693,-89.4675,-90.081944,-89.24109,-89.201944,-89.29517,-89.16324,-89.557778,-89.946944,-89.390278,-90.000833,-89.713056,-89.01286,-88.236111,-89.284444,-89.474444,-89.105556,-89.288056,-89.331389,-89.27398,-88.93873,-88.202778,-89.933889,-89.513333,-88.270278,-89.393611,-89.441667,-88.316667,-88.58953,-89.18251,-88.827222,-100.53748,-99.78684,-100.12972,-99.77911,-100.3644,-100.34715,-99.8381,-99.72944,-99.43441,-99.43914,-99.54191,-99.70099,-99.82249,-100.32683,-100.73302],\"marker\":{\"color\":[0,0,0,0,1,1,1,1,1,1,1,1,1,1,1,1,1,1,1,1,1,1,1,1,1,1,1,1,1,1,1,1,1,1,1,1,1,1,1,1,1,1,1,1,1,1,1,1,1,1,1,1,2,2,2,2,2,2,2,2,2,2,2,2,2,2,2,2,2,2,2,2,2,2,2,2,2,1,1,1,1,1,1,1,1,1,1,1,1,1,1,1,1,1,1,1,1,1,1,1,1,1,1,1,0,0,1,1,0,1,1,1,0,0,0,0,0,0,0,0,0,0,0,0,0,0,0,0,0,0,0,0,0,0,0,0,0,0,0,0,0,0,0,0,0,0,0,0,0,0,0,0,0,0,0,0,0,0,0,0,0,0,0,0,0,0,0,0,0,0,0,0,0,0,0,0,0,0,1,0,0,0,0,0,0,0,0,0,0,0,0,0,0,0,0,0,0,0,0,0,0,0,0,0,0,0,0,0,0,0,0,0,0,0,0,0,0,0,0,0,0,0,0,0,0,0,0,0,0,0,0,0,0,0,0,0,0,0,0,0,0,0,0,0,0,0,0,0,0,0,0,0,0,0,0,0,0,0,0,0,0,0,0,0,0,0,0,0,0,0,0,0,0,0,0,0,0,0,0,0,0,0,0,0,0,0,0,0,0,0,0,0,0,0,0,0,0,0,0,0,0,0,0,0,0,0,0,0,0,0,0,0,0,0,0,0,0,0,0,0,0,0,0,0,0,0,0,0,0,0,0,0,0,0,0,0,0,0,0,0,0,0,0,0,0,0,0,0,0,0,0,0,0,0,0,0,0,0,0,0,0,0,0,0,0,0,0,0,0,0,0,0,0,0,0,0,0,0,0,0,0,0,0,0,0,0,0,0,0,0,0,0,0,0,0,0,0,0,0,0,0,0,0,0,0,0,0,0,0,0,0,0,0,0,0,0,0,0,0,0,0,0,0,0,0,0,0,0,0,0,0,0,0,2,2,2,2,2,2,2,2,2,2,2,2,2,2,2,0,0,0,0,0,0,0,0,0,0,0,0,0,0,0,0,0,0,0,0,0,0,0,0,0,0,0,0,0,0,0,0,0,0,0,0,0,0,0,0,0,0,0,0,0,0,0,2,2,2,2,2,2,2,2,2,2,2,2,2,0,0,0,0,0,0,0,0,0,0,0,0,0,0,0,0,0,0,0,0,0,0,0,0,0,0,0,0,0,0,0,0,0,0,0,0,0,0,0,0,0,0,0,0,0,0,0,0,0,0,0,0,0,0,0,0,0,0,0,0,0,0,0,0,0,0,0,0,0,0,0,0,0,0,0,0,0,0,0,0,0,0,0,0,0,0,0,0,0,0,0,0,0,0,0,0,0,0,0,0,0,0,0,0,0,0,0,0,0,0,0,0,0,0,0,0,0,0,0,0,0,0,0,0,0,0,0,0,0,0,0,0,0,0,0,0,0,0,0,0,0,0,0,0,0,0,0,0,0,0,0,0,0,0,0,0,0,0,0,0,0,0,0,0,0,0,0,0,0,0,0,0,0,0,0,0,0,0,2,2,2,2,2,2,2,2,2,2,2,2,2,2,2,2,2,2,2,2,2,2,0,0,2,2,2,0,0,2,2,2,2,2,2,2,0,0,0,0,0,0,0,0,0,0,0,0,0,0,0,0,0,0,0,0,0,0,0,0,0,0,0,0,0,0,0,0,0,0,0,0,0,0,0,0,0,0,0,0,0,0,0,0,0,0,0,0,0,0,0,0,0,0,1,1,1,1,1,1,1,1,1,1,1,1,1,1,1,1,1,1,1,1,1,1,1,1,1,1,1,1,1,1,1,1,1,1,1,1,1,1,1,1,1,1,1,1,1,1,1,1,1,1,1,1,1,1,1,1,1,1,1,1,1,1,1,1,1,1,1,1,1,1,1,1,1,1,1,1,1,1,1,1,1,1,1,1,1,1,1,1,1,1,1,1,1,1,1,1,1,1,1,1,1,1,1,1,1,1,1,1,1,1,1,1,1,1,1,1,1,1,1,1,1,1,1,1,1,1,1,1,1,1,1,1,1,1,1,1,1,1,1,1,1,1,1,1,1,1,1,1,1,0,0,0,0,0,0,0,0,0,0,1,1,1,1,2,2,2,0,0,2,2,2,2,2,2,2,2,2,2,2,2,2,2,2,2,2,2,2,2,2,2,2,2,2,2,2,2,2,2,2,2,2,2,2,2,2,2,2,2,2,2,2,2,2,2,2,2,2,2,2,2,2,2,2,2,2,2,2,2,2,2,2,2,2,2,2,2,2,2,2,2,2,2,2,2,2,2,2,2,2,2,2,2,2,2,2,2,2,2,2,0,0,0,0,0,0,0,0,0,0,0,0,0,0,0],\"coloraxis\":\"coloraxis\"},\"mode\":\"markers\",\"name\":\"\",\"showlegend\":false,\"subplot\":\"mapbox\",\"type\":\"scattermapbox\"}],                        {\"template\":{\"data\":{\"bar\":[{\"error_x\":{\"color\":\"#2a3f5f\"},\"error_y\":{\"color\":\"#2a3f5f\"},\"marker\":{\"line\":{\"color\":\"#E5ECF6\",\"width\":0.5},\"pattern\":{\"fillmode\":\"overlay\",\"size\":10,\"solidity\":0.2}},\"type\":\"bar\"}],\"barpolar\":[{\"marker\":{\"line\":{\"color\":\"#E5ECF6\",\"width\":0.5},\"pattern\":{\"fillmode\":\"overlay\",\"size\":10,\"solidity\":0.2}},\"type\":\"barpolar\"}],\"carpet\":[{\"aaxis\":{\"endlinecolor\":\"#2a3f5f\",\"gridcolor\":\"white\",\"linecolor\":\"white\",\"minorgridcolor\":\"white\",\"startlinecolor\":\"#2a3f5f\"},\"baxis\":{\"endlinecolor\":\"#2a3f5f\",\"gridcolor\":\"white\",\"linecolor\":\"white\",\"minorgridcolor\":\"white\",\"startlinecolor\":\"#2a3f5f\"},\"type\":\"carpet\"}],\"choropleth\":[{\"colorbar\":{\"outlinewidth\":0,\"ticks\":\"\"},\"type\":\"choropleth\"}],\"contour\":[{\"colorbar\":{\"outlinewidth\":0,\"ticks\":\"\"},\"colorscale\":[[0.0,\"#0d0887\"],[0.1111111111111111,\"#46039f\"],[0.2222222222222222,\"#7201a8\"],[0.3333333333333333,\"#9c179e\"],[0.4444444444444444,\"#bd3786\"],[0.5555555555555556,\"#d8576b\"],[0.6666666666666666,\"#ed7953\"],[0.7777777777777778,\"#fb9f3a\"],[0.8888888888888888,\"#fdca26\"],[1.0,\"#f0f921\"]],\"type\":\"contour\"}],\"contourcarpet\":[{\"colorbar\":{\"outlinewidth\":0,\"ticks\":\"\"},\"type\":\"contourcarpet\"}],\"heatmap\":[{\"colorbar\":{\"outlinewidth\":0,\"ticks\":\"\"},\"colorscale\":[[0.0,\"#0d0887\"],[0.1111111111111111,\"#46039f\"],[0.2222222222222222,\"#7201a8\"],[0.3333333333333333,\"#9c179e\"],[0.4444444444444444,\"#bd3786\"],[0.5555555555555556,\"#d8576b\"],[0.6666666666666666,\"#ed7953\"],[0.7777777777777778,\"#fb9f3a\"],[0.8888888888888888,\"#fdca26\"],[1.0,\"#f0f921\"]],\"type\":\"heatmap\"}],\"heatmapgl\":[{\"colorbar\":{\"outlinewidth\":0,\"ticks\":\"\"},\"colorscale\":[[0.0,\"#0d0887\"],[0.1111111111111111,\"#46039f\"],[0.2222222222222222,\"#7201a8\"],[0.3333333333333333,\"#9c179e\"],[0.4444444444444444,\"#bd3786\"],[0.5555555555555556,\"#d8576b\"],[0.6666666666666666,\"#ed7953\"],[0.7777777777777778,\"#fb9f3a\"],[0.8888888888888888,\"#fdca26\"],[1.0,\"#f0f921\"]],\"type\":\"heatmapgl\"}],\"histogram\":[{\"marker\":{\"pattern\":{\"fillmode\":\"overlay\",\"size\":10,\"solidity\":0.2}},\"type\":\"histogram\"}],\"histogram2d\":[{\"colorbar\":{\"outlinewidth\":0,\"ticks\":\"\"},\"colorscale\":[[0.0,\"#0d0887\"],[0.1111111111111111,\"#46039f\"],[0.2222222222222222,\"#7201a8\"],[0.3333333333333333,\"#9c179e\"],[0.4444444444444444,\"#bd3786\"],[0.5555555555555556,\"#d8576b\"],[0.6666666666666666,\"#ed7953\"],[0.7777777777777778,\"#fb9f3a\"],[0.8888888888888888,\"#fdca26\"],[1.0,\"#f0f921\"]],\"type\":\"histogram2d\"}],\"histogram2dcontour\":[{\"colorbar\":{\"outlinewidth\":0,\"ticks\":\"\"},\"colorscale\":[[0.0,\"#0d0887\"],[0.1111111111111111,\"#46039f\"],[0.2222222222222222,\"#7201a8\"],[0.3333333333333333,\"#9c179e\"],[0.4444444444444444,\"#bd3786\"],[0.5555555555555556,\"#d8576b\"],[0.6666666666666666,\"#ed7953\"],[0.7777777777777778,\"#fb9f3a\"],[0.8888888888888888,\"#fdca26\"],[1.0,\"#f0f921\"]],\"type\":\"histogram2dcontour\"}],\"mesh3d\":[{\"colorbar\":{\"outlinewidth\":0,\"ticks\":\"\"},\"type\":\"mesh3d\"}],\"parcoords\":[{\"line\":{\"colorbar\":{\"outlinewidth\":0,\"ticks\":\"\"}},\"type\":\"parcoords\"}],\"pie\":[{\"automargin\":true,\"type\":\"pie\"}],\"scatter\":[{\"marker\":{\"colorbar\":{\"outlinewidth\":0,\"ticks\":\"\"}},\"type\":\"scatter\"}],\"scatter3d\":[{\"line\":{\"colorbar\":{\"outlinewidth\":0,\"ticks\":\"\"}},\"marker\":{\"colorbar\":{\"outlinewidth\":0,\"ticks\":\"\"}},\"type\":\"scatter3d\"}],\"scattercarpet\":[{\"marker\":{\"colorbar\":{\"outlinewidth\":0,\"ticks\":\"\"}},\"type\":\"scattercarpet\"}],\"scattergeo\":[{\"marker\":{\"colorbar\":{\"outlinewidth\":0,\"ticks\":\"\"}},\"type\":\"scattergeo\"}],\"scattergl\":[{\"marker\":{\"colorbar\":{\"outlinewidth\":0,\"ticks\":\"\"}},\"type\":\"scattergl\"}],\"scattermapbox\":[{\"marker\":{\"colorbar\":{\"outlinewidth\":0,\"ticks\":\"\"}},\"type\":\"scattermapbox\"}],\"scatterpolar\":[{\"marker\":{\"colorbar\":{\"outlinewidth\":0,\"ticks\":\"\"}},\"type\":\"scatterpolar\"}],\"scatterpolargl\":[{\"marker\":{\"colorbar\":{\"outlinewidth\":0,\"ticks\":\"\"}},\"type\":\"scatterpolargl\"}],\"scatterternary\":[{\"marker\":{\"colorbar\":{\"outlinewidth\":0,\"ticks\":\"\"}},\"type\":\"scatterternary\"}],\"surface\":[{\"colorbar\":{\"outlinewidth\":0,\"ticks\":\"\"},\"colorscale\":[[0.0,\"#0d0887\"],[0.1111111111111111,\"#46039f\"],[0.2222222222222222,\"#7201a8\"],[0.3333333333333333,\"#9c179e\"],[0.4444444444444444,\"#bd3786\"],[0.5555555555555556,\"#d8576b\"],[0.6666666666666666,\"#ed7953\"],[0.7777777777777778,\"#fb9f3a\"],[0.8888888888888888,\"#fdca26\"],[1.0,\"#f0f921\"]],\"type\":\"surface\"}],\"table\":[{\"cells\":{\"fill\":{\"color\":\"#EBF0F8\"},\"line\":{\"color\":\"white\"}},\"header\":{\"fill\":{\"color\":\"#C8D4E3\"},\"line\":{\"color\":\"white\"}},\"type\":\"table\"}]},\"layout\":{\"annotationdefaults\":{\"arrowcolor\":\"#2a3f5f\",\"arrowhead\":0,\"arrowwidth\":1},\"autotypenumbers\":\"strict\",\"coloraxis\":{\"colorbar\":{\"outlinewidth\":0,\"ticks\":\"\"}},\"colorscale\":{\"diverging\":[[0,\"#8e0152\"],[0.1,\"#c51b7d\"],[0.2,\"#de77ae\"],[0.3,\"#f1b6da\"],[0.4,\"#fde0ef\"],[0.5,\"#f7f7f7\"],[0.6,\"#e6f5d0\"],[0.7,\"#b8e186\"],[0.8,\"#7fbc41\"],[0.9,\"#4d9221\"],[1,\"#276419\"]],\"sequential\":[[0.0,\"#0d0887\"],[0.1111111111111111,\"#46039f\"],[0.2222222222222222,\"#7201a8\"],[0.3333333333333333,\"#9c179e\"],[0.4444444444444444,\"#bd3786\"],[0.5555555555555556,\"#d8576b\"],[0.6666666666666666,\"#ed7953\"],[0.7777777777777778,\"#fb9f3a\"],[0.8888888888888888,\"#fdca26\"],[1.0,\"#f0f921\"]],\"sequentialminus\":[[0.0,\"#0d0887\"],[0.1111111111111111,\"#46039f\"],[0.2222222222222222,\"#7201a8\"],[0.3333333333333333,\"#9c179e\"],[0.4444444444444444,\"#bd3786\"],[0.5555555555555556,\"#d8576b\"],[0.6666666666666666,\"#ed7953\"],[0.7777777777777778,\"#fb9f3a\"],[0.8888888888888888,\"#fdca26\"],[1.0,\"#f0f921\"]]},\"colorway\":[\"#636efa\",\"#EF553B\",\"#00cc96\",\"#ab63fa\",\"#FFA15A\",\"#19d3f3\",\"#FF6692\",\"#B6E880\",\"#FF97FF\",\"#FECB52\"],\"font\":{\"color\":\"#2a3f5f\"},\"geo\":{\"bgcolor\":\"white\",\"lakecolor\":\"white\",\"landcolor\":\"#E5ECF6\",\"showlakes\":true,\"showland\":true,\"subunitcolor\":\"white\"},\"hoverlabel\":{\"align\":\"left\"},\"hovermode\":\"closest\",\"mapbox\":{\"style\":\"light\"},\"paper_bgcolor\":\"white\",\"plot_bgcolor\":\"#E5ECF6\",\"polar\":{\"angularaxis\":{\"gridcolor\":\"white\",\"linecolor\":\"white\",\"ticks\":\"\"},\"bgcolor\":\"#E5ECF6\",\"radialaxis\":{\"gridcolor\":\"white\",\"linecolor\":\"white\",\"ticks\":\"\"}},\"scene\":{\"xaxis\":{\"backgroundcolor\":\"#E5ECF6\",\"gridcolor\":\"white\",\"gridwidth\":2,\"linecolor\":\"white\",\"showbackground\":true,\"ticks\":\"\",\"zerolinecolor\":\"white\"},\"yaxis\":{\"backgroundcolor\":\"#E5ECF6\",\"gridcolor\":\"white\",\"gridwidth\":2,\"linecolor\":\"white\",\"showbackground\":true,\"ticks\":\"\",\"zerolinecolor\":\"white\"},\"zaxis\":{\"backgroundcolor\":\"#E5ECF6\",\"gridcolor\":\"white\",\"gridwidth\":2,\"linecolor\":\"white\",\"showbackground\":true,\"ticks\":\"\",\"zerolinecolor\":\"white\"}},\"shapedefaults\":{\"line\":{\"color\":\"#2a3f5f\"}},\"ternary\":{\"aaxis\":{\"gridcolor\":\"white\",\"linecolor\":\"white\",\"ticks\":\"\"},\"baxis\":{\"gridcolor\":\"white\",\"linecolor\":\"white\",\"ticks\":\"\"},\"bgcolor\":\"#E5ECF6\",\"caxis\":{\"gridcolor\":\"white\",\"linecolor\":\"white\",\"ticks\":\"\"}},\"title\":{\"x\":0.05},\"xaxis\":{\"automargin\":true,\"gridcolor\":\"white\",\"linecolor\":\"white\",\"ticks\":\"\",\"title\":{\"standoff\":15},\"zerolinecolor\":\"white\",\"zerolinewidth\":2},\"yaxis\":{\"automargin\":true,\"gridcolor\":\"white\",\"linecolor\":\"white\",\"ticks\":\"\",\"title\":{\"standoff\":15},\"zerolinecolor\":\"white\",\"zerolinewidth\":2}}},\"mapbox\":{\"domain\":{\"x\":[0.0,1.0],\"y\":[0.0,1.0]},\"center\":{\"lat\":23.16179596394687,\"lon\":-101.84827022770398},\"zoom\":3,\"style\":\"white-bg\",\"layers\":[{\"below\":\"traces\",\"source\":[\"https://basemap.nationalmap.gov/arcgis/rest/services/USGSImageryOnly/MapServer/tile/{z}/{y}/{x}\"],\"sourceattribution\":\"United States Geological Survey\",\"sourcetype\":\"raster\"}]},\"coloraxis\":{\"colorbar\":{\"title\":{\"text\":\"K=3 Clusters\"}},\"colorscale\":[[0.0,\"#0d0887\"],[0.1111111111111111,\"#46039f\"],[0.2222222222222222,\"#7201a8\"],[0.3333333333333333,\"#9c179e\"],[0.4444444444444444,\"#bd3786\"],[0.5555555555555556,\"#d8576b\"],[0.6666666666666666,\"#ed7953\"],[0.7777777777777778,\"#fb9f3a\"],[0.8888888888888888,\"#fdca26\"],[1.0,\"#f0f921\"]]},\"legend\":{\"tracegroupgap\":0},\"margin\":{\"t\":0,\"r\":0,\"l\":0,\"b\":0},\"height\":300},                        {\"responsive\": true}                    ).then(function(){\n",
              "                            \n",
              "var gd = document.getElementById('65c74b29-59ec-4f71-8fd2-396d8a70938d');\n",
              "var x = new MutationObserver(function (mutations, observer) {{\n",
              "        var display = window.getComputedStyle(gd).display;\n",
              "        if (!display || display === 'none') {{\n",
              "            console.log([gd, 'removed!']);\n",
              "            Plotly.purge(gd);\n",
              "            observer.disconnect();\n",
              "        }}\n",
              "}});\n",
              "\n",
              "// Listen for the removal of the full notebook cells\n",
              "var notebookContainer = gd.closest('#notebook-container');\n",
              "if (notebookContainer) {{\n",
              "    x.observe(notebookContainer, {childList: true});\n",
              "}}\n",
              "\n",
              "// Listen for the clearing of the current output cell\n",
              "var outputEl = gd.closest('.output');\n",
              "if (outputEl) {{\n",
              "    x.observe(outputEl, {childList: true});\n",
              "}}\n",
              "\n",
              "                        })                };                            </script>        </div>\n",
              "</body>\n",
              "</html>"
            ]
          },
          "metadata": {}
        }
      ]
    },
    {
      "cell_type": "markdown",
      "source": [
        "K-means usa las magnitudes de latitud y longitud para hacer los agrupamientos y esto no tiene relación con el color de SEMAFORO de cada registro, esto quiere decir que dentro de cada cluster podemos encontrar registros clasificados con cualquiera de los tres colores de SEMAFORO (verde, amarillo, rojo)."
      ],
      "metadata": {
        "id": "KKd_XF2odnJK"
      }
    },
    {
      "cell_type": "code",
      "source": [
        "df1.columns"
      ],
      "metadata": {
        "colab": {
          "base_uri": "https://localhost:8080/"
        },
        "id": "hbKC5O3b93RS",
        "outputId": "e1c792ce-61e2-4fc9-c9f7-b2d4fde98190"
      },
      "execution_count": 440,
      "outputs": [
        {
          "output_type": "execute_result",
          "data": {
            "text/plain": [
              "Index(['CLAVE', 'SITIO', 'ORGANISMO_DE_CUENCA', 'ESTADO', 'MUNICIPIO',\n",
              "       'ACUIFERO', 'SUBTIPO', 'LONGITUD', 'LATITUD', 'PERIODO', 'ALC_mg/L',\n",
              "       'CALIDAD_ALC', 'CONDUCT_mS/cm', 'CALIDAD_CONDUC', 'SDT_mg/L',\n",
              "       'SDT_M_mg/L', 'CALIDAD_SDT_ra', 'CALIDAD_SDT_salin', 'FLUORUROS_mg/L',\n",
              "       'CALIDAD_FLUO', 'DUR_mg/L', 'CALIDAD_DUR', 'COLI_FEC_NMP/100_mL',\n",
              "       'CALIDAD_COLI_FEC', 'N_NO3_mg/L', 'CALIDAD_N_NO3', 'AS_TOT_mg/L',\n",
              "       'CALIDAD_AS', 'CD_TOT_mg/L', 'CALIDAD_CD', 'CR_TOT_mg/L', 'CALIDAD_CR',\n",
              "       'HG_TOT_mg/L', 'CALIDAD_HG', 'PB_TOT_mg/L', 'CALIDAD_PB', 'MN_TOT_mg/L',\n",
              "       'CALIDAD_MN', 'FE_TOT_mg/L', 'CALIDAD_FE', 'SEMAFORO', 'CONTAMINANTES',\n",
              "       'CUMPLE_CON_ALC', 'CUMPLE_CON_COND', 'CUMPLE_CON_SDT_ra',\n",
              "       'CUMPLE_CON_SDT_salin', 'CUMPLE_CON_FLUO', 'CUMPLE_CON_DUR',\n",
              "       'CUMPLE_CON_CF', 'CUMPLE_CON_NO3', 'CUMPLE_CON_AS', 'CUMPLE_CON_CD',\n",
              "       'CUMPLE_CON_CR', 'CUMPLE_CON_HG', 'CUMPLE_CON_PB', 'CUMPLE_CON_MN',\n",
              "       'CUMPLE_CON_FE'],\n",
              "      dtype='object')"
            ]
          },
          "metadata": {},
          "execution_count": 440
        }
      ]
    },
    {
      "cell_type": "code",
      "source": [
        "num_dim=df1.select_dtypes(exclude='object')\n",
        "cat_dim=df1[['SEMAFORO']]"
      ],
      "metadata": {
        "id": "yEQH8xbWdpGy"
      },
      "execution_count": 441,
      "outputs": []
    },
    {
      "cell_type": "code",
      "source": [
        "cat_dim['SEMAFORO']=cat_dim['SEMAFORO'].map({'Verde':0,'Amarillo':1,'Rojo':3})"
      ],
      "metadata": {
        "colab": {
          "base_uri": "https://localhost:8080/"
        },
        "id": "KTA98jxknlaH",
        "outputId": "e62e6c40-b8ee-4eb5-f9cd-644a27efbd7f"
      },
      "execution_count": 442,
      "outputs": [
        {
          "output_type": "stream",
          "name": "stderr",
          "text": [
            "/usr/local/lib/python3.7/dist-packages/ipykernel_launcher.py:1: SettingWithCopyWarning:\n",
            "\n",
            "\n",
            "A value is trying to be set on a copy of a slice from a DataFrame.\n",
            "Try using .loc[row_indexer,col_indexer] = value instead\n",
            "\n",
            "See the caveats in the documentation: https://pandas.pydata.org/pandas-docs/stable/user_guide/indexing.html#returning-a-view-versus-a-copy\n",
            "\n"
          ]
        }
      ]
    },
    {
      "cell_type": "code",
      "source": [
        "cat_dim=df1['SEMAFORO']\n",
        "df=pd.concat([num_dim,cat_dim],axis=1)\n",
        "X = df.drop(columns=['SEMAFORO','LONGITUD','LATITUD','PERIODO'],axis=1)\n",
        "y = df['SEMAFORO']"
      ],
      "metadata": {
        "id": "qTpqP6-PgFbK"
      },
      "execution_count": 443,
      "outputs": []
    },
    {
      "cell_type": "code",
      "source": [
        "X.columns"
      ],
      "metadata": {
        "colab": {
          "base_uri": "https://localhost:8080/"
        },
        "id": "o07zz7Wsayrn",
        "outputId": "d1d98bec-9c5e-448d-efa7-9b2a5a62a896"
      },
      "execution_count": 444,
      "outputs": [
        {
          "output_type": "execute_result",
          "data": {
            "text/plain": [
              "Index(['ALC_mg/L', 'CONDUCT_mS/cm', 'SDT_mg/L', 'SDT_M_mg/L', 'FLUORUROS_mg/L',\n",
              "       'DUR_mg/L', 'COLI_FEC_NMP/100_mL', 'N_NO3_mg/L', 'AS_TOT_mg/L',\n",
              "       'CD_TOT_mg/L', 'CR_TOT_mg/L', 'HG_TOT_mg/L', 'PB_TOT_mg/L',\n",
              "       'MN_TOT_mg/L', 'FE_TOT_mg/L'],\n",
              "      dtype='object')"
            ]
          },
          "metadata": {},
          "execution_count": 444
        }
      ]
    },
    {
      "cell_type": "code",
      "source": [
        "from sklearn.model_selection import train_test_split"
      ],
      "metadata": {
        "id": "-DGNjZGmgacT"
      },
      "execution_count": 445,
      "outputs": []
    },
    {
      "cell_type": "code",
      "source": [
        "X_train, X_test, y_train, y_test = train_test_split(X, y, test_size=0.3, random_state=101)"
      ],
      "metadata": {
        "id": "Q0TPk7Seh4g6"
      },
      "execution_count": 446,
      "outputs": []
    },
    {
      "cell_type": "code",
      "source": [
        "from sklearn.tree import DecisionTreeClassifier"
      ],
      "metadata": {
        "id": "xmGI_cNQh5wE"
      },
      "execution_count": 447,
      "outputs": []
    },
    {
      "cell_type": "code",
      "source": [
        "model_DT = DecisionTreeClassifier()\n",
        "model_DT.fit(X_train,y_train)"
      ],
      "metadata": {
        "colab": {
          "base_uri": "https://localhost:8080/"
        },
        "id": "TrQmUJAhh761",
        "outputId": "663add9d-5634-43e0-ce61-038742c95f2d"
      },
      "execution_count": 448,
      "outputs": [
        {
          "output_type": "execute_result",
          "data": {
            "text/plain": [
              "DecisionTreeClassifier()"
            ]
          },
          "metadata": {},
          "execution_count": 448
        }
      ]
    },
    {
      "cell_type": "code",
      "source": [
        "base_pred = model_DT.predict(X_test)"
      ],
      "metadata": {
        "id": "EgrcdrNCiGGG"
      },
      "execution_count": 449,
      "outputs": []
    },
    {
      "cell_type": "code",
      "source": [
        "from sklearn.metrics import confusion_matrix,classification_report,plot_confusion_matrix,accuracy_score,ConfusionMatrixDisplay"
      ],
      "metadata": {
        "id": "STq1HDmriI8k"
      },
      "execution_count": 450,
      "outputs": []
    },
    {
      "cell_type": "code",
      "source": [
        "feat_imp=pd.DataFrame(model_DT.feature_importances_,index=X.columns,columns=['FEATURE IMPORTANCE'])\n",
        "feat_imp.nlargest(10,columns=['FEATURE IMPORTANCE'])"
      ],
      "metadata": {
        "colab": {
          "base_uri": "https://localhost:8080/",
          "height": 363
        },
        "id": "mHZj0-jSY_fS",
        "outputId": "f2129a97-fd91-4395-f361-70c9a44fffd7"
      },
      "execution_count": 451,
      "outputs": [
        {
          "output_type": "execute_result",
          "data": {
            "text/plain": [
              "                     FEATURE IMPORTANCE\n",
              "FLUORUROS_mg/L                 0.241248\n",
              "DUR_mg/L                       0.154323\n",
              "AS_TOT_mg/L                    0.107004\n",
              "COLI_FEC_NMP/100_mL            0.105256\n",
              "MN_TOT_mg/L                    0.099558\n",
              "N_NO3_mg/L                     0.097704\n",
              "FE_TOT_mg/L                    0.070982\n",
              "ALC_mg/L                       0.034910\n",
              "CR_TOT_mg/L                    0.033325\n",
              "PB_TOT_mg/L                    0.024848"
            ],
            "text/html": [
              "\n",
              "  <div id=\"df-9954b6fa-9019-49d7-87ba-b6b1e8a73303\">\n",
              "    <div class=\"colab-df-container\">\n",
              "      <div>\n",
              "<style scoped>\n",
              "    .dataframe tbody tr th:only-of-type {\n",
              "        vertical-align: middle;\n",
              "    }\n",
              "\n",
              "    .dataframe tbody tr th {\n",
              "        vertical-align: top;\n",
              "    }\n",
              "\n",
              "    .dataframe thead th {\n",
              "        text-align: right;\n",
              "    }\n",
              "</style>\n",
              "<table border=\"1\" class=\"dataframe\">\n",
              "  <thead>\n",
              "    <tr style=\"text-align: right;\">\n",
              "      <th></th>\n",
              "      <th>FEATURE IMPORTANCE</th>\n",
              "    </tr>\n",
              "  </thead>\n",
              "  <tbody>\n",
              "    <tr>\n",
              "      <th>FLUORUROS_mg/L</th>\n",
              "      <td>0.241248</td>\n",
              "    </tr>\n",
              "    <tr>\n",
              "      <th>DUR_mg/L</th>\n",
              "      <td>0.154323</td>\n",
              "    </tr>\n",
              "    <tr>\n",
              "      <th>AS_TOT_mg/L</th>\n",
              "      <td>0.107004</td>\n",
              "    </tr>\n",
              "    <tr>\n",
              "      <th>COLI_FEC_NMP/100_mL</th>\n",
              "      <td>0.105256</td>\n",
              "    </tr>\n",
              "    <tr>\n",
              "      <th>MN_TOT_mg/L</th>\n",
              "      <td>0.099558</td>\n",
              "    </tr>\n",
              "    <tr>\n",
              "      <th>N_NO3_mg/L</th>\n",
              "      <td>0.097704</td>\n",
              "    </tr>\n",
              "    <tr>\n",
              "      <th>FE_TOT_mg/L</th>\n",
              "      <td>0.070982</td>\n",
              "    </tr>\n",
              "    <tr>\n",
              "      <th>ALC_mg/L</th>\n",
              "      <td>0.034910</td>\n",
              "    </tr>\n",
              "    <tr>\n",
              "      <th>CR_TOT_mg/L</th>\n",
              "      <td>0.033325</td>\n",
              "    </tr>\n",
              "    <tr>\n",
              "      <th>PB_TOT_mg/L</th>\n",
              "      <td>0.024848</td>\n",
              "    </tr>\n",
              "  </tbody>\n",
              "</table>\n",
              "</div>\n",
              "      <button class=\"colab-df-convert\" onclick=\"convertToInteractive('df-9954b6fa-9019-49d7-87ba-b6b1e8a73303')\"\n",
              "              title=\"Convert this dataframe to an interactive table.\"\n",
              "              style=\"display:none;\">\n",
              "        \n",
              "  <svg xmlns=\"http://www.w3.org/2000/svg\" height=\"24px\"viewBox=\"0 0 24 24\"\n",
              "       width=\"24px\">\n",
              "    <path d=\"M0 0h24v24H0V0z\" fill=\"none\"/>\n",
              "    <path d=\"M18.56 5.44l.94 2.06.94-2.06 2.06-.94-2.06-.94-.94-2.06-.94 2.06-2.06.94zm-11 1L8.5 8.5l.94-2.06 2.06-.94-2.06-.94L8.5 2.5l-.94 2.06-2.06.94zm10 10l.94 2.06.94-2.06 2.06-.94-2.06-.94-.94-2.06-.94 2.06-2.06.94z\"/><path d=\"M17.41 7.96l-1.37-1.37c-.4-.4-.92-.59-1.43-.59-.52 0-1.04.2-1.43.59L10.3 9.45l-7.72 7.72c-.78.78-.78 2.05 0 2.83L4 21.41c.39.39.9.59 1.41.59.51 0 1.02-.2 1.41-.59l7.78-7.78 2.81-2.81c.8-.78.8-2.07 0-2.86zM5.41 20L4 18.59l7.72-7.72 1.47 1.35L5.41 20z\"/>\n",
              "  </svg>\n",
              "      </button>\n",
              "      \n",
              "  <style>\n",
              "    .colab-df-container {\n",
              "      display:flex;\n",
              "      flex-wrap:wrap;\n",
              "      gap: 12px;\n",
              "    }\n",
              "\n",
              "    .colab-df-convert {\n",
              "      background-color: #E8F0FE;\n",
              "      border: none;\n",
              "      border-radius: 50%;\n",
              "      cursor: pointer;\n",
              "      display: none;\n",
              "      fill: #1967D2;\n",
              "      height: 32px;\n",
              "      padding: 0 0 0 0;\n",
              "      width: 32px;\n",
              "    }\n",
              "\n",
              "    .colab-df-convert:hover {\n",
              "      background-color: #E2EBFA;\n",
              "      box-shadow: 0px 1px 2px rgba(60, 64, 67, 0.3), 0px 1px 3px 1px rgba(60, 64, 67, 0.15);\n",
              "      fill: #174EA6;\n",
              "    }\n",
              "\n",
              "    [theme=dark] .colab-df-convert {\n",
              "      background-color: #3B4455;\n",
              "      fill: #D2E3FC;\n",
              "    }\n",
              "\n",
              "    [theme=dark] .colab-df-convert:hover {\n",
              "      background-color: #434B5C;\n",
              "      box-shadow: 0px 1px 3px 1px rgba(0, 0, 0, 0.15);\n",
              "      filter: drop-shadow(0px 1px 2px rgba(0, 0, 0, 0.3));\n",
              "      fill: #FFFFFF;\n",
              "    }\n",
              "  </style>\n",
              "\n",
              "      <script>\n",
              "        const buttonEl =\n",
              "          document.querySelector('#df-9954b6fa-9019-49d7-87ba-b6b1e8a73303 button.colab-df-convert');\n",
              "        buttonEl.style.display =\n",
              "          google.colab.kernel.accessAllowed ? 'block' : 'none';\n",
              "\n",
              "        async function convertToInteractive(key) {\n",
              "          const element = document.querySelector('#df-9954b6fa-9019-49d7-87ba-b6b1e8a73303');\n",
              "          const dataTable =\n",
              "            await google.colab.kernel.invokeFunction('convertToInteractive',\n",
              "                                                     [key], {});\n",
              "          if (!dataTable) return;\n",
              "\n",
              "          const docLinkHtml = 'Like what you see? Visit the ' +\n",
              "            '<a target=\"_blank\" href=https://colab.research.google.com/notebooks/data_table.ipynb>data table notebook</a>'\n",
              "            + ' to learn more about interactive tables.';\n",
              "          element.innerHTML = '';\n",
              "          dataTable['output_type'] = 'display_data';\n",
              "          await google.colab.output.renderOutput(dataTable, element);\n",
              "          const docLink = document.createElement('div');\n",
              "          docLink.innerHTML = docLinkHtml;\n",
              "          element.appendChild(docLink);\n",
              "        }\n",
              "      </script>\n",
              "    </div>\n",
              "  </div>\n",
              "  "
            ]
          },
          "metadata": {},
          "execution_count": 451
        }
      ]
    },
    {
      "cell_type": "code",
      "source": [
        "print(classification_report(y_test,base_pred))"
      ],
      "metadata": {
        "colab": {
          "base_uri": "https://localhost:8080/"
        },
        "id": "aymUW7Y1iOF2",
        "outputId": "eb3b420b-c0de-4417-b848-7626621d4a00"
      },
      "execution_count": 452,
      "outputs": [
        {
          "output_type": "stream",
          "name": "stdout",
          "text": [
            "              precision    recall  f1-score   support\n",
            "\n",
            "    Amarillo       0.91      1.00      0.95        53\n",
            "        Rojo       0.99      0.95      0.97        98\n",
            "       Verde       0.99      0.99      0.99       134\n",
            "\n",
            "    accuracy                           0.98       285\n",
            "   macro avg       0.97      0.98      0.97       285\n",
            "weighted avg       0.98      0.98      0.98       285\n",
            "\n"
          ]
        }
      ]
    },
    {
      "cell_type": "code",
      "source": [
        "cm = confusion_matrix(y_test, base_pred, labels=model_DT.classes_)\n",
        "disp = ConfusionMatrixDisplay(confusion_matrix=cm, display_labels=model_DT.classes_)\n",
        "disp.plot()\n",
        "plt.show()"
      ],
      "metadata": {
        "colab": {
          "base_uri": "https://localhost:8080/",
          "height": 279
        },
        "id": "el7d-wXRklNQ",
        "outputId": "5540b43d-a419-4759-a3eb-989963d43792"
      },
      "execution_count": 453,
      "outputs": [
        {
          "output_type": "display_data",
          "data": {
            "text/plain": [
              "<Figure size 432x288 with 2 Axes>"
            ],
            "image/png": "[encoded data removed]"
          },
          "metadata": {
            "needs_background": "light"
          }
        }
      ]
    },
    {
      "cell_type": "code",
      "source": [
        "from sklearn.ensemble import RandomForestClassifier"
      ],
      "metadata": {
        "id": "g_z_4cadiUP3"
      },
      "execution_count": 454,
      "outputs": []
    },
    {
      "cell_type": "code",
      "source": [
        "model_RF = RandomForestClassifier()\n",
        "model_RF.fit(X_train,y_train)\n",
        "preds = model_RF.predict(X_test)"
      ],
      "metadata": {
        "id": "cQ-eMGPuizxq"
      },
      "execution_count": 455,
      "outputs": []
    },
    {
      "cell_type": "code",
      "source": [
        "feat_imp=pd.DataFrame(model_RF.feature_importances_,index=X.columns,columns=['FEATURE IMPORTANCE'])\n",
        "feat_imp.nlargest(10,columns=['FEATURE IMPORTANCE'])"
      ],
      "metadata": {
        "colab": {
          "base_uri": "https://localhost:8080/",
          "height": 363
        },
        "id": "IfBXso4Nc7Vf",
        "outputId": "7bf606f9-da2e-4020-f3c9-adafb3991ac7"
      },
      "execution_count": 456,
      "outputs": [
        {
          "output_type": "execute_result",
          "data": {
            "text/plain": [
              "                     FEATURE IMPORTANCE\n",
              "FLUORUROS_mg/L                 0.230011\n",
              "DUR_mg/L                       0.113276\n",
              "AS_TOT_mg/L                    0.113246\n",
              "MN_TOT_mg/L                    0.091008\n",
              "N_NO3_mg/L                     0.077487\n",
              "FE_TOT_mg/L                    0.076716\n",
              "COLI_FEC_NMP/100_mL            0.074734\n",
              "SDT_M_mg/L                     0.073759\n",
              "CONDUCT_mS/cm                  0.054813\n",
              "ALC_mg/L                       0.044087"
            ],
            "text/html": [
              "\n",
              "  <div id=\"df-b7ba29d6-18b5-4534-be7e-3094ef2d74a0\">\n",
              "    <div class=\"colab-df-container\">\n",
              "      <div>\n",
              "<style scoped>\n",
              "    .dataframe tbody tr th:only-of-type {\n",
              "        vertical-align: middle;\n",
              "    }\n",
              "\n",
              "    .dataframe tbody tr th {\n",
              "        vertical-align: top;\n",
              "    }\n",
              "\n",
              "    .dataframe thead th {\n",
              "        text-align: right;\n",
              "    }\n",
              "</style>\n",
              "<table border=\"1\" class=\"dataframe\">\n",
              "  <thead>\n",
              "    <tr style=\"text-align: right;\">\n",
              "      <th></th>\n",
              "      <th>FEATURE IMPORTANCE</th>\n",
              "    </tr>\n",
              "  </thead>\n",
              "  <tbody>\n",
              "    <tr>\n",
              "      <th>FLUORUROS_mg/L</th>\n",
              "      <td>0.230011</td>\n",
              "    </tr>\n",
              "    <tr>\n",
              "      <th>DUR_mg/L</th>\n",
              "      <td>0.113276</td>\n",
              "    </tr>\n",
              "    <tr>\n",
              "      <th>AS_TOT_mg/L</th>\n",
              "      <td>0.113246</td>\n",
              "    </tr>\n",
              "    <tr>\n",
              "      <th>MN_TOT_mg/L</th>\n",
              "      <td>0.091008</td>\n",
              "    </tr>\n",
              "    <tr>\n",
              "      <th>N_NO3_mg/L</th>\n",
              "      <td>0.077487</td>\n",
              "    </tr>\n",
              "    <tr>\n",
              "      <th>FE_TOT_mg/L</th>\n",
              "      <td>0.076716</td>\n",
              "    </tr>\n",
              "    <tr>\n",
              "      <th>COLI_FEC_NMP/100_mL</th>\n",
              "      <td>0.074734</td>\n",
              "    </tr>\n",
              "    <tr>\n",
              "      <th>SDT_M_mg/L</th>\n",
              "      <td>0.073759</td>\n",
              "    </tr>\n",
              "    <tr>\n",
              "      <th>CONDUCT_mS/cm</th>\n",
              "      <td>0.054813</td>\n",
              "    </tr>\n",
              "    <tr>\n",
              "      <th>ALC_mg/L</th>\n",
              "      <td>0.044087</td>\n",
              "    </tr>\n",
              "  </tbody>\n",
              "</table>\n",
              "</div>\n",
              "      <button class=\"colab-df-convert\" onclick=\"convertToInteractive('df-b7ba29d6-18b5-4534-be7e-3094ef2d74a0')\"\n",
              "              title=\"Convert this dataframe to an interactive table.\"\n",
              "              style=\"display:none;\">\n",
              "        \n",
              "  <svg xmlns=\"http://www.w3.org/2000/svg\" height=\"24px\"viewBox=\"0 0 24 24\"\n",
              "       width=\"24px\">\n",
              "    <path d=\"M0 0h24v24H0V0z\" fill=\"none\"/>\n",
              "    <path d=\"M18.56 5.44l.94 2.06.94-2.06 2.06-.94-2.06-.94-.94-2.06-.94 2.06-2.06.94zm-11 1L8.5 8.5l.94-2.06 2.06-.94-2.06-.94L8.5 2.5l-.94 2.06-2.06.94zm10 10l.94 2.06.94-2.06 2.06-.94-2.06-.94-.94-2.06-.94 2.06-2.06.94z\"/><path d=\"M17.41 7.96l-1.37-1.37c-.4-.4-.92-.59-1.43-.59-.52 0-1.04.2-1.43.59L10.3 9.45l-7.72 7.72c-.78.78-.78 2.05 0 2.83L4 21.41c.39.39.9.59 1.41.59.51 0 1.02-.2 1.41-.59l7.78-7.78 2.81-2.81c.8-.78.8-2.07 0-2.86zM5.41 20L4 18.59l7.72-7.72 1.47 1.35L5.41 20z\"/>\n",
              "  </svg>\n",
              "      </button>\n",
              "      \n",
              "  <style>\n",
              "    .colab-df-container {\n",
              "      display:flex;\n",
              "      flex-wrap:wrap;\n",
              "      gap: 12px;\n",
              "    }\n",
              "\n",
              "    .colab-df-convert {\n",
              "      background-color: #E8F0FE;\n",
              "      border: none;\n",
              "      border-radius: 50%;\n",
              "      cursor: pointer;\n",
              "      display: none;\n",
              "      fill: #1967D2;\n",
              "      height: 32px;\n",
              "      padding: 0 0 0 0;\n",
              "      width: 32px;\n",
              "    }\n",
              "\n",
              "    .colab-df-convert:hover {\n",
              "      background-color: #E2EBFA;\n",
              "      box-shadow: 0px 1px 2px rgba(60, 64, 67, 0.3), 0px 1px 3px 1px rgba(60, 64, 67, 0.15);\n",
              "      fill: #174EA6;\n",
              "    }\n",
              "\n",
              "    [theme=dark] .colab-df-convert {\n",
              "      background-color: #3B4455;\n",
              "      fill: #D2E3FC;\n",
              "    }\n",
              "\n",
              "    [theme=dark] .colab-df-convert:hover {\n",
              "      background-color: #434B5C;\n",
              "      box-shadow: 0px 1px 3px 1px rgba(0, 0, 0, 0.15);\n",
              "      filter: drop-shadow(0px 1px 2px rgba(0, 0, 0, 0.3));\n",
              "      fill: #FFFFFF;\n",
              "    }\n",
              "  </style>\n",
              "\n",
              "      <script>\n",
              "        const buttonEl =\n",
              "          document.querySelector('#df-b7ba29d6-18b5-4534-be7e-3094ef2d74a0 button.colab-df-convert');\n",
              "        buttonEl.style.display =\n",
              "          google.colab.kernel.accessAllowed ? 'block' : 'none';\n",
              "\n",
              "        async function convertToInteractive(key) {\n",
              "          const element = document.querySelector('#df-b7ba29d6-18b5-4534-be7e-3094ef2d74a0');\n",
              "          const dataTable =\n",
              "            await google.colab.kernel.invokeFunction('convertToInteractive',\n",
              "                                                     [key], {});\n",
              "          if (!dataTable) return;\n",
              "\n",
              "          const docLinkHtml = 'Like what you see? Visit the ' +\n",
              "            '<a target=\"_blank\" href=https://colab.research.google.com/notebooks/data_table.ipynb>data table notebook</a>'\n",
              "            + ' to learn more about interactive tables.';\n",
              "          element.innerHTML = '';\n",
              "          dataTable['output_type'] = 'display_data';\n",
              "          await google.colab.output.renderOutput(dataTable, element);\n",
              "          const docLink = document.createElement('div');\n",
              "          docLink.innerHTML = docLinkHtml;\n",
              "          element.appendChild(docLink);\n",
              "        }\n",
              "      </script>\n",
              "    </div>\n",
              "  </div>\n",
              "  "
            ]
          },
          "metadata": {},
          "execution_count": 456
        }
      ]
    },
    {
      "cell_type": "code",
      "source": [
        "print(classification_report(y_test,preds))"
      ],
      "metadata": {
        "colab": {
          "base_uri": "https://localhost:8080/"
        },
        "id": "KcODJ6KXi9lw",
        "outputId": "ec37720d-4b0e-4eed-bf09-fd35a3f846e5"
      },
      "execution_count": 457,
      "outputs": [
        {
          "output_type": "stream",
          "name": "stdout",
          "text": [
            "              precision    recall  f1-score   support\n",
            "\n",
            "    Amarillo       0.82      1.00      0.90        53\n",
            "        Rojo       1.00      0.94      0.97        98\n",
            "       Verde       0.99      0.95      0.97       134\n",
            "\n",
            "    accuracy                           0.95       285\n",
            "   macro avg       0.94      0.96      0.95       285\n",
            "weighted avg       0.96      0.95      0.96       285\n",
            "\n"
          ]
        }
      ]
    },
    {
      "cell_type": "code",
      "source": [
        "cm = confusion_matrix(y_test, base_pred, labels=model_RF.classes_)\n",
        "disp = ConfusionMatrixDisplay(confusion_matrix=cm, display_labels=model_RF.classes_)\n",
        "disp.plot()\n",
        "plt.show()"
      ],
      "metadata": {
        "colab": {
          "base_uri": "https://localhost:8080/",
          "height": 279
        },
        "id": "zE867b9dj_pZ",
        "outputId": "5daf8c10-325d-4a28-827d-67274b4f7b0d"
      },
      "execution_count": 458,
      "outputs": [
        {
          "output_type": "display_data",
          "data": {
            "text/plain": [
              "<Figure size 432x288 with 2 Axes>"
            ],
            "image/png": "[encoded data removed]"
          },
          "metadata": {
            "needs_background": "light"
          }
        }
      ]
    }
  ]
}